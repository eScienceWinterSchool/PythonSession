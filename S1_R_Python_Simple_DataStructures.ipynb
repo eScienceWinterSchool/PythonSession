{
  "nbformat": 4,
  "nbformat_minor": 0,
  "metadata": {
    "anaconda-cloud": {
      "attach-environment": true,
      "summary": "test"
    },
    "hide_input": false,
    "kernelspec": {
      "display_name": "Python 3",
      "language": "python",
      "name": "python3"
    },
    "language_info": {
      "codemirror_mode": {
        "name": "ipython",
        "version": 3
      },
      "file_extension": ".py",
      "mimetype": "text/x-python",
      "name": "python",
      "nbconvert_exporter": "python",
      "pygments_lexer": "ipython3",
      "version": "3.7.5"
    },
    "colab": {
      "provenance": [],
      "toc_visible": true
    }
  },
  "cells": [
    {
      "cell_type": "markdown",
      "source": [
        "\n",
        "<br>\n",
        "<center><img src=\"https://i.imgur.com/hkb7Bq7.png\" width=\"500\"></center>\n",
        "\n",
        "\n",
        "### Prof. José Manuel Magallanes, PhD\n",
        "\n",
        "* Full Professor, Departamento de Ciencias Sociales, Pontificia Universidad Católica del Perú, [jmagallanes@pucp.edu.pe](mailto:jmagallanes@pucp.edu.pe)\n",
        "\n",
        "* Visiting Professor, Evans School of Public Policy and Governance / Senior Data Science Fellow, eScience Institute, University of Washington\n",
        "_____"
      ],
      "metadata": {
        "id": "dCNCKJGxzErY"
      }
    },
    {
      "cell_type": "markdown",
      "source": [
        "Preparation"
      ],
      "metadata": {
        "id": "3olqhhrKEU7S"
      }
    },
    {
      "cell_type": "code",
      "source": [
        "!python -V"
      ],
      "metadata": {
        "id": "CQ0-6XdK5Sre",
        "colab": {
          "base_uri": "https://localhost:8080/"
        },
        "outputId": "52ce65c5-17eb-4c76-80bc-5a36a2d745de"
      },
      "execution_count": null,
      "outputs": [
        {
          "output_type": "stream",
          "name": "stdout",
          "text": [
            "Python 3.10.12\n"
          ]
        }
      ]
    },
    {
      "cell_type": "code",
      "source": [
        "%load_ext rpy2.ipython\n",
        "# you need this to make R work in this notebook"
      ],
      "metadata": {
        "id": "oo3FOXWP6ewM"
      },
      "execution_count": null,
      "outputs": []
    },
    {
      "cell_type": "markdown",
      "source": [
        "## 1. Creating\n",
        "\n"
      ],
      "metadata": {
        "id": "ix7xtYzM7GsE"
      }
    },
    {
      "cell_type": "code",
      "metadata": {
        "id": "GHJeUsWetWgm"
      },
      "source": [
        "### The Python List:\n",
        "aList_P=[\"Qing\", \"Françoise\", \"Raúl\", \"Bjork\",\"Marie\",\"Jim\",\"Tere\"]\n",
        "\n",
        "### The Python Tuple:\n",
        "aTuple_P=(\"China\", \"Senegal\", \"España\", \"Norway\",\"Korea\",\"USA\",\"Bolivia\")\n",
        "\n",
        "### The Python Set:\n",
        "aSet_P={\"Bachelor\", \"Master\",\"Master\",\"Master\", \"PhD\",\"Bachelor\",\"Bachelor\"}\n",
        "\n",
        "### The Python Vector:\n",
        "\n",
        "import numpy as np\n",
        "\n",
        "aVector_P=np.array([32,33,28,30,29,33,34,27])"
      ],
      "execution_count": null,
      "outputs": []
    },
    {
      "cell_type": "code",
      "source": [
        "# checking data types\n",
        "type(aList_P), type(aSet_P), type(aTuple_P), type(aVector_P)"
      ],
      "metadata": {
        "id": "kHOybyYs7bt3",
        "colab": {
          "base_uri": "https://localhost:8080/"
        },
        "outputId": "3c3bc219-30af-475e-d287-f24fb4f83519"
      },
      "execution_count": null,
      "outputs": [
        {
          "output_type": "execute_result",
          "data": {
            "text/plain": [
              "(list, set, tuple, numpy.ndarray)"
            ]
          },
          "metadata": {},
          "execution_count": 4
        }
      ]
    },
    {
      "cell_type": "code",
      "source": [
        "# checking contents\n",
        "aVector_P"
      ],
      "metadata": {
        "id": "bYQ8wWNQ6rSt",
        "colab": {
          "base_uri": "https://localhost:8080/"
        },
        "outputId": "175b4968-da2b-4a21-e43f-4aef17b8a7e8"
      },
      "execution_count": null,
      "outputs": [
        {
          "output_type": "execute_result",
          "data": {
            "text/plain": [
              "array([32, 33, 28, 30, 29, 33, 34, 27])"
            ]
          },
          "metadata": {},
          "execution_count": 5
        }
      ]
    },
    {
      "cell_type": "code",
      "source": [
        "# checking contents\n",
        "aSet_P"
      ],
      "metadata": {
        "colab": {
          "base_uri": "https://localhost:8080/"
        },
        "id": "xaOG0P_Ke5a-",
        "outputId": "402e5f6a-291a-4566-93a1-3c637a00ed13"
      },
      "execution_count": null,
      "outputs": [
        {
          "output_type": "execute_result",
          "data": {
            "text/plain": [
              "{'Bachelor', 'Master', 'PhD'}"
            ]
          },
          "metadata": {},
          "execution_count": 6
        }
      ]
    },
    {
      "cell_type": "code",
      "source": [
        "%%R # you need this to run R code in a cell\n",
        "\n",
        "### The R List:\n",
        "aList_R=list(\"Qing\", \"Françoise\", \"Raúl\", \"Bjork\",\"Marie\",\"Jim\",\"Tere\",\"Tina\")\n",
        "\n",
        "### The R Vector:\n",
        "aVector_R=c(32,33,28,30,29,33,34,27)"
      ],
      "metadata": {
        "id": "dUxYQK6F5lks"
      },
      "execution_count": null,
      "outputs": []
    },
    {
      "cell_type": "code",
      "source": [
        "%%R\n",
        "# checking data types\n",
        "typeof(aList_R)"
      ],
      "metadata": {
        "id": "RSJyun677gMs",
        "colab": {
          "base_uri": "https://localhost:8080/"
        },
        "outputId": "ac991201-eebc-41d8-94f0-3733e9d75db7"
      },
      "execution_count": null,
      "outputs": [
        {
          "output_type": "stream",
          "name": "stdout",
          "text": [
            "[1] \"list\"\n"
          ]
        }
      ]
    },
    {
      "cell_type": "code",
      "source": [
        "%%R\n",
        "# checking data types\n",
        "typeof(aVector_R)"
      ],
      "metadata": {
        "id": "uBQDOYoG4kD1",
        "colab": {
          "base_uri": "https://localhost:8080/"
        },
        "outputId": "6988759c-48f9-492b-da33-599f2464acb6"
      },
      "execution_count": null,
      "outputs": [
        {
          "output_type": "stream",
          "name": "stdout",
          "text": [
            "[1] \"double\"\n"
          ]
        }
      ]
    },
    {
      "cell_type": "code",
      "source": [
        "%%R\n",
        "# checking contents\n",
        "aVector_R"
      ],
      "metadata": {
        "id": "9h7K4xpm6lzE",
        "colab": {
          "base_uri": "https://localhost:8080/"
        },
        "outputId": "54f51b1f-9229-459e-c3f1-a2115d795264"
      },
      "execution_count": null,
      "outputs": [
        {
          "output_type": "stream",
          "name": "stdout",
          "text": [
            "[1] 32 33 28 30 29 33 34 27\n"
          ]
        }
      ]
    },
    {
      "cell_type": "markdown",
      "metadata": {
        "id": "_y7hce_8tWgr"
      },
      "source": [
        "## 2. Accessing"
      ]
    },
    {
      "cell_type": "code",
      "metadata": {
        "id": "Hp4CogsCtWgr",
        "colab": {
          "base_uri": "https://localhost:8080/",
          "height": 35
        },
        "outputId": "88480988-603c-4481-9cde-3553359bf26a"
      },
      "source": [
        "# Positions in Python start at: 0.\n",
        "\n",
        "aList_P[0] # see first element in a list"
      ],
      "execution_count": null,
      "outputs": [
        {
          "output_type": "execute_result",
          "data": {
            "text/plain": [
              "'Qing'"
            ],
            "application/vnd.google.colaboratory.intrinsic+json": {
              "type": "string"
            }
          },
          "metadata": {},
          "execution_count": 11
        }
      ]
    },
    {
      "cell_type": "code",
      "source": [
        "aVector_P[-1] # the last element"
      ],
      "metadata": {
        "colab": {
          "base_uri": "https://localhost:8080/"
        },
        "id": "lrWHqow1O2Rx",
        "outputId": "faac5af2-6bf3-4ddd-d2c0-38632ff6ded1"
      },
      "execution_count": null,
      "outputs": [
        {
          "output_type": "execute_result",
          "data": {
            "text/plain": [
              "27"
            ]
          },
          "metadata": {},
          "execution_count": 12
        }
      ]
    },
    {
      "cell_type": "code",
      "source": [
        "type(aList_P[0]) # see the type of the first element"
      ],
      "metadata": {
        "id": "LcIBAZEr7ml_",
        "colab": {
          "base_uri": "https://localhost:8080/"
        },
        "outputId": "fbde0525-da9a-44ac-d66d-93b8bd92f822"
      },
      "execution_count": null,
      "outputs": [
        {
          "output_type": "execute_result",
          "data": {
            "text/plain": [
              "str"
            ]
          },
          "metadata": {},
          "execution_count": 13
        }
      ]
    },
    {
      "cell_type": "code",
      "source": [
        "%%R\n",
        "# Positions in R start at: 1.\n",
        "aList_R[[1]]  # see first element in a list"
      ],
      "metadata": {
        "id": "bZalkSyg7ozY",
        "colab": {
          "base_uri": "https://localhost:8080/"
        },
        "outputId": "6918df0a-b218-4136-b2eb-5844cb8a2f5a"
      },
      "execution_count": null,
      "outputs": [
        {
          "output_type": "stream",
          "name": "stdout",
          "text": [
            "[1] \"Qing\"\n"
          ]
        }
      ]
    },
    {
      "cell_type": "code",
      "source": [
        "%%R\n",
        "tail(aVector_R,1) # see last element in a vector"
      ],
      "metadata": {
        "id": "Z_DmJ2Cj7qic",
        "colab": {
          "base_uri": "https://localhost:8080/"
        },
        "outputId": "e98127c9-58dc-4a8b-9526-438c7111f2b6"
      },
      "execution_count": null,
      "outputs": [
        {
          "output_type": "stream",
          "name": "stdout",
          "text": [
            "[1] 27\n"
          ]
        }
      ]
    },
    {
      "cell_type": "code",
      "source": [
        "# this will not work\n",
        "# aSet_P[0]"
      ],
      "metadata": {
        "id": "5-x9ao0M8UQb"
      },
      "execution_count": null,
      "outputs": []
    },
    {
      "cell_type": "code",
      "source": [
        "aTuple_P[2]"
      ],
      "metadata": {
        "colab": {
          "base_uri": "https://localhost:8080/",
          "height": 35
        },
        "id": "tqA5OrzJ8a8U",
        "outputId": "d436c24c-ec6a-4004-bf78-b39b78dc815d"
      },
      "execution_count": null,
      "outputs": [
        {
          "output_type": "execute_result",
          "data": {
            "text/plain": [
              "'España'"
            ],
            "application/vnd.google.colaboratory.intrinsic+json": {
              "type": "string"
            }
          },
          "metadata": {},
          "execution_count": 17
        }
      ]
    },
    {
      "cell_type": "markdown",
      "metadata": {
        "id": "3HdLpDektWg6"
      },
      "source": [
        "## 3. Modifying\n",
        "\n",
        "Tuples can not be modified.\n",
        "\n"
      ]
    },
    {
      "cell_type": "markdown",
      "source": [
        "### Replacing"
      ],
      "metadata": {
        "id": "VH26jAtAv5Zl"
      }
    },
    {
      "cell_type": "markdown",
      "source": [
        "\n",
        "#### by Position\n",
        "\n",
        "Indexing does not work with SETS so replace by position will not work"
      ],
      "metadata": {
        "id": "W9tJhxjeBMyX"
      }
    },
    {
      "cell_type": "code",
      "metadata": {
        "id": "Q5mtP1j8tWg7",
        "colab": {
          "base_uri": "https://localhost:8080/"
        },
        "outputId": "fde059ef-4451-4b70-d2e3-260cd0e79667"
      },
      "source": [
        "aList_P=[\"Qing\", \"Françoise\", \"Raúl\", \"Bjork\",\"Marie\",\"Jim\",\"Tere\"]\n",
        "aList_P[1]=\"Francisca\"\n",
        "\n",
        "# changes:\n",
        "aList_P"
      ],
      "execution_count": null,
      "outputs": [
        {
          "output_type": "execute_result",
          "data": {
            "text/plain": [
              "['Qing', 'Francisca', 'Raúl', 'Bjork', 'Marie', 'Jim', 'Tere']"
            ]
          },
          "metadata": {},
          "execution_count": 18
        }
      ]
    },
    {
      "cell_type": "code",
      "source": [
        "aVector_P=np.array([32,33,28,30,29,33,34,27])\n",
        "aVector_P[2]=58\n",
        "\n",
        "# changes:\n",
        "aVector_P"
      ],
      "metadata": {
        "colab": {
          "base_uri": "https://localhost:8080/"
        },
        "id": "XoBKOIERVDH4",
        "outputId": "cbb3a239-74b9-4786-c2d3-d75385f799bd"
      },
      "execution_count": null,
      "outputs": [
        {
          "output_type": "execute_result",
          "data": {
            "text/plain": [
              "array([32, 33, 58, 30, 29, 33, 34, 27])"
            ]
          },
          "metadata": {},
          "execution_count": 19
        }
      ]
    },
    {
      "cell_type": "code",
      "source": [
        "%%R\n",
        "aList_R=list(\"Qing\", \"Françoise\", \"Raúl\", \"Bjork\",\"Marie\",\"Jim\",\"Tere\")\n",
        "aList_R[2]=\"Francisca\"\n",
        "\n",
        "# changes:\n",
        "aList_R"
      ],
      "metadata": {
        "id": "Bq1cr1VPBRJz",
        "colab": {
          "base_uri": "https://localhost:8080/"
        },
        "outputId": "86b4dda3-f74e-4a99-e9eb-da65d2494e32"
      },
      "execution_count": null,
      "outputs": [
        {
          "output_type": "stream",
          "name": "stdout",
          "text": [
            "[[1]]\n",
            "[1] \"Qing\"\n",
            "\n",
            "[[2]]\n",
            "[1] \"Francisca\"\n",
            "\n",
            "[[3]]\n",
            "[1] \"Raúl\"\n",
            "\n",
            "[[4]]\n",
            "[1] \"Bjork\"\n",
            "\n",
            "[[5]]\n",
            "[1] \"Marie\"\n",
            "\n",
            "[[6]]\n",
            "[1] \"Jim\"\n",
            "\n",
            "[[7]]\n",
            "[1] \"Tere\"\n",
            "\n"
          ]
        }
      ]
    },
    {
      "cell_type": "code",
      "source": [
        "%%R\n",
        "\n",
        "aVector_R=c(32,33,28,30,29,33,34,27)\n",
        "aVector_R[3]=58\n",
        "\n",
        "# changes:\n",
        "aVector_R"
      ],
      "metadata": {
        "colab": {
          "base_uri": "https://localhost:8080/"
        },
        "id": "rKxnNEwlWi0a",
        "outputId": "547af486-eb06-4469-c0c3-a4024f393c6e"
      },
      "execution_count": null,
      "outputs": [
        {
          "output_type": "stream",
          "name": "stdout",
          "text": [
            "[1] 32 33 58 30 29 33 34 27\n"
          ]
        }
      ]
    },
    {
      "cell_type": "markdown",
      "source": [
        "\n",
        "#### By Value\n",
        "\n",
        "Item assigment does not work with SETS so replace by value will not work."
      ],
      "metadata": {
        "id": "i3KudD3Don96"
      }
    },
    {
      "cell_type": "code",
      "source": [
        "aList_P=[\"Mary\" if val == \"Marie\" else val for val in aList_P]\n",
        "#changes\n",
        "aList_P"
      ],
      "metadata": {
        "id": "Nf9PJWMjqiNI",
        "colab": {
          "base_uri": "https://localhost:8080/"
        },
        "outputId": "69ddfbad-3ff8-4e68-f9b4-cce95106bd99"
      },
      "execution_count": null,
      "outputs": [
        {
          "output_type": "execute_result",
          "data": {
            "text/plain": [
              "['Qing', 'Francisca', 'Raúl', 'Bjork', 'Mary', 'Jim', 'Tere']"
            ]
          },
          "metadata": {},
          "execution_count": 23
        }
      ]
    },
    {
      "cell_type": "code",
      "source": [
        "aVector_P[aVector_P==27]= 72\n",
        "\n",
        "#changes\n",
        "aVector_P"
      ],
      "metadata": {
        "colab": {
          "base_uri": "https://localhost:8080/"
        },
        "id": "ezI1tCVebtXv",
        "outputId": "0355f839-0544-4ee6-fae1-14c0c07243e3"
      },
      "execution_count": null,
      "outputs": [
        {
          "output_type": "execute_result",
          "data": {
            "text/plain": [
              "array([32, 33, 58, 30, 29, 33, 34, 72])"
            ]
          },
          "metadata": {},
          "execution_count": 32
        }
      ]
    },
    {
      "cell_type": "code",
      "source": [
        "%%R\n",
        "\n",
        "aList_R[aList_R=='Marie']=\"Mary\"\n",
        "\n",
        "#changes\n",
        "aList_R"
      ],
      "metadata": {
        "id": "ZozgXyECpjy2",
        "colab": {
          "base_uri": "https://localhost:8080/"
        },
        "outputId": "3476b067-1fe1-4dad-cd27-1675c3e0686e"
      },
      "execution_count": null,
      "outputs": [
        {
          "output_type": "stream",
          "name": "stdout",
          "text": [
            "[[1]]\n",
            "[1] \"Qing\"\n",
            "\n",
            "[[2]]\n",
            "[1] \"Francisca\"\n",
            "\n",
            "[[3]]\n",
            "[1] \"Raúl\"\n",
            "\n",
            "[[4]]\n",
            "[1] \"Bjork\"\n",
            "\n",
            "[[5]]\n",
            "[1] \"Mary\"\n",
            "\n",
            "[[6]]\n",
            "[1] \"Jim\"\n",
            "\n",
            "[[7]]\n",
            "[1] \"Tere\"\n",
            "\n"
          ]
        }
      ]
    },
    {
      "cell_type": "code",
      "source": [
        "%%R\n",
        "\n",
        "aVector_R[aVector_R==27]= 72\n",
        "\n",
        "# changes\n",
        "aVector_R"
      ],
      "metadata": {
        "colab": {
          "base_uri": "https://localhost:8080/"
        },
        "id": "adlOnozR6zs2",
        "outputId": "fb0b0a97-c9a7-41c9-cb26-637e7f28dba7"
      },
      "execution_count": null,
      "outputs": [
        {
          "output_type": "stream",
          "name": "stdout",
          "text": [
            "[1] 32 33 58 30 29 33 34 72\n"
          ]
        }
      ]
    },
    {
      "cell_type": "markdown",
      "metadata": {
        "id": "_CF8wYu0tWhH"
      },
      "source": [
        "### Deleting\n",
        "\n",
        "You can not delete elements in a *tuple*."
      ]
    },
    {
      "cell_type": "markdown",
      "source": [
        "#### By Position\n",
        "\n",
        "You can not delete by position in Python SETs"
      ],
      "metadata": {
        "id": "bjYzRXv2rB2r"
      }
    },
    {
      "cell_type": "code",
      "source": [
        "# using 'del' in lists:\n",
        "newList_P=[1,2,3,'a']\n",
        "\n",
        "#last value, but you can write several indexes as slice\n",
        "del newList_P[0:2]\n",
        "\n",
        "# changes\n",
        "newList_P"
      ],
      "metadata": {
        "colab": {
          "base_uri": "https://localhost:8080/"
        },
        "id": "5rQAWeRHn4qE",
        "outputId": "49078169-3582-458d-d905-6775cb8a3ee2"
      },
      "execution_count": null,
      "outputs": [
        {
          "output_type": "execute_result",
          "data": {
            "text/plain": [
              "[3, 'a']"
            ]
          },
          "metadata": {},
          "execution_count": 48
        }
      ]
    },
    {
      "cell_type": "code",
      "source": [
        "# Using 'pop' in lists you get the last value:\n",
        "\n",
        "newList_P=[1,2,3,'a']\n",
        "newList_P.pop()"
      ],
      "metadata": {
        "colab": {
          "base_uri": "https://localhost:8080/",
          "height": 35
        },
        "id": "xBJBryZtoQNU",
        "outputId": "3510d730-e8f9-4454-b7c0-981f69a8f0e2"
      },
      "execution_count": null,
      "outputs": [
        {
          "output_type": "execute_result",
          "data": {
            "text/plain": [
              "'a'"
            ],
            "application/vnd.google.colaboratory.intrinsic+json": {
              "type": "string"
            }
          },
          "metadata": {},
          "execution_count": 38
        }
      ]
    },
    {
      "cell_type": "code",
      "source": [
        "# and shrink the list\n",
        "newList_P"
      ],
      "metadata": {
        "colab": {
          "base_uri": "https://localhost:8080/"
        },
        "id": "4ilMNrsZoVc2",
        "outputId": "7c15a0d9-fbc3-4a0a-e85e-b7583c389ac8"
      },
      "execution_count": null,
      "outputs": [
        {
          "output_type": "execute_result",
          "data": {
            "text/plain": [
              "[1, 2, 3]"
            ]
          },
          "metadata": {},
          "execution_count": 39
        }
      ]
    },
    {
      "cell_type": "code",
      "source": [
        "newVector_P=np.array([1,2,3,'a'])\n",
        "\n",
        "#first value, but you can write several indexes in a list\n",
        "newVector_P=np.delete(newVector_P,[-1,-2])\n",
        "\n",
        "newVector_P\n"
      ],
      "metadata": {
        "colab": {
          "base_uri": "https://localhost:8080/"
        },
        "id": "LwY0X0S6j90l",
        "outputId": "d933cf34-fe42-4158-dc11-d85de09c903c"
      },
      "execution_count": null,
      "outputs": [
        {
          "output_type": "execute_result",
          "data": {
            "text/plain": [
              "array(['1', '2'], dtype='<U21')"
            ]
          },
          "metadata": {},
          "execution_count": 51
        }
      ]
    },
    {
      "cell_type": "code",
      "source": [],
      "metadata": {
        "id": "5eIyB116o2PZ"
      },
      "execution_count": null,
      "outputs": []
    },
    {
      "cell_type": "code",
      "source": [
        "newSet_P={1,2,3,'a'}"
      ],
      "metadata": {
        "id": "AOZNI4jGlCOs"
      },
      "execution_count": null,
      "outputs": []
    },
    {
      "cell_type": "code",
      "source": [
        "%%R\n",
        "\n",
        "newList_R=list(1,2,3,'a')\n",
        "\n",
        "# just use the 'minus' sign\n",
        "newList_R=newList_R[-c(1:2)]\n",
        "\n",
        "#changes\n",
        "newList_R"
      ],
      "metadata": {
        "id": "h6UsIzY5tIgY",
        "colab": {
          "base_uri": "https://localhost:8080/"
        },
        "outputId": "bcae3957-3993-4bc0-9daa-c04a90383eb1"
      },
      "execution_count": null,
      "outputs": [
        {
          "output_type": "stream",
          "name": "stdout",
          "text": [
            "[[1]]\n",
            "[1] 3\n",
            "\n",
            "[[2]]\n",
            "[1] \"a\"\n",
            "\n"
          ]
        }
      ]
    },
    {
      "cell_type": "code",
      "source": [
        "%%R\n",
        "\n",
        "newVector_R=c(1,2,3,'a')\n",
        "newVector_R=newVector_R[-c(3,4)]\n",
        "\n",
        "#changes\n",
        "newVector_R"
      ],
      "metadata": {
        "id": "hquozQUutoXe",
        "colab": {
          "base_uri": "https://localhost:8080/"
        },
        "outputId": "45de2a1c-951c-4f6e-86d4-7c912aca2604"
      },
      "execution_count": null,
      "outputs": [
        {
          "output_type": "stream",
          "name": "stdout",
          "text": [
            "[1] \"1\" \"2\"\n"
          ]
        }
      ]
    },
    {
      "cell_type": "markdown",
      "source": [
        "**NOTE:**  _**del**_ will delete the list if no index is given."
      ],
      "metadata": {
        "id": "KnwiDj8SrnVn"
      }
    },
    {
      "cell_type": "markdown",
      "source": [
        "#### by Value"
      ],
      "metadata": {
        "id": "rz-SxbVDyI_5"
      }
    },
    {
      "cell_type": "code",
      "metadata": {
        "id": "kQCwXCw3tWhO",
        "colab": {
          "base_uri": "https://localhost:8080/"
        },
        "outputId": "f08d739b-6bc2-4fb7-f760-94f64431a5e5"
      },
      "source": [
        "# remove for list\n",
        "newList_P=[1,2,3,'a','a',22]\n",
        "newList_P.remove('a')\n",
        "newList_P"
      ],
      "execution_count": null,
      "outputs": [
        {
          "output_type": "execute_result",
          "data": {
            "text/plain": [
              "[1, 2, 3, 'a', 22]"
            ]
          },
          "metadata": {},
          "execution_count": 56
        }
      ]
    },
    {
      "cell_type": "code",
      "source": [
        "# remove for list\n",
        "newList_P=[1,2,3,'a','a',22]\n",
        "newList_P.remove('A')\n",
        "newList_P"
      ],
      "metadata": {
        "colab": {
          "base_uri": "https://localhost:8080/",
          "height": 232
        },
        "id": "dQrz344TpdTF",
        "outputId": "17317a61-9930-47ae-be37-3e0f398773d2"
      },
      "execution_count": null,
      "outputs": [
        {
          "output_type": "error",
          "ename": "ValueError",
          "evalue": "ignored",
          "traceback": [
            "\u001b[0;31m---------------------------------------------------------------------------\u001b[0m",
            "\u001b[0;31mValueError\u001b[0m                                Traceback (most recent call last)",
            "\u001b[0;32m<ipython-input-57-3e5c7a02063c>\u001b[0m in \u001b[0;36m<cell line: 3>\u001b[0;34m()\u001b[0m\n\u001b[1;32m      1\u001b[0m \u001b[0;31m# remove for list\u001b[0m\u001b[0;34m\u001b[0m\u001b[0;34m\u001b[0m\u001b[0m\n\u001b[1;32m      2\u001b[0m \u001b[0mnewList_P\u001b[0m\u001b[0;34m=\u001b[0m\u001b[0;34m[\u001b[0m\u001b[0;36m1\u001b[0m\u001b[0;34m,\u001b[0m\u001b[0;36m2\u001b[0m\u001b[0;34m,\u001b[0m\u001b[0;36m3\u001b[0m\u001b[0;34m,\u001b[0m\u001b[0;34m'a'\u001b[0m\u001b[0;34m,\u001b[0m\u001b[0;34m'a'\u001b[0m\u001b[0;34m,\u001b[0m\u001b[0;36m22\u001b[0m\u001b[0;34m]\u001b[0m\u001b[0;34m\u001b[0m\u001b[0;34m\u001b[0m\u001b[0m\n\u001b[0;32m----> 3\u001b[0;31m \u001b[0mnewList_P\u001b[0m\u001b[0;34m.\u001b[0m\u001b[0mremove\u001b[0m\u001b[0;34m(\u001b[0m\u001b[0;34m'A'\u001b[0m\u001b[0;34m)\u001b[0m\u001b[0;34m\u001b[0m\u001b[0;34m\u001b[0m\u001b[0m\n\u001b[0m\u001b[1;32m      4\u001b[0m \u001b[0mnewList_P\u001b[0m\u001b[0;34m\u001b[0m\u001b[0;34m\u001b[0m\u001b[0m\n",
            "\u001b[0;31mValueError\u001b[0m: list.remove(x): x not in list"
          ]
        }
      ]
    },
    {
      "cell_type": "code",
      "metadata": {
        "id": "GUi3v8hqtWhU",
        "colab": {
          "base_uri": "https://localhost:8080/"
        },
        "outputId": "f68e4d8b-fa9f-4a09-a6dd-af1a54c83a5f"
      },
      "source": [
        "# deleting every  value:\n",
        "\n",
        "newList_P=[1,2,3,'a','a',22]\n",
        "newList_P=[values for values in newList_P if values !='a']\n",
        "\n",
        "# you get:\n",
        "newList_P"
      ],
      "execution_count": null,
      "outputs": [
        {
          "output_type": "execute_result",
          "data": {
            "text/plain": [
              "[1, 2, 3, 22]"
            ]
          },
          "metadata": {},
          "execution_count": 80
        }
      ]
    },
    {
      "cell_type": "code",
      "source": [
        "newSet_P={1,2,3,'a','a',22}\n",
        "\n",
        "newSet_P.remove('a')\n",
        "newSet_P"
      ],
      "metadata": {
        "colab": {
          "base_uri": "https://localhost:8080/"
        },
        "id": "55Hz13nTx_6N",
        "outputId": "a08513d2-fff3-4249-b146-564cdb250b53"
      },
      "execution_count": null,
      "outputs": [
        {
          "output_type": "execute_result",
          "data": {
            "text/plain": [
              "{1, 2, 3, 22}"
            ]
          },
          "metadata": {},
          "execution_count": 65
        }
      ]
    },
    {
      "cell_type": "code",
      "source": [
        "newSet_P={1,2,3,'a','a',22}\n",
        "\n",
        "newSet_P.discard('A')\n",
        "newSet_P"
      ],
      "metadata": {
        "colab": {
          "base_uri": "https://localhost:8080/"
        },
        "id": "GefIDK56t8F7",
        "outputId": "a2619760-17d7-4fec-d8b5-87fc51f28dcf"
      },
      "execution_count": null,
      "outputs": [
        {
          "output_type": "execute_result",
          "data": {
            "text/plain": [
              "{1, 2, 22, 3, 'a'}"
            ]
          },
          "metadata": {},
          "execution_count": 66
        }
      ]
    },
    {
      "cell_type": "code",
      "source": [
        "newVector_P=np.array([1,2,3,'a','a',22])\n",
        "newVector_P=np.delete(newVector_P, np.where(newVector_P == 'a'))\n",
        "\n",
        "# changes\n",
        "newVector_P"
      ],
      "metadata": {
        "colab": {
          "base_uri": "https://localhost:8080/"
        },
        "id": "Iejial4nytqe",
        "outputId": "8e1834b8-9278-4cc3-ed47-69403c1aabc6"
      },
      "execution_count": null,
      "outputs": [
        {
          "output_type": "execute_result",
          "data": {
            "text/plain": [
              "array(['1', '2', '3', '22'], dtype='<U21')"
            ]
          },
          "metadata": {},
          "execution_count": 78
        }
      ]
    },
    {
      "cell_type": "code",
      "source": [
        "newVector_P=np.array([1,2,3,'a','a',22])\n",
        "newVector_P=newVector_P[newVector_P!='a']\n",
        "\n",
        "# changes\n",
        "newVector_P"
      ],
      "metadata": {
        "colab": {
          "base_uri": "https://localhost:8080/"
        },
        "id": "Bu4saUyCwwrp",
        "outputId": "93362c7c-27b1-4ff6-c4be-ec9117bdde84"
      },
      "execution_count": null,
      "outputs": [
        {
          "output_type": "execute_result",
          "data": {
            "text/plain": [
              "array(['1', '2', '3', '22'], dtype='<U21')"
            ]
          },
          "metadata": {},
          "execution_count": 79
        }
      ]
    },
    {
      "cell_type": "code",
      "source": [
        "%%R\n",
        "\n",
        "newList_R=list(1,2,3,'a','a',22)\n",
        "newList_R=newList_R[newList_R !='a']\n",
        "\n",
        "newList_R\n"
      ],
      "metadata": {
        "id": "fSrbGThNzuxk",
        "colab": {
          "base_uri": "https://localhost:8080/"
        },
        "outputId": "95c80c13-6acc-4d4f-d919-8866e5541c80"
      },
      "execution_count": null,
      "outputs": [
        {
          "output_type": "stream",
          "name": "stdout",
          "text": [
            "[[1]]\n",
            "[1] 1\n",
            "\n",
            "[[2]]\n",
            "[1] 2\n",
            "\n",
            "[[3]]\n",
            "[1] 3\n",
            "\n",
            "[[4]]\n",
            "[1] 22\n",
            "\n"
          ]
        }
      ]
    },
    {
      "cell_type": "code",
      "source": [
        "%%R\n",
        "\n",
        "newVector_R=c(1,2,3,'a','a',22)\n",
        "newVector_R=newVector_R[newVector_R !='a']\n",
        "\n",
        "newVector_R\n"
      ],
      "metadata": {
        "colab": {
          "base_uri": "https://localhost:8080/"
        },
        "id": "7Zdl7iqsvCOi",
        "outputId": "7074ccc5-30c4-4ea4-99f7-0aa746a42439"
      },
      "execution_count": null,
      "outputs": [
        {
          "output_type": "stream",
          "name": "stdout",
          "text": [
            "[1] \"1\"  \"2\"  \"3\"  \"22\"\n"
          ]
        }
      ]
    },
    {
      "cell_type": "markdown",
      "metadata": {
        "id": "JzcKbpXptWhX"
      },
      "source": [
        "### Inserting values"
      ]
    },
    {
      "cell_type": "code",
      "metadata": {
        "id": "or5OmtestWhY",
        "colab": {
          "base_uri": "https://localhost:8080/"
        },
        "outputId": "da8d8589-d756-48de-99a4-d9c0ded3f6bf"
      },
      "source": [
        "# at the end\n",
        "listP=[1,'a']\n",
        "listP.append(\"cde\")\n",
        "listP"
      ],
      "execution_count": null,
      "outputs": [
        {
          "output_type": "execute_result",
          "data": {
            "text/plain": [
              "[1, 'a', 'cde']"
            ]
          },
          "metadata": {},
          "execution_count": 15
        }
      ]
    },
    {
      "cell_type": "code",
      "source": [
        "# specific position\n",
        "listP=[1,'a']\n",
        "listP.insert(1,\"cde\")\n",
        "listP"
      ],
      "metadata": {
        "id": "GB4IycLs32Ya",
        "colab": {
          "base_uri": "https://localhost:8080/"
        },
        "outputId": "6620dc88-62df-4c85-dbdc-6e0a408819ed"
      },
      "execution_count": null,
      "outputs": [
        {
          "output_type": "execute_result",
          "data": {
            "text/plain": [
              "[1, 'cde', 'a']"
            ]
          },
          "metadata": {},
          "execution_count": 16
        }
      ]
    },
    {
      "cell_type": "code",
      "source": [
        "%%R\n",
        "\n",
        "# at the end\n",
        "listR=list(1,'a')\n",
        "listR=append(listR,'cde')\n",
        "listR"
      ],
      "metadata": {
        "id": "QCiOC5fG3O42",
        "colab": {
          "base_uri": "https://localhost:8080/"
        },
        "outputId": "138a18d9-ef90-4ce7-8d94-020fdc563617"
      },
      "execution_count": null,
      "outputs": [
        {
          "output_type": "stream",
          "name": "stdout",
          "text": [
            "[[1]]\n",
            "[1] 1\n",
            "\n",
            "[[2]]\n",
            "[1] \"a\"\n",
            "\n",
            "[[3]]\n",
            "[1] \"cde\"\n",
            "\n"
          ]
        }
      ]
    },
    {
      "cell_type": "code",
      "source": [
        "%%R\n",
        "\n",
        "# specific position\n",
        "listR=list(1,'a')\n",
        "listR=append(listR,'cde',after=1)\n",
        "listR"
      ],
      "metadata": {
        "id": "IcP2en363_ii",
        "colab": {
          "base_uri": "https://localhost:8080/"
        },
        "outputId": "32dc791b-0641-4dd9-b69e-9d2755071e58"
      },
      "execution_count": null,
      "outputs": [
        {
          "output_type": "stream",
          "name": "stdout",
          "text": [
            "[[1]]\n",
            "[1] 1\n",
            "\n",
            "[[2]]\n",
            "[1] \"cde\"\n",
            "\n",
            "[[3]]\n",
            "[1] \"a\"\n",
            "\n"
          ]
        }
      ]
    },
    {
      "cell_type": "code",
      "source": [
        "# in a set\n",
        "cSet={'a','b','cc'}\n",
        "cSet.update(('dd',))\n",
        "\n",
        "# changes\n",
        "cSet"
      ],
      "metadata": {
        "colab": {
          "base_uri": "https://localhost:8080/"
        },
        "id": "uJo7PHEZz7TE",
        "outputId": "53ce0bde-1f78-4fe9-c486-71b2a87db5eb"
      },
      "execution_count": null,
      "outputs": [
        {
          "output_type": "execute_result",
          "data": {
            "text/plain": [
              "{'a', 'b', 'cc', 'dd'}"
            ]
          },
          "metadata": {},
          "execution_count": 17
        }
      ]
    },
    {
      "cell_type": "code",
      "source": [
        "# in a vector at the end\n",
        "vectorP=np.array([1,2,3,4])\n",
        "vectorP=np.append(vectorP,5)\n",
        "\n",
        "# changes\n",
        "vectorP"
      ],
      "metadata": {
        "colab": {
          "base_uri": "https://localhost:8080/"
        },
        "id": "d0OkuFQe0Gxt",
        "outputId": "08bff5a0-d1bb-4543-ee89-f7320cd44979"
      },
      "execution_count": null,
      "outputs": [
        {
          "output_type": "execute_result",
          "data": {
            "text/plain": [
              "array([1, 2, 3, 4, 5])"
            ]
          },
          "metadata": {},
          "execution_count": 18
        }
      ]
    },
    {
      "cell_type": "code",
      "source": [
        "# in a vector at a specific position\n",
        "vectorP=np.array([1,2,3,4])\n",
        "vectorP=np.insert(vectorP,obj=1,values=10) #obj is position\n",
        "vectorP"
      ],
      "metadata": {
        "colab": {
          "base_uri": "https://localhost:8080/"
        },
        "id": "4uqDWUjD0KwG",
        "outputId": "bf3ccd69-d44c-492e-99da-4e142e8a8544"
      },
      "execution_count": null,
      "outputs": [
        {
          "output_type": "execute_result",
          "data": {
            "text/plain": [
              "array([ 1, 10,  2,  3,  4])"
            ]
          },
          "metadata": {},
          "execution_count": 9
        }
      ]
    },
    {
      "cell_type": "code",
      "source": [
        "%%R\n",
        "\n",
        "# in a vector at the end\n",
        "vectorR=c(1,2,3,4)\n",
        "vectorR=c(vectorR,5)\n",
        "vectorR"
      ],
      "metadata": {
        "colab": {
          "base_uri": "https://localhost:8080/"
        },
        "id": "-VlYN4IO0mtr",
        "outputId": "2f85d9e1-a81d-4fb3-a18c-40fa0c947f09"
      },
      "execution_count": null,
      "outputs": [
        {
          "output_type": "stream",
          "name": "stdout",
          "text": [
            "[1] 1 2 3 4 5\n"
          ]
        }
      ]
    },
    {
      "cell_type": "code",
      "source": [
        "%%R\n",
        "\n",
        "# in a vector at a specific position\n",
        "vectorR=c(1,2,3,4)\n",
        "vectorR=append(vectorR,10,after=1)\n",
        "vectorR"
      ],
      "metadata": {
        "colab": {
          "base_uri": "https://localhost:8080/"
        },
        "id": "xBYMPkU40nTc",
        "outputId": "5c7ac805-6175-4908-d2f8-ce8ccaaf40c5"
      },
      "execution_count": null,
      "outputs": [
        {
          "output_type": "stream",
          "name": "stdout",
          "text": [
            "[1]  1 10  2  3  4\n"
          ]
        }
      ]
    },
    {
      "cell_type": "markdown",
      "source": [
        "## Concatenating"
      ],
      "metadata": {
        "id": "ceqfkORcK9vt"
      }
    },
    {
      "cell_type": "code",
      "source": [
        "listA_P=[1,2,3]\n",
        "listB_P=['a', 'b', 'c']\n",
        "listC=listA_P + listB_P\n",
        "\n",
        "# a new list\n",
        "listC"
      ],
      "metadata": {
        "id": "4nFczku8K_3k",
        "colab": {
          "base_uri": "https://localhost:8080/"
        },
        "outputId": "07972250-2f5e-4aed-c2c5-74c649cab8e4"
      },
      "execution_count": null,
      "outputs": [
        {
          "output_type": "execute_result",
          "data": {
            "text/plain": [
              "[1, 2, 3, 'a', 'b', 'c']"
            ]
          },
          "metadata": {},
          "execution_count": 26
        }
      ]
    },
    {
      "cell_type": "code",
      "source": [
        "listA_P.extend(listB_P)\n",
        "\n",
        "# an old list extended\n",
        "listA_P"
      ],
      "metadata": {
        "id": "gvCtdID3bgm-",
        "colab": {
          "base_uri": "https://localhost:8080/"
        },
        "outputId": "30ba2e53-cc1b-4641-9a3c-8f6263f34995"
      },
      "execution_count": null,
      "outputs": [
        {
          "output_type": "execute_result",
          "data": {
            "text/plain": [
              "[1, 2, 3, 'a', 'b', 'c']"
            ]
          },
          "metadata": {},
          "execution_count": 27
        }
      ]
    },
    {
      "cell_type": "code",
      "source": [
        "#notice\n",
        "listA1_P=[1,2,3]\n",
        "listB1_P=['a', 'b', 'c']\n",
        "listA1_P.append(listB1_P)\n",
        "listA1_P"
      ],
      "metadata": {
        "id": "buD_S1X6MUje",
        "colab": {
          "base_uri": "https://localhost:8080/"
        },
        "outputId": "c3b5c2fe-fad0-42b1-8e25-3a7bc42eebaf"
      },
      "execution_count": null,
      "outputs": [
        {
          "output_type": "execute_result",
          "data": {
            "text/plain": [
              "[1, 2, 3, ['a', 'b', 'c']]"
            ]
          },
          "metadata": {},
          "execution_count": 21
        }
      ]
    },
    {
      "cell_type": "code",
      "source": [
        "%%R\n",
        "\n",
        "listA_R=list(1,2,3)\n",
        "listB_R=list('a', 'b', 'c')\n",
        "listC_R=append(listA_R, listB_R)\n",
        "# new list\n",
        "listC_R"
      ],
      "metadata": {
        "id": "hajS5MgJLRj9",
        "colab": {
          "base_uri": "https://localhost:8080/"
        },
        "outputId": "ad66d0a5-248b-4ef4-c1a4-9fb2a8cdd6a1"
      },
      "execution_count": null,
      "outputs": [
        {
          "output_type": "stream",
          "name": "stdout",
          "text": [
            "[[1]]\n",
            "[1] 1\n",
            "\n",
            "[[2]]\n",
            "[1] 2\n",
            "\n",
            "[[3]]\n",
            "[1] 3\n",
            "\n",
            "[[4]]\n",
            "[1] \"a\"\n",
            "\n",
            "[[5]]\n",
            "[1] \"b\"\n",
            "\n",
            "[[6]]\n",
            "[1] \"c\"\n",
            "\n"
          ]
        }
      ]
    },
    {
      "cell_type": "code",
      "source": [
        "%%R\n",
        "\n",
        "listC_R[[4]]"
      ],
      "metadata": {
        "colab": {
          "base_uri": "https://localhost:8080/"
        },
        "id": "sv1ZTgV6zdIb",
        "outputId": "457c392f-7607-4013-d4f0-edc83fa99528"
      },
      "execution_count": null,
      "outputs": [
        {
          "output_type": "stream",
          "name": "stdout",
          "text": [
            "[1] \"a\"\n"
          ]
        }
      ]
    },
    {
      "cell_type": "code",
      "source": [
        "%%R\n",
        "listC_R=append(listA_R, list(listB_R))\n",
        "listC_R"
      ],
      "metadata": {
        "id": "MxaH2JXNLggB",
        "colab": {
          "base_uri": "https://localhost:8080/"
        },
        "outputId": "771af584-e41f-4ced-d0f5-1635fdb89bfd"
      },
      "execution_count": null,
      "outputs": [
        {
          "output_type": "stream",
          "name": "stdout",
          "text": [
            "[[1]]\n",
            "[1] 1\n",
            "\n",
            "[[2]]\n",
            "[1] 2\n",
            "\n",
            "[[3]]\n",
            "[1] 3\n",
            "\n",
            "[[4]]\n",
            "[[4]][[1]]\n",
            "[1] \"a\"\n",
            "\n",
            "[[4]][[2]]\n",
            "[1] \"b\"\n",
            "\n",
            "[[4]][[3]]\n",
            "[1] \"c\"\n",
            "\n",
            "\n"
          ]
        }
      ]
    },
    {
      "cell_type": "code",
      "source": [
        "%%R\n",
        "listC_R[[4]]"
      ],
      "metadata": {
        "colab": {
          "base_uri": "https://localhost:8080/"
        },
        "id": "7PKR-TIAzmTh",
        "outputId": "4a71c2bf-b360-4f7c-ed79-ead4cbb6e460"
      },
      "execution_count": null,
      "outputs": [
        {
          "output_type": "stream",
          "name": "stdout",
          "text": [
            "[[1]]\n",
            "[1] \"a\"\n",
            "\n",
            "[[2]]\n",
            "[1] \"b\"\n",
            "\n",
            "[[3]]\n",
            "[1] \"c\"\n",
            "\n"
          ]
        }
      ]
    },
    {
      "cell_type": "code",
      "source": [
        "vectorP1=np.array([1,2,3,4])\n",
        "vectorP2=np.array(['a','b'])\n",
        "vectorP12=np.concatenate((vectorP1,vectorP2))\n",
        "\n",
        "# new vector\n",
        "vectorP12"
      ],
      "metadata": {
        "id": "rXUFhxDwfl1Z",
        "colab": {
          "base_uri": "https://localhost:8080/"
        },
        "outputId": "9692bd3a-ef43-4ef6-e4ff-b8c87688bd31"
      },
      "execution_count": null,
      "outputs": [
        {
          "output_type": "execute_result",
          "data": {
            "text/plain": [
              "array(['1', '2', '3', '4', 'a', 'b'], dtype='<U21')"
            ]
          },
          "metadata": {},
          "execution_count": 39
        }
      ]
    },
    {
      "cell_type": "code",
      "source": [
        "%%R\n",
        "vectorR1=c(1,2,3,4)\n",
        "vectorR2=c('a','b')\n",
        "vectorR12=c(vectorR1,vectorR2)\n",
        "# new vector\n",
        "vectorR12"
      ],
      "metadata": {
        "colab": {
          "base_uri": "https://localhost:8080/"
        },
        "id": "kMTj9OWX1LD3",
        "outputId": "2b248c8c-23b2-43b7-e4ee-cb6adf7353d5"
      },
      "execution_count": null,
      "outputs": [
        {
          "output_type": "stream",
          "name": "stdout",
          "text": [
            "[1] \"1\" \"2\" \"3\" \"4\" \"a\" \"b\"\n"
          ]
        }
      ]
    },
    {
      "cell_type": "code",
      "source": [
        "# in sets we talk about union\n",
        "set1={'a','b','c','d'}\n",
        "set2={1,2,3,4}\n",
        "set3={'a',2,3,'d'}\n",
        "\n",
        "set4=set1|set2|set3\n",
        "#new set\n",
        "set4"
      ],
      "metadata": {
        "colab": {
          "base_uri": "https://localhost:8080/"
        },
        "id": "tjL2XsXL1NxP",
        "outputId": "18b2f546-399b-425b-fcdd-4ee5fc8c99a4"
      },
      "execution_count": null,
      "outputs": [
        {
          "output_type": "execute_result",
          "data": {
            "text/plain": [
              "{1, 2, 3, 4, 'a', 'b', 'c', 'd'}"
            ]
          },
          "metadata": {},
          "execution_count": 41
        }
      ]
    },
    {
      "cell_type": "code",
      "source": [
        "# you can concatenate tuples, but into a new one\n",
        "\n",
        "tuple1=('a','b','c','d')\n",
        "tuple2=(1,2,3,4)\n",
        "tuple3=('a',2,3,'d')\n",
        "tuple4=tuple1+tuple2+tuple3\n",
        "\n",
        "#new tuple\n",
        "tuple4"
      ],
      "metadata": {
        "colab": {
          "base_uri": "https://localhost:8080/"
        },
        "id": "_4-vuBo21nlJ",
        "outputId": "58a277ab-ff35-4903-ef69-303b2e4e65fa"
      },
      "execution_count": null,
      "outputs": [
        {
          "output_type": "execute_result",
          "data": {
            "text/plain": [
              "('a', 'b', 'c', 'd', 1, 2, 3, 4, 'a', 2, 3, 'd')"
            ]
          },
          "metadata": {},
          "execution_count": 42
        }
      ]
    },
    {
      "cell_type": "code",
      "source": [],
      "metadata": {
        "id": "PIqeYd8h15j7"
      },
      "execution_count": null,
      "outputs": []
    }
  ]
}