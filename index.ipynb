{
 "cells": [
  {
   "cell_type": "markdown",
   "metadata": {},
   "source": [
    "<br> \n",
    "<center><img src=\"https://i.imgur.com/hkb7Bq7.png\" width=\"500\"></center>\n",
    "\n",
    "# [Session 1: Introduction to Python](https://github.com/eScienceWinterSchool/RRStudioSession)\n",
    "\n",
    "\n",
    "_____"
   ]
  },
  {
   "cell_type": "markdown",
   "metadata": {},
   "source": [
    "### Prof. José Manuel Magallanes, PhD\n",
    "\n",
    "* Associate Professor, Departamento de Ciencias Sociales, Pontificia Universidad Católica del Perú, [jmagallanes@pucp.edu.pe](mailto:jmagallanes@pucp.edu.pe)\n",
    "\n",
    "* Visiting Associate Professor, Evans School of Public Policy and Governance / Senior Data Science Fellow, eScience Institute, University of Washington, [magajm@uw.edu](mailto:magajm@uw.edu)\n",
    "_____\n",
    "\n"
   ]
  },
  {
   "cell_type": "markdown",
   "metadata": {},
   "source": [
    "# 1.  Data Structures"
   ]
  },
  {
   "cell_type": "markdown",
   "metadata": {},
   "source": [
    "Python has basic native structures, like lists, tuples and dictionaries."
   ]
  },
  {
   "cell_type": "markdown",
   "metadata": {},
   "source": [
    "## A.  **LISTS** \n",
    "\n",
    "Lists are the most flexible structure to save or contain data elements."
   ]
  },
  {
   "cell_type": "code",
   "execution_count": null,
   "metadata": {},
   "outputs": [],
   "source": [
    "names=[\"Qing\", \"Françoise\", \"Raúl\", \"Bjork\",\"Marie\"]\n",
    "ages=[32,33,28,30,29]\n",
    "country=[\"China\", \"Senegal\", \"Spain\", \"Norway\",\"Korea\"]\n",
    "education=[\"Bach\", \"Bach\", \"Master\", \"PhD\",\"PhD\"]"
   ]
  },
  {
   "cell_type": "markdown",
   "metadata": {},
   "source": [
    "Above we have created some lists. Lists can contain any values. Lists support different operations:"
   ]
  },
  {
   "cell_type": "markdown",
   "metadata": {},
   "source": [
    "* **Accessing**:"
   ]
  },
  {
   "cell_type": "code",
   "execution_count": null,
   "metadata": {},
   "outputs": [],
   "source": [
    "# one element\n",
    "ages[0]"
   ]
  },
  {
   "cell_type": "code",
   "execution_count": null,
   "metadata": {},
   "outputs": [],
   "source": [
    "# several, using slices:\n",
    "ages[1:-1] #second to before last"
   ]
  },
  {
   "cell_type": "code",
   "execution_count": null,
   "metadata": {},
   "outputs": [],
   "source": [
    "# several, using slices:\n",
    "ages[:-2] #all but two last ones"
   ]
  },
  {
   "cell_type": "markdown",
   "metadata": {},
   "source": [
    "* **Modifying**:"
   ]
  },
  {
   "cell_type": "code",
   "execution_count": null,
   "metadata": {},
   "outputs": [],
   "source": [
    "# by position\n",
    "country[2]=\"España\"\n",
    "\n",
    "# list changed:\n",
    "country"
   ]
  },
  {
   "cell_type": "code",
   "execution_count": null,
   "metadata": {},
   "outputs": [],
   "source": [
    "# by value\n",
    "country=[\"PR China\" if x == \"China\" else x for x in country]\n",
    "\n",
    "# list changed:\n",
    "country"
   ]
  },
  {
   "cell_type": "markdown",
   "metadata": {},
   "source": [
    "* **Deleting**"
   ]
  },
  {
   "cell_type": "code",
   "execution_count": null,
   "metadata": {},
   "outputs": [],
   "source": [
    "# by position\n",
    "del country[-1]\n",
    "# list changed:\n",
    "country"
   ]
  },
  {
   "cell_type": "code",
   "execution_count": null,
   "metadata": {},
   "outputs": [],
   "source": [
    "# by position\n",
    "names.pop(-1)\n",
    "# list changed:\n",
    "names"
   ]
  },
  {
   "cell_type": "code",
   "execution_count": null,
   "metadata": {},
   "outputs": [],
   "source": [
    "# only 'del' works for several positions\n",
    "\n",
    "lista=[1,2,3,4,5,6]\n",
    "del lista[1:3]\n",
    "lista"
   ]
  },
  {
   "cell_type": "code",
   "execution_count": null,
   "metadata": {},
   "outputs": [],
   "source": [
    "# by value\n",
    "ages.remove(29) \n",
    "# list changed:\n",
    "ages # just first ocurrence!!"
   ]
  },
  {
   "cell_type": "code",
   "execution_count": null,
   "metadata": {},
   "outputs": [],
   "source": [
    "# by value\n",
    "education.remove('PhD') \n",
    "# list changed:\n",
    "education # just first ocurrence!!"
   ]
  },
  {
   "cell_type": "code",
   "execution_count": null,
   "metadata": {},
   "outputs": [],
   "source": [
    "# all values:\n",
    "\n",
    "lista=[1,'a',45,'b','a']\n",
    "lista=[x for x in lista if x!='a']\n",
    "lista"
   ]
  },
  {
   "cell_type": "markdown",
   "metadata": {},
   "source": [
    "* **Inserting values**"
   ]
  },
  {
   "cell_type": "code",
   "execution_count": null,
   "metadata": {},
   "outputs": [],
   "source": [
    "# at the end\n",
    "lista.append(\"abc\")\n",
    "lista"
   ]
  },
  {
   "cell_type": "code",
   "execution_count": null,
   "metadata": {},
   "outputs": [],
   "source": [
    "# insert in some other place\n",
    "# first delete\n",
    "education.pop(2)\n",
    "education"
   ]
  },
  {
   "cell_type": "code",
   "execution_count": null,
   "metadata": {},
   "outputs": [],
   "source": [
    "# now insert\n",
    "education.insert(2,\"Master\")\n",
    "education"
   ]
  },
  {
   "cell_type": "markdown",
   "metadata": {},
   "source": [
    "## B.  **TUPLES**\n",
    "\n",
    "Tuples are inmutable structures in Python, they look like lists but do not share much of their functionality:"
   ]
  },
  {
   "cell_type": "code",
   "execution_count": null,
   "metadata": {},
   "outputs": [],
   "source": [
    "# new list:\n",
    "weekend=(\"Friday\", \"Saturday\", \"Sunday\")"
   ]
  },
  {
   "cell_type": "markdown",
   "metadata": {},
   "source": [
    "You can access:"
   ]
  },
  {
   "cell_type": "code",
   "execution_count": null,
   "metadata": {},
   "outputs": [],
   "source": [
    "weekend[0]"
   ]
  },
  {
   "cell_type": "markdown",
   "metadata": {},
   "source": [
    "But no other operation is allowed."
   ]
  },
  {
   "cell_type": "markdown",
   "metadata": {},
   "source": [
    "Python itself uses tuples as output of some important functions:"
   ]
  },
  {
   "cell_type": "code",
   "execution_count": null,
   "metadata": {},
   "outputs": [],
   "source": [
    "zip(names,ages)"
   ]
  },
  {
   "cell_type": "markdown",
   "metadata": {},
   "source": [
    "The **zip** functions creates tuples, by combining in parallel. You can see it if you turn the result into a list:"
   ]
  },
  {
   "cell_type": "code",
   "execution_count": null,
   "metadata": {},
   "outputs": [],
   "source": [
    "list(zip(names,ages))  # a list of tuples"
   ]
  },
  {
   "cell_type": "markdown",
   "metadata": {},
   "source": [
    "## C. **DICTIONARIES**  \n",
    "\n",
    "*Dicts* work in a more sophisticated way, as they have a **'key'**:**'value'** structure:"
   ]
  },
  {
   "cell_type": "code",
   "execution_count": 105,
   "metadata": {},
   "outputs": [
    {
     "data": {
      "text/plain": [
       "{'student': ['Qing', 'Françoise', 'Raúl', 'Bjork', 'Marie'],\n",
       " 'age': [32, 33, 28, 30],\n",
       " 'edu': ['Bach', 'Bach', 'Master', 'PhD']}"
      ]
     },
     "execution_count": 105,
     "metadata": {},
     "output_type": "execute_result"
    }
   ],
   "source": [
    "classroom={'student':names,'age':ages,'edu':education}\n",
    "# see it:\n",
    "\n",
    "classroom"
   ]
  },
  {
   "cell_type": "markdown",
   "metadata": {},
   "source": [
    "Dictionaries do not use indexes to access values:"
   ]
  },
  {
   "cell_type": "code",
   "execution_count": null,
   "metadata": {},
   "outputs": [],
   "source": [
    "#classroom[0]"
   ]
  },
  {
   "cell_type": "markdown",
   "metadata": {},
   "source": [
    "It uses keys:"
   ]
  },
  {
   "cell_type": "code",
   "execution_count": null,
   "metadata": {},
   "outputs": [],
   "source": [
    "classroom['student']"
   ]
  },
  {
   "cell_type": "markdown",
   "metadata": {},
   "source": [
    "Notice I created a dictionary where the value is not ONE but a LIST of values."
   ]
  },
  {
   "cell_type": "markdown",
   "metadata": {},
   "source": [
    "Once you access a value, you can modify it. You can also use _pop_ or _del_. But you can not use _append_ to add an element, you need **update**:"
   ]
  },
  {
   "cell_type": "code",
   "execution_count": 107,
   "metadata": {},
   "outputs": [
    {
     "data": {
      "text/plain": [
       "{'student': ['Qing', 'Françoise', 'Raúl', 'Bjork', 'Marie'],\n",
       " 'age': [32, 33, 28, 30],\n",
       " 'edu': ['Bach', 'Bach', 'Master', 'PhD'],\n",
       " 'country': ['PR China', 'Senegal', 'España', 'Norway']}"
      ]
     },
     "execution_count": 107,
     "metadata": {},
     "output_type": "execute_result"
    }
   ],
   "source": [
    "classroom.update({'country':country})\n",
    "# now:\n",
    "classroom"
   ]
  },
  {
   "cell_type": "markdown",
   "metadata": {},
   "source": [
    "## D. DATA FRAMES"
   ]
  },
  {
   "cell_type": "markdown",
   "metadata": {},
   "source": [
    "**Data frames**  are more complex containers of values. The most common analogy is a spreadsheet. To create a data frame, we need to call **pandas**:"
   ]
  },
  {
   "cell_type": "code",
   "execution_count": null,
   "metadata": {},
   "outputs": [],
   "source": [
    "import pandas"
   ]
  },
  {
   "cell_type": "markdown",
   "metadata": {},
   "source": [
    "We can prepare a data frame from a dictionary immediately, but ONLY if you have the same amount of elements in each list representing a column."
   ]
  },
  {
   "cell_type": "code",
   "execution_count": 110,
   "metadata": {},
   "outputs": [],
   "source": [
    "# so in this case you get an error:\n",
    "#students=pandas.DataFrame(classroom)"
   ]
  },
  {
   "cell_type": "markdown",
   "metadata": {},
   "source": [
    "In our case, we had to be more explicit:"
   ]
  },
  {
   "cell_type": "code",
   "execution_count": 111,
   "metadata": {},
   "outputs": [
    {
     "data": {
      "text/html": [
       "<div>\n",
       "<style scoped>\n",
       "    .dataframe tbody tr th:only-of-type {\n",
       "        vertical-align: middle;\n",
       "    }\n",
       "\n",
       "    .dataframe tbody tr th {\n",
       "        vertical-align: top;\n",
       "    }\n",
       "\n",
       "    .dataframe thead th {\n",
       "        text-align: right;\n",
       "    }\n",
       "</style>\n",
       "<table border=\"1\" class=\"dataframe\">\n",
       "  <thead>\n",
       "    <tr style=\"text-align: right;\">\n",
       "      <th></th>\n",
       "      <th>student</th>\n",
       "      <th>age</th>\n",
       "      <th>edu</th>\n",
       "      <th>country</th>\n",
       "    </tr>\n",
       "  </thead>\n",
       "  <tbody>\n",
       "    <tr>\n",
       "      <th>0</th>\n",
       "      <td>Qing</td>\n",
       "      <td>32.0</td>\n",
       "      <td>Bach</td>\n",
       "      <td>PR China</td>\n",
       "    </tr>\n",
       "    <tr>\n",
       "      <th>1</th>\n",
       "      <td>Françoise</td>\n",
       "      <td>33.0</td>\n",
       "      <td>Bach</td>\n",
       "      <td>Senegal</td>\n",
       "    </tr>\n",
       "    <tr>\n",
       "      <th>2</th>\n",
       "      <td>Raúl</td>\n",
       "      <td>28.0</td>\n",
       "      <td>Master</td>\n",
       "      <td>España</td>\n",
       "    </tr>\n",
       "    <tr>\n",
       "      <th>3</th>\n",
       "      <td>Bjork</td>\n",
       "      <td>30.0</td>\n",
       "      <td>PhD</td>\n",
       "      <td>Norway</td>\n",
       "    </tr>\n",
       "    <tr>\n",
       "      <th>4</th>\n",
       "      <td>Marie</td>\n",
       "      <td>NaN</td>\n",
       "      <td>NaN</td>\n",
       "      <td>NaN</td>\n",
       "    </tr>\n",
       "  </tbody>\n",
       "</table>\n",
       "</div>"
      ],
      "text/plain": [
       "     student   age     edu   country\n",
       "0       Qing  32.0    Bach  PR China\n",
       "1  Françoise  33.0    Bach   Senegal\n",
       "2       Raúl  28.0  Master    España\n",
       "3      Bjork  30.0     PhD    Norway\n",
       "4      Marie   NaN     NaN       NaN"
      ]
     },
     "execution_count": 111,
     "metadata": {},
     "output_type": "execute_result"
    }
   ],
   "source": [
    "#then\n",
    "students=pandas.DataFrame({key:pandas.Series(value) for key, value in classroom.items()})\n",
    "\n",
    "# seeing it:\n",
    "students"
   ]
  },
  {
   "cell_type": "markdown",
   "metadata": {},
   "source": [
    "Sometimes, Python users code like this:"
   ]
  },
  {
   "cell_type": "code",
   "execution_count": 112,
   "metadata": {},
   "outputs": [
    {
     "data": {
      "text/html": [
       "<div>\n",
       "<style scoped>\n",
       "    .dataframe tbody tr th:only-of-type {\n",
       "        vertical-align: middle;\n",
       "    }\n",
       "\n",
       "    .dataframe tbody tr th {\n",
       "        vertical-align: top;\n",
       "    }\n",
       "\n",
       "    .dataframe thead th {\n",
       "        text-align: right;\n",
       "    }\n",
       "</style>\n",
       "<table border=\"1\" class=\"dataframe\">\n",
       "  <thead>\n",
       "    <tr style=\"text-align: right;\">\n",
       "      <th></th>\n",
       "      <th>student</th>\n",
       "      <th>age</th>\n",
       "      <th>edu</th>\n",
       "      <th>country</th>\n",
       "    </tr>\n",
       "  </thead>\n",
       "  <tbody>\n",
       "    <tr>\n",
       "      <th>0</th>\n",
       "      <td>Qing</td>\n",
       "      <td>32.0</td>\n",
       "      <td>Bach</td>\n",
       "      <td>PR China</td>\n",
       "    </tr>\n",
       "    <tr>\n",
       "      <th>1</th>\n",
       "      <td>Françoise</td>\n",
       "      <td>33.0</td>\n",
       "      <td>Bach</td>\n",
       "      <td>Senegal</td>\n",
       "    </tr>\n",
       "    <tr>\n",
       "      <th>2</th>\n",
       "      <td>Raúl</td>\n",
       "      <td>28.0</td>\n",
       "      <td>Master</td>\n",
       "      <td>España</td>\n",
       "    </tr>\n",
       "    <tr>\n",
       "      <th>3</th>\n",
       "      <td>Bjork</td>\n",
       "      <td>30.0</td>\n",
       "      <td>PhD</td>\n",
       "      <td>Norway</td>\n",
       "    </tr>\n",
       "    <tr>\n",
       "      <th>4</th>\n",
       "      <td>Marie</td>\n",
       "      <td>NaN</td>\n",
       "      <td>NaN</td>\n",
       "      <td>NaN</td>\n",
       "    </tr>\n",
       "  </tbody>\n",
       "</table>\n",
       "</div>"
      ],
      "text/plain": [
       "     student   age     edu   country\n",
       "0       Qing  32.0    Bach  PR China\n",
       "1  Françoise  33.0    Bach   Senegal\n",
       "2       Raúl  28.0  Master    España\n",
       "3      Bjork  30.0     PhD    Norway\n",
       "4      Marie   NaN     NaN       NaN"
      ]
     },
     "execution_count": 112,
     "metadata": {},
     "output_type": "execute_result"
    }
   ],
   "source": [
    "import pandas as pd # renaming the library\n",
    "\n",
    "students=pd.DataFrame({key:pd.Series(value) for key, value in classroom.items()})\n",
    "students"
   ]
  },
  {
   "cell_type": "markdown",
   "metadata": {},
   "source": [
    "### Data frame basic operations"
   ]
  },
  {
   "cell_type": "code",
   "execution_count": 115,
   "metadata": {},
   "outputs": [
    {
     "data": {
      "text/plain": [
       "pandas.core.frame.DataFrame"
      ]
     },
     "execution_count": 115,
     "metadata": {},
     "output_type": "execute_result"
    }
   ],
   "source": [
    "# data of structure: list? tuple? dataframe?\n",
    "type(students)"
   ]
  },
  {
   "cell_type": "code",
   "execution_count": 114,
   "metadata": {},
   "outputs": [
    {
     "data": {
      "text/plain": [
       "student     object\n",
       "age        float64\n",
       "edu         object\n",
       "country     object\n",
       "dtype: object"
      ]
     },
     "execution_count": 114,
     "metadata": {},
     "output_type": "execute_result"
    }
   ],
   "source": [
    "# type of data in data frame column\n",
    "students.dtypes"
   ]
  },
  {
   "cell_type": "code",
   "execution_count": 116,
   "metadata": {},
   "outputs": [
    {
     "name": "stdout",
     "output_type": "stream",
     "text": [
      "<class 'pandas.core.frame.DataFrame'>\n",
      "RangeIndex: 5 entries, 0 to 4\n",
      "Data columns (total 4 columns):\n",
      "student    5 non-null object\n",
      "age        4 non-null float64\n",
      "edu        4 non-null object\n",
      "country    4 non-null object\n",
      "dtypes: float64(1), object(3)\n",
      "memory usage: 288.0+ bytes\n"
     ]
    }
   ],
   "source": [
    "# details of data frame\n",
    "students.info()"
   ]
  },
  {
   "cell_type": "code",
   "execution_count": 117,
   "metadata": {},
   "outputs": [
    {
     "data": {
      "text/plain": [
       "(5, 4)"
      ]
     },
     "execution_count": 117,
     "metadata": {},
     "output_type": "execute_result"
    }
   ],
   "source": [
    "# number of rows and columns\n",
    "students.shape "
   ]
  },
  {
   "cell_type": "code",
   "execution_count": 119,
   "metadata": {},
   "outputs": [
    {
     "data": {
      "text/plain": [
       "5"
      ]
     },
     "execution_count": 119,
     "metadata": {},
     "output_type": "execute_result"
    }
   ],
   "source": [
    "# number of rows:\n",
    "len(students) "
   ]
  },
  {
   "cell_type": "code",
   "execution_count": 120,
   "metadata": {},
   "outputs": [
    {
     "data": {
      "text/html": [
       "<div>\n",
       "<style scoped>\n",
       "    .dataframe tbody tr th:only-of-type {\n",
       "        vertical-align: middle;\n",
       "    }\n",
       "\n",
       "    .dataframe tbody tr th {\n",
       "        vertical-align: top;\n",
       "    }\n",
       "\n",
       "    .dataframe thead th {\n",
       "        text-align: right;\n",
       "    }\n",
       "</style>\n",
       "<table border=\"1\" class=\"dataframe\">\n",
       "  <thead>\n",
       "    <tr style=\"text-align: right;\">\n",
       "      <th></th>\n",
       "      <th>student</th>\n",
       "      <th>age</th>\n",
       "      <th>edu</th>\n",
       "      <th>country</th>\n",
       "    </tr>\n",
       "  </thead>\n",
       "  <tbody>\n",
       "    <tr>\n",
       "      <th>0</th>\n",
       "      <td>Qing</td>\n",
       "      <td>32.0</td>\n",
       "      <td>Bach</td>\n",
       "      <td>PR China</td>\n",
       "    </tr>\n",
       "    <tr>\n",
       "      <th>1</th>\n",
       "      <td>Françoise</td>\n",
       "      <td>33.0</td>\n",
       "      <td>Bach</td>\n",
       "      <td>Senegal</td>\n",
       "    </tr>\n",
       "  </tbody>\n",
       "</table>\n",
       "</div>"
      ],
      "text/plain": [
       "     student   age   edu   country\n",
       "0       Qing  32.0  Bach  PR China\n",
       "1  Françoise  33.0  Bach   Senegal"
      ]
     },
     "execution_count": 120,
     "metadata": {},
     "output_type": "execute_result"
    }
   ],
   "source": [
    "# first rows\n",
    "students.head(2) # compare with: students.tail(2)"
   ]
  },
  {
   "cell_type": "code",
   "execution_count": 121,
   "metadata": {},
   "outputs": [
    {
     "data": {
      "text/plain": [
       "Index(['student', 'age', 'edu', 'country'], dtype='object')"
      ]
     },
     "execution_count": 121,
     "metadata": {},
     "output_type": "execute_result"
    }
   ],
   "source": [
    "# name of columns\n",
    "students.columns"
   ]
  },
  {
   "cell_type": "markdown",
   "metadata": {},
   "source": [
    "If you needed the column names as a list:"
   ]
  },
  {
   "cell_type": "code",
   "execution_count": 122,
   "metadata": {},
   "outputs": [
    {
     "data": {
      "text/plain": [
       "['student', 'age', 'edu', 'country']"
      ]
     },
     "execution_count": 122,
     "metadata": {},
     "output_type": "execute_result"
    }
   ],
   "source": [
    "students.columns.tolist()# or simply: list(students)"
   ]
  },
  {
   "cell_type": "markdown",
   "metadata": {},
   "source": [
    "If you needed a column values as a list:"
   ]
  },
  {
   "cell_type": "code",
   "execution_count": 124,
   "metadata": {},
   "outputs": [
    {
     "data": {
      "text/plain": [
       "[32.0, 33.0, 28.0, 30.0, nan]"
      ]
     },
     "execution_count": 124,
     "metadata": {},
     "output_type": "execute_result"
    }
   ],
   "source": [
    "students.age.tolist()# list(students.ages)"
   ]
  },
  {
   "cell_type": "markdown",
   "metadata": {},
   "source": [
    "### Accesing elements in DF:\n",
    "\n",
    "The data frames in pandas behave much like in R:"
   ]
  },
  {
   "cell_type": "code",
   "execution_count": 125,
   "metadata": {},
   "outputs": [
    {
     "data": {
      "text/plain": [
       "0         Qing\n",
       "1    Françoise\n",
       "2         Raúl\n",
       "3        Bjork\n",
       "4        Marie\n",
       "Name: student, dtype: object"
      ]
     },
     "execution_count": 125,
     "metadata": {},
     "output_type": "execute_result"
    }
   ],
   "source": [
    "#one particular column\n",
    "students.student"
   ]
  },
  {
   "cell_type": "code",
   "execution_count": 126,
   "metadata": {},
   "outputs": [
    {
     "data": {
      "text/plain": [
       "0         Qing\n",
       "1    Françoise\n",
       "2         Raúl\n",
       "3        Bjork\n",
       "4        Marie\n",
       "Name: student, dtype: object"
      ]
     },
     "execution_count": 126,
     "metadata": {},
     "output_type": "execute_result"
    }
   ],
   "source": [
    "# or\n",
    "students['student'] "
   ]
  },
  {
   "cell_type": "code",
   "execution_count": 127,
   "metadata": {},
   "outputs": [
    {
     "data": {
      "text/html": [
       "<div>\n",
       "<style scoped>\n",
       "    .dataframe tbody tr th:only-of-type {\n",
       "        vertical-align: middle;\n",
       "    }\n",
       "\n",
       "    .dataframe tbody tr th {\n",
       "        vertical-align: top;\n",
       "    }\n",
       "\n",
       "    .dataframe thead th {\n",
       "        text-align: right;\n",
       "    }\n",
       "</style>\n",
       "<table border=\"1\" class=\"dataframe\">\n",
       "  <thead>\n",
       "    <tr style=\"text-align: right;\">\n",
       "      <th></th>\n",
       "      <th>student</th>\n",
       "    </tr>\n",
       "  </thead>\n",
       "  <tbody>\n",
       "    <tr>\n",
       "      <th>0</th>\n",
       "      <td>Qing</td>\n",
       "    </tr>\n",
       "    <tr>\n",
       "      <th>1</th>\n",
       "      <td>Françoise</td>\n",
       "    </tr>\n",
       "    <tr>\n",
       "      <th>2</th>\n",
       "      <td>Raúl</td>\n",
       "    </tr>\n",
       "    <tr>\n",
       "      <th>3</th>\n",
       "      <td>Bjork</td>\n",
       "    </tr>\n",
       "    <tr>\n",
       "      <th>4</th>\n",
       "      <td>Marie</td>\n",
       "    </tr>\n",
       "  </tbody>\n",
       "</table>\n",
       "</div>"
      ],
      "text/plain": [
       "     student\n",
       "0       Qing\n",
       "1  Françoise\n",
       "2       Raúl\n",
       "3      Bjork\n",
       "4      Marie"
      ]
     },
     "execution_count": 127,
     "metadata": {},
     "output_type": "execute_result"
    }
   ],
   "source": [
    "# it is not the same as: \n",
    "students[['student']] # a data frame, not a column (or series)"
   ]
  },
  {
   "cell_type": "code",
   "execution_count": 129,
   "metadata": {},
   "outputs": [
    {
     "data": {
      "text/html": [
       "<div>\n",
       "<style scoped>\n",
       "    .dataframe tbody tr th:only-of-type {\n",
       "        vertical-align: middle;\n",
       "    }\n",
       "\n",
       "    .dataframe tbody tr th {\n",
       "        vertical-align: top;\n",
       "    }\n",
       "\n",
       "    .dataframe thead th {\n",
       "        text-align: right;\n",
       "    }\n",
       "</style>\n",
       "<table border=\"1\" class=\"dataframe\">\n",
       "  <thead>\n",
       "    <tr style=\"text-align: right;\">\n",
       "      <th></th>\n",
       "      <th>country</th>\n",
       "      <th>student</th>\n",
       "    </tr>\n",
       "  </thead>\n",
       "  <tbody>\n",
       "    <tr>\n",
       "      <th>0</th>\n",
       "      <td>PR China</td>\n",
       "      <td>Qing</td>\n",
       "    </tr>\n",
       "    <tr>\n",
       "      <th>1</th>\n",
       "      <td>Senegal</td>\n",
       "      <td>Françoise</td>\n",
       "    </tr>\n",
       "    <tr>\n",
       "      <th>2</th>\n",
       "      <td>España</td>\n",
       "      <td>Raúl</td>\n",
       "    </tr>\n",
       "    <tr>\n",
       "      <th>3</th>\n",
       "      <td>Norway</td>\n",
       "      <td>Bjork</td>\n",
       "    </tr>\n",
       "    <tr>\n",
       "      <th>4</th>\n",
       "      <td>NaN</td>\n",
       "      <td>Marie</td>\n",
       "    </tr>\n",
       "  </tbody>\n",
       "</table>\n",
       "</div>"
      ],
      "text/plain": [
       "    country    student\n",
       "0  PR China       Qing\n",
       "1   Senegal  Françoise\n",
       "2    España       Raúl\n",
       "3    Norway      Bjork\n",
       "4       NaN      Marie"
      ]
     },
     "execution_count": 129,
     "metadata": {},
     "output_type": "execute_result"
    }
   ],
   "source": [
    "# this is also a DF\n",
    "students[['country','student']]"
   ]
  },
  {
   "cell_type": "code",
   "execution_count": 130,
   "metadata": {},
   "outputs": [
    {
     "data": {
      "text/html": [
       "<div>\n",
       "<style scoped>\n",
       "    .dataframe tbody tr th:only-of-type {\n",
       "        vertical-align: middle;\n",
       "    }\n",
       "\n",
       "    .dataframe tbody tr th {\n",
       "        vertical-align: top;\n",
       "    }\n",
       "\n",
       "    .dataframe thead th {\n",
       "        text-align: right;\n",
       "    }\n",
       "</style>\n",
       "<table border=\"1\" class=\"dataframe\">\n",
       "  <thead>\n",
       "    <tr style=\"text-align: right;\">\n",
       "      <th></th>\n",
       "      <th>age</th>\n",
       "      <th>edu</th>\n",
       "      <th>country</th>\n",
       "    </tr>\n",
       "  </thead>\n",
       "  <tbody>\n",
       "    <tr>\n",
       "      <th>0</th>\n",
       "      <td>32.0</td>\n",
       "      <td>Bach</td>\n",
       "      <td>PR China</td>\n",
       "    </tr>\n",
       "    <tr>\n",
       "      <th>1</th>\n",
       "      <td>33.0</td>\n",
       "      <td>Bach</td>\n",
       "      <td>Senegal</td>\n",
       "    </tr>\n",
       "    <tr>\n",
       "      <th>2</th>\n",
       "      <td>28.0</td>\n",
       "      <td>Master</td>\n",
       "      <td>España</td>\n",
       "    </tr>\n",
       "    <tr>\n",
       "      <th>3</th>\n",
       "      <td>30.0</td>\n",
       "      <td>PhD</td>\n",
       "      <td>Norway</td>\n",
       "    </tr>\n",
       "    <tr>\n",
       "      <th>4</th>\n",
       "      <td>NaN</td>\n",
       "      <td>NaN</td>\n",
       "      <td>NaN</td>\n",
       "    </tr>\n",
       "  </tbody>\n",
       "</table>\n",
       "</div>"
      ],
      "text/plain": [
       "    age     edu   country\n",
       "0  32.0    Bach  PR China\n",
       "1  33.0    Bach   Senegal\n",
       "2  28.0  Master    España\n",
       "3  30.0     PhD    Norway\n",
       "4   NaN     NaN       NaN"
      ]
     },
     "execution_count": 130,
     "metadata": {},
     "output_type": "execute_result"
    }
   ],
   "source": [
    "## Using positions is the best way to get several columns:\n",
    "students.iloc[:,1:4]"
   ]
  },
  {
   "cell_type": "markdown",
   "metadata": {},
   "source": [
    "### Changing values\n",
    "\n",
    "If you have a position, you can update values:"
   ]
  },
  {
   "cell_type": "code",
   "execution_count": 133,
   "metadata": {},
   "outputs": [
    {
     "data": {
      "text/html": [
       "<div>\n",
       "<style scoped>\n",
       "    .dataframe tbody tr th:only-of-type {\n",
       "        vertical-align: middle;\n",
       "    }\n",
       "\n",
       "    .dataframe tbody tr th {\n",
       "        vertical-align: top;\n",
       "    }\n",
       "\n",
       "    .dataframe thead th {\n",
       "        text-align: right;\n",
       "    }\n",
       "</style>\n",
       "<table border=\"1\" class=\"dataframe\">\n",
       "  <thead>\n",
       "    <tr style=\"text-align: right;\">\n",
       "      <th></th>\n",
       "      <th>student</th>\n",
       "      <th>age</th>\n",
       "      <th>edu</th>\n",
       "      <th>country</th>\n",
       "    </tr>\n",
       "  </thead>\n",
       "  <tbody>\n",
       "    <tr>\n",
       "      <th>0</th>\n",
       "      <td>Qing</td>\n",
       "      <td>23.0</td>\n",
       "      <td>Bach</td>\n",
       "      <td>PR China</td>\n",
       "    </tr>\n",
       "    <tr>\n",
       "      <th>1</th>\n",
       "      <td>Françoise</td>\n",
       "      <td>33.0</td>\n",
       "      <td>Bach</td>\n",
       "      <td>Senegal</td>\n",
       "    </tr>\n",
       "    <tr>\n",
       "      <th>2</th>\n",
       "      <td>Raúl</td>\n",
       "      <td>28.0</td>\n",
       "      <td>Master</td>\n",
       "      <td>España</td>\n",
       "    </tr>\n",
       "    <tr>\n",
       "      <th>3</th>\n",
       "      <td>Bjork</td>\n",
       "      <td>30.0</td>\n",
       "      <td>PhD</td>\n",
       "      <td>Norway</td>\n",
       "    </tr>\n",
       "    <tr>\n",
       "      <th>4</th>\n",
       "      <td>Marie</td>\n",
       "      <td>NaN</td>\n",
       "      <td>NaN</td>\n",
       "      <td>NaN</td>\n",
       "    </tr>\n",
       "  </tbody>\n",
       "</table>\n",
       "</div>"
      ],
      "text/plain": [
       "     student   age     edu   country\n",
       "0       Qing  23.0    Bach  PR China\n",
       "1  Françoise  33.0    Bach   Senegal\n",
       "2       Raúl  28.0  Master    España\n",
       "3      Bjork  30.0     PhD    Norway\n",
       "4      Marie   NaN     NaN       NaN"
      ]
     },
     "execution_count": 133,
     "metadata": {},
     "output_type": "execute_result"
    }
   ],
   "source": [
    "studentsCopy.iloc[0,1]=23 # change is immediate! (no warning)\n",
    "studentsCopy"
   ]
  },
  {
   "cell_type": "markdown",
   "metadata": {},
   "source": [
    "### Deleting columns"
   ]
  },
  {
   "cell_type": "markdown",
   "metadata": {},
   "source": [
    "You can modify any values in a data frame, but let me create a **deep** copy of this data frame to play with:"
   ]
  },
  {
   "cell_type": "code",
   "execution_count": 131,
   "metadata": {},
   "outputs": [
    {
     "data": {
      "text/html": [
       "<div>\n",
       "<style scoped>\n",
       "    .dataframe tbody tr th:only-of-type {\n",
       "        vertical-align: middle;\n",
       "    }\n",
       "\n",
       "    .dataframe tbody tr th {\n",
       "        vertical-align: top;\n",
       "    }\n",
       "\n",
       "    .dataframe thead th {\n",
       "        text-align: right;\n",
       "    }\n",
       "</style>\n",
       "<table border=\"1\" class=\"dataframe\">\n",
       "  <thead>\n",
       "    <tr style=\"text-align: right;\">\n",
       "      <th></th>\n",
       "      <th>student</th>\n",
       "      <th>age</th>\n",
       "      <th>edu</th>\n",
       "      <th>country</th>\n",
       "    </tr>\n",
       "  </thead>\n",
       "  <tbody>\n",
       "    <tr>\n",
       "      <th>0</th>\n",
       "      <td>Qing</td>\n",
       "      <td>32.0</td>\n",
       "      <td>Bach</td>\n",
       "      <td>PR China</td>\n",
       "    </tr>\n",
       "    <tr>\n",
       "      <th>1</th>\n",
       "      <td>Françoise</td>\n",
       "      <td>33.0</td>\n",
       "      <td>Bach</td>\n",
       "      <td>Senegal</td>\n",
       "    </tr>\n",
       "    <tr>\n",
       "      <th>2</th>\n",
       "      <td>Raúl</td>\n",
       "      <td>28.0</td>\n",
       "      <td>Master</td>\n",
       "      <td>España</td>\n",
       "    </tr>\n",
       "    <tr>\n",
       "      <th>3</th>\n",
       "      <td>Bjork</td>\n",
       "      <td>30.0</td>\n",
       "      <td>PhD</td>\n",
       "      <td>Norway</td>\n",
       "    </tr>\n",
       "    <tr>\n",
       "      <th>4</th>\n",
       "      <td>Marie</td>\n",
       "      <td>NaN</td>\n",
       "      <td>NaN</td>\n",
       "      <td>NaN</td>\n",
       "    </tr>\n",
       "  </tbody>\n",
       "</table>\n",
       "</div>"
      ],
      "text/plain": [
       "     student   age     edu   country\n",
       "0       Qing  32.0    Bach  PR China\n",
       "1  Françoise  33.0    Bach   Senegal\n",
       "2       Raúl  28.0  Master    España\n",
       "3      Bjork  30.0     PhD    Norway\n",
       "4      Marie   NaN     NaN       NaN"
      ]
     },
     "execution_count": 131,
     "metadata": {},
     "output_type": "execute_result"
    }
   ],
   "source": [
    "studentsCopy=students.copy()\n",
    "studentsCopy"
   ]
  },
  {
   "cell_type": "code",
   "execution_count": 135,
   "metadata": {},
   "outputs": [
    {
     "data": {
      "text/html": [
       "<div>\n",
       "<style scoped>\n",
       "    .dataframe tbody tr th:only-of-type {\n",
       "        vertical-align: middle;\n",
       "    }\n",
       "\n",
       "    .dataframe tbody tr th {\n",
       "        vertical-align: top;\n",
       "    }\n",
       "\n",
       "    .dataframe thead th {\n",
       "        text-align: right;\n",
       "    }\n",
       "</style>\n",
       "<table border=\"1\" class=\"dataframe\">\n",
       "  <thead>\n",
       "    <tr style=\"text-align: right;\">\n",
       "      <th></th>\n",
       "      <th>student</th>\n",
       "      <th>age</th>\n",
       "      <th>edu</th>\n",
       "      <th>country</th>\n",
       "    </tr>\n",
       "  </thead>\n",
       "  <tbody>\n",
       "    <tr>\n",
       "      <th>0</th>\n",
       "      <td>Qing</td>\n",
       "      <td>23.0</td>\n",
       "      <td>Bach</td>\n",
       "      <td>PR China</td>\n",
       "    </tr>\n",
       "    <tr>\n",
       "      <th>1</th>\n",
       "      <td>Françoise</td>\n",
       "      <td>33.0</td>\n",
       "      <td>Bach</td>\n",
       "      <td>Senegal</td>\n",
       "    </tr>\n",
       "    <tr>\n",
       "      <th>2</th>\n",
       "      <td>Raúl</td>\n",
       "      <td>28.0</td>\n",
       "      <td>Master</td>\n",
       "      <td>España</td>\n",
       "    </tr>\n",
       "    <tr>\n",
       "      <th>3</th>\n",
       "      <td>Bjork</td>\n",
       "      <td>30.0</td>\n",
       "      <td>PhD</td>\n",
       "      <td>Norway</td>\n",
       "    </tr>\n",
       "    <tr>\n",
       "      <th>4</th>\n",
       "      <td>Marie</td>\n",
       "      <td>NaN</td>\n",
       "      <td>NaN</td>\n",
       "      <td>NaN</td>\n",
       "    </tr>\n",
       "  </tbody>\n",
       "</table>\n",
       "</div>"
      ],
      "text/plain": [
       "     student   age     edu   country\n",
       "0       Qing  23.0    Bach  PR China\n",
       "1  Françoise  33.0    Bach   Senegal\n",
       "2       Raúl  28.0  Master    España\n",
       "3      Bjork  30.0     PhD    Norway\n",
       "4      Marie   NaN     NaN       NaN"
      ]
     },
     "execution_count": 135,
     "metadata": {},
     "output_type": "execute_result"
    }
   ],
   "source": [
    "# This is what you want get rid of:\n",
    "byeColumns=['edu'] # you can delete more than one\n",
    "\n",
    "#this would change the original with \"inplace=False\"\n",
    "#axis 1 is delete by column\n",
    "studentsCopy.drop(byeColumns,axis=1,inplace=False)\n",
    "\n",
    "# this is a new DF\n",
    "studentsCopy"
   ]
  },
  {
   "cell_type": "markdown",
   "metadata": {},
   "source": [
    "### Deleting a row\n",
    "\n",
    "Let me delete a row:"
   ]
  },
  {
   "cell_type": "code",
   "execution_count": 136,
   "metadata": {},
   "outputs": [
    {
     "data": {
      "text/html": [
       "<div>\n",
       "<style scoped>\n",
       "    .dataframe tbody tr th:only-of-type {\n",
       "        vertical-align: middle;\n",
       "    }\n",
       "\n",
       "    .dataframe tbody tr th {\n",
       "        vertical-align: top;\n",
       "    }\n",
       "\n",
       "    .dataframe thead th {\n",
       "        text-align: right;\n",
       "    }\n",
       "</style>\n",
       "<table border=\"1\" class=\"dataframe\">\n",
       "  <thead>\n",
       "    <tr style=\"text-align: right;\">\n",
       "      <th></th>\n",
       "      <th>student</th>\n",
       "      <th>age</th>\n",
       "      <th>edu</th>\n",
       "      <th>country</th>\n",
       "    </tr>\n",
       "  </thead>\n",
       "  <tbody>\n",
       "    <tr>\n",
       "      <th>0</th>\n",
       "      <td>Qing</td>\n",
       "      <td>23.0</td>\n",
       "      <td>Bach</td>\n",
       "      <td>PR China</td>\n",
       "    </tr>\n",
       "    <tr>\n",
       "      <th>1</th>\n",
       "      <td>Françoise</td>\n",
       "      <td>33.0</td>\n",
       "      <td>Bach</td>\n",
       "      <td>Senegal</td>\n",
       "    </tr>\n",
       "    <tr>\n",
       "      <th>3</th>\n",
       "      <td>Bjork</td>\n",
       "      <td>30.0</td>\n",
       "      <td>PhD</td>\n",
       "      <td>Norway</td>\n",
       "    </tr>\n",
       "    <tr>\n",
       "      <th>4</th>\n",
       "      <td>Marie</td>\n",
       "      <td>NaN</td>\n",
       "      <td>NaN</td>\n",
       "      <td>NaN</td>\n",
       "    </tr>\n",
       "  </tbody>\n",
       "</table>\n",
       "</div>"
      ],
      "text/plain": [
       "     student   age   edu   country\n",
       "0       Qing  23.0  Bach  PR China\n",
       "1  Françoise  33.0  Bach   Senegal\n",
       "3      Bjork  30.0   PhD    Norway\n",
       "4      Marie   NaN   NaN       NaN"
      ]
     },
     "execution_count": 136,
     "metadata": {},
     "output_type": "execute_result"
    }
   ],
   "source": [
    "# axis 0 is delete by row\n",
    "studentsCopy.drop(index=2,axis=0,inplace=True) \n",
    "studentsCopy"
   ]
  },
  {
   "cell_type": "markdown",
   "metadata": {},
   "source": [
    "As you see, the index dissapeared. Then, you should reset the indexes:"
   ]
  },
  {
   "cell_type": "code",
   "execution_count": 137,
   "metadata": {},
   "outputs": [
    {
     "data": {
      "text/html": [
       "<div>\n",
       "<style scoped>\n",
       "    .dataframe tbody tr th:only-of-type {\n",
       "        vertical-align: middle;\n",
       "    }\n",
       "\n",
       "    .dataframe tbody tr th {\n",
       "        vertical-align: top;\n",
       "    }\n",
       "\n",
       "    .dataframe thead th {\n",
       "        text-align: right;\n",
       "    }\n",
       "</style>\n",
       "<table border=\"1\" class=\"dataframe\">\n",
       "  <thead>\n",
       "    <tr style=\"text-align: right;\">\n",
       "      <th></th>\n",
       "      <th>student</th>\n",
       "      <th>age</th>\n",
       "      <th>edu</th>\n",
       "      <th>country</th>\n",
       "    </tr>\n",
       "  </thead>\n",
       "  <tbody>\n",
       "    <tr>\n",
       "      <th>0</th>\n",
       "      <td>Qing</td>\n",
       "      <td>23.0</td>\n",
       "      <td>Bach</td>\n",
       "      <td>PR China</td>\n",
       "    </tr>\n",
       "    <tr>\n",
       "      <th>1</th>\n",
       "      <td>Françoise</td>\n",
       "      <td>33.0</td>\n",
       "      <td>Bach</td>\n",
       "      <td>Senegal</td>\n",
       "    </tr>\n",
       "    <tr>\n",
       "      <th>2</th>\n",
       "      <td>Bjork</td>\n",
       "      <td>30.0</td>\n",
       "      <td>PhD</td>\n",
       "      <td>Norway</td>\n",
       "    </tr>\n",
       "    <tr>\n",
       "      <th>3</th>\n",
       "      <td>Marie</td>\n",
       "      <td>NaN</td>\n",
       "      <td>NaN</td>\n",
       "      <td>NaN</td>\n",
       "    </tr>\n",
       "  </tbody>\n",
       "</table>\n",
       "</div>"
      ],
      "text/plain": [
       "     student   age   edu   country\n",
       "0       Qing  23.0  Bach  PR China\n",
       "1  Françoise  33.0  Bach   Senegal\n",
       "2      Bjork  30.0   PhD    Norway\n",
       "3      Marie   NaN   NaN       NaN"
      ]
     },
     "execution_count": 137,
     "metadata": {},
     "output_type": "execute_result"
    }
   ],
   "source": [
    "studentsCopy.reset_index(drop=True,inplace=True)\n",
    "studentsCopy"
   ]
  },
  {
   "cell_type": "markdown",
   "metadata": {},
   "source": [
    "----\n",
    "_____\n",
    "\n",
    "<a id='part2'></a>\n",
    "\n",
    "\n",
    "## 2.  Data Pre processing"
   ]
  },
  {
   "cell_type": "markdown",
   "metadata": {},
   "source": [
    "<a id='beginning'></a>\n",
    "\n",
    "Preprocessing includes two stages:\n",
    "\n",
    "1. [Cleaning](#part2) \n",
    "2. [Formatting](#part3) \n",
    "3. [Integrating](#part4) "
   ]
  },
  {
   "cell_type": "markdown",
   "metadata": {},
   "source": [
    "\n",
    "<a id='part2'></a>\n",
    "\n",
    "## Cleaning"
   ]
  },
  {
   "cell_type": "markdown",
   "metadata": {},
   "source": [
    "Cleaning requires two strategies:\n",
    "\n",
    "* Detect patterns via REGEX approach\n",
    "* Divide-and-conquer approach"
   ]
  },
  {
   "cell_type": "markdown",
   "metadata": {},
   "source": [
    "For this part, I will use to data sets:\n",
    "\n",
    "1. An excel file from United Nations on Human Developmnt Index per country  available at [https://github.com/eScienceWinterSchool/data/raw/master/HDI_2018.xlsx](https://github.com/eScienceWinterSchool/data/raw/master/HDI_2018.xlsx).\n",
    "\n",
    "2. A data table from CIA on CO2 emissions per country available at [https://www.cia.gov/library/publications/the-world-factbook/fields/274.html](https://www.cia.gov/library/publications/the-world-factbook/fields/274.html).\n",
    "\n",
    "Having a clean data frame means:\n",
    "\n",
    "a. Verify that headers are well read, well written and are at the top of data frame.\n",
    "\n",
    "b. Verify that the last lines of the data frame are just data.\n",
    "\n",
    "c. Verify that every row is about a unit of analysis.\n",
    "\n",
    "d. Verify that each cell has a category or a number well written.\n",
    "\n",
    "\n",
    "Let's start with the Excel data from UN:"
   ]
  },
  {
   "cell_type": "code",
   "execution_count": 232,
   "metadata": {},
   "outputs": [],
   "source": [
    "link1=\"https://github.com/eScienceWinterSchool/data/raw/master/HDI_2018.xlsx\"\n",
    "hdi=pd.read_excel(link1)"
   ]
  },
  {
   "cell_type": "code",
   "execution_count": 233,
   "metadata": {},
   "outputs": [
    {
     "data": {
      "text/html": [
       "<div>\n",
       "<style scoped>\n",
       "    .dataframe tbody tr th:only-of-type {\n",
       "        vertical-align: middle;\n",
       "    }\n",
       "\n",
       "    .dataframe tbody tr th {\n",
       "        vertical-align: top;\n",
       "    }\n",
       "\n",
       "    .dataframe thead th {\n",
       "        text-align: right;\n",
       "    }\n",
       "</style>\n",
       "<table border=\"1\" class=\"dataframe\">\n",
       "  <thead>\n",
       "    <tr style=\"text-align: right;\">\n",
       "      <th></th>\n",
       "      <th>Unnamed: 0</th>\n",
       "      <th>Table 1. Human Development Index and its components</th>\n",
       "      <th>Unnamed: 2</th>\n",
       "      <th>Unnamed: 3</th>\n",
       "      <th>Unnamed: 4</th>\n",
       "      <th>Unnamed: 5</th>\n",
       "      <th>Unnamed: 6</th>\n",
       "      <th>Unnamed: 7</th>\n",
       "      <th>Unnamed: 8</th>\n",
       "      <th>Unnamed: 9</th>\n",
       "      <th>Unnamed: 10</th>\n",
       "      <th>Unnamed: 11</th>\n",
       "      <th>Unnamed: 12</th>\n",
       "      <th>Unnamed: 13</th>\n",
       "      <th>Unnamed: 14</th>\n",
       "    </tr>\n",
       "  </thead>\n",
       "  <tbody>\n",
       "    <tr>\n",
       "      <th>0</th>\n",
       "      <td>NaN</td>\n",
       "      <td>NaN</td>\n",
       "      <td>NaN</td>\n",
       "      <td>NaN</td>\n",
       "      <td>NaN</td>\n",
       "      <td>NaN</td>\n",
       "      <td>NaN</td>\n",
       "      <td>NaN</td>\n",
       "      <td>NaN</td>\n",
       "      <td>NaN</td>\n",
       "      <td>NaN</td>\n",
       "      <td>NaN</td>\n",
       "      <td>NaN</td>\n",
       "      <td>NaN</td>\n",
       "      <td>NaN</td>\n",
       "    </tr>\n",
       "    <tr>\n",
       "      <th>1</th>\n",
       "      <td>NaN</td>\n",
       "      <td>NaN</td>\n",
       "      <td>NaN</td>\n",
       "      <td>NaN</td>\n",
       "      <td>SDG3</td>\n",
       "      <td>NaN</td>\n",
       "      <td>SDG4.3</td>\n",
       "      <td>NaN</td>\n",
       "      <td>SDG4.6</td>\n",
       "      <td>NaN</td>\n",
       "      <td>SDG8.5</td>\n",
       "      <td>NaN</td>\n",
       "      <td>NaN</td>\n",
       "      <td>NaN</td>\n",
       "      <td>NaN</td>\n",
       "    </tr>\n",
       "    <tr>\n",
       "      <th>2</th>\n",
       "      <td>NaN</td>\n",
       "      <td>NaN</td>\n",
       "      <td>NaN</td>\n",
       "      <td>NaN</td>\n",
       "      <td>NaN</td>\n",
       "      <td>NaN</td>\n",
       "      <td>NaN</td>\n",
       "      <td>NaN</td>\n",
       "      <td>NaN</td>\n",
       "      <td>NaN</td>\n",
       "      <td>NaN</td>\n",
       "      <td>NaN</td>\n",
       "      <td>NaN</td>\n",
       "      <td>NaN</td>\n",
       "      <td>NaN</td>\n",
       "    </tr>\n",
       "    <tr>\n",
       "      <th>3</th>\n",
       "      <td>NaN</td>\n",
       "      <td>NaN</td>\n",
       "      <td>Human development index (HDI)</td>\n",
       "      <td>NaN</td>\n",
       "      <td>Life expectancy at birth</td>\n",
       "      <td>NaN</td>\n",
       "      <td>Expected years of schooling</td>\n",
       "      <td>NaN</td>\n",
       "      <td>Mean years of schooling</td>\n",
       "      <td>NaN</td>\n",
       "      <td>Gross national income (GNI) per capita</td>\n",
       "      <td>NaN</td>\n",
       "      <td>GNI per capita rank minus HDI rank</td>\n",
       "      <td>NaN</td>\n",
       "      <td>HDI rank</td>\n",
       "    </tr>\n",
       "    <tr>\n",
       "      <th>4</th>\n",
       "      <td>HDI rank</td>\n",
       "      <td>Country</td>\n",
       "      <td>(index value)</td>\n",
       "      <td>NaN</td>\n",
       "      <td>(years)</td>\n",
       "      <td>NaN</td>\n",
       "      <td>(years)</td>\n",
       "      <td>NaN</td>\n",
       "      <td>(years)</td>\n",
       "      <td>NaN</td>\n",
       "      <td>(2011 PPP $)</td>\n",
       "      <td>NaN</td>\n",
       "      <td>NaN</td>\n",
       "      <td>NaN</td>\n",
       "      <td>NaN</td>\n",
       "    </tr>\n",
       "    <tr>\n",
       "      <th>5</th>\n",
       "      <td>NaN</td>\n",
       "      <td>NaN</td>\n",
       "      <td>2018</td>\n",
       "      <td>NaN</td>\n",
       "      <td>2018</td>\n",
       "      <td>NaN</td>\n",
       "      <td>2018</td>\n",
       "      <td>a</td>\n",
       "      <td>2018</td>\n",
       "      <td>a</td>\n",
       "      <td>2018</td>\n",
       "      <td>NaN</td>\n",
       "      <td>2018</td>\n",
       "      <td>NaN</td>\n",
       "      <td>2017</td>\n",
       "    </tr>\n",
       "    <tr>\n",
       "      <th>6</th>\n",
       "      <td>NaN</td>\n",
       "      <td>VERY HIGH HUMAN DEVELOPMENT</td>\n",
       "      <td>NaN</td>\n",
       "      <td>NaN</td>\n",
       "      <td>NaN</td>\n",
       "      <td>NaN</td>\n",
       "      <td>NaN</td>\n",
       "      <td>NaN</td>\n",
       "      <td>NaN</td>\n",
       "      <td>NaN</td>\n",
       "      <td>NaN</td>\n",
       "      <td>NaN</td>\n",
       "      <td>NaN</td>\n",
       "      <td>NaN</td>\n",
       "      <td>NaN</td>\n",
       "    </tr>\n",
       "    <tr>\n",
       "      <th>7</th>\n",
       "      <td>1</td>\n",
       "      <td>Norway</td>\n",
       "      <td>0.953688</td>\n",
       "      <td>NaN</td>\n",
       "      <td>82.271</td>\n",
       "      <td>NaN</td>\n",
       "      <td>18.0608</td>\n",
       "      <td>b</td>\n",
       "      <td>12.5668</td>\n",
       "      <td>NaN</td>\n",
       "      <td>68058.6</td>\n",
       "      <td>NaN</td>\n",
       "      <td>5</td>\n",
       "      <td>NaN</td>\n",
       "      <td>1</td>\n",
       "    </tr>\n",
       "    <tr>\n",
       "      <th>8</th>\n",
       "      <td>2</td>\n",
       "      <td>Switzerland</td>\n",
       "      <td>0.945936</td>\n",
       "      <td>NaN</td>\n",
       "      <td>83.63</td>\n",
       "      <td>NaN</td>\n",
       "      <td>16.2088</td>\n",
       "      <td>NaN</td>\n",
       "      <td>13.3808</td>\n",
       "      <td>NaN</td>\n",
       "      <td>59374.7</td>\n",
       "      <td>NaN</td>\n",
       "      <td>8</td>\n",
       "      <td>NaN</td>\n",
       "      <td>2</td>\n",
       "    </tr>\n",
       "    <tr>\n",
       "      <th>9</th>\n",
       "      <td>3</td>\n",
       "      <td>Ireland</td>\n",
       "      <td>0.942473</td>\n",
       "      <td>NaN</td>\n",
       "      <td>82.103</td>\n",
       "      <td>NaN</td>\n",
       "      <td>18.7933</td>\n",
       "      <td>b</td>\n",
       "      <td>12.5263</td>\n",
       "      <td>c</td>\n",
       "      <td>55659.7</td>\n",
       "      <td>NaN</td>\n",
       "      <td>9</td>\n",
       "      <td>NaN</td>\n",
       "      <td>3</td>\n",
       "    </tr>\n",
       "  </tbody>\n",
       "</table>\n",
       "</div>"
      ],
      "text/plain": [
       "  Unnamed: 0 Table 1. Human Development Index and its components   \\\n",
       "0        NaN                                                NaN     \n",
       "1        NaN                                                NaN     \n",
       "2        NaN                                                NaN     \n",
       "3        NaN                                                NaN     \n",
       "4   HDI rank                                            Country     \n",
       "5        NaN                                                NaN     \n",
       "6        NaN                        VERY HIGH HUMAN DEVELOPMENT     \n",
       "7          1                                             Norway     \n",
       "8          2                                        Switzerland     \n",
       "9          3                                            Ireland     \n",
       "\n",
       "                       Unnamed: 2  Unnamed: 3                Unnamed: 4  \\\n",
       "0                             NaN         NaN                       NaN   \n",
       "1                             NaN         NaN                      SDG3   \n",
       "2                             NaN         NaN                       NaN   \n",
       "3  Human development index (HDI)          NaN  Life expectancy at birth   \n",
       "4                   (index value)         NaN                   (years)   \n",
       "5                            2018         NaN                      2018   \n",
       "6                             NaN         NaN                       NaN   \n",
       "7                        0.953688         NaN                    82.271   \n",
       "8                        0.945936         NaN                     83.63   \n",
       "9                        0.942473         NaN                    82.103   \n",
       "\n",
       "  Unnamed: 5                   Unnamed: 6 Unnamed: 7               Unnamed: 8  \\\n",
       "0        NaN                          NaN        NaN                      NaN   \n",
       "1        NaN                       SDG4.3        NaN                   SDG4.6   \n",
       "2        NaN                          NaN        NaN                      NaN   \n",
       "3        NaN  Expected years of schooling        NaN  Mean years of schooling   \n",
       "4        NaN                      (years)        NaN                  (years)   \n",
       "5        NaN                         2018          a                     2018   \n",
       "6        NaN                          NaN        NaN                      NaN   \n",
       "7        NaN                      18.0608          b                  12.5668   \n",
       "8        NaN                      16.2088        NaN                  13.3808   \n",
       "9        NaN                      18.7933          b                  12.5263   \n",
       "\n",
       "  Unnamed: 9                             Unnamed: 10 Unnamed: 11  \\\n",
       "0        NaN                                     NaN         NaN   \n",
       "1        NaN                                  SDG8.5         NaN   \n",
       "2        NaN                                     NaN         NaN   \n",
       "3        NaN  Gross national income (GNI) per capita         NaN   \n",
       "4        NaN                            (2011 PPP $)         NaN   \n",
       "5          a                                    2018         NaN   \n",
       "6        NaN                                     NaN         NaN   \n",
       "7        NaN                                 68058.6         NaN   \n",
       "8        NaN                                 59374.7         NaN   \n",
       "9          c                                 55659.7         NaN   \n",
       "\n",
       "                          Unnamed: 12  Unnamed: 13 Unnamed: 14  \n",
       "0                                 NaN          NaN         NaN  \n",
       "1                                 NaN          NaN         NaN  \n",
       "2                                 NaN          NaN         NaN  \n",
       "3  GNI per capita rank minus HDI rank          NaN    HDI rank  \n",
       "4                                 NaN          NaN         NaN  \n",
       "5                                2018          NaN        2017  \n",
       "6                                 NaN          NaN         NaN  \n",
       "7                                   5          NaN           1  \n",
       "8                                   8          NaN           2  \n",
       "9                                   9          NaN           3  "
      ]
     },
     "execution_count": 233,
     "metadata": {},
     "output_type": "execute_result"
    }
   ],
   "source": [
    "# Is the header in the right place:\n",
    "hdi.head(10)"
   ]
  },
  {
   "cell_type": "markdown",
   "metadata": {},
   "source": [
    "Solving header problems:"
   ]
  },
  {
   "cell_type": "code",
   "execution_count": 234,
   "metadata": {},
   "outputs": [
    {
     "data": {
      "text/plain": [
       "['HDI rank',\n",
       " 'Country',\n",
       " 'Human development index (HDI) ',\n",
       " nan,\n",
       " 'Life expectancy at birth',\n",
       " nan,\n",
       " 'Expected years of schooling',\n",
       " nan,\n",
       " 'Mean years of schooling',\n",
       " nan,\n",
       " 'Gross national income (GNI) per capita',\n",
       " nan,\n",
       " 'GNI per capita rank minus HDI rank',\n",
       " nan,\n",
       " 'HDI rank']"
      ]
     },
     "execution_count": 234,
     "metadata": {},
     "output_type": "execute_result"
    }
   ],
   "source": [
    "# saving headers:\n",
    "\n",
    "GoodHeaders=hdi.iloc[4,:2].tolist()+hdi.iloc[3,2:].tolist()\n",
    "#\n",
    "GoodHeaders"
   ]
  },
  {
   "cell_type": "code",
   "execution_count": 235,
   "metadata": {},
   "outputs": [
    {
     "data": {
      "text/html": [
       "<div>\n",
       "<style scoped>\n",
       "    .dataframe tbody tr th:only-of-type {\n",
       "        vertical-align: middle;\n",
       "    }\n",
       "\n",
       "    .dataframe tbody tr th {\n",
       "        vertical-align: top;\n",
       "    }\n",
       "\n",
       "    .dataframe thead th {\n",
       "        text-align: right;\n",
       "    }\n",
       "</style>\n",
       "<table border=\"1\" class=\"dataframe\">\n",
       "  <thead>\n",
       "    <tr style=\"text-align: right;\">\n",
       "      <th></th>\n",
       "      <th>Unnamed: 0</th>\n",
       "      <th>Table 1. Human Development Index and its components</th>\n",
       "      <th>Unnamed: 2</th>\n",
       "      <th>Unnamed: 3</th>\n",
       "      <th>Unnamed: 4</th>\n",
       "      <th>Unnamed: 5</th>\n",
       "      <th>Unnamed: 6</th>\n",
       "      <th>Unnamed: 7</th>\n",
       "      <th>Unnamed: 8</th>\n",
       "      <th>Unnamed: 9</th>\n",
       "      <th>Unnamed: 10</th>\n",
       "      <th>Unnamed: 11</th>\n",
       "      <th>Unnamed: 12</th>\n",
       "      <th>Unnamed: 13</th>\n",
       "      <th>Unnamed: 14</th>\n",
       "    </tr>\n",
       "  </thead>\n",
       "  <tbody>\n",
       "    <tr>\n",
       "      <th>7</th>\n",
       "      <td>1</td>\n",
       "      <td>Norway</td>\n",
       "      <td>0.953688</td>\n",
       "      <td>NaN</td>\n",
       "      <td>82.271</td>\n",
       "      <td>NaN</td>\n",
       "      <td>18.0608</td>\n",
       "      <td>b</td>\n",
       "      <td>12.5668</td>\n",
       "      <td>NaN</td>\n",
       "      <td>68058.6</td>\n",
       "      <td>NaN</td>\n",
       "      <td>5</td>\n",
       "      <td>NaN</td>\n",
       "      <td>1</td>\n",
       "    </tr>\n",
       "    <tr>\n",
       "      <th>8</th>\n",
       "      <td>2</td>\n",
       "      <td>Switzerland</td>\n",
       "      <td>0.945936</td>\n",
       "      <td>NaN</td>\n",
       "      <td>83.63</td>\n",
       "      <td>NaN</td>\n",
       "      <td>16.2088</td>\n",
       "      <td>NaN</td>\n",
       "      <td>13.3808</td>\n",
       "      <td>NaN</td>\n",
       "      <td>59374.7</td>\n",
       "      <td>NaN</td>\n",
       "      <td>8</td>\n",
       "      <td>NaN</td>\n",
       "      <td>2</td>\n",
       "    </tr>\n",
       "    <tr>\n",
       "      <th>9</th>\n",
       "      <td>3</td>\n",
       "      <td>Ireland</td>\n",
       "      <td>0.942473</td>\n",
       "      <td>NaN</td>\n",
       "      <td>82.103</td>\n",
       "      <td>NaN</td>\n",
       "      <td>18.7933</td>\n",
       "      <td>b</td>\n",
       "      <td>12.5263</td>\n",
       "      <td>c</td>\n",
       "      <td>55659.7</td>\n",
       "      <td>NaN</td>\n",
       "      <td>9</td>\n",
       "      <td>NaN</td>\n",
       "      <td>3</td>\n",
       "    </tr>\n",
       "    <tr>\n",
       "      <th>10</th>\n",
       "      <td>4</td>\n",
       "      <td>Germany</td>\n",
       "      <td>0.938785</td>\n",
       "      <td>NaN</td>\n",
       "      <td>81.18</td>\n",
       "      <td>NaN</td>\n",
       "      <td>17.0964</td>\n",
       "      <td>NaN</td>\n",
       "      <td>14.1321</td>\n",
       "      <td>NaN</td>\n",
       "      <td>46945.9</td>\n",
       "      <td>NaN</td>\n",
       "      <td>15</td>\n",
       "      <td>NaN</td>\n",
       "      <td>4</td>\n",
       "    </tr>\n",
       "    <tr>\n",
       "      <th>11</th>\n",
       "      <td>4</td>\n",
       "      <td>Hong Kong, China (SAR)</td>\n",
       "      <td>0.938809</td>\n",
       "      <td>NaN</td>\n",
       "      <td>84.687</td>\n",
       "      <td>NaN</td>\n",
       "      <td>16.5122</td>\n",
       "      <td>NaN</td>\n",
       "      <td>12.0381</td>\n",
       "      <td>NaN</td>\n",
       "      <td>60220.8</td>\n",
       "      <td>NaN</td>\n",
       "      <td>5</td>\n",
       "      <td>NaN</td>\n",
       "      <td>6</td>\n",
       "    </tr>\n",
       "    <tr>\n",
       "      <th>...</th>\n",
       "      <td>...</td>\n",
       "      <td>...</td>\n",
       "      <td>...</td>\n",
       "      <td>...</td>\n",
       "      <td>...</td>\n",
       "      <td>...</td>\n",
       "      <td>...</td>\n",
       "      <td>...</td>\n",
       "      <td>...</td>\n",
       "      <td>...</td>\n",
       "      <td>...</td>\n",
       "      <td>...</td>\n",
       "      <td>...</td>\n",
       "      <td>...</td>\n",
       "      <td>...</td>\n",
       "    </tr>\n",
       "    <tr>\n",
       "      <th>264</th>\n",
       "      <td>NaN</td>\n",
       "      <td>Column 2: UNDESA (2019b).</td>\n",
       "      <td>NaN</td>\n",
       "      <td>NaN</td>\n",
       "      <td>NaN</td>\n",
       "      <td>NaN</td>\n",
       "      <td>NaN</td>\n",
       "      <td>NaN</td>\n",
       "      <td>NaN</td>\n",
       "      <td>NaN</td>\n",
       "      <td>NaN</td>\n",
       "      <td>NaN</td>\n",
       "      <td>NaN</td>\n",
       "      <td>NaN</td>\n",
       "      <td>NaN</td>\n",
       "    </tr>\n",
       "    <tr>\n",
       "      <th>265</th>\n",
       "      <td>NaN</td>\n",
       "      <td>Column 3: UNESCO Institute for Statistics (201...</td>\n",
       "      <td>NaN</td>\n",
       "      <td>NaN</td>\n",
       "      <td>NaN</td>\n",
       "      <td>NaN</td>\n",
       "      <td>NaN</td>\n",
       "      <td>NaN</td>\n",
       "      <td>NaN</td>\n",
       "      <td>NaN</td>\n",
       "      <td>NaN</td>\n",
       "      <td>NaN</td>\n",
       "      <td>NaN</td>\n",
       "      <td>NaN</td>\n",
       "      <td>NaN</td>\n",
       "    </tr>\n",
       "    <tr>\n",
       "      <th>266</th>\n",
       "      <td>NaN</td>\n",
       "      <td>Column 4: UNESCO Institute for Statistics (201...</td>\n",
       "      <td>NaN</td>\n",
       "      <td>NaN</td>\n",
       "      <td>NaN</td>\n",
       "      <td>NaN</td>\n",
       "      <td>NaN</td>\n",
       "      <td>NaN</td>\n",
       "      <td>NaN</td>\n",
       "      <td>NaN</td>\n",
       "      <td>NaN</td>\n",
       "      <td>NaN</td>\n",
       "      <td>NaN</td>\n",
       "      <td>NaN</td>\n",
       "      <td>NaN</td>\n",
       "    </tr>\n",
       "    <tr>\n",
       "      <th>267</th>\n",
       "      <td>NaN</td>\n",
       "      <td>Column 5: World Bank (2019a), IMF (2019) and U...</td>\n",
       "      <td>NaN</td>\n",
       "      <td>NaN</td>\n",
       "      <td>NaN</td>\n",
       "      <td>NaN</td>\n",
       "      <td>NaN</td>\n",
       "      <td>NaN</td>\n",
       "      <td>NaN</td>\n",
       "      <td>NaN</td>\n",
       "      <td>NaN</td>\n",
       "      <td>NaN</td>\n",
       "      <td>NaN</td>\n",
       "      <td>NaN</td>\n",
       "      <td>NaN</td>\n",
       "    </tr>\n",
       "    <tr>\n",
       "      <th>268</th>\n",
       "      <td>NaN</td>\n",
       "      <td>Column 6: Calculated based on data in columns ...</td>\n",
       "      <td>NaN</td>\n",
       "      <td>NaN</td>\n",
       "      <td>NaN</td>\n",
       "      <td>NaN</td>\n",
       "      <td>NaN</td>\n",
       "      <td>NaN</td>\n",
       "      <td>NaN</td>\n",
       "      <td>NaN</td>\n",
       "      <td>NaN</td>\n",
       "      <td>NaN</td>\n",
       "      <td>NaN</td>\n",
       "      <td>NaN</td>\n",
       "      <td>NaN</td>\n",
       "    </tr>\n",
       "  </tbody>\n",
       "</table>\n",
       "<p>262 rows × 15 columns</p>\n",
       "</div>"
      ],
      "text/plain": [
       "    Unnamed: 0 Table 1. Human Development Index and its components   \\\n",
       "7            1                                             Norway     \n",
       "8            2                                        Switzerland     \n",
       "9            3                                            Ireland     \n",
       "10           4                                            Germany     \n",
       "11           4                             Hong Kong, China (SAR)     \n",
       "..         ...                                                ...     \n",
       "264        NaN                         Column 2: UNDESA (2019b).      \n",
       "265        NaN  Column 3: UNESCO Institute for Statistics (201...     \n",
       "266        NaN  Column 4: UNESCO Institute for Statistics (201...     \n",
       "267        NaN  Column 5: World Bank (2019a), IMF (2019) and U...     \n",
       "268        NaN  Column 6: Calculated based on data in columns ...     \n",
       "\n",
       "    Unnamed: 2  Unnamed: 3 Unnamed: 4 Unnamed: 5 Unnamed: 6 Unnamed: 7  \\\n",
       "7     0.953688         NaN     82.271        NaN    18.0608          b   \n",
       "8     0.945936         NaN      83.63        NaN    16.2088        NaN   \n",
       "9     0.942473         NaN     82.103        NaN    18.7933          b   \n",
       "10    0.938785         NaN      81.18        NaN    17.0964        NaN   \n",
       "11    0.938809         NaN     84.687        NaN    16.5122        NaN   \n",
       "..         ...         ...        ...        ...        ...        ...   \n",
       "264        NaN         NaN        NaN        NaN        NaN        NaN   \n",
       "265        NaN         NaN        NaN        NaN        NaN        NaN   \n",
       "266        NaN         NaN        NaN        NaN        NaN        NaN   \n",
       "267        NaN         NaN        NaN        NaN        NaN        NaN   \n",
       "268        NaN         NaN        NaN        NaN        NaN        NaN   \n",
       "\n",
       "    Unnamed: 8 Unnamed: 9 Unnamed: 10 Unnamed: 11 Unnamed: 12  Unnamed: 13  \\\n",
       "7      12.5668        NaN     68058.6         NaN           5          NaN   \n",
       "8      13.3808        NaN     59374.7         NaN           8          NaN   \n",
       "9      12.5263          c     55659.7         NaN           9          NaN   \n",
       "10     14.1321        NaN     46945.9         NaN          15          NaN   \n",
       "11     12.0381        NaN     60220.8         NaN           5          NaN   \n",
       "..         ...        ...         ...         ...         ...          ...   \n",
       "264        NaN        NaN         NaN         NaN         NaN          NaN   \n",
       "265        NaN        NaN         NaN         NaN         NaN          NaN   \n",
       "266        NaN        NaN         NaN         NaN         NaN          NaN   \n",
       "267        NaN        NaN         NaN         NaN         NaN          NaN   \n",
       "268        NaN        NaN         NaN         NaN         NaN          NaN   \n",
       "\n",
       "    Unnamed: 14  \n",
       "7             1  \n",
       "8             2  \n",
       "9             3  \n",
       "10            4  \n",
       "11            6  \n",
       "..          ...  \n",
       "264         NaN  \n",
       "265         NaN  \n",
       "266         NaN  \n",
       "267         NaN  \n",
       "268         NaN  \n",
       "\n",
       "[262 rows x 15 columns]"
      ]
     },
     "execution_count": 235,
     "metadata": {},
     "output_type": "execute_result"
    }
   ],
   "source": [
    "# deleting rows:\n",
    "hdi.drop(index=range(0,7),axis=0)"
   ]
  },
  {
   "cell_type": "code",
   "execution_count": 236,
   "metadata": {},
   "outputs": [],
   "source": [
    "# doing it\n",
    "hdi.drop(index=range(0,7),axis=0,inplace=True)"
   ]
  },
  {
   "cell_type": "code",
   "execution_count": 237,
   "metadata": {},
   "outputs": [],
   "source": [
    "# rename columns\n",
    "hdi.columns=GoodHeaders\n",
    "#reset indexes\n",
    "hdi.reset_index(drop=True,inplace=True)"
   ]
  },
  {
   "cell_type": "code",
   "execution_count": 238,
   "metadata": {},
   "outputs": [
    {
     "data": {
      "text/html": [
       "<div>\n",
       "<style scoped>\n",
       "    .dataframe tbody tr th:only-of-type {\n",
       "        vertical-align: middle;\n",
       "    }\n",
       "\n",
       "    .dataframe tbody tr th {\n",
       "        vertical-align: top;\n",
       "    }\n",
       "\n",
       "    .dataframe thead th {\n",
       "        text-align: right;\n",
       "    }\n",
       "</style>\n",
       "<table border=\"1\" class=\"dataframe\">\n",
       "  <thead>\n",
       "    <tr style=\"text-align: right;\">\n",
       "      <th></th>\n",
       "      <th>HDI rank</th>\n",
       "      <th>Country</th>\n",
       "      <th>Human development index (HDI)</th>\n",
       "      <th>NaN</th>\n",
       "      <th>Life expectancy at birth</th>\n",
       "      <th>NaN</th>\n",
       "      <th>Expected years of schooling</th>\n",
       "      <th>NaN</th>\n",
       "      <th>Mean years of schooling</th>\n",
       "      <th>NaN</th>\n",
       "      <th>Gross national income (GNI) per capita</th>\n",
       "      <th>NaN</th>\n",
       "      <th>GNI per capita rank minus HDI rank</th>\n",
       "      <th>NaN</th>\n",
       "      <th>HDI rank</th>\n",
       "    </tr>\n",
       "  </thead>\n",
       "  <tbody>\n",
       "    <tr>\n",
       "      <th>0</th>\n",
       "      <td>1</td>\n",
       "      <td>Norway</td>\n",
       "      <td>0.953688</td>\n",
       "      <td>NaN</td>\n",
       "      <td>82.271</td>\n",
       "      <td>NaN</td>\n",
       "      <td>18.0608</td>\n",
       "      <td>b</td>\n",
       "      <td>12.5668</td>\n",
       "      <td>NaN</td>\n",
       "      <td>68058.6</td>\n",
       "      <td>NaN</td>\n",
       "      <td>5</td>\n",
       "      <td>NaN</td>\n",
       "      <td>1</td>\n",
       "    </tr>\n",
       "    <tr>\n",
       "      <th>1</th>\n",
       "      <td>2</td>\n",
       "      <td>Switzerland</td>\n",
       "      <td>0.945936</td>\n",
       "      <td>NaN</td>\n",
       "      <td>83.63</td>\n",
       "      <td>NaN</td>\n",
       "      <td>16.2088</td>\n",
       "      <td>NaN</td>\n",
       "      <td>13.3808</td>\n",
       "      <td>NaN</td>\n",
       "      <td>59374.7</td>\n",
       "      <td>NaN</td>\n",
       "      <td>8</td>\n",
       "      <td>NaN</td>\n",
       "      <td>2</td>\n",
       "    </tr>\n",
       "    <tr>\n",
       "      <th>2</th>\n",
       "      <td>3</td>\n",
       "      <td>Ireland</td>\n",
       "      <td>0.942473</td>\n",
       "      <td>NaN</td>\n",
       "      <td>82.103</td>\n",
       "      <td>NaN</td>\n",
       "      <td>18.7933</td>\n",
       "      <td>b</td>\n",
       "      <td>12.5263</td>\n",
       "      <td>c</td>\n",
       "      <td>55659.7</td>\n",
       "      <td>NaN</td>\n",
       "      <td>9</td>\n",
       "      <td>NaN</td>\n",
       "      <td>3</td>\n",
       "    </tr>\n",
       "    <tr>\n",
       "      <th>3</th>\n",
       "      <td>4</td>\n",
       "      <td>Germany</td>\n",
       "      <td>0.938785</td>\n",
       "      <td>NaN</td>\n",
       "      <td>81.18</td>\n",
       "      <td>NaN</td>\n",
       "      <td>17.0964</td>\n",
       "      <td>NaN</td>\n",
       "      <td>14.1321</td>\n",
       "      <td>NaN</td>\n",
       "      <td>46945.9</td>\n",
       "      <td>NaN</td>\n",
       "      <td>15</td>\n",
       "      <td>NaN</td>\n",
       "      <td>4</td>\n",
       "    </tr>\n",
       "    <tr>\n",
       "      <th>4</th>\n",
       "      <td>4</td>\n",
       "      <td>Hong Kong, China (SAR)</td>\n",
       "      <td>0.938809</td>\n",
       "      <td>NaN</td>\n",
       "      <td>84.687</td>\n",
       "      <td>NaN</td>\n",
       "      <td>16.5122</td>\n",
       "      <td>NaN</td>\n",
       "      <td>12.0381</td>\n",
       "      <td>NaN</td>\n",
       "      <td>60220.8</td>\n",
       "      <td>NaN</td>\n",
       "      <td>5</td>\n",
       "      <td>NaN</td>\n",
       "      <td>6</td>\n",
       "    </tr>\n",
       "  </tbody>\n",
       "</table>\n",
       "</div>"
      ],
      "text/plain": [
       "  HDI rank                 Country Human development index (HDI)   NaN  \\\n",
       "0        1                  Norway                       0.953688  NaN   \n",
       "1        2             Switzerland                       0.945936  NaN   \n",
       "2        3                 Ireland                       0.942473  NaN   \n",
       "3        4                 Germany                       0.938785  NaN   \n",
       "4        4  Hong Kong, China (SAR)                       0.938809  NaN   \n",
       "\n",
       "  Life expectancy at birth  NaN Expected years of schooling  NaN  \\\n",
       "0                   82.271  NaN                     18.0608    b   \n",
       "1                    83.63  NaN                     16.2088  NaN   \n",
       "2                   82.103  NaN                     18.7933    b   \n",
       "3                    81.18  NaN                     17.0964  NaN   \n",
       "4                   84.687  NaN                     16.5122  NaN   \n",
       "\n",
       "  Mean years of schooling  NaN Gross national income (GNI) per capita  NaN  \\\n",
       "0                 12.5668  NaN                                68058.6  NaN   \n",
       "1                 13.3808  NaN                                59374.7  NaN   \n",
       "2                 12.5263    c                                55659.7  NaN   \n",
       "3                 14.1321  NaN                                46945.9  NaN   \n",
       "4                 12.0381  NaN                                60220.8  NaN   \n",
       "\n",
       "  GNI per capita rank minus HDI rank  NaN HDI rank  \n",
       "0                                  5  NaN        1  \n",
       "1                                  8  NaN        2  \n",
       "2                                  9  NaN        3  \n",
       "3                                 15  NaN        4  \n",
       "4                                  5  NaN        6  "
      ]
     },
     "execution_count": 238,
     "metadata": {},
     "output_type": "execute_result"
    }
   ],
   "source": [
    "hdi.head()"
   ]
  },
  {
   "cell_type": "markdown",
   "metadata": {},
   "source": [
    "Now check the tail:"
   ]
  },
  {
   "cell_type": "code",
   "execution_count": 239,
   "metadata": {},
   "outputs": [
    {
     "data": {
      "text/html": [
       "<div>\n",
       "<style scoped>\n",
       "    .dataframe tbody tr th:only-of-type {\n",
       "        vertical-align: middle;\n",
       "    }\n",
       "\n",
       "    .dataframe tbody tr th {\n",
       "        vertical-align: top;\n",
       "    }\n",
       "\n",
       "    .dataframe thead th {\n",
       "        text-align: right;\n",
       "    }\n",
       "</style>\n",
       "<table border=\"1\" class=\"dataframe\">\n",
       "  <thead>\n",
       "    <tr style=\"text-align: right;\">\n",
       "      <th></th>\n",
       "      <th>HDI rank</th>\n",
       "      <th>Country</th>\n",
       "      <th>Human development index (HDI)</th>\n",
       "      <th>NaN</th>\n",
       "      <th>Life expectancy at birth</th>\n",
       "      <th>NaN</th>\n",
       "      <th>Expected years of schooling</th>\n",
       "      <th>NaN</th>\n",
       "      <th>Mean years of schooling</th>\n",
       "      <th>NaN</th>\n",
       "      <th>Gross national income (GNI) per capita</th>\n",
       "      <th>NaN</th>\n",
       "      <th>GNI per capita rank minus HDI rank</th>\n",
       "      <th>NaN</th>\n",
       "      <th>HDI rank</th>\n",
       "    </tr>\n",
       "  </thead>\n",
       "  <tbody>\n",
       "    <tr>\n",
       "      <th>190</th>\n",
       "      <td>188</td>\n",
       "      <td>Central African Republic</td>\n",
       "      <td>0.380662</td>\n",
       "      <td>NaN</td>\n",
       "      <td>52.805</td>\n",
       "      <td>NaN</td>\n",
       "      <td>7.56836</td>\n",
       "      <td>e</td>\n",
       "      <td>4.282</td>\n",
       "      <td>i</td>\n",
       "      <td>776.676</td>\n",
       "      <td>NaN</td>\n",
       "      <td>0</td>\n",
       "      <td>NaN</td>\n",
       "      <td>188</td>\n",
       "    </tr>\n",
       "    <tr>\n",
       "      <th>191</th>\n",
       "      <td>189</td>\n",
       "      <td>Niger</td>\n",
       "      <td>0.376591</td>\n",
       "      <td>NaN</td>\n",
       "      <td>62.024</td>\n",
       "      <td>NaN</td>\n",
       "      <td>6.47145</td>\n",
       "      <td>NaN</td>\n",
       "      <td>2.02905</td>\n",
       "      <td>e</td>\n",
       "      <td>912.042</td>\n",
       "      <td>NaN</td>\n",
       "      <td>-3</td>\n",
       "      <td>NaN</td>\n",
       "      <td>189</td>\n",
       "    </tr>\n",
       "    <tr>\n",
       "      <th>192</th>\n",
       "      <td>NaN</td>\n",
       "      <td>OTHER COUNTRIES OR TERRITORIES</td>\n",
       "      <td>NaN</td>\n",
       "      <td>NaN</td>\n",
       "      <td>NaN</td>\n",
       "      <td>NaN</td>\n",
       "      <td>NaN</td>\n",
       "      <td>NaN</td>\n",
       "      <td>NaN</td>\n",
       "      <td>NaN</td>\n",
       "      <td>NaN</td>\n",
       "      <td>NaN</td>\n",
       "      <td>NaN</td>\n",
       "      <td>NaN</td>\n",
       "      <td>NaN</td>\n",
       "    </tr>\n",
       "    <tr>\n",
       "      <th>193</th>\n",
       "      <td>..</td>\n",
       "      <td>Korea (Democratic People's Rep. of)</td>\n",
       "      <td>..</td>\n",
       "      <td>NaN</td>\n",
       "      <td>72.095</td>\n",
       "      <td>NaN</td>\n",
       "      <td>10.8406</td>\n",
       "      <td>e</td>\n",
       "      <td>..</td>\n",
       "      <td>NaN</td>\n",
       "      <td>..</td>\n",
       "      <td>NaN</td>\n",
       "      <td>..</td>\n",
       "      <td>NaN</td>\n",
       "      <td>..</td>\n",
       "    </tr>\n",
       "    <tr>\n",
       "      <th>194</th>\n",
       "      <td>..</td>\n",
       "      <td>Monaco</td>\n",
       "      <td>..</td>\n",
       "      <td>NaN</td>\n",
       "      <td>..</td>\n",
       "      <td>NaN</td>\n",
       "      <td>..</td>\n",
       "      <td>NaN</td>\n",
       "      <td>..</td>\n",
       "      <td>NaN</td>\n",
       "      <td>..</td>\n",
       "      <td>NaN</td>\n",
       "      <td>..</td>\n",
       "      <td>NaN</td>\n",
       "      <td>..</td>\n",
       "    </tr>\n",
       "    <tr>\n",
       "      <th>...</th>\n",
       "      <td>...</td>\n",
       "      <td>...</td>\n",
       "      <td>...</td>\n",
       "      <td>...</td>\n",
       "      <td>...</td>\n",
       "      <td>...</td>\n",
       "      <td>...</td>\n",
       "      <td>...</td>\n",
       "      <td>...</td>\n",
       "      <td>...</td>\n",
       "      <td>...</td>\n",
       "      <td>...</td>\n",
       "      <td>...</td>\n",
       "      <td>...</td>\n",
       "      <td>...</td>\n",
       "    </tr>\n",
       "    <tr>\n",
       "      <th>257</th>\n",
       "      <td>NaN</td>\n",
       "      <td>Column 2: UNDESA (2019b).</td>\n",
       "      <td>NaN</td>\n",
       "      <td>NaN</td>\n",
       "      <td>NaN</td>\n",
       "      <td>NaN</td>\n",
       "      <td>NaN</td>\n",
       "      <td>NaN</td>\n",
       "      <td>NaN</td>\n",
       "      <td>NaN</td>\n",
       "      <td>NaN</td>\n",
       "      <td>NaN</td>\n",
       "      <td>NaN</td>\n",
       "      <td>NaN</td>\n",
       "      <td>NaN</td>\n",
       "    </tr>\n",
       "    <tr>\n",
       "      <th>258</th>\n",
       "      <td>NaN</td>\n",
       "      <td>Column 3: UNESCO Institute for Statistics (201...</td>\n",
       "      <td>NaN</td>\n",
       "      <td>NaN</td>\n",
       "      <td>NaN</td>\n",
       "      <td>NaN</td>\n",
       "      <td>NaN</td>\n",
       "      <td>NaN</td>\n",
       "      <td>NaN</td>\n",
       "      <td>NaN</td>\n",
       "      <td>NaN</td>\n",
       "      <td>NaN</td>\n",
       "      <td>NaN</td>\n",
       "      <td>NaN</td>\n",
       "      <td>NaN</td>\n",
       "    </tr>\n",
       "    <tr>\n",
       "      <th>259</th>\n",
       "      <td>NaN</td>\n",
       "      <td>Column 4: UNESCO Institute for Statistics (201...</td>\n",
       "      <td>NaN</td>\n",
       "      <td>NaN</td>\n",
       "      <td>NaN</td>\n",
       "      <td>NaN</td>\n",
       "      <td>NaN</td>\n",
       "      <td>NaN</td>\n",
       "      <td>NaN</td>\n",
       "      <td>NaN</td>\n",
       "      <td>NaN</td>\n",
       "      <td>NaN</td>\n",
       "      <td>NaN</td>\n",
       "      <td>NaN</td>\n",
       "      <td>NaN</td>\n",
       "    </tr>\n",
       "    <tr>\n",
       "      <th>260</th>\n",
       "      <td>NaN</td>\n",
       "      <td>Column 5: World Bank (2019a), IMF (2019) and U...</td>\n",
       "      <td>NaN</td>\n",
       "      <td>NaN</td>\n",
       "      <td>NaN</td>\n",
       "      <td>NaN</td>\n",
       "      <td>NaN</td>\n",
       "      <td>NaN</td>\n",
       "      <td>NaN</td>\n",
       "      <td>NaN</td>\n",
       "      <td>NaN</td>\n",
       "      <td>NaN</td>\n",
       "      <td>NaN</td>\n",
       "      <td>NaN</td>\n",
       "      <td>NaN</td>\n",
       "    </tr>\n",
       "    <tr>\n",
       "      <th>261</th>\n",
       "      <td>NaN</td>\n",
       "      <td>Column 6: Calculated based on data in columns ...</td>\n",
       "      <td>NaN</td>\n",
       "      <td>NaN</td>\n",
       "      <td>NaN</td>\n",
       "      <td>NaN</td>\n",
       "      <td>NaN</td>\n",
       "      <td>NaN</td>\n",
       "      <td>NaN</td>\n",
       "      <td>NaN</td>\n",
       "      <td>NaN</td>\n",
       "      <td>NaN</td>\n",
       "      <td>NaN</td>\n",
       "      <td>NaN</td>\n",
       "      <td>NaN</td>\n",
       "    </tr>\n",
       "  </tbody>\n",
       "</table>\n",
       "<p>72 rows × 15 columns</p>\n",
       "</div>"
      ],
      "text/plain": [
       "    HDI rank                                            Country  \\\n",
       "190      188                           Central African Republic   \n",
       "191      189                                              Niger   \n",
       "192      NaN                     OTHER COUNTRIES OR TERRITORIES   \n",
       "193       ..                Korea (Democratic People's Rep. of)   \n",
       "194       ..                                             Monaco   \n",
       "..       ...                                                ...   \n",
       "257      NaN                         Column 2: UNDESA (2019b).    \n",
       "258      NaN  Column 3: UNESCO Institute for Statistics (201...   \n",
       "259      NaN  Column 4: UNESCO Institute for Statistics (201...   \n",
       "260      NaN  Column 5: World Bank (2019a), IMF (2019) and U...   \n",
       "261      NaN  Column 6: Calculated based on data in columns ...   \n",
       "\n",
       "    Human development index (HDI)   NaN Life expectancy at birth  NaN  \\\n",
       "190                       0.380662  NaN                   52.805  NaN   \n",
       "191                       0.376591  NaN                   62.024  NaN   \n",
       "192                            NaN  NaN                      NaN  NaN   \n",
       "193                             ..  NaN                   72.095  NaN   \n",
       "194                             ..  NaN                       ..  NaN   \n",
       "..                             ...  ...                      ...  ...   \n",
       "257                            NaN  NaN                      NaN  NaN   \n",
       "258                            NaN  NaN                      NaN  NaN   \n",
       "259                            NaN  NaN                      NaN  NaN   \n",
       "260                            NaN  NaN                      NaN  NaN   \n",
       "261                            NaN  NaN                      NaN  NaN   \n",
       "\n",
       "    Expected years of schooling  NaN Mean years of schooling  NaN  \\\n",
       "190                     7.56836    e                   4.282    i   \n",
       "191                     6.47145  NaN                 2.02905    e   \n",
       "192                         NaN  NaN                     NaN  NaN   \n",
       "193                     10.8406    e                      ..  NaN   \n",
       "194                          ..  NaN                      ..  NaN   \n",
       "..                          ...  ...                     ...  ...   \n",
       "257                         NaN  NaN                     NaN  NaN   \n",
       "258                         NaN  NaN                     NaN  NaN   \n",
       "259                         NaN  NaN                     NaN  NaN   \n",
       "260                         NaN  NaN                     NaN  NaN   \n",
       "261                         NaN  NaN                     NaN  NaN   \n",
       "\n",
       "    Gross national income (GNI) per capita  NaN  \\\n",
       "190                                776.676  NaN   \n",
       "191                                912.042  NaN   \n",
       "192                                    NaN  NaN   \n",
       "193                                     ..  NaN   \n",
       "194                                     ..  NaN   \n",
       "..                                     ...  ...   \n",
       "257                                    NaN  NaN   \n",
       "258                                    NaN  NaN   \n",
       "259                                    NaN  NaN   \n",
       "260                                    NaN  NaN   \n",
       "261                                    NaN  NaN   \n",
       "\n",
       "    GNI per capita rank minus HDI rank  NaN HDI rank  \n",
       "190                                  0  NaN      188  \n",
       "191                                 -3  NaN      189  \n",
       "192                                NaN  NaN      NaN  \n",
       "193                                 ..  NaN       ..  \n",
       "194                                 ..  NaN       ..  \n",
       "..                                 ...  ...      ...  \n",
       "257                                NaN  NaN      NaN  \n",
       "258                                NaN  NaN      NaN  \n",
       "259                                NaN  NaN      NaN  \n",
       "260                                NaN  NaN      NaN  \n",
       "261                                NaN  NaN      NaN  \n",
       "\n",
       "[72 rows x 15 columns]"
      ]
     },
     "execution_count": 239,
     "metadata": {},
     "output_type": "execute_result"
    }
   ],
   "source": [
    "hdi.tail(72)"
   ]
  },
  {
   "cell_type": "code",
   "execution_count": 240,
   "metadata": {},
   "outputs": [
    {
     "data": {
      "text/html": [
       "<div>\n",
       "<style scoped>\n",
       "    .dataframe tbody tr th:only-of-type {\n",
       "        vertical-align: middle;\n",
       "    }\n",
       "\n",
       "    .dataframe tbody tr th {\n",
       "        vertical-align: top;\n",
       "    }\n",
       "\n",
       "    .dataframe thead th {\n",
       "        text-align: right;\n",
       "    }\n",
       "</style>\n",
       "<table border=\"1\" class=\"dataframe\">\n",
       "  <thead>\n",
       "    <tr style=\"text-align: right;\">\n",
       "      <th></th>\n",
       "      <th>HDI rank</th>\n",
       "      <th>Country</th>\n",
       "      <th>Human development index (HDI)</th>\n",
       "      <th>NaN</th>\n",
       "      <th>Life expectancy at birth</th>\n",
       "      <th>NaN</th>\n",
       "      <th>Expected years of schooling</th>\n",
       "      <th>NaN</th>\n",
       "      <th>Mean years of schooling</th>\n",
       "      <th>NaN</th>\n",
       "      <th>Gross national income (GNI) per capita</th>\n",
       "      <th>NaN</th>\n",
       "      <th>GNI per capita rank minus HDI rank</th>\n",
       "      <th>NaN</th>\n",
       "      <th>HDI rank</th>\n",
       "    </tr>\n",
       "  </thead>\n",
       "  <tbody>\n",
       "    <tr>\n",
       "      <th>0</th>\n",
       "      <td>1</td>\n",
       "      <td>Norway</td>\n",
       "      <td>0.953688</td>\n",
       "      <td>NaN</td>\n",
       "      <td>82.271</td>\n",
       "      <td>NaN</td>\n",
       "      <td>18.0608</td>\n",
       "      <td>b</td>\n",
       "      <td>12.5668</td>\n",
       "      <td>NaN</td>\n",
       "      <td>68058.6</td>\n",
       "      <td>NaN</td>\n",
       "      <td>5</td>\n",
       "      <td>NaN</td>\n",
       "      <td>1</td>\n",
       "    </tr>\n",
       "    <tr>\n",
       "      <th>1</th>\n",
       "      <td>2</td>\n",
       "      <td>Switzerland</td>\n",
       "      <td>0.945936</td>\n",
       "      <td>NaN</td>\n",
       "      <td>83.63</td>\n",
       "      <td>NaN</td>\n",
       "      <td>16.2088</td>\n",
       "      <td>NaN</td>\n",
       "      <td>13.3808</td>\n",
       "      <td>NaN</td>\n",
       "      <td>59374.7</td>\n",
       "      <td>NaN</td>\n",
       "      <td>8</td>\n",
       "      <td>NaN</td>\n",
       "      <td>2</td>\n",
       "    </tr>\n",
       "    <tr>\n",
       "      <th>2</th>\n",
       "      <td>3</td>\n",
       "      <td>Ireland</td>\n",
       "      <td>0.942473</td>\n",
       "      <td>NaN</td>\n",
       "      <td>82.103</td>\n",
       "      <td>NaN</td>\n",
       "      <td>18.7933</td>\n",
       "      <td>b</td>\n",
       "      <td>12.5263</td>\n",
       "      <td>c</td>\n",
       "      <td>55659.7</td>\n",
       "      <td>NaN</td>\n",
       "      <td>9</td>\n",
       "      <td>NaN</td>\n",
       "      <td>3</td>\n",
       "    </tr>\n",
       "    <tr>\n",
       "      <th>3</th>\n",
       "      <td>4</td>\n",
       "      <td>Germany</td>\n",
       "      <td>0.938785</td>\n",
       "      <td>NaN</td>\n",
       "      <td>81.18</td>\n",
       "      <td>NaN</td>\n",
       "      <td>17.0964</td>\n",
       "      <td>NaN</td>\n",
       "      <td>14.1321</td>\n",
       "      <td>NaN</td>\n",
       "      <td>46945.9</td>\n",
       "      <td>NaN</td>\n",
       "      <td>15</td>\n",
       "      <td>NaN</td>\n",
       "      <td>4</td>\n",
       "    </tr>\n",
       "    <tr>\n",
       "      <th>4</th>\n",
       "      <td>4</td>\n",
       "      <td>Hong Kong, China (SAR)</td>\n",
       "      <td>0.938809</td>\n",
       "      <td>NaN</td>\n",
       "      <td>84.687</td>\n",
       "      <td>NaN</td>\n",
       "      <td>16.5122</td>\n",
       "      <td>NaN</td>\n",
       "      <td>12.0381</td>\n",
       "      <td>NaN</td>\n",
       "      <td>60220.8</td>\n",
       "      <td>NaN</td>\n",
       "      <td>5</td>\n",
       "      <td>NaN</td>\n",
       "      <td>6</td>\n",
       "    </tr>\n",
       "    <tr>\n",
       "      <th>...</th>\n",
       "      <td>...</td>\n",
       "      <td>...</td>\n",
       "      <td>...</td>\n",
       "      <td>...</td>\n",
       "      <td>...</td>\n",
       "      <td>...</td>\n",
       "      <td>...</td>\n",
       "      <td>...</td>\n",
       "      <td>...</td>\n",
       "      <td>...</td>\n",
       "      <td>...</td>\n",
       "      <td>...</td>\n",
       "      <td>...</td>\n",
       "      <td>...</td>\n",
       "      <td>...</td>\n",
       "    </tr>\n",
       "    <tr>\n",
       "      <th>187</th>\n",
       "      <td>185</td>\n",
       "      <td>Burundi</td>\n",
       "      <td>0.422882</td>\n",
       "      <td>NaN</td>\n",
       "      <td>61.247</td>\n",
       "      <td>NaN</td>\n",
       "      <td>11.3046</td>\n",
       "      <td>NaN</td>\n",
       "      <td>3.12437</td>\n",
       "      <td>q</td>\n",
       "      <td>659.732</td>\n",
       "      <td>NaN</td>\n",
       "      <td>4</td>\n",
       "      <td>NaN</td>\n",
       "      <td>185</td>\n",
       "    </tr>\n",
       "    <tr>\n",
       "      <th>188</th>\n",
       "      <td>186</td>\n",
       "      <td>South Sudan</td>\n",
       "      <td>0.41277</td>\n",
       "      <td>NaN</td>\n",
       "      <td>57.604</td>\n",
       "      <td>NaN</td>\n",
       "      <td>5.00038</td>\n",
       "      <td>e</td>\n",
       "      <td>4.84913</td>\n",
       "      <td>NaN</td>\n",
       "      <td>1455.23</td>\n",
       "      <td>u</td>\n",
       "      <td>-7</td>\n",
       "      <td>NaN</td>\n",
       "      <td>186</td>\n",
       "    </tr>\n",
       "    <tr>\n",
       "      <th>189</th>\n",
       "      <td>187</td>\n",
       "      <td>Chad</td>\n",
       "      <td>0.401176</td>\n",
       "      <td>NaN</td>\n",
       "      <td>53.977</td>\n",
       "      <td>NaN</td>\n",
       "      <td>7.46536</td>\n",
       "      <td>e</td>\n",
       "      <td>2.4095</td>\n",
       "      <td>q</td>\n",
       "      <td>1715.57</td>\n",
       "      <td>NaN</td>\n",
       "      <td>-15</td>\n",
       "      <td>NaN</td>\n",
       "      <td>187</td>\n",
       "    </tr>\n",
       "    <tr>\n",
       "      <th>190</th>\n",
       "      <td>188</td>\n",
       "      <td>Central African Republic</td>\n",
       "      <td>0.380662</td>\n",
       "      <td>NaN</td>\n",
       "      <td>52.805</td>\n",
       "      <td>NaN</td>\n",
       "      <td>7.56836</td>\n",
       "      <td>e</td>\n",
       "      <td>4.282</td>\n",
       "      <td>i</td>\n",
       "      <td>776.676</td>\n",
       "      <td>NaN</td>\n",
       "      <td>0</td>\n",
       "      <td>NaN</td>\n",
       "      <td>188</td>\n",
       "    </tr>\n",
       "    <tr>\n",
       "      <th>191</th>\n",
       "      <td>189</td>\n",
       "      <td>Niger</td>\n",
       "      <td>0.376591</td>\n",
       "      <td>NaN</td>\n",
       "      <td>62.024</td>\n",
       "      <td>NaN</td>\n",
       "      <td>6.47145</td>\n",
       "      <td>NaN</td>\n",
       "      <td>2.02905</td>\n",
       "      <td>e</td>\n",
       "      <td>912.042</td>\n",
       "      <td>NaN</td>\n",
       "      <td>-3</td>\n",
       "      <td>NaN</td>\n",
       "      <td>189</td>\n",
       "    </tr>\n",
       "  </tbody>\n",
       "</table>\n",
       "<p>192 rows × 15 columns</p>\n",
       "</div>"
      ],
      "text/plain": [
       "    HDI rank                   Country Human development index (HDI)   NaN  \\\n",
       "0          1                    Norway                       0.953688  NaN   \n",
       "1          2               Switzerland                       0.945936  NaN   \n",
       "2          3                   Ireland                       0.942473  NaN   \n",
       "3          4                   Germany                       0.938785  NaN   \n",
       "4          4    Hong Kong, China (SAR)                       0.938809  NaN   \n",
       "..       ...                       ...                            ...  ...   \n",
       "187      185                   Burundi                       0.422882  NaN   \n",
       "188      186               South Sudan                        0.41277  NaN   \n",
       "189      187                      Chad                       0.401176  NaN   \n",
       "190      188  Central African Republic                       0.380662  NaN   \n",
       "191      189                     Niger                       0.376591  NaN   \n",
       "\n",
       "    Life expectancy at birth  NaN Expected years of schooling  NaN  \\\n",
       "0                     82.271  NaN                     18.0608    b   \n",
       "1                      83.63  NaN                     16.2088  NaN   \n",
       "2                     82.103  NaN                     18.7933    b   \n",
       "3                      81.18  NaN                     17.0964  NaN   \n",
       "4                     84.687  NaN                     16.5122  NaN   \n",
       "..                       ...  ...                         ...  ...   \n",
       "187                   61.247  NaN                     11.3046  NaN   \n",
       "188                   57.604  NaN                     5.00038    e   \n",
       "189                   53.977  NaN                     7.46536    e   \n",
       "190                   52.805  NaN                     7.56836    e   \n",
       "191                   62.024  NaN                     6.47145  NaN   \n",
       "\n",
       "    Mean years of schooling  NaN Gross national income (GNI) per capita  NaN  \\\n",
       "0                   12.5668  NaN                                68058.6  NaN   \n",
       "1                   13.3808  NaN                                59374.7  NaN   \n",
       "2                   12.5263    c                                55659.7  NaN   \n",
       "3                   14.1321  NaN                                46945.9  NaN   \n",
       "4                   12.0381  NaN                                60220.8  NaN   \n",
       "..                      ...  ...                                    ...  ...   \n",
       "187                 3.12437    q                                659.732  NaN   \n",
       "188                 4.84913  NaN                                1455.23    u   \n",
       "189                  2.4095    q                                1715.57  NaN   \n",
       "190                   4.282    i                                776.676  NaN   \n",
       "191                 2.02905    e                                912.042  NaN   \n",
       "\n",
       "    GNI per capita rank minus HDI rank  NaN HDI rank  \n",
       "0                                    5  NaN        1  \n",
       "1                                    8  NaN        2  \n",
       "2                                    9  NaN        3  \n",
       "3                                   15  NaN        4  \n",
       "4                                    5  NaN        6  \n",
       "..                                 ...  ...      ...  \n",
       "187                                  4  NaN      185  \n",
       "188                                 -7  NaN      186  \n",
       "189                                -15  NaN      187  \n",
       "190                                  0  NaN      188  \n",
       "191                                 -3  NaN      189  \n",
       "\n",
       "[192 rows x 15 columns]"
      ]
     },
     "execution_count": 240,
     "metadata": {},
     "output_type": "execute_result"
    }
   ],
   "source": [
    "# deleting: preview\n",
    "hdi.drop(index=range(192,262),axis=0)"
   ]
  },
  {
   "cell_type": "code",
   "execution_count": 241,
   "metadata": {},
   "outputs": [
    {
     "data": {
      "text/html": [
       "<div>\n",
       "<style scoped>\n",
       "    .dataframe tbody tr th:only-of-type {\n",
       "        vertical-align: middle;\n",
       "    }\n",
       "\n",
       "    .dataframe tbody tr th {\n",
       "        vertical-align: top;\n",
       "    }\n",
       "\n",
       "    .dataframe thead th {\n",
       "        text-align: right;\n",
       "    }\n",
       "</style>\n",
       "<table border=\"1\" class=\"dataframe\">\n",
       "  <thead>\n",
       "    <tr style=\"text-align: right;\">\n",
       "      <th></th>\n",
       "      <th>HDI rank</th>\n",
       "      <th>Country</th>\n",
       "      <th>Human development index (HDI)</th>\n",
       "      <th>NaN</th>\n",
       "      <th>Life expectancy at birth</th>\n",
       "      <th>NaN</th>\n",
       "      <th>Expected years of schooling</th>\n",
       "      <th>NaN</th>\n",
       "      <th>Mean years of schooling</th>\n",
       "      <th>NaN</th>\n",
       "      <th>Gross national income (GNI) per capita</th>\n",
       "      <th>NaN</th>\n",
       "      <th>GNI per capita rank minus HDI rank</th>\n",
       "      <th>NaN</th>\n",
       "      <th>HDI rank</th>\n",
       "    </tr>\n",
       "  </thead>\n",
       "  <tbody>\n",
       "    <tr>\n",
       "      <th>0</th>\n",
       "      <td>1</td>\n",
       "      <td>Norway</td>\n",
       "      <td>0.953688</td>\n",
       "      <td>NaN</td>\n",
       "      <td>82.271</td>\n",
       "      <td>NaN</td>\n",
       "      <td>18.0608</td>\n",
       "      <td>b</td>\n",
       "      <td>12.5668</td>\n",
       "      <td>NaN</td>\n",
       "      <td>68058.6</td>\n",
       "      <td>NaN</td>\n",
       "      <td>5</td>\n",
       "      <td>NaN</td>\n",
       "      <td>1</td>\n",
       "    </tr>\n",
       "    <tr>\n",
       "      <th>1</th>\n",
       "      <td>2</td>\n",
       "      <td>Switzerland</td>\n",
       "      <td>0.945936</td>\n",
       "      <td>NaN</td>\n",
       "      <td>83.63</td>\n",
       "      <td>NaN</td>\n",
       "      <td>16.2088</td>\n",
       "      <td>NaN</td>\n",
       "      <td>13.3808</td>\n",
       "      <td>NaN</td>\n",
       "      <td>59374.7</td>\n",
       "      <td>NaN</td>\n",
       "      <td>8</td>\n",
       "      <td>NaN</td>\n",
       "      <td>2</td>\n",
       "    </tr>\n",
       "    <tr>\n",
       "      <th>2</th>\n",
       "      <td>3</td>\n",
       "      <td>Ireland</td>\n",
       "      <td>0.942473</td>\n",
       "      <td>NaN</td>\n",
       "      <td>82.103</td>\n",
       "      <td>NaN</td>\n",
       "      <td>18.7933</td>\n",
       "      <td>b</td>\n",
       "      <td>12.5263</td>\n",
       "      <td>c</td>\n",
       "      <td>55659.7</td>\n",
       "      <td>NaN</td>\n",
       "      <td>9</td>\n",
       "      <td>NaN</td>\n",
       "      <td>3</td>\n",
       "    </tr>\n",
       "    <tr>\n",
       "      <th>3</th>\n",
       "      <td>4</td>\n",
       "      <td>Germany</td>\n",
       "      <td>0.938785</td>\n",
       "      <td>NaN</td>\n",
       "      <td>81.18</td>\n",
       "      <td>NaN</td>\n",
       "      <td>17.0964</td>\n",
       "      <td>NaN</td>\n",
       "      <td>14.1321</td>\n",
       "      <td>NaN</td>\n",
       "      <td>46945.9</td>\n",
       "      <td>NaN</td>\n",
       "      <td>15</td>\n",
       "      <td>NaN</td>\n",
       "      <td>4</td>\n",
       "    </tr>\n",
       "    <tr>\n",
       "      <th>4</th>\n",
       "      <td>4</td>\n",
       "      <td>Hong Kong, China (SAR)</td>\n",
       "      <td>0.938809</td>\n",
       "      <td>NaN</td>\n",
       "      <td>84.687</td>\n",
       "      <td>NaN</td>\n",
       "      <td>16.5122</td>\n",
       "      <td>NaN</td>\n",
       "      <td>12.0381</td>\n",
       "      <td>NaN</td>\n",
       "      <td>60220.8</td>\n",
       "      <td>NaN</td>\n",
       "      <td>5</td>\n",
       "      <td>NaN</td>\n",
       "      <td>6</td>\n",
       "    </tr>\n",
       "    <tr>\n",
       "      <th>...</th>\n",
       "      <td>...</td>\n",
       "      <td>...</td>\n",
       "      <td>...</td>\n",
       "      <td>...</td>\n",
       "      <td>...</td>\n",
       "      <td>...</td>\n",
       "      <td>...</td>\n",
       "      <td>...</td>\n",
       "      <td>...</td>\n",
       "      <td>...</td>\n",
       "      <td>...</td>\n",
       "      <td>...</td>\n",
       "      <td>...</td>\n",
       "      <td>...</td>\n",
       "      <td>...</td>\n",
       "    </tr>\n",
       "    <tr>\n",
       "      <th>187</th>\n",
       "      <td>185</td>\n",
       "      <td>Burundi</td>\n",
       "      <td>0.422882</td>\n",
       "      <td>NaN</td>\n",
       "      <td>61.247</td>\n",
       "      <td>NaN</td>\n",
       "      <td>11.3046</td>\n",
       "      <td>NaN</td>\n",
       "      <td>3.12437</td>\n",
       "      <td>q</td>\n",
       "      <td>659.732</td>\n",
       "      <td>NaN</td>\n",
       "      <td>4</td>\n",
       "      <td>NaN</td>\n",
       "      <td>185</td>\n",
       "    </tr>\n",
       "    <tr>\n",
       "      <th>188</th>\n",
       "      <td>186</td>\n",
       "      <td>South Sudan</td>\n",
       "      <td>0.41277</td>\n",
       "      <td>NaN</td>\n",
       "      <td>57.604</td>\n",
       "      <td>NaN</td>\n",
       "      <td>5.00038</td>\n",
       "      <td>e</td>\n",
       "      <td>4.84913</td>\n",
       "      <td>NaN</td>\n",
       "      <td>1455.23</td>\n",
       "      <td>u</td>\n",
       "      <td>-7</td>\n",
       "      <td>NaN</td>\n",
       "      <td>186</td>\n",
       "    </tr>\n",
       "    <tr>\n",
       "      <th>189</th>\n",
       "      <td>187</td>\n",
       "      <td>Chad</td>\n",
       "      <td>0.401176</td>\n",
       "      <td>NaN</td>\n",
       "      <td>53.977</td>\n",
       "      <td>NaN</td>\n",
       "      <td>7.46536</td>\n",
       "      <td>e</td>\n",
       "      <td>2.4095</td>\n",
       "      <td>q</td>\n",
       "      <td>1715.57</td>\n",
       "      <td>NaN</td>\n",
       "      <td>-15</td>\n",
       "      <td>NaN</td>\n",
       "      <td>187</td>\n",
       "    </tr>\n",
       "    <tr>\n",
       "      <th>190</th>\n",
       "      <td>188</td>\n",
       "      <td>Central African Republic</td>\n",
       "      <td>0.380662</td>\n",
       "      <td>NaN</td>\n",
       "      <td>52.805</td>\n",
       "      <td>NaN</td>\n",
       "      <td>7.56836</td>\n",
       "      <td>e</td>\n",
       "      <td>4.282</td>\n",
       "      <td>i</td>\n",
       "      <td>776.676</td>\n",
       "      <td>NaN</td>\n",
       "      <td>0</td>\n",
       "      <td>NaN</td>\n",
       "      <td>188</td>\n",
       "    </tr>\n",
       "    <tr>\n",
       "      <th>191</th>\n",
       "      <td>189</td>\n",
       "      <td>Niger</td>\n",
       "      <td>0.376591</td>\n",
       "      <td>NaN</td>\n",
       "      <td>62.024</td>\n",
       "      <td>NaN</td>\n",
       "      <td>6.47145</td>\n",
       "      <td>NaN</td>\n",
       "      <td>2.02905</td>\n",
       "      <td>e</td>\n",
       "      <td>912.042</td>\n",
       "      <td>NaN</td>\n",
       "      <td>-3</td>\n",
       "      <td>NaN</td>\n",
       "      <td>189</td>\n",
       "    </tr>\n",
       "  </tbody>\n",
       "</table>\n",
       "<p>192 rows × 15 columns</p>\n",
       "</div>"
      ],
      "text/plain": [
       "    HDI rank                   Country Human development index (HDI)   NaN  \\\n",
       "0          1                    Norway                       0.953688  NaN   \n",
       "1          2               Switzerland                       0.945936  NaN   \n",
       "2          3                   Ireland                       0.942473  NaN   \n",
       "3          4                   Germany                       0.938785  NaN   \n",
       "4          4    Hong Kong, China (SAR)                       0.938809  NaN   \n",
       "..       ...                       ...                            ...  ...   \n",
       "187      185                   Burundi                       0.422882  NaN   \n",
       "188      186               South Sudan                        0.41277  NaN   \n",
       "189      187                      Chad                       0.401176  NaN   \n",
       "190      188  Central African Republic                       0.380662  NaN   \n",
       "191      189                     Niger                       0.376591  NaN   \n",
       "\n",
       "    Life expectancy at birth  NaN Expected years of schooling  NaN  \\\n",
       "0                     82.271  NaN                     18.0608    b   \n",
       "1                      83.63  NaN                     16.2088  NaN   \n",
       "2                     82.103  NaN                     18.7933    b   \n",
       "3                      81.18  NaN                     17.0964  NaN   \n",
       "4                     84.687  NaN                     16.5122  NaN   \n",
       "..                       ...  ...                         ...  ...   \n",
       "187                   61.247  NaN                     11.3046  NaN   \n",
       "188                   57.604  NaN                     5.00038    e   \n",
       "189                   53.977  NaN                     7.46536    e   \n",
       "190                   52.805  NaN                     7.56836    e   \n",
       "191                   62.024  NaN                     6.47145  NaN   \n",
       "\n",
       "    Mean years of schooling  NaN Gross national income (GNI) per capita  NaN  \\\n",
       "0                   12.5668  NaN                                68058.6  NaN   \n",
       "1                   13.3808  NaN                                59374.7  NaN   \n",
       "2                   12.5263    c                                55659.7  NaN   \n",
       "3                   14.1321  NaN                                46945.9  NaN   \n",
       "4                   12.0381  NaN                                60220.8  NaN   \n",
       "..                      ...  ...                                    ...  ...   \n",
       "187                 3.12437    q                                659.732  NaN   \n",
       "188                 4.84913  NaN                                1455.23    u   \n",
       "189                  2.4095    q                                1715.57  NaN   \n",
       "190                   4.282    i                                776.676  NaN   \n",
       "191                 2.02905    e                                912.042  NaN   \n",
       "\n",
       "    GNI per capita rank minus HDI rank  NaN HDI rank  \n",
       "0                                    5  NaN        1  \n",
       "1                                    8  NaN        2  \n",
       "2                                    9  NaN        3  \n",
       "3                                   15  NaN        4  \n",
       "4                                    5  NaN        6  \n",
       "..                                 ...  ...      ...  \n",
       "187                                  4  NaN      185  \n",
       "188                                 -7  NaN      186  \n",
       "189                                -15  NaN      187  \n",
       "190                                  0  NaN      188  \n",
       "191                                 -3  NaN      189  \n",
       "\n",
       "[192 rows x 15 columns]"
      ]
     },
     "execution_count": 241,
     "metadata": {},
     "output_type": "execute_result"
    }
   ],
   "source": [
    "hdi.drop(index=range(192,262),axis=0,inplace=True)\n",
    "#reset indexes\n",
    "hdi.reset_index(drop=True,inplace=True)\n",
    "#\n",
    "hdi"
   ]
  },
  {
   "cell_type": "markdown",
   "metadata": {},
   "source": [
    "Get rid of empty columns:"
   ]
  },
  {
   "cell_type": "code",
   "execution_count": 242,
   "metadata": {},
   "outputs": [
    {
     "data": {
      "text/plain": [
       "['HDI rank',\n",
       " 'Country',\n",
       " 'Human development index (HDI) ',\n",
       " 'Life expectancy at birth',\n",
       " 'Expected years of schooling',\n",
       " 'Mean years of schooling',\n",
       " 'Gross national income (GNI) per capita',\n",
       " 'GNI per capita rank minus HDI rank',\n",
       " 'HDI rank']"
      ]
     },
     "execution_count": 242,
     "metadata": {},
     "output_type": "execute_result"
    }
   ],
   "source": [
    "# Get good columns\n",
    "\n",
    "Headers=[x for x in GoodHeaders if str(x) != 'nan']\n",
    "#\n",
    "Headers"
   ]
  },
  {
   "cell_type": "code",
   "execution_count": 244,
   "metadata": {},
   "outputs": [
    {
     "data": {
      "text/plain": [
       "['HDI rank',\n",
       " 'Country',\n",
       " 'Human development index (HDI) ',\n",
       " 'Life expectancy at birth',\n",
       " 'Expected years of schooling',\n",
       " 'Mean years of schooling',\n",
       " 'Gross national income (GNI) per capita',\n",
       " 'GNI per capita rank minus HDI rank',\n",
       " 'HDI rank']"
      ]
     },
     "execution_count": 244,
     "metadata": {},
     "output_type": "execute_result"
    }
   ],
   "source": [
    "hdi[Headers]"
   ]
  },
  {
   "cell_type": "code",
   "execution_count": 226,
   "metadata": {},
   "outputs": [
    {
     "data": {
      "text/html": [
       "<div>\n",
       "<style scoped>\n",
       "    .dataframe tbody tr th:only-of-type {\n",
       "        vertical-align: middle;\n",
       "    }\n",
       "\n",
       "    .dataframe tbody tr th {\n",
       "        vertical-align: top;\n",
       "    }\n",
       "\n",
       "    .dataframe thead th {\n",
       "        text-align: right;\n",
       "    }\n",
       "</style>\n",
       "<table border=\"1\" class=\"dataframe\">\n",
       "  <thead>\n",
       "    <tr style=\"text-align: right;\">\n",
       "      <th></th>\n",
       "      <th>HDI rank</th>\n",
       "      <th>HDI rank</th>\n",
       "      <th>Country</th>\n",
       "      <th>Human development index (HDI)</th>\n",
       "      <th>Life expectancy at birth</th>\n",
       "      <th>Expected years of schooling</th>\n",
       "      <th>Mean years of schooling</th>\n",
       "      <th>Gross national income (GNI) per capita</th>\n",
       "      <th>GNI per capita rank minus HDI rank</th>\n",
       "      <th>HDI rank</th>\n",
       "      <th>HDI rank</th>\n",
       "    </tr>\n",
       "  </thead>\n",
       "  <tbody>\n",
       "    <tr>\n",
       "      <th>0</th>\n",
       "      <td>1</td>\n",
       "      <td>1</td>\n",
       "      <td>Norway</td>\n",
       "      <td>0.953688</td>\n",
       "      <td>82.271</td>\n",
       "      <td>18.0608</td>\n",
       "      <td>12.5668</td>\n",
       "      <td>68058.6</td>\n",
       "      <td>5</td>\n",
       "      <td>1</td>\n",
       "      <td>1</td>\n",
       "    </tr>\n",
       "    <tr>\n",
       "      <th>1</th>\n",
       "      <td>2</td>\n",
       "      <td>2</td>\n",
       "      <td>Switzerland</td>\n",
       "      <td>0.945936</td>\n",
       "      <td>83.63</td>\n",
       "      <td>16.2088</td>\n",
       "      <td>13.3808</td>\n",
       "      <td>59374.7</td>\n",
       "      <td>8</td>\n",
       "      <td>2</td>\n",
       "      <td>2</td>\n",
       "    </tr>\n",
       "    <tr>\n",
       "      <th>2</th>\n",
       "      <td>3</td>\n",
       "      <td>3</td>\n",
       "      <td>Ireland</td>\n",
       "      <td>0.942473</td>\n",
       "      <td>82.103</td>\n",
       "      <td>18.7933</td>\n",
       "      <td>12.5263</td>\n",
       "      <td>55659.7</td>\n",
       "      <td>9</td>\n",
       "      <td>3</td>\n",
       "      <td>3</td>\n",
       "    </tr>\n",
       "    <tr>\n",
       "      <th>3</th>\n",
       "      <td>4</td>\n",
       "      <td>4</td>\n",
       "      <td>Germany</td>\n",
       "      <td>0.938785</td>\n",
       "      <td>81.18</td>\n",
       "      <td>17.0964</td>\n",
       "      <td>14.1321</td>\n",
       "      <td>46945.9</td>\n",
       "      <td>15</td>\n",
       "      <td>4</td>\n",
       "      <td>4</td>\n",
       "    </tr>\n",
       "    <tr>\n",
       "      <th>4</th>\n",
       "      <td>4</td>\n",
       "      <td>6</td>\n",
       "      <td>Hong Kong, China (SAR)</td>\n",
       "      <td>0.938809</td>\n",
       "      <td>84.687</td>\n",
       "      <td>16.5122</td>\n",
       "      <td>12.0381</td>\n",
       "      <td>60220.8</td>\n",
       "      <td>5</td>\n",
       "      <td>4</td>\n",
       "      <td>6</td>\n",
       "    </tr>\n",
       "    <tr>\n",
       "      <th>5</th>\n",
       "      <td>6</td>\n",
       "      <td>5</td>\n",
       "      <td>Australia</td>\n",
       "      <td>0.938379</td>\n",
       "      <td>83.281</td>\n",
       "      <td>22.1037</td>\n",
       "      <td>12.683</td>\n",
       "      <td>44097</td>\n",
       "      <td>15</td>\n",
       "      <td>6</td>\n",
       "      <td>5</td>\n",
       "    </tr>\n",
       "    <tr>\n",
       "      <th>6</th>\n",
       "      <td>6</td>\n",
       "      <td>7</td>\n",
       "      <td>Iceland</td>\n",
       "      <td>0.938474</td>\n",
       "      <td>82.855</td>\n",
       "      <td>19.1745</td>\n",
       "      <td>12.5367</td>\n",
       "      <td>47566.5</td>\n",
       "      <td>12</td>\n",
       "      <td>6</td>\n",
       "      <td>7</td>\n",
       "    </tr>\n",
       "    <tr>\n",
       "      <th>7</th>\n",
       "      <td>8</td>\n",
       "      <td>7</td>\n",
       "      <td>Sweden</td>\n",
       "      <td>0.936628</td>\n",
       "      <td>82.654</td>\n",
       "      <td>18.8322</td>\n",
       "      <td>12.426</td>\n",
       "      <td>47955.4</td>\n",
       "      <td>9</td>\n",
       "      <td>8</td>\n",
       "      <td>7</td>\n",
       "    </tr>\n",
       "    <tr>\n",
       "      <th>8</th>\n",
       "      <td>9</td>\n",
       "      <td>9</td>\n",
       "      <td>Singapore</td>\n",
       "      <td>0.934819</td>\n",
       "      <td>83.458</td>\n",
       "      <td>16.3282</td>\n",
       "      <td>11.4965</td>\n",
       "      <td>83792.7</td>\n",
       "      <td>-6</td>\n",
       "      <td>9</td>\n",
       "      <td>9</td>\n",
       "    </tr>\n",
       "    <tr>\n",
       "      <th>9</th>\n",
       "      <td>10</td>\n",
       "      <td>10</td>\n",
       "      <td>Netherlands</td>\n",
       "      <td>0.933495</td>\n",
       "      <td>82.143</td>\n",
       "      <td>18.0448</td>\n",
       "      <td>12.19</td>\n",
       "      <td>50012.6</td>\n",
       "      <td>3</td>\n",
       "      <td>10</td>\n",
       "      <td>10</td>\n",
       "    </tr>\n",
       "    <tr>\n",
       "      <th>10</th>\n",
       "      <td>11</td>\n",
       "      <td>11</td>\n",
       "      <td>Denmark</td>\n",
       "      <td>0.929946</td>\n",
       "      <td>80.784</td>\n",
       "      <td>19.0661</td>\n",
       "      <td>12.5878</td>\n",
       "      <td>48836.1</td>\n",
       "      <td>4</td>\n",
       "      <td>11</td>\n",
       "      <td>11</td>\n",
       "    </tr>\n",
       "    <tr>\n",
       "      <th>11</th>\n",
       "      <td>12</td>\n",
       "      <td>12</td>\n",
       "      <td>Finland</td>\n",
       "      <td>0.925192</td>\n",
       "      <td>81.736</td>\n",
       "      <td>19.3164</td>\n",
       "      <td>12.4396</td>\n",
       "      <td>41779.3</td>\n",
       "      <td>12</td>\n",
       "      <td>12</td>\n",
       "      <td>12</td>\n",
       "    </tr>\n",
       "    <tr>\n",
       "      <th>12</th>\n",
       "      <td>13</td>\n",
       "      <td>13</td>\n",
       "      <td>Canada</td>\n",
       "      <td>0.922111</td>\n",
       "      <td>82.315</td>\n",
       "      <td>16.0914</td>\n",
       "      <td>13.3154</td>\n",
       "      <td>43602.2</td>\n",
       "      <td>10</td>\n",
       "      <td>13</td>\n",
       "      <td>13</td>\n",
       "    </tr>\n",
       "    <tr>\n",
       "      <th>13</th>\n",
       "      <td>14</td>\n",
       "      <td>14</td>\n",
       "      <td>New Zealand</td>\n",
       "      <td>0.920886</td>\n",
       "      <td>82.145</td>\n",
       "      <td>18.8376</td>\n",
       "      <td>12.6782</td>\n",
       "      <td>35107.5</td>\n",
       "      <td>18</td>\n",
       "      <td>14</td>\n",
       "      <td>14</td>\n",
       "    </tr>\n",
       "    <tr>\n",
       "      <th>14</th>\n",
       "      <td>15</td>\n",
       "      <td>15</td>\n",
       "      <td>United Kingdom</td>\n",
       "      <td>0.920352</td>\n",
       "      <td>81.236</td>\n",
       "      <td>17.4429</td>\n",
       "      <td>12.9507</td>\n",
       "      <td>39507.3</td>\n",
       "      <td>13</td>\n",
       "      <td>15</td>\n",
       "      <td>15</td>\n",
       "    </tr>\n",
       "    <tr>\n",
       "      <th>15</th>\n",
       "      <td>15</td>\n",
       "      <td>15</td>\n",
       "      <td>United States</td>\n",
       "      <td>0.919926</td>\n",
       "      <td>78.851</td>\n",
       "      <td>16.2744</td>\n",
       "      <td>13.4134</td>\n",
       "      <td>56140.2</td>\n",
       "      <td>-4</td>\n",
       "      <td>15</td>\n",
       "      <td>15</td>\n",
       "    </tr>\n",
       "    <tr>\n",
       "      <th>16</th>\n",
       "      <td>17</td>\n",
       "      <td>17</td>\n",
       "      <td>Belgium</td>\n",
       "      <td>0.918841</td>\n",
       "      <td>81.468</td>\n",
       "      <td>19.6999</td>\n",
       "      <td>11.7839</td>\n",
       "      <td>43820.8</td>\n",
       "      <td>5</td>\n",
       "      <td>17</td>\n",
       "      <td>17</td>\n",
       "    </tr>\n",
       "    <tr>\n",
       "      <th>17</th>\n",
       "      <td>18</td>\n",
       "      <td>18</td>\n",
       "      <td>Liechtenstein</td>\n",
       "      <td>0.916724</td>\n",
       "      <td>80.537</td>\n",
       "      <td>14.7209</td>\n",
       "      <td>12.5485</td>\n",
       "      <td>99732.1</td>\n",
       "      <td>-16</td>\n",
       "      <td>18</td>\n",
       "      <td>18</td>\n",
       "    </tr>\n",
       "    <tr>\n",
       "      <th>18</th>\n",
       "      <td>19</td>\n",
       "      <td>19</td>\n",
       "      <td>Japan</td>\n",
       "      <td>0.914696</td>\n",
       "      <td>84.47</td>\n",
       "      <td>15.2306</td>\n",
       "      <td>12.8</td>\n",
       "      <td>40799</td>\n",
       "      <td>6</td>\n",
       "      <td>19</td>\n",
       "      <td>19</td>\n",
       "    </tr>\n",
       "    <tr>\n",
       "      <th>19</th>\n",
       "      <td>20</td>\n",
       "      <td>20</td>\n",
       "      <td>Austria</td>\n",
       "      <td>0.913809</td>\n",
       "      <td>81.434</td>\n",
       "      <td>16.2868</td>\n",
       "      <td>12.5585</td>\n",
       "      <td>46230.6</td>\n",
       "      <td>0</td>\n",
       "      <td>20</td>\n",
       "      <td>20</td>\n",
       "    </tr>\n",
       "    <tr>\n",
       "      <th>20</th>\n",
       "      <td>21</td>\n",
       "      <td>21</td>\n",
       "      <td>Luxembourg</td>\n",
       "      <td>0.90872</td>\n",
       "      <td>82.102</td>\n",
       "      <td>14.2275</td>\n",
       "      <td>12.1958</td>\n",
       "      <td>65543.1</td>\n",
       "      <td>-13</td>\n",
       "      <td>21</td>\n",
       "      <td>21</td>\n",
       "    </tr>\n",
       "    <tr>\n",
       "      <th>21</th>\n",
       "      <td>22</td>\n",
       "      <td>22</td>\n",
       "      <td>Israel</td>\n",
       "      <td>0.906235</td>\n",
       "      <td>82.819</td>\n",
       "      <td>15.9912</td>\n",
       "      <td>12.9592</td>\n",
       "      <td>33649.7</td>\n",
       "      <td>13</td>\n",
       "      <td>22</td>\n",
       "      <td>22</td>\n",
       "    </tr>\n",
       "    <tr>\n",
       "      <th>22</th>\n",
       "      <td>22</td>\n",
       "      <td>22</td>\n",
       "      <td>Korea (Republic of)</td>\n",
       "      <td>0.905832</td>\n",
       "      <td>82.846</td>\n",
       "      <td>16.3938</td>\n",
       "      <td>12.185</td>\n",
       "      <td>36757</td>\n",
       "      <td>8</td>\n",
       "      <td>22</td>\n",
       "      <td>22</td>\n",
       "    </tr>\n",
       "    <tr>\n",
       "      <th>23</th>\n",
       "      <td>24</td>\n",
       "      <td>24</td>\n",
       "      <td>Slovenia</td>\n",
       "      <td>0.901601</td>\n",
       "      <td>81.172</td>\n",
       "      <td>17.4222</td>\n",
       "      <td>12.2734</td>\n",
       "      <td>32143</td>\n",
       "      <td>13</td>\n",
       "      <td>24</td>\n",
       "      <td>24</td>\n",
       "    </tr>\n",
       "    <tr>\n",
       "      <th>24</th>\n",
       "      <td>25</td>\n",
       "      <td>25</td>\n",
       "      <td>Spain</td>\n",
       "      <td>0.892788</td>\n",
       "      <td>83.433</td>\n",
       "      <td>17.877</td>\n",
       "      <td>9.81948</td>\n",
       "      <td>35041.3</td>\n",
       "      <td>8</td>\n",
       "      <td>25</td>\n",
       "      <td>25</td>\n",
       "    </tr>\n",
       "    <tr>\n",
       "      <th>25</th>\n",
       "      <td>26</td>\n",
       "      <td>27</td>\n",
       "      <td>Czechia</td>\n",
       "      <td>0.890755</td>\n",
       "      <td>79.222</td>\n",
       "      <td>16.8316</td>\n",
       "      <td>12.7404</td>\n",
       "      <td>31597.1</td>\n",
       "      <td>12</td>\n",
       "      <td>26</td>\n",
       "      <td>27</td>\n",
       "    </tr>\n",
       "    <tr>\n",
       "      <th>26</th>\n",
       "      <td>26</td>\n",
       "      <td>26</td>\n",
       "      <td>France</td>\n",
       "      <td>0.891057</td>\n",
       "      <td>82.541</td>\n",
       "      <td>15.4858</td>\n",
       "      <td>11.417</td>\n",
       "      <td>40510.8</td>\n",
       "      <td>0</td>\n",
       "      <td>26</td>\n",
       "      <td>26</td>\n",
       "    </tr>\n",
       "    <tr>\n",
       "      <th>27</th>\n",
       "      <td>28</td>\n",
       "      <td>28</td>\n",
       "      <td>Malta</td>\n",
       "      <td>0.885266</td>\n",
       "      <td>82.376</td>\n",
       "      <td>15.8966</td>\n",
       "      <td>11.2881</td>\n",
       "      <td>34795.2</td>\n",
       "      <td>6</td>\n",
       "      <td>28</td>\n",
       "      <td>28</td>\n",
       "    </tr>\n",
       "    <tr>\n",
       "      <th>28</th>\n",
       "      <td>29</td>\n",
       "      <td>29</td>\n",
       "      <td>Italy</td>\n",
       "      <td>0.882584</td>\n",
       "      <td>83.352</td>\n",
       "      <td>16.2469</td>\n",
       "      <td>10.2451</td>\n",
       "      <td>36141.4</td>\n",
       "      <td>2</td>\n",
       "      <td>29</td>\n",
       "      <td>29</td>\n",
       "    </tr>\n",
       "    <tr>\n",
       "      <th>29</th>\n",
       "      <td>30</td>\n",
       "      <td>30</td>\n",
       "      <td>Estonia</td>\n",
       "      <td>0.881542</td>\n",
       "      <td>78.567</td>\n",
       "      <td>16.0636</td>\n",
       "      <td>13.029</td>\n",
       "      <td>30378.6</td>\n",
       "      <td>10</td>\n",
       "      <td>30</td>\n",
       "      <td>30</td>\n",
       "    </tr>\n",
       "  </tbody>\n",
       "</table>\n",
       "</div>"
      ],
      "text/plain": [
       "   HDI rank HDI rank                 Country Human development index (HDI)   \\\n",
       "0         1        1                  Norway                       0.953688   \n",
       "1         2        2             Switzerland                       0.945936   \n",
       "2         3        3                 Ireland                       0.942473   \n",
       "3         4        4                 Germany                       0.938785   \n",
       "4         4        6  Hong Kong, China (SAR)                       0.938809   \n",
       "5         6        5               Australia                       0.938379   \n",
       "6         6        7                 Iceland                       0.938474   \n",
       "7         8        7                  Sweden                       0.936628   \n",
       "8         9        9               Singapore                       0.934819   \n",
       "9        10       10             Netherlands                       0.933495   \n",
       "10       11       11                 Denmark                       0.929946   \n",
       "11       12       12                 Finland                       0.925192   \n",
       "12       13       13                  Canada                       0.922111   \n",
       "13       14       14             New Zealand                       0.920886   \n",
       "14       15       15          United Kingdom                       0.920352   \n",
       "15       15       15           United States                       0.919926   \n",
       "16       17       17                 Belgium                       0.918841   \n",
       "17       18       18           Liechtenstein                       0.916724   \n",
       "18       19       19                   Japan                       0.914696   \n",
       "19       20       20                 Austria                       0.913809   \n",
       "20       21       21              Luxembourg                        0.90872   \n",
       "21       22       22                  Israel                       0.906235   \n",
       "22       22       22     Korea (Republic of)                       0.905832   \n",
       "23       24       24                Slovenia                       0.901601   \n",
       "24       25       25                   Spain                       0.892788   \n",
       "25       26       27                 Czechia                       0.890755   \n",
       "26       26       26                  France                       0.891057   \n",
       "27       28       28                   Malta                       0.885266   \n",
       "28       29       29                   Italy                       0.882584   \n",
       "29       30       30                 Estonia                       0.881542   \n",
       "\n",
       "   Life expectancy at birth Expected years of schooling  \\\n",
       "0                    82.271                     18.0608   \n",
       "1                     83.63                     16.2088   \n",
       "2                    82.103                     18.7933   \n",
       "3                     81.18                     17.0964   \n",
       "4                    84.687                     16.5122   \n",
       "5                    83.281                     22.1037   \n",
       "6                    82.855                     19.1745   \n",
       "7                    82.654                     18.8322   \n",
       "8                    83.458                     16.3282   \n",
       "9                    82.143                     18.0448   \n",
       "10                   80.784                     19.0661   \n",
       "11                   81.736                     19.3164   \n",
       "12                   82.315                     16.0914   \n",
       "13                   82.145                     18.8376   \n",
       "14                   81.236                     17.4429   \n",
       "15                   78.851                     16.2744   \n",
       "16                   81.468                     19.6999   \n",
       "17                   80.537                     14.7209   \n",
       "18                    84.47                     15.2306   \n",
       "19                   81.434                     16.2868   \n",
       "20                   82.102                     14.2275   \n",
       "21                   82.819                     15.9912   \n",
       "22                   82.846                     16.3938   \n",
       "23                   81.172                     17.4222   \n",
       "24                   83.433                      17.877   \n",
       "25                   79.222                     16.8316   \n",
       "26                   82.541                     15.4858   \n",
       "27                   82.376                     15.8966   \n",
       "28                   83.352                     16.2469   \n",
       "29                   78.567                     16.0636   \n",
       "\n",
       "   Mean years of schooling Gross national income (GNI) per capita  \\\n",
       "0                  12.5668                                68058.6   \n",
       "1                  13.3808                                59374.7   \n",
       "2                  12.5263                                55659.7   \n",
       "3                  14.1321                                46945.9   \n",
       "4                  12.0381                                60220.8   \n",
       "5                   12.683                                  44097   \n",
       "6                  12.5367                                47566.5   \n",
       "7                   12.426                                47955.4   \n",
       "8                  11.4965                                83792.7   \n",
       "9                    12.19                                50012.6   \n",
       "10                 12.5878                                48836.1   \n",
       "11                 12.4396                                41779.3   \n",
       "12                 13.3154                                43602.2   \n",
       "13                 12.6782                                35107.5   \n",
       "14                 12.9507                                39507.3   \n",
       "15                 13.4134                                56140.2   \n",
       "16                 11.7839                                43820.8   \n",
       "17                 12.5485                                99732.1   \n",
       "18                    12.8                                  40799   \n",
       "19                 12.5585                                46230.6   \n",
       "20                 12.1958                                65543.1   \n",
       "21                 12.9592                                33649.7   \n",
       "22                  12.185                                  36757   \n",
       "23                 12.2734                                  32143   \n",
       "24                 9.81948                                35041.3   \n",
       "25                 12.7404                                31597.1   \n",
       "26                  11.417                                40510.8   \n",
       "27                 11.2881                                34795.2   \n",
       "28                 10.2451                                36141.4   \n",
       "29                  13.029                                30378.6   \n",
       "\n",
       "   GNI per capita rank minus HDI rank HDI rank HDI rank  \n",
       "0                                   5        1        1  \n",
       "1                                   8        2        2  \n",
       "2                                   9        3        3  \n",
       "3                                  15        4        4  \n",
       "4                                   5        4        6  \n",
       "5                                  15        6        5  \n",
       "6                                  12        6        7  \n",
       "7                                   9        8        7  \n",
       "8                                  -6        9        9  \n",
       "9                                   3       10       10  \n",
       "10                                  4       11       11  \n",
       "11                                 12       12       12  \n",
       "12                                 10       13       13  \n",
       "13                                 18       14       14  \n",
       "14                                 13       15       15  \n",
       "15                                 -4       15       15  \n",
       "16                                  5       17       17  \n",
       "17                                -16       18       18  \n",
       "18                                  6       19       19  \n",
       "19                                  0       20       20  \n",
       "20                                -13       21       21  \n",
       "21                                 13       22       22  \n",
       "22                                  8       22       22  \n",
       "23                                 13       24       24  \n",
       "24                                  8       25       25  \n",
       "25                                 12       26       27  \n",
       "26                                  0       26       26  \n",
       "27                                  6       28       28  \n",
       "28                                  2       29       29  \n",
       "29                                 10       30       30  "
      ]
     },
     "execution_count": 226,
     "metadata": {},
     "output_type": "execute_result"
    }
   ],
   "source": [
    "hdi=hdi[Headers]\n",
    "hdi.head(30)"
   ]
  },
  {
   "cell_type": "code",
   "execution_count": 229,
   "metadata": {},
   "outputs": [
    {
     "data": {
      "text/html": [
       "<div>\n",
       "<style scoped>\n",
       "    .dataframe tbody tr th:only-of-type {\n",
       "        vertical-align: middle;\n",
       "    }\n",
       "\n",
       "    .dataframe tbody tr th {\n",
       "        vertical-align: top;\n",
       "    }\n",
       "\n",
       "    .dataframe thead th {\n",
       "        text-align: right;\n",
       "    }\n",
       "</style>\n",
       "<table border=\"1\" class=\"dataframe\">\n",
       "  <thead>\n",
       "    <tr style=\"text-align: right;\">\n",
       "      <th></th>\n",
       "      <th>HDI rank</th>\n",
       "      <th>HDI rank</th>\n",
       "      <th>Country</th>\n",
       "      <th>Human development index (HDI)</th>\n",
       "      <th>Life expectancy at birth</th>\n",
       "      <th>Expected years of schooling</th>\n",
       "      <th>Mean years of schooling</th>\n",
       "      <th>Gross national income (GNI) per capita</th>\n",
       "      <th>GNI per capita rank minus HDI rank</th>\n",
       "      <th>HDI rank</th>\n",
       "      <th>HDI rank</th>\n",
       "    </tr>\n",
       "  </thead>\n",
       "  <tbody>\n",
       "    <tr>\n",
       "      <th>0</th>\n",
       "      <td>1</td>\n",
       "      <td>1</td>\n",
       "      <td>Norway</td>\n",
       "      <td>0.953688</td>\n",
       "      <td>82.271</td>\n",
       "      <td>18.0608</td>\n",
       "      <td>12.5668</td>\n",
       "      <td>68058.6</td>\n",
       "      <td>5</td>\n",
       "      <td>1</td>\n",
       "      <td>1</td>\n",
       "    </tr>\n",
       "    <tr>\n",
       "      <th>1</th>\n",
       "      <td>2</td>\n",
       "      <td>2</td>\n",
       "      <td>Switzerland</td>\n",
       "      <td>0.945936</td>\n",
       "      <td>83.63</td>\n",
       "      <td>16.2088</td>\n",
       "      <td>13.3808</td>\n",
       "      <td>59374.7</td>\n",
       "      <td>8</td>\n",
       "      <td>2</td>\n",
       "      <td>2</td>\n",
       "    </tr>\n",
       "    <tr>\n",
       "      <th>2</th>\n",
       "      <td>3</td>\n",
       "      <td>3</td>\n",
       "      <td>Ireland</td>\n",
       "      <td>0.942473</td>\n",
       "      <td>82.103</td>\n",
       "      <td>18.7933</td>\n",
       "      <td>12.5263</td>\n",
       "      <td>55659.7</td>\n",
       "      <td>9</td>\n",
       "      <td>3</td>\n",
       "      <td>3</td>\n",
       "    </tr>\n",
       "    <tr>\n",
       "      <th>3</th>\n",
       "      <td>4</td>\n",
       "      <td>4</td>\n",
       "      <td>Germany</td>\n",
       "      <td>0.938785</td>\n",
       "      <td>81.18</td>\n",
       "      <td>17.0964</td>\n",
       "      <td>14.1321</td>\n",
       "      <td>46945.9</td>\n",
       "      <td>15</td>\n",
       "      <td>4</td>\n",
       "      <td>4</td>\n",
       "    </tr>\n",
       "    <tr>\n",
       "      <th>4</th>\n",
       "      <td>4</td>\n",
       "      <td>6</td>\n",
       "      <td>Hong Kong, China (SAR)</td>\n",
       "      <td>0.938809</td>\n",
       "      <td>84.687</td>\n",
       "      <td>16.5122</td>\n",
       "      <td>12.0381</td>\n",
       "      <td>60220.8</td>\n",
       "      <td>5</td>\n",
       "      <td>4</td>\n",
       "      <td>6</td>\n",
       "    </tr>\n",
       "    <tr>\n",
       "      <th>...</th>\n",
       "      <td>...</td>\n",
       "      <td>...</td>\n",
       "      <td>...</td>\n",
       "      <td>...</td>\n",
       "      <td>...</td>\n",
       "      <td>...</td>\n",
       "      <td>...</td>\n",
       "      <td>...</td>\n",
       "      <td>...</td>\n",
       "      <td>...</td>\n",
       "      <td>...</td>\n",
       "    </tr>\n",
       "    <tr>\n",
       "      <th>187</th>\n",
       "      <td>185</td>\n",
       "      <td>185</td>\n",
       "      <td>Burundi</td>\n",
       "      <td>0.422882</td>\n",
       "      <td>61.247</td>\n",
       "      <td>11.3046</td>\n",
       "      <td>3.12437</td>\n",
       "      <td>659.732</td>\n",
       "      <td>4</td>\n",
       "      <td>185</td>\n",
       "      <td>185</td>\n",
       "    </tr>\n",
       "    <tr>\n",
       "      <th>188</th>\n",
       "      <td>186</td>\n",
       "      <td>186</td>\n",
       "      <td>South Sudan</td>\n",
       "      <td>0.41277</td>\n",
       "      <td>57.604</td>\n",
       "      <td>5.00038</td>\n",
       "      <td>4.84913</td>\n",
       "      <td>1455.23</td>\n",
       "      <td>-7</td>\n",
       "      <td>186</td>\n",
       "      <td>186</td>\n",
       "    </tr>\n",
       "    <tr>\n",
       "      <th>189</th>\n",
       "      <td>187</td>\n",
       "      <td>187</td>\n",
       "      <td>Chad</td>\n",
       "      <td>0.401176</td>\n",
       "      <td>53.977</td>\n",
       "      <td>7.46536</td>\n",
       "      <td>2.4095</td>\n",
       "      <td>1715.57</td>\n",
       "      <td>-15</td>\n",
       "      <td>187</td>\n",
       "      <td>187</td>\n",
       "    </tr>\n",
       "    <tr>\n",
       "      <th>190</th>\n",
       "      <td>188</td>\n",
       "      <td>188</td>\n",
       "      <td>Central African Republic</td>\n",
       "      <td>0.380662</td>\n",
       "      <td>52.805</td>\n",
       "      <td>7.56836</td>\n",
       "      <td>4.282</td>\n",
       "      <td>776.676</td>\n",
       "      <td>0</td>\n",
       "      <td>188</td>\n",
       "      <td>188</td>\n",
       "    </tr>\n",
       "    <tr>\n",
       "      <th>191</th>\n",
       "      <td>189</td>\n",
       "      <td>189</td>\n",
       "      <td>Niger</td>\n",
       "      <td>0.376591</td>\n",
       "      <td>62.024</td>\n",
       "      <td>6.47145</td>\n",
       "      <td>2.02905</td>\n",
       "      <td>912.042</td>\n",
       "      <td>-3</td>\n",
       "      <td>189</td>\n",
       "      <td>189</td>\n",
       "    </tr>\n",
       "  </tbody>\n",
       "</table>\n",
       "<p>189 rows × 11 columns</p>\n",
       "</div>"
      ],
      "text/plain": [
       "    HDI rank HDI rank                   Country  \\\n",
       "0          1        1                    Norway   \n",
       "1          2        2               Switzerland   \n",
       "2          3        3                   Ireland   \n",
       "3          4        4                   Germany   \n",
       "4          4        6    Hong Kong, China (SAR)   \n",
       "..       ...      ...                       ...   \n",
       "187      185      185                   Burundi   \n",
       "188      186      186               South Sudan   \n",
       "189      187      187                      Chad   \n",
       "190      188      188  Central African Republic   \n",
       "191      189      189                     Niger   \n",
       "\n",
       "    Human development index (HDI)  Life expectancy at birth  \\\n",
       "0                         0.953688                   82.271   \n",
       "1                         0.945936                    83.63   \n",
       "2                         0.942473                   82.103   \n",
       "3                         0.938785                    81.18   \n",
       "4                         0.938809                   84.687   \n",
       "..                             ...                      ...   \n",
       "187                       0.422882                   61.247   \n",
       "188                        0.41277                   57.604   \n",
       "189                       0.401176                   53.977   \n",
       "190                       0.380662                   52.805   \n",
       "191                       0.376591                   62.024   \n",
       "\n",
       "    Expected years of schooling Mean years of schooling  \\\n",
       "0                       18.0608                 12.5668   \n",
       "1                       16.2088                 13.3808   \n",
       "2                       18.7933                 12.5263   \n",
       "3                       17.0964                 14.1321   \n",
       "4                       16.5122                 12.0381   \n",
       "..                          ...                     ...   \n",
       "187                     11.3046                 3.12437   \n",
       "188                     5.00038                 4.84913   \n",
       "189                     7.46536                  2.4095   \n",
       "190                     7.56836                   4.282   \n",
       "191                     6.47145                 2.02905   \n",
       "\n",
       "    Gross national income (GNI) per capita GNI per capita rank minus HDI rank  \\\n",
       "0                                  68058.6                                  5   \n",
       "1                                  59374.7                                  8   \n",
       "2                                  55659.7                                  9   \n",
       "3                                  46945.9                                 15   \n",
       "4                                  60220.8                                  5   \n",
       "..                                     ...                                ...   \n",
       "187                                659.732                                  4   \n",
       "188                                1455.23                                 -7   \n",
       "189                                1715.57                                -15   \n",
       "190                                776.676                                  0   \n",
       "191                                912.042                                 -3   \n",
       "\n",
       "    HDI rank HDI rank  \n",
       "0          1        1  \n",
       "1          2        2  \n",
       "2          3        3  \n",
       "3          4        4  \n",
       "4          4        6  \n",
       "..       ...      ...  \n",
       "187      185      185  \n",
       "188      186      186  \n",
       "189      187      187  \n",
       "190      188      188  \n",
       "191      189      189  \n",
       "\n",
       "[189 rows x 11 columns]"
      ]
     },
     "execution_count": 229,
     "metadata": {},
     "output_type": "execute_result"
    }
   ],
   "source": [
    "# check empty cells\n",
    "hdi[hdi.isnull().any(axis=1)]"
   ]
  },
  {
   "cell_type": "code",
   "execution_count": 230,
   "metadata": {},
   "outputs": [
    {
     "data": {
      "text/html": [
       "<div>\n",
       "<style scoped>\n",
       "    .dataframe tbody tr th:only-of-type {\n",
       "        vertical-align: middle;\n",
       "    }\n",
       "\n",
       "    .dataframe tbody tr th {\n",
       "        vertical-align: top;\n",
       "    }\n",
       "\n",
       "    .dataframe thead th {\n",
       "        text-align: right;\n",
       "    }\n",
       "</style>\n",
       "<table border=\"1\" class=\"dataframe\">\n",
       "  <thead>\n",
       "    <tr style=\"text-align: right;\">\n",
       "      <th></th>\n",
       "      <th>HDI rank</th>\n",
       "      <th>HDI rank</th>\n",
       "      <th>Country</th>\n",
       "      <th>Human development index (HDI)</th>\n",
       "      <th>Life expectancy at birth</th>\n",
       "      <th>Expected years of schooling</th>\n",
       "      <th>Mean years of schooling</th>\n",
       "      <th>Gross national income (GNI) per capita</th>\n",
       "      <th>GNI per capita rank minus HDI rank</th>\n",
       "      <th>HDI rank</th>\n",
       "      <th>HDI rank</th>\n",
       "    </tr>\n",
       "  </thead>\n",
       "  <tbody>\n",
       "    <tr>\n",
       "      <th>0</th>\n",
       "      <td>1</td>\n",
       "      <td>1</td>\n",
       "      <td>Norway</td>\n",
       "      <td>0.953688</td>\n",
       "      <td>82.271</td>\n",
       "      <td>18.0608</td>\n",
       "      <td>12.5668</td>\n",
       "      <td>68058.6</td>\n",
       "      <td>5</td>\n",
       "      <td>1</td>\n",
       "      <td>1</td>\n",
       "    </tr>\n",
       "    <tr>\n",
       "      <th>1</th>\n",
       "      <td>2</td>\n",
       "      <td>2</td>\n",
       "      <td>Switzerland</td>\n",
       "      <td>0.945936</td>\n",
       "      <td>83.63</td>\n",
       "      <td>16.2088</td>\n",
       "      <td>13.3808</td>\n",
       "      <td>59374.7</td>\n",
       "      <td>8</td>\n",
       "      <td>2</td>\n",
       "      <td>2</td>\n",
       "    </tr>\n",
       "    <tr>\n",
       "      <th>2</th>\n",
       "      <td>3</td>\n",
       "      <td>3</td>\n",
       "      <td>Ireland</td>\n",
       "      <td>0.942473</td>\n",
       "      <td>82.103</td>\n",
       "      <td>18.7933</td>\n",
       "      <td>12.5263</td>\n",
       "      <td>55659.7</td>\n",
       "      <td>9</td>\n",
       "      <td>3</td>\n",
       "      <td>3</td>\n",
       "    </tr>\n",
       "    <tr>\n",
       "      <th>3</th>\n",
       "      <td>4</td>\n",
       "      <td>4</td>\n",
       "      <td>Germany</td>\n",
       "      <td>0.938785</td>\n",
       "      <td>81.18</td>\n",
       "      <td>17.0964</td>\n",
       "      <td>14.1321</td>\n",
       "      <td>46945.9</td>\n",
       "      <td>15</td>\n",
       "      <td>4</td>\n",
       "      <td>4</td>\n",
       "    </tr>\n",
       "    <tr>\n",
       "      <th>4</th>\n",
       "      <td>4</td>\n",
       "      <td>6</td>\n",
       "      <td>Hong Kong, China (SAR)</td>\n",
       "      <td>0.938809</td>\n",
       "      <td>84.687</td>\n",
       "      <td>16.5122</td>\n",
       "      <td>12.0381</td>\n",
       "      <td>60220.8</td>\n",
       "      <td>5</td>\n",
       "      <td>4</td>\n",
       "      <td>6</td>\n",
       "    </tr>\n",
       "    <tr>\n",
       "      <th>...</th>\n",
       "      <td>...</td>\n",
       "      <td>...</td>\n",
       "      <td>...</td>\n",
       "      <td>...</td>\n",
       "      <td>...</td>\n",
       "      <td>...</td>\n",
       "      <td>...</td>\n",
       "      <td>...</td>\n",
       "      <td>...</td>\n",
       "      <td>...</td>\n",
       "      <td>...</td>\n",
       "    </tr>\n",
       "    <tr>\n",
       "      <th>187</th>\n",
       "      <td>185</td>\n",
       "      <td>185</td>\n",
       "      <td>Burundi</td>\n",
       "      <td>0.422882</td>\n",
       "      <td>61.247</td>\n",
       "      <td>11.3046</td>\n",
       "      <td>3.12437</td>\n",
       "      <td>659.732</td>\n",
       "      <td>4</td>\n",
       "      <td>185</td>\n",
       "      <td>185</td>\n",
       "    </tr>\n",
       "    <tr>\n",
       "      <th>188</th>\n",
       "      <td>186</td>\n",
       "      <td>186</td>\n",
       "      <td>South Sudan</td>\n",
       "      <td>0.41277</td>\n",
       "      <td>57.604</td>\n",
       "      <td>5.00038</td>\n",
       "      <td>4.84913</td>\n",
       "      <td>1455.23</td>\n",
       "      <td>-7</td>\n",
       "      <td>186</td>\n",
       "      <td>186</td>\n",
       "    </tr>\n",
       "    <tr>\n",
       "      <th>189</th>\n",
       "      <td>187</td>\n",
       "      <td>187</td>\n",
       "      <td>Chad</td>\n",
       "      <td>0.401176</td>\n",
       "      <td>53.977</td>\n",
       "      <td>7.46536</td>\n",
       "      <td>2.4095</td>\n",
       "      <td>1715.57</td>\n",
       "      <td>-15</td>\n",
       "      <td>187</td>\n",
       "      <td>187</td>\n",
       "    </tr>\n",
       "    <tr>\n",
       "      <th>190</th>\n",
       "      <td>188</td>\n",
       "      <td>188</td>\n",
       "      <td>Central African Republic</td>\n",
       "      <td>0.380662</td>\n",
       "      <td>52.805</td>\n",
       "      <td>7.56836</td>\n",
       "      <td>4.282</td>\n",
       "      <td>776.676</td>\n",
       "      <td>0</td>\n",
       "      <td>188</td>\n",
       "      <td>188</td>\n",
       "    </tr>\n",
       "    <tr>\n",
       "      <th>191</th>\n",
       "      <td>189</td>\n",
       "      <td>189</td>\n",
       "      <td>Niger</td>\n",
       "      <td>0.376591</td>\n",
       "      <td>62.024</td>\n",
       "      <td>6.47145</td>\n",
       "      <td>2.02905</td>\n",
       "      <td>912.042</td>\n",
       "      <td>-3</td>\n",
       "      <td>189</td>\n",
       "      <td>189</td>\n",
       "    </tr>\n",
       "  </tbody>\n",
       "</table>\n",
       "<p>189 rows × 11 columns</p>\n",
       "</div>"
      ],
      "text/plain": [
       "    HDI rank HDI rank                   Country  \\\n",
       "0          1        1                    Norway   \n",
       "1          2        2               Switzerland   \n",
       "2          3        3                   Ireland   \n",
       "3          4        4                   Germany   \n",
       "4          4        6    Hong Kong, China (SAR)   \n",
       "..       ...      ...                       ...   \n",
       "187      185      185                   Burundi   \n",
       "188      186      186               South Sudan   \n",
       "189      187      187                      Chad   \n",
       "190      188      188  Central African Republic   \n",
       "191      189      189                     Niger   \n",
       "\n",
       "    Human development index (HDI)  Life expectancy at birth  \\\n",
       "0                         0.953688                   82.271   \n",
       "1                         0.945936                    83.63   \n",
       "2                         0.942473                   82.103   \n",
       "3                         0.938785                    81.18   \n",
       "4                         0.938809                   84.687   \n",
       "..                             ...                      ...   \n",
       "187                       0.422882                   61.247   \n",
       "188                        0.41277                   57.604   \n",
       "189                       0.401176                   53.977   \n",
       "190                       0.380662                   52.805   \n",
       "191                       0.376591                   62.024   \n",
       "\n",
       "    Expected years of schooling Mean years of schooling  \\\n",
       "0                       18.0608                 12.5668   \n",
       "1                       16.2088                 13.3808   \n",
       "2                       18.7933                 12.5263   \n",
       "3                       17.0964                 14.1321   \n",
       "4                       16.5122                 12.0381   \n",
       "..                          ...                     ...   \n",
       "187                     11.3046                 3.12437   \n",
       "188                     5.00038                 4.84913   \n",
       "189                     7.46536                  2.4095   \n",
       "190                     7.56836                   4.282   \n",
       "191                     6.47145                 2.02905   \n",
       "\n",
       "    Gross national income (GNI) per capita GNI per capita rank minus HDI rank  \\\n",
       "0                                  68058.6                                  5   \n",
       "1                                  59374.7                                  8   \n",
       "2                                  55659.7                                  9   \n",
       "3                                  46945.9                                 15   \n",
       "4                                  60220.8                                  5   \n",
       "..                                     ...                                ...   \n",
       "187                                659.732                                  4   \n",
       "188                                1455.23                                 -7   \n",
       "189                                1715.57                                -15   \n",
       "190                                776.676                                  0   \n",
       "191                                912.042                                 -3   \n",
       "\n",
       "    HDI rank HDI rank  \n",
       "0          1        1  \n",
       "1          2        2  \n",
       "2          3        3  \n",
       "3          4        4  \n",
       "4          4        6  \n",
       "..       ...      ...  \n",
       "187      185      185  \n",
       "188      186      186  \n",
       "189      187      187  \n",
       "190      188      188  \n",
       "191      189      189  \n",
       "\n",
       "[189 rows x 11 columns]"
      ]
     },
     "execution_count": 230,
     "metadata": {},
     "output_type": "execute_result"
    }
   ],
   "source": [
    "# the opposite\n",
    "hdi[~hdi.isnull().any(axis=1)]"
   ]
  },
  {
   "cell_type": "code",
   "execution_count": 231,
   "metadata": {},
   "outputs": [
    {
     "data": {
      "text/html": [
       "<div>\n",
       "<style scoped>\n",
       "    .dataframe tbody tr th:only-of-type {\n",
       "        vertical-align: middle;\n",
       "    }\n",
       "\n",
       "    .dataframe tbody tr th {\n",
       "        vertical-align: top;\n",
       "    }\n",
       "\n",
       "    .dataframe thead th {\n",
       "        text-align: right;\n",
       "    }\n",
       "</style>\n",
       "<table border=\"1\" class=\"dataframe\">\n",
       "  <thead>\n",
       "    <tr style=\"text-align: right;\">\n",
       "      <th></th>\n",
       "      <th>HDI rank</th>\n",
       "      <th>HDI rank</th>\n",
       "      <th>Country</th>\n",
       "      <th>Human development index (HDI)</th>\n",
       "      <th>Life expectancy at birth</th>\n",
       "      <th>Expected years of schooling</th>\n",
       "      <th>Mean years of schooling</th>\n",
       "      <th>Gross national income (GNI) per capita</th>\n",
       "      <th>GNI per capita rank minus HDI rank</th>\n",
       "      <th>HDI rank</th>\n",
       "      <th>HDI rank</th>\n",
       "    </tr>\n",
       "  </thead>\n",
       "  <tbody>\n",
       "    <tr>\n",
       "      <th>0</th>\n",
       "      <td>1</td>\n",
       "      <td>1</td>\n",
       "      <td>Norway</td>\n",
       "      <td>0.953688</td>\n",
       "      <td>82.271</td>\n",
       "      <td>18.0608</td>\n",
       "      <td>12.5668</td>\n",
       "      <td>68058.6</td>\n",
       "      <td>5</td>\n",
       "      <td>1</td>\n",
       "      <td>1</td>\n",
       "    </tr>\n",
       "    <tr>\n",
       "      <th>1</th>\n",
       "      <td>2</td>\n",
       "      <td>2</td>\n",
       "      <td>Switzerland</td>\n",
       "      <td>0.945936</td>\n",
       "      <td>83.63</td>\n",
       "      <td>16.2088</td>\n",
       "      <td>13.3808</td>\n",
       "      <td>59374.7</td>\n",
       "      <td>8</td>\n",
       "      <td>2</td>\n",
       "      <td>2</td>\n",
       "    </tr>\n",
       "    <tr>\n",
       "      <th>2</th>\n",
       "      <td>3</td>\n",
       "      <td>3</td>\n",
       "      <td>Ireland</td>\n",
       "      <td>0.942473</td>\n",
       "      <td>82.103</td>\n",
       "      <td>18.7933</td>\n",
       "      <td>12.5263</td>\n",
       "      <td>55659.7</td>\n",
       "      <td>9</td>\n",
       "      <td>3</td>\n",
       "      <td>3</td>\n",
       "    </tr>\n",
       "    <tr>\n",
       "      <th>3</th>\n",
       "      <td>4</td>\n",
       "      <td>4</td>\n",
       "      <td>Germany</td>\n",
       "      <td>0.938785</td>\n",
       "      <td>81.18</td>\n",
       "      <td>17.0964</td>\n",
       "      <td>14.1321</td>\n",
       "      <td>46945.9</td>\n",
       "      <td>15</td>\n",
       "      <td>4</td>\n",
       "      <td>4</td>\n",
       "    </tr>\n",
       "    <tr>\n",
       "      <th>4</th>\n",
       "      <td>4</td>\n",
       "      <td>6</td>\n",
       "      <td>Hong Kong, China (SAR)</td>\n",
       "      <td>0.938809</td>\n",
       "      <td>84.687</td>\n",
       "      <td>16.5122</td>\n",
       "      <td>12.0381</td>\n",
       "      <td>60220.8</td>\n",
       "      <td>5</td>\n",
       "      <td>4</td>\n",
       "      <td>6</td>\n",
       "    </tr>\n",
       "    <tr>\n",
       "      <th>...</th>\n",
       "      <td>...</td>\n",
       "      <td>...</td>\n",
       "      <td>...</td>\n",
       "      <td>...</td>\n",
       "      <td>...</td>\n",
       "      <td>...</td>\n",
       "      <td>...</td>\n",
       "      <td>...</td>\n",
       "      <td>...</td>\n",
       "      <td>...</td>\n",
       "      <td>...</td>\n",
       "    </tr>\n",
       "    <tr>\n",
       "      <th>184</th>\n",
       "      <td>185</td>\n",
       "      <td>185</td>\n",
       "      <td>Burundi</td>\n",
       "      <td>0.422882</td>\n",
       "      <td>61.247</td>\n",
       "      <td>11.3046</td>\n",
       "      <td>3.12437</td>\n",
       "      <td>659.732</td>\n",
       "      <td>4</td>\n",
       "      <td>185</td>\n",
       "      <td>185</td>\n",
       "    </tr>\n",
       "    <tr>\n",
       "      <th>185</th>\n",
       "      <td>186</td>\n",
       "      <td>186</td>\n",
       "      <td>South Sudan</td>\n",
       "      <td>0.41277</td>\n",
       "      <td>57.604</td>\n",
       "      <td>5.00038</td>\n",
       "      <td>4.84913</td>\n",
       "      <td>1455.23</td>\n",
       "      <td>-7</td>\n",
       "      <td>186</td>\n",
       "      <td>186</td>\n",
       "    </tr>\n",
       "    <tr>\n",
       "      <th>186</th>\n",
       "      <td>187</td>\n",
       "      <td>187</td>\n",
       "      <td>Chad</td>\n",
       "      <td>0.401176</td>\n",
       "      <td>53.977</td>\n",
       "      <td>7.46536</td>\n",
       "      <td>2.4095</td>\n",
       "      <td>1715.57</td>\n",
       "      <td>-15</td>\n",
       "      <td>187</td>\n",
       "      <td>187</td>\n",
       "    </tr>\n",
       "    <tr>\n",
       "      <th>187</th>\n",
       "      <td>188</td>\n",
       "      <td>188</td>\n",
       "      <td>Central African Republic</td>\n",
       "      <td>0.380662</td>\n",
       "      <td>52.805</td>\n",
       "      <td>7.56836</td>\n",
       "      <td>4.282</td>\n",
       "      <td>776.676</td>\n",
       "      <td>0</td>\n",
       "      <td>188</td>\n",
       "      <td>188</td>\n",
       "    </tr>\n",
       "    <tr>\n",
       "      <th>188</th>\n",
       "      <td>189</td>\n",
       "      <td>189</td>\n",
       "      <td>Niger</td>\n",
       "      <td>0.376591</td>\n",
       "      <td>62.024</td>\n",
       "      <td>6.47145</td>\n",
       "      <td>2.02905</td>\n",
       "      <td>912.042</td>\n",
       "      <td>-3</td>\n",
       "      <td>189</td>\n",
       "      <td>189</td>\n",
       "    </tr>\n",
       "  </tbody>\n",
       "</table>\n",
       "<p>189 rows × 11 columns</p>\n",
       "</div>"
      ],
      "text/plain": [
       "    HDI rank HDI rank                   Country  \\\n",
       "0          1        1                    Norway   \n",
       "1          2        2               Switzerland   \n",
       "2          3        3                   Ireland   \n",
       "3          4        4                   Germany   \n",
       "4          4        6    Hong Kong, China (SAR)   \n",
       "..       ...      ...                       ...   \n",
       "184      185      185                   Burundi   \n",
       "185      186      186               South Sudan   \n",
       "186      187      187                      Chad   \n",
       "187      188      188  Central African Republic   \n",
       "188      189      189                     Niger   \n",
       "\n",
       "    Human development index (HDI)  Life expectancy at birth  \\\n",
       "0                         0.953688                   82.271   \n",
       "1                         0.945936                    83.63   \n",
       "2                         0.942473                   82.103   \n",
       "3                         0.938785                    81.18   \n",
       "4                         0.938809                   84.687   \n",
       "..                             ...                      ...   \n",
       "184                       0.422882                   61.247   \n",
       "185                        0.41277                   57.604   \n",
       "186                       0.401176                   53.977   \n",
       "187                       0.380662                   52.805   \n",
       "188                       0.376591                   62.024   \n",
       "\n",
       "    Expected years of schooling Mean years of schooling  \\\n",
       "0                       18.0608                 12.5668   \n",
       "1                       16.2088                 13.3808   \n",
       "2                       18.7933                 12.5263   \n",
       "3                       17.0964                 14.1321   \n",
       "4                       16.5122                 12.0381   \n",
       "..                          ...                     ...   \n",
       "184                     11.3046                 3.12437   \n",
       "185                     5.00038                 4.84913   \n",
       "186                     7.46536                  2.4095   \n",
       "187                     7.56836                   4.282   \n",
       "188                     6.47145                 2.02905   \n",
       "\n",
       "    Gross national income (GNI) per capita GNI per capita rank minus HDI rank  \\\n",
       "0                                  68058.6                                  5   \n",
       "1                                  59374.7                                  8   \n",
       "2                                  55659.7                                  9   \n",
       "3                                  46945.9                                 15   \n",
       "4                                  60220.8                                  5   \n",
       "..                                     ...                                ...   \n",
       "184                                659.732                                  4   \n",
       "185                                1455.23                                 -7   \n",
       "186                                1715.57                                -15   \n",
       "187                                776.676                                  0   \n",
       "188                                912.042                                 -3   \n",
       "\n",
       "    HDI rank HDI rank  \n",
       "0          1        1  \n",
       "1          2        2  \n",
       "2          3        3  \n",
       "3          4        4  \n",
       "4          4        6  \n",
       "..       ...      ...  \n",
       "184      185      185  \n",
       "185      186      186  \n",
       "186      187      187  \n",
       "187      188      188  \n",
       "188      189      189  \n",
       "\n",
       "[189 rows x 11 columns]"
      ]
     },
     "execution_count": 231,
     "metadata": {},
     "output_type": "execute_result"
    }
   ],
   "source": [
    "hdi=hdi[~hdi.isnull().any(axis=1)]\n",
    "hdi.reset_index(drop=True, inplace=True)\n",
    "hdi"
   ]
  },
  {
   "cell_type": "code",
   "execution_count": null,
   "metadata": {},
   "outputs": [],
   "source": [
    "wikiLink=\"https://en.wikipedia.org/wiki/List_of_freedom_indices\"\n",
    "\n",
    "\n",
    "import IPython\n",
    "iframe = '<iframe src=' + wikiLink + ' width=700 height=350></iframe>'\n",
    "IPython.display.HTML(iframe)"
   ]
  },
  {
   "cell_type": "markdown",
   "metadata": {},
   "source": [
    "Let's try to get the sortable table using pandas:"
   ]
  },
  {
   "cell_type": "code",
   "execution_count": null,
   "metadata": {},
   "outputs": [],
   "source": [
    "import pandas as pd\n",
    "\n",
    "wikiTables=pd.read_html(wikiLink,header=0,attrs={'class': 'wikitable sortable'})"
   ]
  },
  {
   "cell_type": "markdown",
   "metadata": {},
   "source": [
    "I tried to get all those tables. I might have more than one:"
   ]
  },
  {
   "cell_type": "code",
   "execution_count": null,
   "metadata": {},
   "outputs": [],
   "source": [
    "# What do I have? / How many?\n",
    "type(wikiTables), len(wikiTables) "
   ]
  },
  {
   "cell_type": "markdown",
   "metadata": {},
   "source": [
    "I need to recover the first table from the list (the only one)."
   ]
  },
  {
   "cell_type": "code",
   "execution_count": null,
   "metadata": {},
   "outputs": [],
   "source": [
    "DF=wikiTables[0]\n",
    "\n",
    "#what is it?\n",
    "type(DF)"
   ]
  },
  {
   "cell_type": "markdown",
   "metadata": {},
   "source": [
    "Great!...we have a data frame; then:"
   ]
  },
  {
   "cell_type": "code",
   "execution_count": null,
   "metadata": {},
   "outputs": [],
   "source": [
    "DF.head()"
   ]
  },
  {
   "cell_type": "markdown",
   "metadata": {},
   "source": [
    "This data frame does not look like the one we see on the website. We need to improve the call:"
   ]
  },
  {
   "cell_type": "code",
   "execution_count": null,
   "metadata": {},
   "outputs": [],
   "source": [
    "# install 'beautifulsoup4'\n",
    "DF=pd.read_html(wikiLink,header=0,flavor='bs4',attrs={'class': 'wikitable sortable'})[0]\n",
    "DF.head()"
   ]
  },
  {
   "cell_type": "markdown",
   "metadata": {},
   "source": [
    "Combining BeautifulSoup (BS) and Pandas gave us the right result. But our work is not over.\n",
    "\n",
    "Pay attention to the cleaning pandas+BS have done: the 'n/a' was interpreted as **NaN**; no country flags in the data; and the headers are in the right place. \n",
    "\n",
    "However, to prepare a final data set, we should pay attention to the headers names to avoid _blanks_, and erase the _footnote_ call.\n",
    "\n",
    "We can have two strategies:\n",
    "* Brute-force!"
   ]
  },
  {
   "cell_type": "code",
   "execution_count": null,
   "metadata": {},
   "outputs": [],
   "source": [
    "# if we had a small number of names to change, we can use brute-force strategy:\n",
    "DF.columns=['Country',\n",
    " 'FreedomintheWorld',\n",
    " 'IndexofEconomicFreedom',\n",
    " 'PressFreedomIndex',\n",
    " 'DemocracyIndex']\n",
    "DF.head()"
   ]
  },
  {
   "cell_type": "markdown",
   "metadata": {},
   "source": [
    "* Using more computational thinking (algorithmic):"
   ]
  },
  {
   "cell_type": "code",
   "execution_count": null,
   "metadata": {},
   "outputs": [],
   "source": [
    "# if we had many columns, writing an algorith to rename the columns could be better:\n",
    "\n",
    "# recalling the data:\n",
    "DF=pd.read_html(wikiLink,header=0,flavor='bs4',attrs={'class': 'wikitable sortable'})[0]\n",
    "DF.columns"
   ]
  },
  {
   "cell_type": "markdown",
   "metadata": {},
   "source": [
    "I just recalled the data to do several steps:\n",
    "\n",
    "1. Find blanks.\n",
    "2. Find numbers.\n",
    "3. Find brackets (opening and closing).\n",
    "\n",
    "The previous requires a **regular expresssion**:"
   ]
  },
  {
   "cell_type": "code",
   "execution_count": null,
   "metadata": {},
   "outputs": [],
   "source": [
    "import re  # may need to be installed:\n",
    "\n",
    "# find blanks: \\\\s+\n",
    "# find numbers: \\\\d+\n",
    "# find opening bracket : \\\\[\n",
    "# find closing bracket: \\\\]\n",
    "\n",
    "# You can combine using '|' (or):\n",
    "pattern='\\\\s+|\\\\d+|\\\\[|\\\\]'\n",
    "nothing=''"
   ]
  },
  {
   "cell_type": "markdown",
   "metadata": {},
   "source": [
    "Now, let's see how this works for one case:"
   ]
  },
  {
   "cell_type": "code",
   "execution_count": null,
   "metadata": {},
   "outputs": [],
   "source": [
    "testString='Freedom in the World 2018[10]'\n",
    "re.sub(pattern,nothing,testString)"
   ]
  },
  {
   "cell_type": "markdown",
   "metadata": {},
   "source": [
    "Now, let's see how this works for ALL cases:"
   ]
  },
  {
   "cell_type": "code",
   "execution_count": null,
   "metadata": {},
   "outputs": [],
   "source": [
    "[re.sub(pattern,nothing,name) for name in DF.columns]"
   ]
  },
  {
   "cell_type": "markdown",
   "metadata": {},
   "source": [
    "We can verify we are matching well:"
   ]
  },
  {
   "cell_type": "code",
   "execution_count": null,
   "metadata": {},
   "outputs": [],
   "source": [
    "newNames=[re.sub(pattern,nothing,name) for name in DF.columns]\n",
    "\n",
    "# checking:\n",
    "list(zip(DF.columns,newNames))"
   ]
  },
  {
   "cell_type": "markdown",
   "metadata": {},
   "source": [
    "Let's turn that match into a dictionary:"
   ]
  },
  {
   "cell_type": "code",
   "execution_count": null,
   "metadata": {},
   "outputs": [],
   "source": [
    "{old:new for old,new in zip(DF.columns,newNames)}"
   ]
  },
  {
   "cell_type": "markdown",
   "metadata": {},
   "source": [
    "Once you have a dict like that one, you can use it to rename the columns with another function:"
   ]
  },
  {
   "cell_type": "code",
   "execution_count": null,
   "metadata": {},
   "outputs": [],
   "source": [
    "changes={old:new for old,new in zip(DF.columns,newNames)}\n",
    "\n",
    "DF.rename(columns=changes,inplace=True)"
   ]
  },
  {
   "cell_type": "markdown",
   "metadata": {},
   "source": [
    "If you had a set of new names, and you do not want to change every column name, that is the correct way to do it.\n",
    "\n",
    "Let's see the result:"
   ]
  },
  {
   "cell_type": "code",
   "execution_count": null,
   "metadata": {
    "scrolled": true
   },
   "outputs": [],
   "source": [
    "DF.head()"
   ]
  },
  {
   "cell_type": "markdown",
   "metadata": {},
   "source": [
    "A next step will be verifying if the answers are well coded:"
   ]
  },
  {
   "cell_type": "code",
   "execution_count": null,
   "metadata": {},
   "outputs": [],
   "source": [
    "DF.iloc[:,1::].describe()"
   ]
  },
  {
   "cell_type": "markdown",
   "metadata": {},
   "source": [
    "What were you looking for? \n",
    "Sometimes a category may be wrongly written in a cell, for instance, if you had 'Free' and 'free' or 'free ' to represent the same in one column, you have a mistake. Let's see if there is one here:"
   ]
  },
  {
   "cell_type": "code",
   "execution_count": null,
   "metadata": {},
   "outputs": [],
   "source": [
    "DF.FreedomintheWorld.value_counts()"
   ]
  },
  {
   "cell_type": "markdown",
   "metadata": {},
   "source": [
    " What we see is that this variable has its own correct set of answers. \n",
    " \n",
    " We can try that approach for each variable, but we can check the whole group of categorical values like thisL"
   ]
  },
  {
   "cell_type": "code",
   "execution_count": null,
   "metadata": {},
   "outputs": [],
   "source": [
    "# DF.iloc[:,1::] all columns but the first one\n",
    "# apply(set)  apply the function 'set()'  per column (get unique values)\n",
    "# tolist() convert to a list \n",
    "\n",
    "DF.iloc[:,1::].apply(set).tolist()"
   ]
  },
  {
   "cell_type": "markdown",
   "metadata": {},
   "source": [
    "[Go to page beginning](#beginning)\n",
    "____\n",
    "<a id='part3'></a>\n",
    "### Formatting"
   ]
  },
  {
   "cell_type": "markdown",
   "metadata": {},
   "source": [
    "The data seems _clean_, but we need now to be sure the information is in the right format. This varies according to the project; so, let me show you some steps during of the formatting stage.\n",
    "\n",
    "1. Verify the data types:\n"
   ]
  },
  {
   "cell_type": "code",
   "execution_count": null,
   "metadata": {},
   "outputs": [],
   "source": [
    "DF.dtypes"
   ]
  },
  {
   "cell_type": "markdown",
   "metadata": {},
   "source": [
    "All but the first variable are categories, not text (_object_). To convert them into categories you can do this:"
   ]
  },
  {
   "cell_type": "code",
   "execution_count": null,
   "metadata": {},
   "outputs": [],
   "source": [
    "headerNames=DF.columns\n",
    "DF[headerNames[1:]]=DF[headerNames[1:]].astype('category')"
   ]
  },
  {
   "cell_type": "markdown",
   "metadata": {},
   "source": [
    "When a variable is of categorical type, you can use particular functions for them:"
   ]
  },
  {
   "cell_type": "code",
   "execution_count": null,
   "metadata": {},
   "outputs": [],
   "source": [
    "DF.FreedomintheWorld.cat.categories"
   ]
  },
  {
   "cell_type": "code",
   "execution_count": null,
   "metadata": {},
   "outputs": [],
   "source": [
    "DF.IndexofEconomicFreedom.cat.categories"
   ]
  },
  {
   "cell_type": "code",
   "execution_count": null,
   "metadata": {},
   "outputs": [],
   "source": [
    "DF.PressFreedomIndex.cat.categories"
   ]
  },
  {
   "cell_type": "code",
   "execution_count": null,
   "metadata": {},
   "outputs": [],
   "source": [
    "DF.DemocracyIndex.cat.categories"
   ]
  },
  {
   "cell_type": "markdown",
   "metadata": {},
   "source": [
    "2. If ordinal, make the adjustment."
   ]
  },
  {
   "cell_type": "markdown",
   "metadata": {},
   "source": [
    "The order in which the categories differentiate a plain categorical from an ordinal categorical. They should be categorical but the order does not reflect the order it should. \n",
    "\n",
    "We can turn it into an ordinal doing the following:\n",
    "\n",
    "a. Find a good numeric sequence for the ordinal values:"
   ]
  },
  {
   "cell_type": "code",
   "execution_count": null,
   "metadata": {},
   "outputs": [],
   "source": [
    "# notice I am using the numbers in the same order as the list of categorical values:\n",
    "oldFree=list(DF.FreedomintheWorld.cat.categories)\n",
    "\n",
    "# '5 very good' / '4 good' / '3 middle' / '2 bad' / '1 very bad'\n",
    "\n",
    "newFree=[5,1,3]\n",
    "recodeFree={old:new for old,new in zip (oldFree,newFree)}\n",
    "\n",
    "oldEco=list(DF.IndexofEconomicFreedom.cat.categories)\n",
    "newEco=[5,3,4,2,1]\n",
    "recodeEco={old:new for old,new in zip (oldEco,newEco)}\n",
    "\n",
    "oldPress=list(DF.PressFreedomIndex.cat.categories)\n",
    "newPress=[2,5,3,4,1]\n",
    "recodePress={old:new for old,new in zip (oldPress,newPress)}\n",
    "\n",
    "oldDemo=list(DF.DemocracyIndex.cat.categories)\n",
    "newDemo=[1,4,5,2]\n",
    "recodeDemo={old:new for old,new in zip (oldDemo,newDemo)}"
   ]
  },
  {
   "cell_type": "markdown",
   "metadata": {},
   "source": [
    "b. Rename the still plain categorical:"
   ]
  },
  {
   "cell_type": "code",
   "execution_count": null,
   "metadata": {},
   "outputs": [],
   "source": [
    "DF.FreedomintheWorld.cat.rename_categories(recodeFree,inplace=True)\n",
    "\n",
    "DF.IndexofEconomicFreedom.cat.rename_categories(recodeEco,inplace=True)\n",
    "\n",
    "DF.PressFreedomIndex.cat.rename_categories(recodePress,inplace=True)\n",
    "\n",
    "DF.DemocracyIndex.cat.rename_categories(recodeDemo,inplace=True)\n",
    "\n",
    "# veamos:\n",
    "DF.head(10)"
   ]
  },
  {
   "cell_type": "markdown",
   "metadata": {},
   "source": [
    "c. Now turn the renamed columns into a numeric values:"
   ]
  },
  {
   "cell_type": "code",
   "execution_count": null,
   "metadata": {},
   "outputs": [],
   "source": [
    "DF[headerNames[1:]]=DF[headerNames[1:]].apply(pd.to_numeric)"
   ]
  },
  {
   "cell_type": "markdown",
   "metadata": {},
   "source": [
    "Let me verify:"
   ]
  },
  {
   "cell_type": "code",
   "execution_count": null,
   "metadata": {},
   "outputs": [],
   "source": [
    "DF.head()"
   ]
  },
  {
   "cell_type": "markdown",
   "metadata": {},
   "source": [
    "3. Try solving missing data presence\n",
    "\n",
    "The data has some missing data:"
   ]
  },
  {
   "cell_type": "code",
   "execution_count": null,
   "metadata": {},
   "outputs": [],
   "source": [
    "DF.info()"
   ]
  },
  {
   "cell_type": "markdown",
   "metadata": {},
   "source": [
    "Now comes the thinking: How to replace the missing values?\n",
    "\n",
    "Python can easily find and replace every missing value; but our strategy will be different:\n",
    "\n",
    "* _Freedom in the World_ has the least missing values, we will use this variable to see how the others behave.\n",
    "\n",
    "* Since the variables are ordinals (even though they are numbers now) a good candidate to impute a missing is the median NOT the mean (you can not compute the mean of an ordinal).\n",
    "\n",
    "Let's see:"
   ]
  },
  {
   "cell_type": "code",
   "execution_count": null,
   "metadata": {},
   "outputs": [],
   "source": [
    "#median per group: \n",
    "DF.groupby('FreedomintheWorld')[headerNames[2:]].median()"
   ]
  },
  {
   "cell_type": "markdown",
   "metadata": {},
   "source": [
    "We need to replace those medians whenever a missing value is found:"
   ]
  },
  {
   "cell_type": "code",
   "execution_count": null,
   "metadata": {},
   "outputs": [],
   "source": [
    "for col in headerNames[2:]:\n",
    "    # in each column, get median by FIW group, and use it to replace the missing values.\n",
    "    DF[col].fillna(DF.groupby([\"FreedomintheWorld\"])[col].transform(\"median\"), inplace=True)"
   ]
  },
  {
   "cell_type": "code",
   "execution_count": null,
   "metadata": {},
   "outputs": [],
   "source": [
    "DF.head(20)"
   ]
  },
  {
   "cell_type": "markdown",
   "metadata": {},
   "source": [
    "We can send this to R, in a simple CSV format:"
   ]
  },
  {
   "cell_type": "code",
   "execution_count": null,
   "metadata": {},
   "outputs": [],
   "source": [
    "#DF.to_csv(\"indexes.csv\",index=None)"
   ]
  },
  {
   "cell_type": "markdown",
   "metadata": {},
   "source": [
    "______\n",
    "\n",
    "## More examples\n",
    "\n",
    "### Case: Democracy Index"
   ]
  },
  {
   "cell_type": "markdown",
   "metadata": {},
   "source": [
    "Let me clean a similar data from wikipedia, about democracy index:"
   ]
  },
  {
   "cell_type": "code",
   "execution_count": null,
   "metadata": {},
   "outputs": [],
   "source": [
    "import pandas as pd #location:\n",
    "demoLink = \"https://en.wikipedia.org/wiki/Democracy_Index\" \n",
    "\n",
    "#collection\n",
    "demodex=pd.read_html(demoLink,header=0,flavor='bs4',attrs={'class': 'wikitable sortable'})[0]"
   ]
  },
  {
   "cell_type": "markdown",
   "metadata": {},
   "source": [
    "1. Looking for messiness:"
   ]
  },
  {
   "cell_type": "code",
   "execution_count": null,
   "metadata": {},
   "outputs": [],
   "source": [
    "# what's on top?\n",
    "# names? weird symbols? more links?\n",
    "demodex.head(10)"
   ]
  },
  {
   "cell_type": "code",
   "execution_count": null,
   "metadata": {},
   "outputs": [],
   "source": [
    "# what's at the bottom?\n",
    "# note? credits? extra info?\n",
    "\n",
    "demodex.tail(10)"
   ]
  },
  {
   "cell_type": "markdown",
   "metadata": {},
   "source": [
    "First, we see a column that have some messiness (symbol \"=\" in rank), but which can be deleted as their information is not relevant. Let me get rid of the _Score_, as it is just the mean of the other ones. The last row is the repetition of the headers, so that one should go, too:"
   ]
  },
  {
   "cell_type": "code",
   "execution_count": null,
   "metadata": {},
   "outputs": [],
   "source": [
    "#bye row 167, and two columns\n",
    "demodexClean=demodex.drop(index=167,columns=['Rank','Score'])"
   ]
  },
  {
   "cell_type": "code",
   "execution_count": null,
   "metadata": {},
   "outputs": [],
   "source": [
    "demodexClean"
   ]
  },
  {
   "cell_type": "markdown",
   "metadata": {},
   "source": [
    "As there are few names, we can change to smaller sizes:"
   ]
  },
  {
   "cell_type": "code",
   "execution_count": null,
   "metadata": {},
   "outputs": [],
   "source": [
    "newNames=['pluralism','effectiveness','participation','culture','liberties']\n",
    "\n",
    "# names from the second and before the last one '[1:-1]':\n",
    "newMapper={old:new for old,new in zip(demodexClean.columns[1:-1],newNames)}\n",
    "\n",
    "demodexClean.rename(columns=newMapper,inplace=True)"
   ]
  },
  {
   "cell_type": "code",
   "execution_count": null,
   "metadata": {},
   "outputs": [],
   "source": [
    "# this is what we have so far:\n",
    "demodexClean.head()"
   ]
  },
  {
   "cell_type": "markdown",
   "metadata": {},
   "source": [
    "It looks good so far. Let's go to formatting.\n",
    "\n",
    "2. Giving the rigth format:"
   ]
  },
  {
   "cell_type": "code",
   "execution_count": null,
   "metadata": {},
   "outputs": [],
   "source": [
    "# checking data types:\n",
    "demodexClean.dtypes"
   ]
  },
  {
   "cell_type": "markdown",
   "metadata": {},
   "source": [
    "Above, we realized the need to make some indices into numeric:"
   ]
  },
  {
   "cell_type": "code",
   "execution_count": null,
   "metadata": {},
   "outputs": [],
   "source": [
    "demodexClean[newNames]=demodexClean[newNames].apply(pd.to_numeric)"
   ]
  },
  {
   "cell_type": "markdown",
   "metadata": {},
   "source": [
    "The last one is a categorical variable:"
   ]
  },
  {
   "cell_type": "code",
   "execution_count": null,
   "metadata": {},
   "outputs": [],
   "source": [
    "demodexClean.Category.value_counts()"
   ]
  },
  {
   "cell_type": "markdown",
   "metadata": {},
   "source": [
    "When you have text, you could get the unique values of a column like this:"
   ]
  },
  {
   "cell_type": "code",
   "execution_count": null,
   "metadata": {},
   "outputs": [],
   "source": [
    "pd.unique(demodexClean.Category).tolist()"
   ]
  },
  {
   "cell_type": "markdown",
   "metadata": {},
   "source": [
    "Then, you can prepare the map to recode the values:"
   ]
  },
  {
   "cell_type": "code",
   "execution_count": null,
   "metadata": {},
   "outputs": [],
   "source": [
    "oldValues=pd.unique(demodexClean.Category).tolist()\n",
    "newValues=[4,3,2,1]\n",
    "mapNewOld={old:new for old,new in zip(oldValues,newValues)}\n",
    "mapNewOld"
   ]
  },
  {
   "cell_type": "markdown",
   "metadata": {},
   "source": [
    "You can do it in this way:"
   ]
  },
  {
   "cell_type": "code",
   "execution_count": null,
   "metadata": {},
   "outputs": [],
   "source": [
    "demodexClean.Category.replace(mapNewOld,inplace=True)"
   ]
  },
  {
   "cell_type": "code",
   "execution_count": null,
   "metadata": {},
   "outputs": [],
   "source": [
    "# or this one:\n",
    "# demodexClean.Category=demodexClean.Category.replace(mapNewOld)"
   ]
  },
  {
   "cell_type": "markdown",
   "metadata": {},
   "source": [
    "You can save it as a category, but that will be lost if sent to R:"
   ]
  },
  {
   "cell_type": "code",
   "execution_count": null,
   "metadata": {},
   "outputs": [],
   "source": [
    "demodexClean.Category=demodexClean.Category.astype('category')"
   ]
  },
  {
   "cell_type": "code",
   "execution_count": null,
   "metadata": {},
   "outputs": [],
   "source": [
    "demodexClean['Category'].cat.categories"
   ]
  },
  {
   "cell_type": "code",
   "execution_count": null,
   "metadata": {},
   "outputs": [],
   "source": [
    "# checking missing values\n",
    "\n",
    "demodexClean.info()"
   ]
  },
  {
   "cell_type": "markdown",
   "metadata": {},
   "source": [
    "This data is now ready for R."
   ]
  },
  {
   "cell_type": "code",
   "execution_count": null,
   "metadata": {},
   "outputs": [],
   "source": [
    "# demodexClean.to_csv(\"democracyIndex.csv\",index=None)"
   ]
  },
  {
   "cell_type": "markdown",
   "metadata": {},
   "source": [
    "### The case of Medicare:"
   ]
  },
  {
   "cell_type": "markdown",
   "metadata": {},
   "source": [
    "Here I will use data from [Medicare Beneficiary Enrollment and Demographics](https://dev.socrata.com/foundry/data.wa.gov/2cup-2fnu)"
   ]
  },
  {
   "cell_type": "code",
   "execution_count": null,
   "metadata": {},
   "outputs": [],
   "source": [
    "import requests\n",
    "\n",
    "# This time I am talking to the API from DATA.WA.GOV\n",
    "url = \"https://data.wa.gov/resource/2cup-2fnu.json?year=2014\"\n",
    "response = requests.get(url)\n",
    "if response.status_code == 200:\n",
    "    medicare = response.json()"
   ]
  },
  {
   "cell_type": "code",
   "execution_count": null,
   "metadata": {},
   "outputs": [],
   "source": [
    "# turning json into DF:\n",
    "medicare2014 = pd.DataFrame(medicare)"
   ]
  },
  {
   "cell_type": "code",
   "execution_count": null,
   "metadata": {},
   "outputs": [],
   "source": [
    "medicare2014.head()"
   ]
  },
  {
   "cell_type": "code",
   "execution_count": null,
   "metadata": {},
   "outputs": [],
   "source": [
    "medicare2014.tail()"
   ]
  },
  {
   "cell_type": "markdown",
   "metadata": {},
   "source": [
    "The first row is the total, it has to go:"
   ]
  },
  {
   "cell_type": "code",
   "execution_count": null,
   "metadata": {},
   "outputs": [],
   "source": [
    "#this one?\n",
    "medicare2014.drop(index=0).head()"
   ]
  },
  {
   "cell_type": "code",
   "execution_count": null,
   "metadata": {},
   "outputs": [],
   "source": [
    "#or this one?\n",
    "medicare2014.drop(index=0).reset_index().head()"
   ]
  },
  {
   "cell_type": "code",
   "execution_count": null,
   "metadata": {},
   "outputs": [],
   "source": [
    "#or this one?\n",
    "medicare2014.drop(index=0).reset_index(drop=True).head()"
   ]
  },
  {
   "cell_type": "markdown",
   "metadata": {},
   "source": [
    "When we use inplace, we should not concatenate:"
   ]
  },
  {
   "cell_type": "code",
   "execution_count": null,
   "metadata": {},
   "outputs": [],
   "source": [
    "medicare2014.drop(index=0,inplace=True)\n",
    "medicare2014.reset_index(drop=True,inplace=True)"
   ]
  },
  {
   "cell_type": "markdown",
   "metadata": {},
   "source": [
    "The result so far:"
   ]
  },
  {
   "cell_type": "code",
   "execution_count": null,
   "metadata": {},
   "outputs": [],
   "source": [
    "medicare2014.head()"
   ]
  },
  {
   "cell_type": "code",
   "execution_count": null,
   "metadata": {},
   "outputs": [],
   "source": [
    "# what we have\n",
    "medicare2014.dtypes"
   ]
  },
  {
   "cell_type": "markdown",
   "metadata": {},
   "source": [
    "Notice that the three variables before the last one, and county should be kept as objects, while the other should be numeric:"
   ]
  },
  {
   "cell_type": "code",
   "execution_count": null,
   "metadata": {},
   "outputs": [],
   "source": [
    "# get original order:\n",
    "original=medicare2014.columns.tolist()\n",
    "original"
   ]
  },
  {
   "cell_type": "code",
   "execution_count": null,
   "metadata": {},
   "outputs": [],
   "source": [
    "# new order:  (no need for * if one element)\n",
    "newOrder=[original[3],*original[14:], *original[0:3],*original[4:14],] # using '*'\n",
    "newOrder"
   ]
  },
  {
   "cell_type": "code",
   "execution_count": null,
   "metadata": {},
   "outputs": [],
   "source": [
    "# moving columns:\n",
    "\n",
    "medicare2014=medicare2014[newOrder]\n",
    "medicare2014.head()"
   ]
  },
  {
   "cell_type": "markdown",
   "metadata": {},
   "source": [
    "2. Formatting"
   ]
  },
  {
   "cell_type": "markdown",
   "metadata": {},
   "source": [
    "We can give the right format now:"
   ]
  },
  {
   "cell_type": "code",
   "execution_count": null,
   "metadata": {},
   "outputs": [],
   "source": [
    "headerNames=medicare2014.columns\n",
    "medicare2014[headerNames[4::]]=medicare2014[headerNames[4::]].apply(pd.to_numeric)"
   ]
  },
  {
   "cell_type": "code",
   "execution_count": null,
   "metadata": {},
   "outputs": [],
   "source": [
    "#check data types:\n",
    "medicare2014.dtypes"
   ]
  },
  {
   "cell_type": "markdown",
   "metadata": {},
   "source": [
    "We can explore the variables:"
   ]
  },
  {
   "cell_type": "code",
   "execution_count": null,
   "metadata": {},
   "outputs": [],
   "source": [
    "medicare2014.describe(include='all') # to include categorical"
   ]
  },
  {
   "cell_type": "code",
   "execution_count": null,
   "metadata": {},
   "outputs": [],
   "source": [
    "medicare2014.info()"
   ]
  },
  {
   "cell_type": "markdown",
   "metadata": {},
   "source": [
    "There are some missing values, but we will leave it so. So the last step will be just to save the file:"
   ]
  },
  {
   "cell_type": "code",
   "execution_count": null,
   "metadata": {},
   "outputs": [],
   "source": [
    "# medicare2014.to_csv(\"medicare2014.csv\",index=None)"
   ]
  },
  {
   "cell_type": "markdown",
   "metadata": {},
   "source": [
    "### Case: Public education:\n",
    "\n",
    "When you visit the [website](https://nces.ed.gov/ccd/) of the Common Core of Data from the US Department of Education, you can get a data set with detailed information on public schools at the state of Washington:"
   ]
  },
  {
   "cell_type": "code",
   "execution_count": null,
   "metadata": {},
   "outputs": [],
   "source": [
    "dataFile='https://github.com/EvansDataScience/data/raw/master/wapubs.xlsx'\n",
    "schoolPub=pd.read_excel(dataFile) "
   ]
  },
  {
   "cell_type": "markdown",
   "metadata": {},
   "source": [
    "1. Looking for messiness:"
   ]
  },
  {
   "cell_type": "code",
   "execution_count": null,
   "metadata": {},
   "outputs": [],
   "source": [
    "schoolPub.head(20)"
   ]
  },
  {
   "cell_type": "markdown",
   "metadata": {},
   "source": [
    "The first row is not the beginning of the table. We need to skip 11 rows; but pay attention to what you are deleting, as if is telling you how missing values were coded."
   ]
  },
  {
   "cell_type": "code",
   "execution_count": null,
   "metadata": {},
   "outputs": [],
   "source": [
    "schoolPub=pd.read_excel(dataFile,skiprows=11,na_values=['†','‡','–'])\n",
    "schoolPub.head()"
   ]
  },
  {
   "cell_type": "code",
   "execution_count": null,
   "metadata": {},
   "outputs": [],
   "source": [
    "#checking the tail:\n",
    "schoolPub.tail()"
   ]
  },
  {
   "cell_type": "markdown",
   "metadata": {},
   "source": [
    "The headers have blanks and symbols, getting rid of them here:"
   ]
  },
  {
   "cell_type": "code",
   "execution_count": null,
   "metadata": {},
   "outputs": [],
   "source": [
    "import re  \n",
    "\n",
    "pattern='\\\\*|\\\\s+'\n",
    "nothing=''\n",
    "schoolPub.columns=[re.sub(pattern,nothing,columnName) for columnName in schoolPub.columns]\n",
    "schoolPub.columns"
   ]
  },
  {
   "cell_type": "markdown",
   "metadata": {},
   "source": [
    "Clean names allow better exploring. Notice we solved the missing values above. You could have done this instead:"
   ]
  },
  {
   "cell_type": "code",
   "execution_count": null,
   "metadata": {},
   "outputs": [],
   "source": [
    "#symbolsForNA=['†','‡','–'] \n",
    "\n",
    "#import numpy as np  #numpy manages the nan for pandas\n",
    "#schoolPub.replace(symbolsForNA,np.nan,inplace=True) # in the whole data frame!!"
   ]
  },
  {
   "cell_type": "markdown",
   "metadata": {},
   "source": [
    "2. Formatting"
   ]
  },
  {
   "cell_type": "code",
   "execution_count": null,
   "metadata": {},
   "outputs": [],
   "source": [
    "schoolPub.dtypes"
   ]
  },
  {
   "cell_type": "markdown",
   "metadata": {},
   "source": [
    "Even though we cleaned the missing values, there might be more in the text columns that may be hidden. Obviously, 'SchoolName','District','CountyName','StreetAddress','City','State' are text, but the other are possibly categorical.\n",
    "\n",
    "So let me explore all the other ones, which are of type _object_:"
   ]
  },
  {
   "cell_type": "code",
   "execution_count": null,
   "metadata": {},
   "outputs": [],
   "source": [
    "notUsed=['SchoolName','District','CountyName','StreetAddress','City','State']\n",
    " \n",
    "# These are the ones without the obvious text columns\n",
    "schoolPub.drop(notUsed,axis=1).head()"
   ]
  },
  {
   "cell_type": "code",
   "execution_count": null,
   "metadata": {},
   "outputs": [],
   "source": [
    "# # These are the ones without the obvious text columns, but of the type 'object':\n",
    "schoolPub.drop(notUsed,axis=1).select_dtypes(include='object').head()"
   ]
  },
  {
   "cell_type": "markdown",
   "metadata": {},
   "source": [
    "We need to see the categories there:"
   ]
  },
  {
   "cell_type": "code",
   "execution_count": null,
   "metadata": {},
   "outputs": [],
   "source": [
    "schoolPub.drop(notUsed,axis=1).select_dtypes(include='object').apply(set).tolist()"
   ]
  },
  {
   "cell_type": "markdown",
   "metadata": {},
   "source": [
    "We need to take care of the missing value '**N**':"
   ]
  },
  {
   "cell_type": "code",
   "execution_count": null,
   "metadata": {},
   "outputs": [],
   "source": [
    "schoolPub.Locale.value_counts(dropna=False)"
   ]
  },
  {
   "cell_type": "markdown",
   "metadata": {},
   "source": [
    "Then:"
   ]
  },
  {
   "cell_type": "code",
   "execution_count": null,
   "metadata": {},
   "outputs": [],
   "source": [
    "import numpy as np  #numpy manages the nan for pandas\n",
    "\n",
    "schoolPub.replace(['N'],np.nan,inplace=True) # in the whole data frame!!"
   ]
  },
  {
   "cell_type": "code",
   "execution_count": null,
   "metadata": {},
   "outputs": [],
   "source": [
    "# So:\n",
    "schoolPub.Locale.value_counts(dropna=False)"
   ]
  },
  {
   "cell_type": "markdown",
   "metadata": {},
   "source": [
    "Another important step could be to give add some text to make the school grades a recognizable ordering (considering the file will be read in R:"
   ]
  },
  {
   "cell_type": "code",
   "execution_count": null,
   "metadata": {},
   "outputs": [],
   "source": [
    "# this is wrong:\n",
    "'PK'<'KG'<'01'"
   ]
  },
  {
   "cell_type": "code",
   "execution_count": null,
   "metadata": {},
   "outputs": [],
   "source": [
    "# this is OK:\n",
    "'-1 PK'<'0 KG'<'01'"
   ]
  },
  {
   "cell_type": "code",
   "execution_count": null,
   "metadata": {},
   "outputs": [],
   "source": [
    "# using replace:\n",
    "\n",
    "schoolPub.replace({'PK':\"-1 PK\", \"KG\":\"0 KG\"},inplace=True)"
   ]
  },
  {
   "cell_type": "markdown",
   "metadata": {},
   "source": [
    "Unless you want to recode other [variables](https://nces.ed.gov/programs/edge/docs/LOCALE_CLASSIFICATIONS.pdf), we could save this file:"
   ]
  },
  {
   "cell_type": "code",
   "execution_count": null,
   "metadata": {},
   "outputs": [],
   "source": [
    "# schoolPub.to_csv(\"schoolPub.csv\",index=None)"
   ]
  },
  {
   "cell_type": "markdown",
   "metadata": {},
   "source": [
    "### Case: SNAP"
   ]
  },
  {
   "cell_type": "code",
   "execution_count": null,
   "metadata": {},
   "outputs": [],
   "source": [
    "import pandas as pd\n",
    "dataFile=\"https://github.com/EvansDataScience/data/raw/master/cntysnap.xls\"\n",
    "snapBen=pd.read_excel(dataFile)"
   ]
  },
  {
   "cell_type": "code",
   "execution_count": null,
   "metadata": {},
   "outputs": [],
   "source": [
    "# first rows:\n",
    "snapBen.head()"
   ]
  },
  {
   "cell_type": "markdown",
   "metadata": {},
   "source": [
    "We need to skip some rows:"
   ]
  },
  {
   "cell_type": "code",
   "execution_count": null,
   "metadata": {},
   "outputs": [],
   "source": [
    "# skipping:\n",
    "\n",
    "snapBen=pd.read_excel(dataFile,skiprows=2)\n",
    "snapBen.head()"
   ]
  },
  {
   "cell_type": "code",
   "execution_count": null,
   "metadata": {},
   "outputs": [],
   "source": [
    "# check the tail\n",
    "snapBen.tail()"
   ]
  },
  {
   "cell_type": "code",
   "execution_count": null,
   "metadata": {},
   "outputs": [],
   "source": [
    "# checking names:\n",
    "snapBen.columns"
   ]
  },
  {
   "cell_type": "code",
   "execution_count": null,
   "metadata": {},
   "outputs": [],
   "source": [
    "# getting rid of blanks:\n",
    "\n",
    "pattern='\\\\s+'\n",
    "nothing=''\n",
    "snapBen.columns=[re.sub(pattern,nothing,columnName) for columnName in snapBen.columns]"
   ]
  },
  {
   "cell_type": "markdown",
   "metadata": {},
   "source": [
    "There is a zero FIPS code, take a look:"
   ]
  },
  {
   "cell_type": "code",
   "execution_count": null,
   "metadata": {},
   "outputs": [],
   "source": [
    "snapBen[snapBen['CountyFIPScode']==0]"
   ]
  },
  {
   "cell_type": "markdown",
   "metadata": {},
   "source": [
    "Those are rows about States. I will keep the counties:"
   ]
  },
  {
   "cell_type": "code",
   "execution_count": null,
   "metadata": {},
   "outputs": [],
   "source": [
    "snapBenUSCounties=snapBen[snapBen['CountyFIPScode']!=0]"
   ]
  },
  {
   "cell_type": "code",
   "execution_count": null,
   "metadata": {},
   "outputs": [],
   "source": [
    "# checking data types:\n",
    "snapBenUSCounties.dtypes"
   ]
  },
  {
   "cell_type": "markdown",
   "metadata": {},
   "source": [
    "The counties tell you to what State they belong, so we could use that to create a new column. Let's see a simple example on how to get information from a text:"
   ]
  },
  {
   "cell_type": "code",
   "execution_count": null,
   "metadata": {},
   "outputs": [],
   "source": [
    "# using split,a function for strings:\n",
    "'Autauga County, AL'.split(', ') # notice the space after the comma\n",
    "# you get a list:"
   ]
  },
  {
   "cell_type": "markdown",
   "metadata": {},
   "source": [
    "The **split**, in this case, returns the state in the second position of the list (index=1), then:"
   ]
  },
  {
   "cell_type": "code",
   "execution_count": null,
   "metadata": {},
   "outputs": [],
   "source": [
    "# saving every second element for each element in the column:\n",
    "states=[element.split(', ')[1] for element in snapBenUSCounties.Name]\n",
    "\n",
    "# make that list a new column\n",
    "snapBenUSCounties=snapBenUSCounties.assign(StateName=states)\n",
    "\n",
    "# checking:\n",
    "snapBenUSCounties"
   ]
  },
  {
   "cell_type": "markdown",
   "metadata": {},
   "source": [
    "The new column was created. We could get rid of the state information from the counties column:"
   ]
  },
  {
   "cell_type": "code",
   "execution_count": null,
   "metadata": {},
   "outputs": [],
   "source": [
    "# just keep county names\n",
    "counties=[element.split(', ')[0] for element in snapBenUSCounties.Name]\n",
    "snapBenUSCounties=snapBenUSCounties.assign(Name=counties)"
   ]
  },
  {
   "cell_type": "code",
   "execution_count": null,
   "metadata": {},
   "outputs": [],
   "source": [
    "# quick look:\n",
    "\n",
    "snapBenUSCounties.head() # last column will be ate the end..."
   ]
  },
  {
   "cell_type": "markdown",
   "metadata": {},
   "source": [
    "We can have a better column order:"
   ]
  },
  {
   "cell_type": "code",
   "execution_count": null,
   "metadata": {},
   "outputs": [],
   "source": [
    "oldNames=snapBenUSCounties.columns.tolist()\n",
    "oldNames"
   ]
  },
  {
   "cell_type": "code",
   "execution_count": null,
   "metadata": {},
   "outputs": [],
   "source": [
    "newNames=[*oldNames[:2],oldNames[-1],*oldNames[2:-1]]\n",
    "newNames          "
   ]
  },
  {
   "cell_type": "code",
   "execution_count": null,
   "metadata": {},
   "outputs": [],
   "source": [
    "# reordering columns:\n",
    "\n",
    "snapBenUSCounties=snapBenUSCounties[newNames]\n",
    "snapBenUSCounties.head()"
   ]
  },
  {
   "cell_type": "code",
   "execution_count": null,
   "metadata": {},
   "outputs": [],
   "source": [
    "# JUST SAVING...\n",
    "#snapBenUSCounties.to_csv(\"snapBenUSCounties.csv\",index=None)"
   ]
  },
  {
   "cell_type": "markdown",
   "metadata": {},
   "source": [
    "### Case: Multiple data sets"
   ]
  },
  {
   "cell_type": "code",
   "execution_count": null,
   "metadata": {},
   "outputs": [],
   "source": [
    "corruptLink='https://raw.githubusercontent.com/EvansDataScience/data/master/corruption.csv'\n",
    "econoLink='https://raw.githubusercontent.com/EvansDataScience/data/master/economic.csv'\n",
    "enviroLink='https://raw.githubusercontent.com/EvansDataScience/data/master/environment.csv'\n",
    "pressLink='https://raw.githubusercontent.com/EvansDataScience/data/master/pressfreedom.csv'"
   ]
  },
  {
   "cell_type": "markdown",
   "metadata": {},
   "source": [
    "* The _corruptlink_ has data about the _Corruption Perception Index_ (CPI) produced by [Transparency International](https://www.transparency.org/).\n",
    "\n",
    "* The _econoLink_ has data about the _Economic Freedom Index_ (EFI) produced by [Fraser Institute](https://www.fraserinstitute.org).\n",
    "\n",
    "* The _enviroLink_ has data about the _Environment Performance Index_ (EPI) produced by [Yale University and Columbia University in collaboration with the World Economic Forum](https://epi.envirocenter.yale.edu/).\n",
    "\n",
    "* The _pressLink_ has data about the _World Press Freedom Index_ (WPFI) produced by [Reporters Without Borders](https://rsf.org/en/world-press-freedom-index).\n",
    "\n",
    "\n",
    "In this case, I want to join them (not concatenate):"
   ]
  },
  {
   "cell_type": "code",
   "execution_count": null,
   "metadata": {},
   "outputs": [],
   "source": [
    "import pandas as pd\n",
    "corrupt=pd.read_csv(corruptLink,encoding='Latin-1')\n",
    "econo=pd.read_csv(econoLink,encoding='Latin-1')\n",
    "enviro=pd.read_csv(enviroLink,encoding='Latin-1')\n",
    "press=pd.read_csv(pressLink,encoding='Latin-1')"
   ]
  },
  {
   "cell_type": "markdown",
   "metadata": {},
   "source": [
    "As each data set has a differing amount of rows (countries), and possibly a different way to name each one, the result will be far from perfect:"
   ]
  },
  {
   "cell_type": "code",
   "execution_count": null,
   "metadata": {},
   "outputs": [],
   "source": [
    "join1=pd.merge(corrupt,econo)\n",
    "join2=pd.merge(press,enviro)\n",
    "indexes=pd.merge(join1,join2)"
   ]
  },
  {
   "cell_type": "markdown",
   "metadata": {},
   "source": [
    "As always it is good to verify the data types:"
   ]
  },
  {
   "cell_type": "code",
   "execution_count": null,
   "metadata": {},
   "outputs": [],
   "source": [
    "indexes.dtypes"
   ]
  },
  {
   "cell_type": "markdown",
   "metadata": {},
   "source": [
    "And check descriptives:"
   ]
  },
  {
   "cell_type": "code",
   "execution_count": null,
   "metadata": {},
   "outputs": [],
   "source": [
    "indexes.describe(include='all') "
   ]
  },
  {
   "cell_type": "code",
   "execution_count": null,
   "metadata": {},
   "outputs": [],
   "source": [
    "indexes.head()"
   ]
  },
  {
   "cell_type": "markdown",
   "metadata": {},
   "source": [
    "There is some formatting needed:"
   ]
  },
  {
   "cell_type": "markdown",
   "metadata": {},
   "source": [
    "Let's order it:"
   ]
  },
  {
   "cell_type": "code",
   "execution_count": null,
   "metadata": {},
   "outputs": [],
   "source": [
    "oldCols=indexes.columns.tolist()\n",
    "oldCols"
   ]
  },
  {
   "cell_type": "markdown",
   "metadata": {},
   "source": [
    "When we do not have slices, there is extra work:"
   ]
  },
  {
   "cell_type": "code",
   "execution_count": null,
   "metadata": {},
   "outputs": [],
   "source": [
    "numericIndex=[oldCols[i] for i in [1,3,4,6]]\n",
    "numericIndex"
   ]
  },
  {
   "cell_type": "code",
   "execution_count": null,
   "metadata": {},
   "outputs": [],
   "source": [
    "newValues=[oldCols[0],oldCols[2],*numericIndex,oldCols[5],oldCols[7]]\n",
    "newValues"
   ]
  },
  {
   "cell_type": "markdown",
   "metadata": {},
   "source": [
    "Then, the new order will be:"
   ]
  },
  {
   "cell_type": "code",
   "execution_count": null,
   "metadata": {},
   "outputs": [],
   "source": [
    "indexes=indexes[newValues]\n",
    "indexes.head()"
   ]
  },
  {
   "cell_type": "markdown",
   "metadata": {},
   "source": [
    "There are several numeric values. Let's see a summary:"
   ]
  },
  {
   "cell_type": "code",
   "execution_count": null,
   "metadata": {},
   "outputs": [],
   "source": [
    "indexes.describe()"
   ]
  },
  {
   "cell_type": "markdown",
   "metadata": {},
   "source": [
    "It is important to find some monotony issues in these values:"
   ]
  },
  {
   "cell_type": "code",
   "execution_count": null,
   "metadata": {},
   "outputs": [],
   "source": [
    "% matplotlib inline\n",
    "import matplotlib.pyplot as plt\n",
    "pd.plotting.scatter_matrix(indexes.iloc[:,2:6])\n",
    "plt.show()"
   ]
  },
  {
   "cell_type": "markdown",
   "metadata": {},
   "source": [
    "Score press is negatively correlated to the rest. That means that the score for that column needs to be reversed:"
   ]
  },
  {
   "cell_type": "code",
   "execution_count": null,
   "metadata": {},
   "outputs": [],
   "source": [
    "# creating reversing function:\n",
    "def reverse(aColumn):\n",
    "    return max(aColumn) - aColumn + min(aColumn)"
   ]
  },
  {
   "cell_type": "code",
   "execution_count": null,
   "metadata": {},
   "outputs": [],
   "source": [
    "# reversing using function:\n",
    "indexes.scorepress=reverse(indexes.scorepress)"
   ]
  },
  {
   "cell_type": "markdown",
   "metadata": {},
   "source": [
    "We should see a different result:"
   ]
  },
  {
   "cell_type": "code",
   "execution_count": null,
   "metadata": {},
   "outputs": [],
   "source": [
    "pd.plotting.scatter_matrix(indexes.iloc[:,2:6])\n",
    "plt.show()"
   ]
  },
  {
   "cell_type": "markdown",
   "metadata": {},
   "source": [
    "The variable _presscat_ needs to be an ordinal factor."
   ]
  },
  {
   "cell_type": "code",
   "execution_count": null,
   "metadata": {},
   "outputs": [],
   "source": [
    "indexes['presscat'].value_counts()"
   ]
  },
  {
   "cell_type": "code",
   "execution_count": null,
   "metadata": {},
   "outputs": [],
   "source": [
    "indexes['presscat'].replace({'Medium':2, \"High\":3, \"Low\":1},inplace=True)"
   ]
  },
  {
   "cell_type": "code",
   "execution_count": null,
   "metadata": {},
   "outputs": [],
   "source": [
    "indexes['presscat'].value_counts(sort=False)"
   ]
  },
  {
   "cell_type": "markdown",
   "metadata": {},
   "source": [
    "The numbers will help R users when they set it as an ordinal. You can convert them to ordinal, but that information will be lost in R."
   ]
  },
  {
   "cell_type": "code",
   "execution_count": null,
   "metadata": {},
   "outputs": [],
   "source": [
    "indexes.head()"
   ]
  },
  {
   "cell_type": "markdown",
   "metadata": {},
   "source": [
    "We are proposing that the categories coded as numbers follow an asceding format, then let's check if _environmentCat_ should be changed:"
   ]
  },
  {
   "cell_type": "code",
   "execution_count": null,
   "metadata": {},
   "outputs": [],
   "source": [
    "indexes['environmentCat'].value_counts()"
   ]
  },
  {
   "cell_type": "markdown",
   "metadata": {},
   "source": [
    "As there is no need for that, just save the file:"
   ]
  },
  {
   "cell_type": "code",
   "execution_count": null,
   "metadata": {},
   "outputs": [],
   "source": [
    "# indexes.to_csv(\"indexes.csv\",index=None)"
   ]
  },
  {
   "cell_type": "markdown",
   "metadata": {
    "collapsed": true
   },
   "source": [
    "\n",
    "____\n",
    "\n",
    "* [Go to page beginning](#beginning)\n",
    "* [Go to REPO in Github](https://github.com/eScienceWinterSchool/PythonSession)\n",
    "* [Go to WinterSchool Repos](https://github.com/eScienceWinterSchool)"
   ]
  }
 ],
 "metadata": {
  "anaconda-cloud": {
   "attach-environment": true,
   "summary": "test"
  },
  "hide_input": false,
  "kernelspec": {
   "display_name": "Python 3",
   "language": "python",
   "name": "python3"
  },
  "language_info": {
   "codemirror_mode": {
    "name": "ipython",
    "version": 3
   },
   "file_extension": ".py",
   "mimetype": "text/x-python",
   "name": "python",
   "nbconvert_exporter": "python",
   "pygments_lexer": "ipython3",
   "version": "3.7.5"
  }
 },
 "nbformat": 4,
 "nbformat_minor": 1
}
