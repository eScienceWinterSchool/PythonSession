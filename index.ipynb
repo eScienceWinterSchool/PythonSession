{
 "cells": [
  {
   "cell_type": "markdown",
   "metadata": {},
   "source": [
    "<center><img src=\"https://i.imgur.com/hkb7Bq7.png\" width=\"500\"></center>\n",
    "\n",
    "\n",
    "### **Prof. José Manuel Magallanes, PhD**\n",
    "\n",
    "* Professor, Departamento de Ciencias Sociales, Pontificia Universidad Católica del Perú, [jmagallanes@pucp.edu.pe](mailto:jmagallanes@pucp.edu.pe)\n",
    "\n",
    "* Visiting Professor, Evans School of Public Policy and Governance / Senior Data Science Fellow, eScience Institute, University of Washington, [magajm@uw.edu](mailto:magajm@uw.edu)\n",
    "_____\n",
    "\n",
    "_____"
   ]
  },
  {
   "cell_type": "markdown",
   "metadata": {},
   "source": [
    "<a id='home'></a>\n",
    "\n",
    "# Introduction to Python\n",
    "\n",
    "### Using Python for Pre Processing\n",
    "\n",
    "In the session we will see the use of Python to:\n",
    "\n",
    "1. Collect data as dataframes into Python\n",
    "\n",
    "2. Preprocess a data frame:\n",
    "    * [Fix column names](#fixcolnames)\n",
    "    * [Subset data](#subset)    \n",
    "    * [Look for non-standar missing values](#lookfornas)\n",
    "    * [Missing values](#missingcellvalues)\n",
    "    * [Format data types](#formatdtypes)\n",
    "\n",
    "\n",
    "3. Merge both tables:\n",
    "    * [Basic merge](#merging)\n",
    "    * [Fuzzy merge](#fuzzmerging)\n",
    "\n",
    "\n",
    "4. Prepare a file for further analysis\n",
    "    * [Scaling](#scaling)\n",
    "    * [Exporting](#exporting)\n",
    "\n"
   ]
  },
  {
   "cell_type": "markdown",
   "metadata": {},
   "source": [
    "## 1. Collect data tables into Python\n",
    "\n",
    "I have the data in a cloud folder, which I downloadded from this [link](https://hdr.undp.org/data-center/documentation-and-downloads) (_Table 1_)."
   ]
  },
  {
   "cell_type": "code",
   "execution_count": 1,
   "metadata": {},
   "outputs": [],
   "source": [
    "# Location of data file\n",
    "linkFile=\"https://github.com/eScienceWinterSchool/PythonSession/raw/master/data/HDR21-22_Statistical_Annex_HDI_Table.xlsx\""
   ]
  },
  {
   "cell_type": "markdown",
   "metadata": {},
   "source": [
    "Reading in a table from a file using pandas, since it is an Excel file, I requires **openpyxl**:"
   ]
  },
  {
   "cell_type": "code",
   "execution_count": 2,
   "metadata": {},
   "outputs": [
    {
     "name": "stdout",
     "output_type": "stream",
     "text": [
      "Name: openpyxl\r\n",
      "Version: 3.0.10\r\n",
      "Summary: A Python library to read/write Excel 2010 xlsx/xlsm files\r\n",
      "Home-page: https://openpyxl.readthedocs.io\r\n",
      "Author: See AUTHORS\r\n",
      "Author-email: charlie.clark@clark-consulting.eu\r\n",
      "License: MIT\r\n",
      "Location: /Users/JoseManuel/opt/anaconda3/envs/WinterSchool-3_11/lib/python3.11/site-packages\r\n",
      "Requires: et_xmlfile\r\n",
      "Required-by: \r\n"
     ]
    }
   ],
   "source": [
    "# available in my computer?\n",
    "!pip show openpyxl"
   ]
  },
  {
   "cell_type": "markdown",
   "metadata": {},
   "source": [
    "If not available, please go to Anaconda and install it. Once installed, or if available, continue:"
   ]
  },
  {
   "cell_type": "code",
   "execution_count": 4,
   "metadata": {},
   "outputs": [],
   "source": [
    "# choose the right function:\n",
    "import pandas as pd\n",
    "\n",
    "hdiFile=pd.read_excel(linkFile)"
   ]
  },
  {
   "cell_type": "markdown",
   "metadata": {},
   "source": [
    "Take a look (as it is in Excel, it might be a good idea to see it in from Excel too)"
   ]
  },
  {
   "cell_type": "code",
   "execution_count": 5,
   "metadata": {},
   "outputs": [
    {
     "data": {
      "text/html": [
       "<div>\n",
       "<style scoped>\n",
       "    .dataframe tbody tr th:only-of-type {\n",
       "        vertical-align: middle;\n",
       "    }\n",
       "\n",
       "    .dataframe tbody tr th {\n",
       "        vertical-align: top;\n",
       "    }\n",
       "\n",
       "    .dataframe thead th {\n",
       "        text-align: right;\n",
       "    }\n",
       "</style>\n",
       "<table border=\"1\" class=\"dataframe\">\n",
       "  <thead>\n",
       "    <tr style=\"text-align: right;\">\n",
       "      <th></th>\n",
       "      <th>Back</th>\n",
       "      <th>Table 1. Human Development Index and its components</th>\n",
       "      <th>Unnamed: 2</th>\n",
       "      <th>Unnamed: 3</th>\n",
       "      <th>Unnamed: 4</th>\n",
       "      <th>Unnamed: 5</th>\n",
       "      <th>Unnamed: 6</th>\n",
       "      <th>Unnamed: 7</th>\n",
       "      <th>Unnamed: 8</th>\n",
       "      <th>Unnamed: 9</th>\n",
       "      <th>Unnamed: 10</th>\n",
       "      <th>Unnamed: 11</th>\n",
       "      <th>Unnamed: 12</th>\n",
       "      <th>Unnamed: 13</th>\n",
       "      <th>Unnamed: 14</th>\n",
       "    </tr>\n",
       "  </thead>\n",
       "  <tbody>\n",
       "    <tr>\n",
       "      <th>0</th>\n",
       "      <td>NaN</td>\n",
       "      <td>NaN</td>\n",
       "      <td>NaN</td>\n",
       "      <td>NaN</td>\n",
       "      <td>NaN</td>\n",
       "      <td>NaN</td>\n",
       "      <td>NaN</td>\n",
       "      <td>NaN</td>\n",
       "      <td>NaN</td>\n",
       "      <td>NaN</td>\n",
       "      <td>NaN</td>\n",
       "      <td>NaN</td>\n",
       "      <td>NaN</td>\n",
       "      <td>NaN</td>\n",
       "      <td>NaN</td>\n",
       "    </tr>\n",
       "    <tr>\n",
       "      <th>1</th>\n",
       "      <td>NaN</td>\n",
       "      <td>NaN</td>\n",
       "      <td>NaN</td>\n",
       "      <td>NaN</td>\n",
       "      <td>SDG3</td>\n",
       "      <td>NaN</td>\n",
       "      <td>SDG4.3</td>\n",
       "      <td>NaN</td>\n",
       "      <td>SDG4.4</td>\n",
       "      <td>NaN</td>\n",
       "      <td>SDG8.5</td>\n",
       "      <td>NaN</td>\n",
       "      <td>NaN</td>\n",
       "      <td>NaN</td>\n",
       "      <td>NaN</td>\n",
       "    </tr>\n",
       "    <tr>\n",
       "      <th>2</th>\n",
       "      <td>NaN</td>\n",
       "      <td>NaN</td>\n",
       "      <td>NaN</td>\n",
       "      <td>NaN</td>\n",
       "      <td>NaN</td>\n",
       "      <td>NaN</td>\n",
       "      <td>NaN</td>\n",
       "      <td>NaN</td>\n",
       "      <td>NaN</td>\n",
       "      <td>NaN</td>\n",
       "      <td>NaN</td>\n",
       "      <td>NaN</td>\n",
       "      <td>NaN</td>\n",
       "      <td>NaN</td>\n",
       "      <td>NaN</td>\n",
       "    </tr>\n",
       "    <tr>\n",
       "      <th>3</th>\n",
       "      <td>NaN</td>\n",
       "      <td>NaN</td>\n",
       "      <td>Human Development Index (HDI)</td>\n",
       "      <td>NaN</td>\n",
       "      <td>Life expectancy at birth</td>\n",
       "      <td>NaN</td>\n",
       "      <td>Expected years of schooling</td>\n",
       "      <td>NaN</td>\n",
       "      <td>Mean years of schooling</td>\n",
       "      <td>NaN</td>\n",
       "      <td>Gross national income (GNI) per capita</td>\n",
       "      <td>NaN</td>\n",
       "      <td>GNI per capita rank minus HDI rank</td>\n",
       "      <td>NaN</td>\n",
       "      <td>HDI rank</td>\n",
       "    </tr>\n",
       "    <tr>\n",
       "      <th>4</th>\n",
       "      <td>HDI rank</td>\n",
       "      <td>Country</td>\n",
       "      <td>Value</td>\n",
       "      <td>NaN</td>\n",
       "      <td>(years)</td>\n",
       "      <td>NaN</td>\n",
       "      <td>(years)</td>\n",
       "      <td>NaN</td>\n",
       "      <td>(years)</td>\n",
       "      <td>NaN</td>\n",
       "      <td>(2017 PPP $)</td>\n",
       "      <td>NaN</td>\n",
       "      <td>NaN</td>\n",
       "      <td>NaN</td>\n",
       "      <td>NaN</td>\n",
       "    </tr>\n",
       "    <tr>\n",
       "      <th>...</th>\n",
       "      <td>...</td>\n",
       "      <td>...</td>\n",
       "      <td>...</td>\n",
       "      <td>...</td>\n",
       "      <td>...</td>\n",
       "      <td>...</td>\n",
       "      <td>...</td>\n",
       "      <td>...</td>\n",
       "      <td>...</td>\n",
       "      <td>...</td>\n",
       "      <td>...</td>\n",
       "      <td>...</td>\n",
       "      <td>...</td>\n",
       "      <td>...</td>\n",
       "      <td>...</td>\n",
       "    </tr>\n",
       "    <tr>\n",
       "      <th>271</th>\n",
       "      <td>NaN</td>\n",
       "      <td>Column 2: UNDESA (2022a).</td>\n",
       "      <td>NaN</td>\n",
       "      <td>NaN</td>\n",
       "      <td>NaN</td>\n",
       "      <td>NaN</td>\n",
       "      <td>NaN</td>\n",
       "      <td>NaN</td>\n",
       "      <td>NaN</td>\n",
       "      <td>NaN</td>\n",
       "      <td>NaN</td>\n",
       "      <td>NaN</td>\n",
       "      <td>NaN</td>\n",
       "      <td>NaN</td>\n",
       "      <td>NaN</td>\n",
       "    </tr>\n",
       "    <tr>\n",
       "      <th>272</th>\n",
       "      <td>NaN</td>\n",
       "      <td>Column 3: CEDLAS and World Bank (2022), ICF Ma...</td>\n",
       "      <td>NaN</td>\n",
       "      <td>NaN</td>\n",
       "      <td>NaN</td>\n",
       "      <td>NaN</td>\n",
       "      <td>NaN</td>\n",
       "      <td>NaN</td>\n",
       "      <td>NaN</td>\n",
       "      <td>NaN</td>\n",
       "      <td>NaN</td>\n",
       "      <td>NaN</td>\n",
       "      <td>NaN</td>\n",
       "      <td>NaN</td>\n",
       "      <td>NaN</td>\n",
       "    </tr>\n",
       "    <tr>\n",
       "      <th>273</th>\n",
       "      <td>NaN</td>\n",
       "      <td>Column 4: Barro and Lee (2018), ICF Macro Demo...</td>\n",
       "      <td>NaN</td>\n",
       "      <td>NaN</td>\n",
       "      <td>NaN</td>\n",
       "      <td>NaN</td>\n",
       "      <td>NaN</td>\n",
       "      <td>NaN</td>\n",
       "      <td>NaN</td>\n",
       "      <td>NaN</td>\n",
       "      <td>NaN</td>\n",
       "      <td>NaN</td>\n",
       "      <td>NaN</td>\n",
       "      <td>NaN</td>\n",
       "      <td>NaN</td>\n",
       "    </tr>\n",
       "    <tr>\n",
       "      <th>274</th>\n",
       "      <td>NaN</td>\n",
       "      <td>Column 5: IMF (2022), UNDESA (2022b), United N...</td>\n",
       "      <td>NaN</td>\n",
       "      <td>NaN</td>\n",
       "      <td>NaN</td>\n",
       "      <td>NaN</td>\n",
       "      <td>NaN</td>\n",
       "      <td>NaN</td>\n",
       "      <td>NaN</td>\n",
       "      <td>NaN</td>\n",
       "      <td>NaN</td>\n",
       "      <td>NaN</td>\n",
       "      <td>NaN</td>\n",
       "      <td>NaN</td>\n",
       "      <td>NaN</td>\n",
       "    </tr>\n",
       "    <tr>\n",
       "      <th>275</th>\n",
       "      <td>NaN</td>\n",
       "      <td>Column 6: Calculated based on data in columns ...</td>\n",
       "      <td>NaN</td>\n",
       "      <td>NaN</td>\n",
       "      <td>NaN</td>\n",
       "      <td>NaN</td>\n",
       "      <td>NaN</td>\n",
       "      <td>NaN</td>\n",
       "      <td>NaN</td>\n",
       "      <td>NaN</td>\n",
       "      <td>NaN</td>\n",
       "      <td>NaN</td>\n",
       "      <td>NaN</td>\n",
       "      <td>NaN</td>\n",
       "      <td>NaN</td>\n",
       "    </tr>\n",
       "  </tbody>\n",
       "</table>\n",
       "<p>276 rows × 15 columns</p>\n",
       "</div>"
      ],
      "text/plain": [
       "         Back Table 1. Human Development Index and its components   \\\n",
       "0         NaN                                                NaN     \n",
       "1         NaN                                                NaN     \n",
       "2         NaN                                                NaN     \n",
       "3         NaN                                                NaN     \n",
       "4    HDI rank                                            Country     \n",
       "..        ...                                                ...     \n",
       "271       NaN                          Column 2: UNDESA (2022a).     \n",
       "272       NaN  Column 3: CEDLAS and World Bank (2022), ICF Ma...     \n",
       "273       NaN  Column 4: Barro and Lee (2018), ICF Macro Demo...     \n",
       "274       NaN  Column 5: IMF (2022), UNDESA (2022b), United N...     \n",
       "275       NaN  Column 6: Calculated based on data in columns ...     \n",
       "\n",
       "                         Unnamed: 2  Unnamed: 3                Unnamed: 4  \\\n",
       "0                               NaN         NaN                       NaN   \n",
       "1                               NaN         NaN                      SDG3   \n",
       "2                               NaN         NaN                       NaN   \n",
       "3    Human Development Index (HDI)          NaN  Life expectancy at birth   \n",
       "4                             Value         NaN                   (years)   \n",
       "..                              ...         ...                       ...   \n",
       "271                             NaN         NaN                       NaN   \n",
       "272                             NaN         NaN                       NaN   \n",
       "273                             NaN         NaN                       NaN   \n",
       "274                             NaN         NaN                       NaN   \n",
       "275                             NaN         NaN                       NaN   \n",
       "\n",
       "    Unnamed: 5                   Unnamed: 6 Unnamed: 7  \\\n",
       "0          NaN                          NaN        NaN   \n",
       "1          NaN                       SDG4.3        NaN   \n",
       "2          NaN                          NaN        NaN   \n",
       "3          NaN  Expected years of schooling        NaN   \n",
       "4          NaN                      (years)        NaN   \n",
       "..         ...                          ...        ...   \n",
       "271        NaN                          NaN        NaN   \n",
       "272        NaN                          NaN        NaN   \n",
       "273        NaN                          NaN        NaN   \n",
       "274        NaN                          NaN        NaN   \n",
       "275        NaN                          NaN        NaN   \n",
       "\n",
       "                  Unnamed: 8 Unnamed: 9  \\\n",
       "0                        NaN        NaN   \n",
       "1                     SDG4.4        NaN   \n",
       "2                        NaN        NaN   \n",
       "3    Mean years of schooling        NaN   \n",
       "4                    (years)        NaN   \n",
       "..                       ...        ...   \n",
       "271                      NaN        NaN   \n",
       "272                      NaN        NaN   \n",
       "273                      NaN        NaN   \n",
       "274                      NaN        NaN   \n",
       "275                      NaN        NaN   \n",
       "\n",
       "                                Unnamed: 10 Unnamed: 11  \\\n",
       "0                                       NaN         NaN   \n",
       "1                                    SDG8.5         NaN   \n",
       "2                                       NaN         NaN   \n",
       "3    Gross national income (GNI) per capita         NaN   \n",
       "4                              (2017 PPP $)         NaN   \n",
       "..                                      ...         ...   \n",
       "271                                     NaN         NaN   \n",
       "272                                     NaN         NaN   \n",
       "273                                     NaN         NaN   \n",
       "274                                     NaN         NaN   \n",
       "275                                     NaN         NaN   \n",
       "\n",
       "                            Unnamed: 12 Unnamed: 13 Unnamed: 14  \n",
       "0                                   NaN         NaN         NaN  \n",
       "1                                   NaN         NaN         NaN  \n",
       "2                                   NaN         NaN         NaN  \n",
       "3    GNI per capita rank minus HDI rank         NaN    HDI rank  \n",
       "4                                   NaN         NaN         NaN  \n",
       "..                                  ...         ...         ...  \n",
       "271                                 NaN         NaN         NaN  \n",
       "272                                 NaN         NaN         NaN  \n",
       "273                                 NaN         NaN         NaN  \n",
       "274                                 NaN         NaN         NaN  \n",
       "275                                 NaN         NaN         NaN  \n",
       "\n",
       "[276 rows x 15 columns]"
      ]
     },
     "execution_count": 5,
     "metadata": {},
     "output_type": "execute_result"
    }
   ],
   "source": [
    "hdiFile"
   ]
  },
  {
   "cell_type": "markdown",
   "metadata": {},
   "source": [
    "[Home](#home)\n",
    "______"
   ]
  },
  {
   "cell_type": "markdown",
   "metadata": {},
   "source": [
    "______\n",
    "\n",
    "## 2.  Pre Processing\n",
    "\n",
    "<a id='fixcolnames'></a>\n",
    "\n",
    "### Fix column names\n",
    "\n",
    "Notice that we do not have the right column names. So we need to save them before we go on:"
   ]
  },
  {
   "cell_type": "code",
   "execution_count": 6,
   "metadata": {},
   "outputs": [
    {
     "data": {
      "text/html": [
       "<div>\n",
       "<style scoped>\n",
       "    .dataframe tbody tr th:only-of-type {\n",
       "        vertical-align: middle;\n",
       "    }\n",
       "\n",
       "    .dataframe tbody tr th {\n",
       "        vertical-align: top;\n",
       "    }\n",
       "\n",
       "    .dataframe thead th {\n",
       "        text-align: right;\n",
       "    }\n",
       "</style>\n",
       "<table border=\"1\" class=\"dataframe\">\n",
       "  <thead>\n",
       "    <tr style=\"text-align: right;\">\n",
       "      <th></th>\n",
       "      <th>Back</th>\n",
       "      <th>Table 1. Human Development Index and its components</th>\n",
       "      <th>Unnamed: 2</th>\n",
       "      <th>Unnamed: 3</th>\n",
       "      <th>Unnamed: 4</th>\n",
       "      <th>Unnamed: 5</th>\n",
       "      <th>Unnamed: 6</th>\n",
       "      <th>Unnamed: 7</th>\n",
       "      <th>Unnamed: 8</th>\n",
       "      <th>Unnamed: 9</th>\n",
       "      <th>Unnamed: 10</th>\n",
       "      <th>Unnamed: 11</th>\n",
       "      <th>Unnamed: 12</th>\n",
       "      <th>Unnamed: 13</th>\n",
       "      <th>Unnamed: 14</th>\n",
       "    </tr>\n",
       "  </thead>\n",
       "  <tbody>\n",
       "    <tr>\n",
       "      <th>3</th>\n",
       "      <td>NaN</td>\n",
       "      <td>NaN</td>\n",
       "      <td>Human Development Index (HDI)</td>\n",
       "      <td>NaN</td>\n",
       "      <td>Life expectancy at birth</td>\n",
       "      <td>NaN</td>\n",
       "      <td>Expected years of schooling</td>\n",
       "      <td>NaN</td>\n",
       "      <td>Mean years of schooling</td>\n",
       "      <td>NaN</td>\n",
       "      <td>Gross national income (GNI) per capita</td>\n",
       "      <td>NaN</td>\n",
       "      <td>GNI per capita rank minus HDI rank</td>\n",
       "      <td>NaN</td>\n",
       "      <td>HDI rank</td>\n",
       "    </tr>\n",
       "    <tr>\n",
       "      <th>4</th>\n",
       "      <td>HDI rank</td>\n",
       "      <td>Country</td>\n",
       "      <td>Value</td>\n",
       "      <td>NaN</td>\n",
       "      <td>(years)</td>\n",
       "      <td>NaN</td>\n",
       "      <td>(years)</td>\n",
       "      <td>NaN</td>\n",
       "      <td>(years)</td>\n",
       "      <td>NaN</td>\n",
       "      <td>(2017 PPP $)</td>\n",
       "      <td>NaN</td>\n",
       "      <td>NaN</td>\n",
       "      <td>NaN</td>\n",
       "      <td>NaN</td>\n",
       "    </tr>\n",
       "  </tbody>\n",
       "</table>\n",
       "</div>"
      ],
      "text/plain": [
       "       Back Table 1. Human Development Index and its components   \\\n",
       "3       NaN                                                NaN     \n",
       "4  HDI rank                                            Country     \n",
       "\n",
       "                       Unnamed: 2  Unnamed: 3                Unnamed: 4  \\\n",
       "3  Human Development Index (HDI)          NaN  Life expectancy at birth   \n",
       "4                           Value         NaN                   (years)   \n",
       "\n",
       "  Unnamed: 5                   Unnamed: 6 Unnamed: 7               Unnamed: 8  \\\n",
       "3        NaN  Expected years of schooling        NaN  Mean years of schooling   \n",
       "4        NaN                      (years)        NaN                  (years)   \n",
       "\n",
       "  Unnamed: 9                             Unnamed: 10 Unnamed: 11  \\\n",
       "3        NaN  Gross national income (GNI) per capita         NaN   \n",
       "4        NaN                            (2017 PPP $)         NaN   \n",
       "\n",
       "                          Unnamed: 12 Unnamed: 13 Unnamed: 14  \n",
       "3  GNI per capita rank minus HDI rank         NaN    HDI rank  \n",
       "4                                 NaN         NaN         NaN  "
      ]
     },
     "execution_count": 6,
     "metadata": {},
     "output_type": "execute_result"
    }
   ],
   "source": [
    "hdiFile.iloc[[3,4],:]"
   ]
  },
  {
   "cell_type": "markdown",
   "metadata": {},
   "source": [
    "As you see, the column names are in different positions:"
   ]
  },
  {
   "cell_type": "code",
   "execution_count": 9,
   "metadata": {},
   "outputs": [
    {
     "data": {
      "text/plain": [
       "Unnamed: 2             Human Development Index (HDI) \n",
       "Unnamed: 3                                        NaN\n",
       "Unnamed: 4                   Life expectancy at birth\n",
       "Unnamed: 5                                        NaN\n",
       "Unnamed: 6                Expected years of schooling\n",
       "Unnamed: 7                                        NaN\n",
       "Unnamed: 8                    Mean years of schooling\n",
       "Unnamed: 9                                        NaN\n",
       "Unnamed: 10    Gross national income (GNI) per capita\n",
       "Unnamed: 11                                       NaN\n",
       "Unnamed: 12        GNI per capita rank minus HDI rank\n",
       "Unnamed: 13                                       NaN\n",
       "Unnamed: 14                                  HDI rank\n",
       "Name: 3, dtype: object"
      ]
     },
     "execution_count": 9,
     "metadata": {},
     "output_type": "execute_result"
    }
   ],
   "source": [
    "# here\n",
    "hdiFile.iloc[3,2:]"
   ]
  },
  {
   "cell_type": "code",
   "execution_count": 10,
   "metadata": {},
   "outputs": [
    {
     "data": {
      "text/plain": [
       "Back                                                    HDI rank\n",
       "Table 1. Human Development Index and its components      Country\n",
       "Name: 4, dtype: object"
      ]
     },
     "execution_count": 10,
     "metadata": {},
     "output_type": "execute_result"
    }
   ],
   "source": [
    "# and here\n",
    "hdiFile.iloc[4,:2]"
   ]
  },
  {
   "cell_type": "markdown",
   "metadata": {},
   "source": [
    "Can we _concatenate_ those values?"
   ]
  },
  {
   "cell_type": "code",
   "execution_count": 11,
   "metadata": {},
   "outputs": [
    {
     "data": {
      "text/plain": [
       "Back                                                    NaN\n",
       "Table 1. Human Development Index and its components     NaN\n",
       "Unnamed: 10                                             NaN\n",
       "Unnamed: 11                                             NaN\n",
       "Unnamed: 12                                             NaN\n",
       "Unnamed: 13                                             NaN\n",
       "Unnamed: 14                                             NaN\n",
       "Unnamed: 2                                              NaN\n",
       "Unnamed: 3                                              NaN\n",
       "Unnamed: 4                                              NaN\n",
       "Unnamed: 5                                              NaN\n",
       "Unnamed: 6                                              NaN\n",
       "Unnamed: 7                                              NaN\n",
       "Unnamed: 8                                              NaN\n",
       "Unnamed: 9                                              NaN\n",
       "dtype: object"
      ]
     },
     "execution_count": 11,
     "metadata": {},
     "output_type": "execute_result"
    }
   ],
   "source": [
    "# save column names \n",
    "RealHeaders=hdiFile.iloc[4,:2]+hdiFile.iloc[3,2:]\n",
    "# these are:\n",
    "RealHeaders"
   ]
  },
  {
   "cell_type": "markdown",
   "metadata": {},
   "source": [
    "It is easier if we have lists, so we use **.to_list()**:"
   ]
  },
  {
   "cell_type": "code",
   "execution_count": 12,
   "metadata": {},
   "outputs": [
    {
     "data": {
      "text/plain": [
       "['HDI rank',\n",
       " 'Country',\n",
       " 'Human Development Index (HDI) ',\n",
       " nan,\n",
       " 'Life expectancy at birth',\n",
       " nan,\n",
       " 'Expected years of schooling',\n",
       " nan,\n",
       " 'Mean years of schooling',\n",
       " nan,\n",
       " 'Gross national income (GNI) per capita',\n",
       " nan,\n",
       " 'GNI per capita rank minus HDI rank',\n",
       " nan,\n",
       " 'HDI rank']"
      ]
     },
     "execution_count": 12,
     "metadata": {},
     "output_type": "execute_result"
    }
   ],
   "source": [
    "# save column names turned to lists\n",
    "RealHeaders=hdiFile.iloc[4,:2].to_list()+hdiFile.iloc[3,2:].to_list()\n",
    "# these are:\n",
    "RealHeaders"
   ]
  },
  {
   "cell_type": "markdown",
   "metadata": {},
   "source": [
    "Let's see how it looks now:"
   ]
  },
  {
   "cell_type": "code",
   "execution_count": 13,
   "metadata": {},
   "outputs": [
    {
     "data": {
      "text/html": [
       "<div>\n",
       "<style scoped>\n",
       "    .dataframe tbody tr th:only-of-type {\n",
       "        vertical-align: middle;\n",
       "    }\n",
       "\n",
       "    .dataframe tbody tr th {\n",
       "        vertical-align: top;\n",
       "    }\n",
       "\n",
       "    .dataframe thead th {\n",
       "        text-align: right;\n",
       "    }\n",
       "</style>\n",
       "<table border=\"1\" class=\"dataframe\">\n",
       "  <thead>\n",
       "    <tr style=\"text-align: right;\">\n",
       "      <th></th>\n",
       "      <th>HDI rank</th>\n",
       "      <th>Country</th>\n",
       "      <th>Human Development Index (HDI)</th>\n",
       "      <th>NaN</th>\n",
       "      <th>Life expectancy at birth</th>\n",
       "      <th>NaN</th>\n",
       "      <th>Expected years of schooling</th>\n",
       "      <th>NaN</th>\n",
       "      <th>Mean years of schooling</th>\n",
       "      <th>NaN</th>\n",
       "      <th>Gross national income (GNI) per capita</th>\n",
       "      <th>NaN</th>\n",
       "      <th>GNI per capita rank minus HDI rank</th>\n",
       "      <th>NaN</th>\n",
       "      <th>HDI rank</th>\n",
       "    </tr>\n",
       "  </thead>\n",
       "  <tbody>\n",
       "    <tr>\n",
       "      <th>0</th>\n",
       "      <td>NaN</td>\n",
       "      <td>NaN</td>\n",
       "      <td>NaN</td>\n",
       "      <td>NaN</td>\n",
       "      <td>NaN</td>\n",
       "      <td>NaN</td>\n",
       "      <td>NaN</td>\n",
       "      <td>NaN</td>\n",
       "      <td>NaN</td>\n",
       "      <td>NaN</td>\n",
       "      <td>NaN</td>\n",
       "      <td>NaN</td>\n",
       "      <td>NaN</td>\n",
       "      <td>NaN</td>\n",
       "      <td>NaN</td>\n",
       "    </tr>\n",
       "    <tr>\n",
       "      <th>1</th>\n",
       "      <td>NaN</td>\n",
       "      <td>NaN</td>\n",
       "      <td>NaN</td>\n",
       "      <td>NaN</td>\n",
       "      <td>SDG3</td>\n",
       "      <td>NaN</td>\n",
       "      <td>SDG4.3</td>\n",
       "      <td>NaN</td>\n",
       "      <td>SDG4.4</td>\n",
       "      <td>NaN</td>\n",
       "      <td>SDG8.5</td>\n",
       "      <td>NaN</td>\n",
       "      <td>NaN</td>\n",
       "      <td>NaN</td>\n",
       "      <td>NaN</td>\n",
       "    </tr>\n",
       "    <tr>\n",
       "      <th>2</th>\n",
       "      <td>NaN</td>\n",
       "      <td>NaN</td>\n",
       "      <td>NaN</td>\n",
       "      <td>NaN</td>\n",
       "      <td>NaN</td>\n",
       "      <td>NaN</td>\n",
       "      <td>NaN</td>\n",
       "      <td>NaN</td>\n",
       "      <td>NaN</td>\n",
       "      <td>NaN</td>\n",
       "      <td>NaN</td>\n",
       "      <td>NaN</td>\n",
       "      <td>NaN</td>\n",
       "      <td>NaN</td>\n",
       "      <td>NaN</td>\n",
       "    </tr>\n",
       "    <tr>\n",
       "      <th>3</th>\n",
       "      <td>NaN</td>\n",
       "      <td>NaN</td>\n",
       "      <td>Human Development Index (HDI)</td>\n",
       "      <td>NaN</td>\n",
       "      <td>Life expectancy at birth</td>\n",
       "      <td>NaN</td>\n",
       "      <td>Expected years of schooling</td>\n",
       "      <td>NaN</td>\n",
       "      <td>Mean years of schooling</td>\n",
       "      <td>NaN</td>\n",
       "      <td>Gross national income (GNI) per capita</td>\n",
       "      <td>NaN</td>\n",
       "      <td>GNI per capita rank minus HDI rank</td>\n",
       "      <td>NaN</td>\n",
       "      <td>HDI rank</td>\n",
       "    </tr>\n",
       "    <tr>\n",
       "      <th>4</th>\n",
       "      <td>HDI rank</td>\n",
       "      <td>Country</td>\n",
       "      <td>Value</td>\n",
       "      <td>NaN</td>\n",
       "      <td>(years)</td>\n",
       "      <td>NaN</td>\n",
       "      <td>(years)</td>\n",
       "      <td>NaN</td>\n",
       "      <td>(years)</td>\n",
       "      <td>NaN</td>\n",
       "      <td>(2017 PPP $)</td>\n",
       "      <td>NaN</td>\n",
       "      <td>NaN</td>\n",
       "      <td>NaN</td>\n",
       "      <td>NaN</td>\n",
       "    </tr>\n",
       "  </tbody>\n",
       "</table>\n",
       "</div>"
      ],
      "text/plain": [
       "   HDI rank  Country  Human Development Index (HDI)  NaN  \\\n",
       "0       NaN      NaN                             NaN NaN   \n",
       "1       NaN      NaN                             NaN NaN   \n",
       "2       NaN      NaN                             NaN NaN   \n",
       "3       NaN      NaN  Human Development Index (HDI)  NaN   \n",
       "4  HDI rank  Country                           Value NaN   \n",
       "\n",
       "   Life expectancy at birth  NaN  Expected years of schooling  NaN  \\\n",
       "0                       NaN  NaN                          NaN  NaN   \n",
       "1                      SDG3  NaN                       SDG4.3  NaN   \n",
       "2                       NaN  NaN                          NaN  NaN   \n",
       "3  Life expectancy at birth  NaN  Expected years of schooling  NaN   \n",
       "4                   (years)  NaN                      (years)  NaN   \n",
       "\n",
       "   Mean years of schooling  NaN  Gross national income (GNI) per capita  NaN  \\\n",
       "0                      NaN  NaN                                     NaN  NaN   \n",
       "1                   SDG4.4  NaN                                  SDG8.5  NaN   \n",
       "2                      NaN  NaN                                     NaN  NaN   \n",
       "3  Mean years of schooling  NaN  Gross national income (GNI) per capita  NaN   \n",
       "4                  (years)  NaN                            (2017 PPP $)  NaN   \n",
       "\n",
       "   GNI per capita rank minus HDI rank  NaN  HDI rank  \n",
       "0                                 NaN  NaN       NaN  \n",
       "1                                 NaN  NaN       NaN  \n",
       "2                                 NaN  NaN       NaN  \n",
       "3  GNI per capita rank minus HDI rank  NaN  HDI rank  \n",
       "4                                 NaN  NaN       NaN  "
      ]
     },
     "execution_count": 13,
     "metadata": {},
     "output_type": "execute_result"
    }
   ],
   "source": [
    "# rename all the columns\n",
    "hdiFile.columns=RealHeaders\n",
    "\n",
    "# result\n",
    "hdiFile.head()"
   ]
  },
  {
   "cell_type": "markdown",
   "metadata": {},
   "source": [
    "Notice the repeated column names (HDI rank) and _NaN_. Notice also that we do not need the last three columns. Let's solve that:"
   ]
  },
  {
   "cell_type": "code",
   "execution_count": 14,
   "metadata": {},
   "outputs": [
    {
     "data": {
      "text/html": [
       "<div>\n",
       "<style scoped>\n",
       "    .dataframe tbody tr th:only-of-type {\n",
       "        vertical-align: middle;\n",
       "    }\n",
       "\n",
       "    .dataframe tbody tr th {\n",
       "        vertical-align: top;\n",
       "    }\n",
       "\n",
       "    .dataframe thead th {\n",
       "        text-align: right;\n",
       "    }\n",
       "</style>\n",
       "<table border=\"1\" class=\"dataframe\">\n",
       "  <thead>\n",
       "    <tr style=\"text-align: right;\">\n",
       "      <th></th>\n",
       "      <th>HDI rank</th>\n",
       "      <th>Country</th>\n",
       "      <th>Human Development Index (HDI)</th>\n",
       "      <th>NaN</th>\n",
       "      <th>Life expectancy at birth</th>\n",
       "      <th>NaN</th>\n",
       "      <th>Expected years of schooling</th>\n",
       "      <th>NaN</th>\n",
       "      <th>Mean years of schooling</th>\n",
       "      <th>NaN</th>\n",
       "      <th>Gross national income (GNI) per capita</th>\n",
       "      <th>NaN</th>\n",
       "    </tr>\n",
       "  </thead>\n",
       "  <tbody>\n",
       "    <tr>\n",
       "      <th>0</th>\n",
       "      <td>NaN</td>\n",
       "      <td>NaN</td>\n",
       "      <td>NaN</td>\n",
       "      <td>NaN</td>\n",
       "      <td>NaN</td>\n",
       "      <td>NaN</td>\n",
       "      <td>NaN</td>\n",
       "      <td>NaN</td>\n",
       "      <td>NaN</td>\n",
       "      <td>NaN</td>\n",
       "      <td>NaN</td>\n",
       "      <td>NaN</td>\n",
       "    </tr>\n",
       "    <tr>\n",
       "      <th>1</th>\n",
       "      <td>NaN</td>\n",
       "      <td>NaN</td>\n",
       "      <td>NaN</td>\n",
       "      <td>NaN</td>\n",
       "      <td>SDG3</td>\n",
       "      <td>NaN</td>\n",
       "      <td>SDG4.3</td>\n",
       "      <td>NaN</td>\n",
       "      <td>SDG4.4</td>\n",
       "      <td>NaN</td>\n",
       "      <td>SDG8.5</td>\n",
       "      <td>NaN</td>\n",
       "    </tr>\n",
       "    <tr>\n",
       "      <th>2</th>\n",
       "      <td>NaN</td>\n",
       "      <td>NaN</td>\n",
       "      <td>NaN</td>\n",
       "      <td>NaN</td>\n",
       "      <td>NaN</td>\n",
       "      <td>NaN</td>\n",
       "      <td>NaN</td>\n",
       "      <td>NaN</td>\n",
       "      <td>NaN</td>\n",
       "      <td>NaN</td>\n",
       "      <td>NaN</td>\n",
       "      <td>NaN</td>\n",
       "    </tr>\n",
       "    <tr>\n",
       "      <th>3</th>\n",
       "      <td>NaN</td>\n",
       "      <td>NaN</td>\n",
       "      <td>Human Development Index (HDI)</td>\n",
       "      <td>NaN</td>\n",
       "      <td>Life expectancy at birth</td>\n",
       "      <td>NaN</td>\n",
       "      <td>Expected years of schooling</td>\n",
       "      <td>NaN</td>\n",
       "      <td>Mean years of schooling</td>\n",
       "      <td>NaN</td>\n",
       "      <td>Gross national income (GNI) per capita</td>\n",
       "      <td>NaN</td>\n",
       "    </tr>\n",
       "    <tr>\n",
       "      <th>4</th>\n",
       "      <td>HDI rank</td>\n",
       "      <td>Country</td>\n",
       "      <td>Value</td>\n",
       "      <td>NaN</td>\n",
       "      <td>(years)</td>\n",
       "      <td>NaN</td>\n",
       "      <td>(years)</td>\n",
       "      <td>NaN</td>\n",
       "      <td>(years)</td>\n",
       "      <td>NaN</td>\n",
       "      <td>(2017 PPP $)</td>\n",
       "      <td>NaN</td>\n",
       "    </tr>\n",
       "    <tr>\n",
       "      <th>...</th>\n",
       "      <td>...</td>\n",
       "      <td>...</td>\n",
       "      <td>...</td>\n",
       "      <td>...</td>\n",
       "      <td>...</td>\n",
       "      <td>...</td>\n",
       "      <td>...</td>\n",
       "      <td>...</td>\n",
       "      <td>...</td>\n",
       "      <td>...</td>\n",
       "      <td>...</td>\n",
       "      <td>...</td>\n",
       "    </tr>\n",
       "    <tr>\n",
       "      <th>271</th>\n",
       "      <td>NaN</td>\n",
       "      <td>Column 2: UNDESA (2022a).</td>\n",
       "      <td>NaN</td>\n",
       "      <td>NaN</td>\n",
       "      <td>NaN</td>\n",
       "      <td>NaN</td>\n",
       "      <td>NaN</td>\n",
       "      <td>NaN</td>\n",
       "      <td>NaN</td>\n",
       "      <td>NaN</td>\n",
       "      <td>NaN</td>\n",
       "      <td>NaN</td>\n",
       "    </tr>\n",
       "    <tr>\n",
       "      <th>272</th>\n",
       "      <td>NaN</td>\n",
       "      <td>Column 3: CEDLAS and World Bank (2022), ICF Ma...</td>\n",
       "      <td>NaN</td>\n",
       "      <td>NaN</td>\n",
       "      <td>NaN</td>\n",
       "      <td>NaN</td>\n",
       "      <td>NaN</td>\n",
       "      <td>NaN</td>\n",
       "      <td>NaN</td>\n",
       "      <td>NaN</td>\n",
       "      <td>NaN</td>\n",
       "      <td>NaN</td>\n",
       "    </tr>\n",
       "    <tr>\n",
       "      <th>273</th>\n",
       "      <td>NaN</td>\n",
       "      <td>Column 4: Barro and Lee (2018), ICF Macro Demo...</td>\n",
       "      <td>NaN</td>\n",
       "      <td>NaN</td>\n",
       "      <td>NaN</td>\n",
       "      <td>NaN</td>\n",
       "      <td>NaN</td>\n",
       "      <td>NaN</td>\n",
       "      <td>NaN</td>\n",
       "      <td>NaN</td>\n",
       "      <td>NaN</td>\n",
       "      <td>NaN</td>\n",
       "    </tr>\n",
       "    <tr>\n",
       "      <th>274</th>\n",
       "      <td>NaN</td>\n",
       "      <td>Column 5: IMF (2022), UNDESA (2022b), United N...</td>\n",
       "      <td>NaN</td>\n",
       "      <td>NaN</td>\n",
       "      <td>NaN</td>\n",
       "      <td>NaN</td>\n",
       "      <td>NaN</td>\n",
       "      <td>NaN</td>\n",
       "      <td>NaN</td>\n",
       "      <td>NaN</td>\n",
       "      <td>NaN</td>\n",
       "      <td>NaN</td>\n",
       "    </tr>\n",
       "    <tr>\n",
       "      <th>275</th>\n",
       "      <td>NaN</td>\n",
       "      <td>Column 6: Calculated based on data in columns ...</td>\n",
       "      <td>NaN</td>\n",
       "      <td>NaN</td>\n",
       "      <td>NaN</td>\n",
       "      <td>NaN</td>\n",
       "      <td>NaN</td>\n",
       "      <td>NaN</td>\n",
       "      <td>NaN</td>\n",
       "      <td>NaN</td>\n",
       "      <td>NaN</td>\n",
       "      <td>NaN</td>\n",
       "    </tr>\n",
       "  </tbody>\n",
       "</table>\n",
       "<p>276 rows × 12 columns</p>\n",
       "</div>"
      ],
      "text/plain": [
       "     HDI rank                                            Country  \\\n",
       "0         NaN                                                NaN   \n",
       "1         NaN                                                NaN   \n",
       "2         NaN                                                NaN   \n",
       "3         NaN                                                NaN   \n",
       "4    HDI rank                                            Country   \n",
       "..        ...                                                ...   \n",
       "271       NaN                          Column 2: UNDESA (2022a).   \n",
       "272       NaN  Column 3: CEDLAS and World Bank (2022), ICF Ma...   \n",
       "273       NaN  Column 4: Barro and Lee (2018), ICF Macro Demo...   \n",
       "274       NaN  Column 5: IMF (2022), UNDESA (2022b), United N...   \n",
       "275       NaN  Column 6: Calculated based on data in columns ...   \n",
       "\n",
       "     Human Development Index (HDI)  NaN  Life expectancy at birth  NaN  \\\n",
       "0                               NaN NaN                       NaN  NaN   \n",
       "1                               NaN NaN                      SDG3  NaN   \n",
       "2                               NaN NaN                       NaN  NaN   \n",
       "3    Human Development Index (HDI)  NaN  Life expectancy at birth  NaN   \n",
       "4                             Value NaN                   (years)  NaN   \n",
       "..                              ...  ..                       ...  ...   \n",
       "271                             NaN NaN                       NaN  NaN   \n",
       "272                             NaN NaN                       NaN  NaN   \n",
       "273                             NaN NaN                       NaN  NaN   \n",
       "274                             NaN NaN                       NaN  NaN   \n",
       "275                             NaN NaN                       NaN  NaN   \n",
       "\n",
       "     Expected years of schooling  NaN  Mean years of schooling  NaN  \\\n",
       "0                            NaN  NaN                      NaN  NaN   \n",
       "1                         SDG4.3  NaN                   SDG4.4  NaN   \n",
       "2                            NaN  NaN                      NaN  NaN   \n",
       "3    Expected years of schooling  NaN  Mean years of schooling  NaN   \n",
       "4                        (years)  NaN                  (years)  NaN   \n",
       "..                           ...  ...                      ...  ...   \n",
       "271                          NaN  NaN                      NaN  NaN   \n",
       "272                          NaN  NaN                      NaN  NaN   \n",
       "273                          NaN  NaN                      NaN  NaN   \n",
       "274                          NaN  NaN                      NaN  NaN   \n",
       "275                          NaN  NaN                      NaN  NaN   \n",
       "\n",
       "     Gross national income (GNI) per capita  NaN  \n",
       "0                                       NaN  NaN  \n",
       "1                                    SDG8.5  NaN  \n",
       "2                                       NaN  NaN  \n",
       "3    Gross national income (GNI) per capita  NaN  \n",
       "4                              (2017 PPP $)  NaN  \n",
       "..                                      ...  ...  \n",
       "271                                     NaN  NaN  \n",
       "272                                     NaN  NaN  \n",
       "273                                     NaN  NaN  \n",
       "274                                     NaN  NaN  \n",
       "275                                     NaN  NaN  \n",
       "\n",
       "[276 rows x 12 columns]"
      ]
     },
     "execution_count": 14,
     "metadata": {},
     "output_type": "execute_result"
    }
   ],
   "source": [
    "# without the last 3 columns\n",
    "hdiFile.iloc[:,:-3]"
   ]
  },
  {
   "cell_type": "markdown",
   "metadata": {},
   "source": [
    "We use the previous result to rewrite the original:"
   ]
  },
  {
   "cell_type": "code",
   "execution_count": 15,
   "metadata": {},
   "outputs": [],
   "source": [
    "# then,\n",
    "hdiFile=hdiFile.iloc[:,:-3]"
   ]
  },
  {
   "cell_type": "markdown",
   "metadata": {},
   "source": [
    "We still have column names with missing values:"
   ]
  },
  {
   "cell_type": "code",
   "execution_count": 16,
   "metadata": {},
   "outputs": [
    {
     "data": {
      "text/plain": [
       "Index([                              'HDI rank',\n",
       "                                      'Country',\n",
       "               'Human Development Index (HDI) ',\n",
       "                                            nan,\n",
       "                     'Life expectancy at birth',\n",
       "                                            nan,\n",
       "                  'Expected years of schooling',\n",
       "                                            nan,\n",
       "                      'Mean years of schooling',\n",
       "                                            nan,\n",
       "       'Gross national income (GNI) per capita',\n",
       "                                            nan],\n",
       "      dtype='object')"
      ]
     },
     "execution_count": 16,
     "metadata": {},
     "output_type": "execute_result"
    }
   ],
   "source": [
    "hdiFile.columns"
   ]
  },
  {
   "cell_type": "markdown",
   "metadata": {},
   "source": [
    "...let's get rid of those:"
   ]
  },
  {
   "cell_type": "code",
   "execution_count": 17,
   "metadata": {},
   "outputs": [
    {
     "data": {
      "text/plain": [
       "Index(['HDI rank', 'Country', 'Human Development Index (HDI) ',\n",
       "       'Life expectancy at birth', 'Expected years of schooling',\n",
       "       'Mean years of schooling', 'Gross national income (GNI) per capita'],\n",
       "      dtype='object')"
      ]
     },
     "execution_count": 17,
     "metadata": {},
     "output_type": "execute_result"
    }
   ],
   "source": [
    "#\n",
    "hdiFile.columns.dropna()"
   ]
  },
  {
   "cell_type": "code",
   "execution_count": 18,
   "metadata": {},
   "outputs": [
    {
     "data": {
      "text/plain": [
       "Index(['HDI rank', 'Country', 'Human Development Index (HDI) ',\n",
       "       'Life expectancy at birth', 'Expected years of schooling',\n",
       "       'Mean years of schooling', 'Gross national income (GNI) per capita'],\n",
       "      dtype='object')"
      ]
     },
     "execution_count": 18,
     "metadata": {},
     "output_type": "execute_result"
    }
   ],
   "source": [
    "BetterHeaders=hdiFile.columns.dropna()\n",
    "#result\n",
    "BetterHeaders"
   ]
  },
  {
   "cell_type": "code",
   "execution_count": 19,
   "metadata": {},
   "outputs": [
    {
     "data": {
      "text/html": [
       "<div>\n",
       "<style scoped>\n",
       "    .dataframe tbody tr th:only-of-type {\n",
       "        vertical-align: middle;\n",
       "    }\n",
       "\n",
       "    .dataframe tbody tr th {\n",
       "        vertical-align: top;\n",
       "    }\n",
       "\n",
       "    .dataframe thead th {\n",
       "        text-align: right;\n",
       "    }\n",
       "</style>\n",
       "<table border=\"1\" class=\"dataframe\">\n",
       "  <thead>\n",
       "    <tr style=\"text-align: right;\">\n",
       "      <th></th>\n",
       "      <th>HDI rank</th>\n",
       "      <th>Country</th>\n",
       "      <th>Human Development Index (HDI)</th>\n",
       "      <th>Life expectancy at birth</th>\n",
       "      <th>Expected years of schooling</th>\n",
       "      <th>Mean years of schooling</th>\n",
       "      <th>Gross national income (GNI) per capita</th>\n",
       "    </tr>\n",
       "  </thead>\n",
       "  <tbody>\n",
       "    <tr>\n",
       "      <th>0</th>\n",
       "      <td>NaN</td>\n",
       "      <td>NaN</td>\n",
       "      <td>NaN</td>\n",
       "      <td>NaN</td>\n",
       "      <td>NaN</td>\n",
       "      <td>NaN</td>\n",
       "      <td>NaN</td>\n",
       "    </tr>\n",
       "    <tr>\n",
       "      <th>1</th>\n",
       "      <td>NaN</td>\n",
       "      <td>NaN</td>\n",
       "      <td>NaN</td>\n",
       "      <td>SDG3</td>\n",
       "      <td>SDG4.3</td>\n",
       "      <td>SDG4.4</td>\n",
       "      <td>SDG8.5</td>\n",
       "    </tr>\n",
       "    <tr>\n",
       "      <th>2</th>\n",
       "      <td>NaN</td>\n",
       "      <td>NaN</td>\n",
       "      <td>NaN</td>\n",
       "      <td>NaN</td>\n",
       "      <td>NaN</td>\n",
       "      <td>NaN</td>\n",
       "      <td>NaN</td>\n",
       "    </tr>\n",
       "    <tr>\n",
       "      <th>3</th>\n",
       "      <td>NaN</td>\n",
       "      <td>NaN</td>\n",
       "      <td>Human Development Index (HDI)</td>\n",
       "      <td>Life expectancy at birth</td>\n",
       "      <td>Expected years of schooling</td>\n",
       "      <td>Mean years of schooling</td>\n",
       "      <td>Gross national income (GNI) per capita</td>\n",
       "    </tr>\n",
       "    <tr>\n",
       "      <th>4</th>\n",
       "      <td>HDI rank</td>\n",
       "      <td>Country</td>\n",
       "      <td>Value</td>\n",
       "      <td>(years)</td>\n",
       "      <td>(years)</td>\n",
       "      <td>(years)</td>\n",
       "      <td>(2017 PPP $)</td>\n",
       "    </tr>\n",
       "    <tr>\n",
       "      <th>5</th>\n",
       "      <td>NaN</td>\n",
       "      <td>NaN</td>\n",
       "      <td>2021</td>\n",
       "      <td>2021</td>\n",
       "      <td>2021</td>\n",
       "      <td>2021</td>\n",
       "      <td>2021</td>\n",
       "    </tr>\n",
       "    <tr>\n",
       "      <th>6</th>\n",
       "      <td>NaN</td>\n",
       "      <td>VERY HIGH HUMAN DEVELOPMENT</td>\n",
       "      <td>NaN</td>\n",
       "      <td>NaN</td>\n",
       "      <td>NaN</td>\n",
       "      <td>NaN</td>\n",
       "      <td>NaN</td>\n",
       "    </tr>\n",
       "    <tr>\n",
       "      <th>7</th>\n",
       "      <td>1</td>\n",
       "      <td>Switzerland</td>\n",
       "      <td>0.962</td>\n",
       "      <td>83.9872</td>\n",
       "      <td>16.500299</td>\n",
       "      <td>13.85966</td>\n",
       "      <td>66933.00454</td>\n",
       "    </tr>\n",
       "    <tr>\n",
       "      <th>8</th>\n",
       "      <td>2</td>\n",
       "      <td>Norway</td>\n",
       "      <td>0.961</td>\n",
       "      <td>83.2339</td>\n",
       "      <td>18.1852</td>\n",
       "      <td>13.00363</td>\n",
       "      <td>64660.10622</td>\n",
       "    </tr>\n",
       "    <tr>\n",
       "      <th>9</th>\n",
       "      <td>3</td>\n",
       "      <td>Iceland</td>\n",
       "      <td>0.959</td>\n",
       "      <td>82.6782</td>\n",
       "      <td>19.163059</td>\n",
       "      <td>13.76717</td>\n",
       "      <td>55782.04981</td>\n",
       "    </tr>\n",
       "    <tr>\n",
       "      <th>10</th>\n",
       "      <td>4</td>\n",
       "      <td>Hong Kong, China (SAR)</td>\n",
       "      <td>0.952</td>\n",
       "      <td>85.4734</td>\n",
       "      <td>17.27817</td>\n",
       "      <td>12.22621</td>\n",
       "      <td>62606.8454</td>\n",
       "    </tr>\n",
       "    <tr>\n",
       "      <th>11</th>\n",
       "      <td>5</td>\n",
       "      <td>Australia</td>\n",
       "      <td>0.951</td>\n",
       "      <td>84.5265</td>\n",
       "      <td>21.05459</td>\n",
       "      <td>12.72682</td>\n",
       "      <td>49238.43335</td>\n",
       "    </tr>\n",
       "    <tr>\n",
       "      <th>12</th>\n",
       "      <td>6</td>\n",
       "      <td>Denmark</td>\n",
       "      <td>0.948</td>\n",
       "      <td>81.3753</td>\n",
       "      <td>18.7148</td>\n",
       "      <td>12.96049</td>\n",
       "      <td>60364.78595</td>\n",
       "    </tr>\n",
       "    <tr>\n",
       "      <th>13</th>\n",
       "      <td>7</td>\n",
       "      <td>Sweden</td>\n",
       "      <td>0.947</td>\n",
       "      <td>82.9833</td>\n",
       "      <td>19.41853</td>\n",
       "      <td>12.60972</td>\n",
       "      <td>54489.37401</td>\n",
       "    </tr>\n",
       "    <tr>\n",
       "      <th>14</th>\n",
       "      <td>8</td>\n",
       "      <td>Ireland</td>\n",
       "      <td>0.945</td>\n",
       "      <td>81.9976</td>\n",
       "      <td>18.945221</td>\n",
       "      <td>11.582223</td>\n",
       "      <td>76168.98443</td>\n",
       "    </tr>\n",
       "    <tr>\n",
       "      <th>15</th>\n",
       "      <td>9</td>\n",
       "      <td>Germany</td>\n",
       "      <td>0.942</td>\n",
       "      <td>80.6301</td>\n",
       "      <td>17.010139</td>\n",
       "      <td>14.090967</td>\n",
       "      <td>54534.21682</td>\n",
       "    </tr>\n",
       "    <tr>\n",
       "      <th>16</th>\n",
       "      <td>10</td>\n",
       "      <td>Netherlands</td>\n",
       "      <td>0.941</td>\n",
       "      <td>81.6873</td>\n",
       "      <td>18.693165</td>\n",
       "      <td>12.58163</td>\n",
       "      <td>55979.411</td>\n",
       "    </tr>\n",
       "    <tr>\n",
       "      <th>17</th>\n",
       "      <td>11</td>\n",
       "      <td>Finland</td>\n",
       "      <td>0.94</td>\n",
       "      <td>82.0381</td>\n",
       "      <td>19.051929</td>\n",
       "      <td>12.87362</td>\n",
       "      <td>49452.16672</td>\n",
       "    </tr>\n",
       "    <tr>\n",
       "      <th>18</th>\n",
       "      <td>12</td>\n",
       "      <td>Singapore</td>\n",
       "      <td>0.939</td>\n",
       "      <td>82.7545</td>\n",
       "      <td>16.524321</td>\n",
       "      <td>11.92488</td>\n",
       "      <td>90918.64471</td>\n",
       "    </tr>\n",
       "    <tr>\n",
       "      <th>19</th>\n",
       "      <td>13</td>\n",
       "      <td>Belgium</td>\n",
       "      <td>0.937</td>\n",
       "      <td>81.8787</td>\n",
       "      <td>19.604219</td>\n",
       "      <td>12.37568</td>\n",
       "      <td>52293.39977</td>\n",
       "    </tr>\n",
       "  </tbody>\n",
       "</table>\n",
       "</div>"
      ],
      "text/plain": [
       "    HDI rank                      Country  Human Development Index (HDI)   \\\n",
       "0        NaN                          NaN                             NaN   \n",
       "1        NaN                          NaN                             NaN   \n",
       "2        NaN                          NaN                             NaN   \n",
       "3        NaN                          NaN  Human Development Index (HDI)    \n",
       "4   HDI rank                      Country                           Value   \n",
       "5        NaN                          NaN                            2021   \n",
       "6        NaN  VERY HIGH HUMAN DEVELOPMENT                             NaN   \n",
       "7          1                  Switzerland                           0.962   \n",
       "8          2                       Norway                           0.961   \n",
       "9          3                      Iceland                           0.959   \n",
       "10         4       Hong Kong, China (SAR)                           0.952   \n",
       "11         5                    Australia                           0.951   \n",
       "12         6                      Denmark                           0.948   \n",
       "13         7                       Sweden                           0.947   \n",
       "14         8                      Ireland                           0.945   \n",
       "15         9                      Germany                           0.942   \n",
       "16        10                  Netherlands                           0.941   \n",
       "17        11                      Finland                            0.94   \n",
       "18        12                    Singapore                           0.939   \n",
       "19        13                      Belgium                           0.937   \n",
       "\n",
       "    Life expectancy at birth  Expected years of schooling  \\\n",
       "0                        NaN                          NaN   \n",
       "1                       SDG3                       SDG4.3   \n",
       "2                        NaN                          NaN   \n",
       "3   Life expectancy at birth  Expected years of schooling   \n",
       "4                    (years)                      (years)   \n",
       "5                       2021                         2021   \n",
       "6                        NaN                          NaN   \n",
       "7                    83.9872                    16.500299   \n",
       "8                    83.2339                      18.1852   \n",
       "9                    82.6782                    19.163059   \n",
       "10                   85.4734                     17.27817   \n",
       "11                   84.5265                     21.05459   \n",
       "12                   81.3753                      18.7148   \n",
       "13                   82.9833                     19.41853   \n",
       "14                   81.9976                    18.945221   \n",
       "15                   80.6301                    17.010139   \n",
       "16                   81.6873                    18.693165   \n",
       "17                   82.0381                    19.051929   \n",
       "18                   82.7545                    16.524321   \n",
       "19                   81.8787                    19.604219   \n",
       "\n",
       "    Mean years of schooling  Gross national income (GNI) per capita  \n",
       "0                       NaN                                     NaN  \n",
       "1                    SDG4.4                                  SDG8.5  \n",
       "2                       NaN                                     NaN  \n",
       "3   Mean years of schooling  Gross national income (GNI) per capita  \n",
       "4                   (years)                            (2017 PPP $)  \n",
       "5                      2021                                    2021  \n",
       "6                       NaN                                     NaN  \n",
       "7                  13.85966                             66933.00454  \n",
       "8                  13.00363                             64660.10622  \n",
       "9                  13.76717                             55782.04981  \n",
       "10                 12.22621                              62606.8454  \n",
       "11                 12.72682                             49238.43335  \n",
       "12                 12.96049                             60364.78595  \n",
       "13                 12.60972                             54489.37401  \n",
       "14                11.582223                             76168.98443  \n",
       "15                14.090967                             54534.21682  \n",
       "16                 12.58163                               55979.411  \n",
       "17                 12.87362                             49452.16672  \n",
       "18                 11.92488                             90918.64471  \n",
       "19                 12.37568                             52293.39977  "
      ]
     },
     "execution_count": 19,
     "metadata": {},
     "output_type": "execute_result"
    }
   ],
   "source": [
    "#subsetting again\n",
    "\n",
    "hdiFile=hdiFile.loc[:,BetterHeaders]\n",
    "hdiFile.head(20)"
   ]
  },
  {
   "cell_type": "markdown",
   "metadata": {},
   "source": [
    "Notice above that the columns:\n",
    "* Have acronyms in parenthesis.\n",
    "* Have spaces between words.\n",
    "\n",
    "Let's see what can be done using _Regular Expressions_ (REGEX):"
   ]
  },
  {
   "cell_type": "code",
   "execution_count": 20,
   "metadata": {},
   "outputs": [
    {
     "data": {
      "text/plain": [
       "Index(['HDI rank', 'Country', 'Human Development Index  ',\n",
       "       'Life expectancy at birth', 'Expected years of schooling',\n",
       "       'Mean years of schooling', 'Gross national income  per capita'],\n",
       "      dtype='object')"
      ]
     },
     "execution_count": 20,
     "metadata": {},
     "output_type": "execute_result"
    }
   ],
   "source": [
    "# bye anything between parentheses\n",
    "hdiFile.columns.str.replace('\\(.+\\)',\"\", regex=True)"
   ]
  },
  {
   "cell_type": "code",
   "execution_count": 21,
   "metadata": {},
   "outputs": [
    {
     "data": {
      "text/plain": [
       "Index(['HDI rank', 'Country', 'Human Development Index',\n",
       "       'Life expectancy at birth', 'Expected years of schooling',\n",
       "       'Mean years of schooling', 'Gross national income  per capita'],\n",
       "      dtype='object')"
      ]
     },
     "execution_count": 21,
     "metadata": {},
     "output_type": "execute_result"
    }
   ],
   "source": [
    "# bye anything between parentheses, bye leading-trailing spaces\n",
    "hdiFile.columns.str.replace('\\(.+\\)',\"\", regex=True).str.strip()"
   ]
  },
  {
   "cell_type": "code",
   "execution_count": 22,
   "metadata": {},
   "outputs": [
    {
     "data": {
      "text/plain": [
       "Index(['Hdi Rank', 'Country', 'Human Development Index',\n",
       "       'Life Expectancy At Birth', 'Expected Years Of Schooling',\n",
       "       'Mean Years Of Schooling', 'Gross National Income  Per Capita'],\n",
       "      dtype='object')"
      ]
     },
     "execution_count": 22,
     "metadata": {},
     "output_type": "execute_result"
    }
   ],
   "source": [
    "# bye anything between parentheses, bye leading-trailing spaces, title case\n",
    "hdiFile.columns.str.replace('\\(.+\\)',\"\", regex=True).\\\n",
    "                          str.strip().\\\n",
    "                          str.title()"
   ]
  },
  {
   "cell_type": "markdown",
   "metadata": {},
   "source": [
    "Let's keep this last one for a while:"
   ]
  },
  {
   "cell_type": "code",
   "execution_count": null,
   "metadata": {},
   "outputs": [],
   "source": [
    "#changing column names\n",
    "hdiFile.columns=hdiFile.columns.str.replace('\\(.+\\)',\"\", regex=True).\\\n",
    "                          str.strip().\\\n",
    "                          str.title()\n",
    "#so\n",
    "hdiFile"
   ]
  },
  {
   "cell_type": "markdown",
   "metadata": {},
   "source": [
    "Now, it is time to decide how the we want as the shorter column name:\n",
    "\n",
    "* Same title without spaces:"
   ]
  },
  {
   "cell_type": "code",
   "execution_count": null,
   "metadata": {},
   "outputs": [],
   "source": [
    "hdiFile.columns.str.replace(\" \",'',regex=False)"
   ]
  },
  {
   "cell_type": "markdown",
   "metadata": {},
   "source": [
    "* Some acronyms: Let's do this step by step."
   ]
  },
  {
   "cell_type": "code",
   "execution_count": null,
   "metadata": {},
   "outputs": [],
   "source": [
    "# each column names splitted:\n",
    "[name.split() for name in hdiFile.columns[2::]]"
   ]
  },
  {
   "cell_type": "code",
   "execution_count": null,
   "metadata": {},
   "outputs": [],
   "source": [
    "# first letter of each word\n",
    "[[word[0] for word in name.split()] for name in hdiFile.columns[2::]]"
   ]
  },
  {
   "cell_type": "code",
   "execution_count": null,
   "metadata": {},
   "outputs": [],
   "source": [
    "# final result\n",
    "[''.join([word[0] for word in name.split()]) for name in hdiFile.columns[2::]]"
   ]
  },
  {
   "cell_type": "markdown",
   "metadata": {},
   "source": [
    "Let's keep the last alternative:"
   ]
  },
  {
   "cell_type": "code",
   "execution_count": null,
   "metadata": {},
   "outputs": [],
   "source": [
    "newNames=[''.join([word[0] for word in name.split()]) for name in hdiFile.columns[2::]]\n",
    "hdiFile.columns=hdiFile.columns[:2].to_list()+newNames"
   ]
  },
  {
   "cell_type": "markdown",
   "metadata": {},
   "source": [
    "Finally..."
   ]
  },
  {
   "cell_type": "code",
   "execution_count": null,
   "metadata": {
    "scrolled": true
   },
   "outputs": [],
   "source": [
    "hdiFile.head(20)"
   ]
  },
  {
   "cell_type": "markdown",
   "metadata": {},
   "source": [
    "[Home](#home)\n",
    "______\n",
    "\n",
    "<a id='subset'></a>\n",
    "\n",
    "### Subset data\n",
    "\n",
    "After becoming familar with the data, we know we should keep countries with ranking value:"
   ]
  },
  {
   "cell_type": "code",
   "execution_count": null,
   "metadata": {},
   "outputs": [],
   "source": [
    "hdiFile[~pd.isna(hdiFile['Hdi Rank'])]"
   ]
  },
  {
   "cell_type": "code",
   "execution_count": null,
   "metadata": {},
   "outputs": [],
   "source": [
    "# then\n",
    "hdiFile=hdiFile[~pd.isna(hdiFile['Hdi Rank'])]\n",
    "\n",
    "#see\n",
    "hdiFile"
   ]
  },
  {
   "cell_type": "markdown",
   "metadata": {},
   "source": [
    "We still have a bad row data:"
   ]
  },
  {
   "cell_type": "code",
   "execution_count": null,
   "metadata": {},
   "outputs": [],
   "source": [
    "hdiFile.drop(index=4)"
   ]
  },
  {
   "cell_type": "markdown",
   "metadata": {},
   "source": [
    "We just drop it:"
   ]
  },
  {
   "cell_type": "code",
   "execution_count": null,
   "metadata": {},
   "outputs": [],
   "source": [
    "hdiSubset=hdiFile.drop(index=4)\n",
    "hdiSubset.reset_index(drop=True, inplace=True)\n",
    "#see\n",
    "hdiSubset"
   ]
  },
  {
   "cell_type": "markdown",
   "metadata": {},
   "source": [
    "[Home](#home)\n",
    "______\n",
    "\n",
    "<a id='lookfornas'></a>\n",
    "\n",
    "### Look for non-standar missing values\n",
    "\n",
    "First check a cell that is full of non-word/non-digit characters:"
   ]
  },
  {
   "cell_type": "markdown",
   "metadata": {},
   "source": [
    "Using **try**:"
   ]
  },
  {
   "cell_type": "code",
   "execution_count": null,
   "metadata": {},
   "outputs": [],
   "source": [
    "for i in range(hdiSubset.shape[1]):\n",
    "    try:\n",
    "        print(hdiSubset.iloc[:,i][hdiSubset.iloc[:,i].str.fullmatch(\"\\W+\",na=False)])\n",
    "    except:\n",
    "        pass"
   ]
  },
  {
   "cell_type": "markdown",
   "metadata": {},
   "source": [
    "We do not have weird symbols, but if we had:"
   ]
  },
  {
   "cell_type": "code",
   "execution_count": null,
   "metadata": {},
   "outputs": [],
   "source": [
    "# replacing !\n",
    "\n",
    "badSymbols=[\"..\",'xx','tba']\n",
    "hdiSubset.replace(to_replace=badSymbols,\n",
    "               value=None,\n",
    "               inplace=True)\n",
    "\n",
    "#result\n",
    "hdiSubset"
   ]
  },
  {
   "cell_type": "markdown",
   "metadata": {},
   "source": [
    "[Home](#home)\n",
    "______\n",
    "\n",
    "<a id='missingcellvalues'></a>\n",
    "\n",
    "### Missing values"
   ]
  },
  {
   "cell_type": "markdown",
   "metadata": {},
   "source": [
    "Do the current cell values have issues?\n",
    "\n",
    "* Keeping complete data"
   ]
  },
  {
   "cell_type": "code",
   "execution_count": null,
   "metadata": {},
   "outputs": [],
   "source": [
    "# with all missing (after the first column)\n",
    "hdiSubset[hdiSubset.iloc[:,1:].isna().all(axis=1)]"
   ]
  },
  {
   "cell_type": "code",
   "execution_count": null,
   "metadata": {},
   "outputs": [],
   "source": [
    "# with at least one missing (after the first column)\n",
    "hdiSubset[hdiSubset.iloc[:,1:].isna().any(axis=1)]"
   ]
  },
  {
   "cell_type": "markdown",
   "metadata": {},
   "source": [
    "* Making sure columns of _text_ are clean:"
   ]
  },
  {
   "cell_type": "code",
   "execution_count": null,
   "metadata": {},
   "outputs": [],
   "source": [
    "# get rid of leading and trailing spaces in text cells\n",
    "hdiSubset.Country=hdiSubset.Country.str.strip()"
   ]
  },
  {
   "cell_type": "markdown",
   "metadata": {},
   "source": [
    "* Checking  numeric columns"
   ]
  },
  {
   "cell_type": "code",
   "execution_count": null,
   "metadata": {},
   "outputs": [],
   "source": [
    "hdiSubset.drop(columns=['Country'], axis=0).info()"
   ]
  },
  {
   "cell_type": "markdown",
   "metadata": {},
   "source": [
    "Numbers have been recognised as **object** type. It might be due to having a non numeric value in one cell, or because it **had** a non-numeric value before."
   ]
  },
  {
   "cell_type": "code",
   "execution_count": null,
   "metadata": {},
   "outputs": [],
   "source": [
    "# can you apply math?\n",
    "hdiSubset.drop(columns=['Country'], axis=0).max()"
   ]
  },
  {
   "cell_type": "markdown",
   "metadata": {},
   "source": [
    "You just need to give format."
   ]
  },
  {
   "cell_type": "code",
   "execution_count": null,
   "metadata": {},
   "outputs": [],
   "source": [
    "hdiClean=hdiSubset.copy()"
   ]
  },
  {
   "cell_type": "markdown",
   "metadata": {},
   "source": [
    "[Home](#home)\n",
    "______\n",
    "\n",
    "<a id='formatdtypes'></a>\n",
    "\n",
    "### Formatting"
   ]
  },
  {
   "cell_type": "markdown",
   "metadata": {},
   "source": [
    "From above, we just need to format the numeric columns:"
   ]
  },
  {
   "cell_type": "markdown",
   "metadata": {},
   "source": [
    "* **Formatting into numeric type**:"
   ]
  },
  {
   "cell_type": "code",
   "execution_count": null,
   "metadata": {},
   "outputs": [],
   "source": [
    "# keep all numeric columns\n",
    "\n",
    "allCols=hdiClean.columns.to_list()\n",
    "allCols.remove('Country')\n",
    "allCols"
   ]
  },
  {
   "cell_type": "code",
   "execution_count": null,
   "metadata": {},
   "outputs": [],
   "source": [
    "# as easy as:\n",
    "hdiClean[allCols]=hdiClean[allCols].apply(pd.to_numeric)"
   ]
  },
  {
   "cell_type": "code",
   "execution_count": null,
   "metadata": {},
   "outputs": [],
   "source": [
    "#recheck\n",
    "hdiClean.info()"
   ]
  },
  {
   "cell_type": "markdown",
   "metadata": {},
   "source": [
    "That was easy!"
   ]
  },
  {
   "cell_type": "code",
   "execution_count": null,
   "metadata": {},
   "outputs": [],
   "source": [
    "hdiFormat=hdiClean.copy()"
   ]
  },
  {
   "cell_type": "markdown",
   "metadata": {},
   "source": [
    "[Home](#home)\n",
    "______\n",
    "\n",
    "\n",
    "## 3. Integrating"
   ]
  },
  {
   "cell_type": "markdown",
   "metadata": {},
   "source": [
    "Let me bring another table, this time from [wikipedia](https://en.wikipedia.org/wiki/The_Economist_Democracy_Index#Components). Make sure to have **html5lib** and **beautifulsoup4** installed before the next code:"
   ]
  },
  {
   "cell_type": "code",
   "execution_count": null,
   "metadata": {},
   "outputs": [],
   "source": [
    "linkwiki='https://en.wikipedia.org/wiki/The_Economist_Democracy_Index'\n",
    "sortableTables=pd.read_html(io=linkwiki,flavor='bs4',attrs={\"class\": \"wikitable sortable\"})\n",
    "\n",
    "# we got\n",
    "type(sortableTables), len(sortableTables)"
   ]
  },
  {
   "cell_type": "code",
   "execution_count": null,
   "metadata": {},
   "outputs": [],
   "source": [
    "# let's see the third one\n",
    "sortableTables[2]"
   ]
  },
  {
   "cell_type": "code",
   "execution_count": null,
   "metadata": {},
   "outputs": [],
   "source": [
    "# this the one\n",
    "demoTable=sortableTables[2].copy()\n",
    "\n",
    "# check columns\n",
    "demoTable.columns.to_list()"
   ]
  },
  {
   "cell_type": "code",
   "execution_count": null,
   "metadata": {},
   "outputs": [],
   "source": [
    "demoTable.columns.str.contains('Δ')"
   ]
  },
  {
   "cell_type": "code",
   "execution_count": null,
   "metadata": {},
   "outputs": [],
   "source": [
    "demoTable.columns[~demoTable.columns.str.contains('Δ')]"
   ]
  },
  {
   "cell_type": "code",
   "execution_count": null,
   "metadata": {},
   "outputs": [],
   "source": [
    "# keep some:\n",
    "someCols=demoTable.columns[~demoTable.columns.str.contains('Δ')]\n",
    "\n",
    "#subset\n",
    "demoSub=demoTable[someCols].copy()\n",
    "\n",
    "#then\n",
    "demoSub"
   ]
  },
  {
   "cell_type": "code",
   "execution_count": null,
   "metadata": {},
   "outputs": [],
   "source": [
    "demoSub.info()"
   ]
  },
  {
   "cell_type": "markdown",
   "metadata": {},
   "source": [
    "[Home](#home)\n",
    "______\n",
    "\n",
    "<a id='merging'></a>\n",
    "\n",
    "### Basic merging\n",
    "\n"
   ]
  },
  {
   "cell_type": "markdown",
   "metadata": {},
   "source": [
    "If we are confident we did a good cleaning and formatting, this step should be easy:"
   ]
  },
  {
   "cell_type": "code",
   "execution_count": null,
   "metadata": {},
   "outputs": [],
   "source": [
    "# left_on= / right_on NOT NEEDED (only when column names differ)\n",
    "hdiFormat.merge(demoSub,left_on='Country', right_on='Country')"
   ]
  },
  {
   "cell_type": "markdown",
   "metadata": {},
   "source": [
    "Notice the amount of rowd **returned above**, and compare it with the amount of rows in each data frame:"
   ]
  },
  {
   "cell_type": "code",
   "execution_count": null,
   "metadata": {},
   "outputs": [],
   "source": [
    "len(hdiFormat),len(demoSub)"
   ]
  },
  {
   "cell_type": "markdown",
   "metadata": {},
   "source": [
    "If you do not want to check country names, you stop here.\n",
    "\n",
    "[Home](#home)\n",
    "______"
   ]
  },
  {
   "cell_type": "markdown",
   "metadata": {},
   "source": [
    "<a id='fuzzmerging'></a>\n",
    "\n",
    "### Fuzzy Merge\n",
    "\n",
    "\n",
    "The smallest amount of rows between two tables, is the maximum amount you expect after the merge. Let's check the key values that were not matched:"
   ]
  },
  {
   "cell_type": "code",
   "execution_count": null,
   "metadata": {},
   "outputs": [],
   "source": [
    "onlyHDI=set(hdiFormat.Country)-set(demoSub.Country)\n",
    "onlyDEMO=set(demoSub.Country)-set(hdiFormat.Country)"
   ]
  },
  {
   "cell_type": "code",
   "execution_count": null,
   "metadata": {},
   "outputs": [],
   "source": [
    "onlyHDI"
   ]
  },
  {
   "cell_type": "code",
   "execution_count": null,
   "metadata": {},
   "outputs": [],
   "source": [
    "onlyDEMO"
   ]
  },
  {
   "cell_type": "markdown",
   "metadata": {},
   "source": [
    "The previous objects (onlyDEMO, onlyHDI) inform the values not matched in the other data frames. \n",
    "If you want to recover some of these values, you may follow these steps (you may need to install **thefuzz**):"
   ]
  },
  {
   "cell_type": "code",
   "execution_count": null,
   "metadata": {},
   "outputs": [],
   "source": [
    "from thefuzz import process as fz\n",
    "\n",
    "# take a country from onlyDEMO\n",
    "# and get the country that matches the most in OnlyHDI\n",
    "\n",
    "[(demo,fz.extractOne(demo, onlyHDI)) for demo in sorted(onlyDEMO)]"
   ]
  },
  {
   "cell_type": "markdown",
   "metadata": {},
   "source": [
    "You will not get the best outcome in this step, so you just need to keep the 'safe' matches:"
   ]
  },
  {
   "cell_type": "code",
   "execution_count": null,
   "metadata": {},
   "outputs": [],
   "source": [
    "[(demo,fz.extractOne(demo, onlyHDI)) for demo in sorted(onlyDEMO) \\\n",
    " if fz.extractOne(demo, onlyHDI)[1]>=90]"
   ]
  },
  {
   "cell_type": "markdown",
   "metadata": {},
   "source": [
    "The next step is replace the cells values in one of the data frames.\n",
    "For that, you need to create a **dictionary of changes**:"
   ]
  },
  {
   "cell_type": "code",
   "execution_count": null,
   "metadata": {},
   "outputs": [],
   "source": [
    "# this dictionary is prepared for HDI data:\n",
    "{demo:fz.extractOne(demo, onlyHDI)[0] for demo in sorted(onlyDEMO) \\\n",
    " if fz.extractOne(demo, onlyHDI)[1]>=90}"
   ]
  },
  {
   "cell_type": "code",
   "execution_count": null,
   "metadata": {},
   "outputs": [],
   "source": [
    "# NOW create the dict and make the changes\n",
    "changesDEMO={demo:fz.extractOne(demo, onlyHDI)[0] for demo in sorted(onlyDEMO) \\\n",
    "             if fz.extractOne(demo, onlyHDI)[1]>=90}\n",
    "\n",
    "# replace in democracy\n",
    "\n",
    "demoSub.Country.replace(to_replace=changesDEMO,inplace=True)"
   ]
  },
  {
   "cell_type": "code",
   "execution_count": null,
   "metadata": {},
   "outputs": [],
   "source": [
    "# did you get more rows?\n",
    "hdiFormat.merge(demoSub)"
   ]
  },
  {
   "cell_type": "markdown",
   "metadata": {},
   "source": [
    "If you redo this process, you may recover more rows. I will not do it here, but you are welcome to. "
   ]
  },
  {
   "cell_type": "code",
   "execution_count": null,
   "metadata": {},
   "outputs": [],
   "source": [
    "# hint: start with these two lines!\n",
    "onlyHDI=set(hdiFormat.Country)-set(demoSub.Country)\n",
    "onlyDEMO=set(demoSub.Country)-set(hdiFormat.Country)\n",
    "#check\n",
    "[(demo,fz.extractOne(demo, onlyHDI)) for demo in sorted(onlyDEMO)]"
   ]
  },
  {
   "cell_type": "markdown",
   "metadata": {},
   "source": [
    "We can do some changes manually:"
   ]
  },
  {
   "cell_type": "code",
   "execution_count": null,
   "metadata": {},
   "outputs": [],
   "source": [
    "changesDEMO={'Cape Verde':'Cabo Verde',\n",
    "             'Czech Republic':'Czechia',\n",
    "             'East Timor':'Timor-Leste',\n",
    "             'Ivory Coast':\"Côte d'Ivoire\",\n",
    "             'Laos':\"Lao People's Democratic Republic\", \n",
    "             'South Korea':'Korea (Republic of)',\n",
    "            'Turkey':'Türkiye'}\n",
    "\n",
    "# replace in democracy\n",
    "\n",
    "demoSub.Country.replace(to_replace=changesDEMO,inplace=True)"
   ]
  },
  {
   "cell_type": "markdown",
   "metadata": {},
   "source": [
    "That was the best that could be done:"
   ]
  },
  {
   "cell_type": "code",
   "execution_count": null,
   "metadata": {},
   "outputs": [],
   "source": [
    "hdidem=hdiFormat.merge(demoSub)"
   ]
  },
  {
   "cell_type": "markdown",
   "metadata": {},
   "source": [
    "The format should still be good:"
   ]
  },
  {
   "cell_type": "code",
   "execution_count": null,
   "metadata": {},
   "outputs": [],
   "source": [
    "hdidem.info()"
   ]
  },
  {
   "cell_type": "markdown",
   "metadata": {},
   "source": [
    "[Home](#home)\n",
    "______\n",
    "\n",
    "\n",
    "## Prepare file for further work\n",
    "\n",
    "<a id='scaling'></a>\n",
    "\n",
    "###  Scaling\n",
    "\n",
    "It would be good to check the range of values of your numeric data. You can simply use **describe** (just requesting _min_ and _max_):"
   ]
  },
  {
   "cell_type": "code",
   "execution_count": null,
   "metadata": {},
   "outputs": [],
   "source": [
    "hdidem.describe().loc[['min','max']].T #T for transposing"
   ]
  },
  {
   "cell_type": "markdown",
   "metadata": {},
   "source": [
    "As you see different ranges, it would be good to request a **boxplot** (make sure to install **matplotlib** if not previously installed)"
   ]
  },
  {
   "cell_type": "code",
   "execution_count": null,
   "metadata": {},
   "outputs": [],
   "source": [
    "import matplotlib.pyplot as plt\n",
    "\n",
    "hdidem.plot(kind='box', rot=90,fontsize=5)\n",
    "plt.semilogy();"
   ]
  },
  {
   "cell_type": "markdown",
   "metadata": {},
   "source": [
    "Notice that our concern is the numeric data. In case of categorical it is unusual to worry about it, but some cases might need some thinking.\n",
    "\n",
    "Let me get the column names of the numeric columns:"
   ]
  },
  {
   "cell_type": "code",
   "execution_count": null,
   "metadata": {},
   "outputs": [],
   "source": [
    "import numpy as np\n",
    "\n",
    "colsToScale = hdidem.select_dtypes([np.number]).columns\n",
    "\n",
    "colsToScale"
   ]
  },
  {
   "cell_type": "markdown",
   "metadata": {},
   "source": [
    "Time to produce new ranges (make sure you have previously install **scikit-learn**):"
   ]
  },
  {
   "cell_type": "code",
   "execution_count": null,
   "metadata": {},
   "outputs": [],
   "source": [
    "from sklearn.preprocessing import MinMaxScaler\n",
    "\n",
    "scaler = MinMaxScaler()\n",
    "\n",
    "df_minmax = scaler.fit_transform(hdidem.loc[:,colsToScale].to_numpy())\n",
    "df_scaled = pd.DataFrame(df_minmax, columns=colsToScale)"
   ]
  },
  {
   "cell_type": "markdown",
   "metadata": {},
   "source": [
    "Let's explore the result:"
   ]
  },
  {
   "cell_type": "code",
   "execution_count": null,
   "metadata": {},
   "outputs": [],
   "source": [
    "\n",
    "df_scaled.describe().loc[['min','max']].T \n"
   ]
  },
  {
   "cell_type": "code",
   "execution_count": null,
   "metadata": {},
   "outputs": [],
   "source": [
    "df_scaled.plot(kind='box', rot=90,fontsize=5);"
   ]
  },
  {
   "cell_type": "markdown",
   "metadata": {},
   "source": [
    "Let's add a suffix to the column names:"
   ]
  },
  {
   "cell_type": "code",
   "execution_count": null,
   "metadata": {},
   "outputs": [],
   "source": [
    "df_scaled.columns=df_scaled.columns+\"_mM\""
   ]
  },
  {
   "cell_type": "code",
   "execution_count": null,
   "metadata": {},
   "outputs": [],
   "source": [
    "# concat to the right (instead of bottom) with axis=1\n",
    "pd.concat([hdidem,df_scaled],axis=1)"
   ]
  },
  {
   "cell_type": "markdown",
   "metadata": {},
   "source": [
    "So this is our last version:"
   ]
  },
  {
   "cell_type": "code",
   "execution_count": null,
   "metadata": {},
   "outputs": [],
   "source": [
    "hdidem_plus=pd.concat([hdidem,df_scaled],axis=1)"
   ]
  },
  {
   "cell_type": "markdown",
   "metadata": {},
   "source": [
    "[Home](#home)\n",
    "______\n",
    "\n",
    "\n",
    "<a id='exporting'></a>\n",
    "\n",
    "### Exporting"
   ]
  },
  {
   "cell_type": "markdown",
   "metadata": {},
   "source": [
    "#### For future use in Python:"
   ]
  },
  {
   "cell_type": "code",
   "execution_count": null,
   "metadata": {},
   "outputs": [],
   "source": [
    "hdidem_plus_plus.to_pickle(\"hdidem_plus.pkl\")\n",
    "# you will need: DF=pd.read_pickle(\"hdidem_plus.pkl\")\n",
    "# or:\n",
    "# from urllib.request import urlopen\n",
    "# DF=pd.read_pickle(urlopen(\"https://...../hdidem_plus.pkl\"),compression=None)"
   ]
  },
  {
   "cell_type": "markdown",
   "metadata": {},
   "source": [
    "#### For future  use in R:"
   ]
  },
  {
   "cell_type": "code",
   "execution_count": null,
   "metadata": {},
   "outputs": [],
   "source": [
    "!pip show rpy2"
   ]
  },
  {
   "cell_type": "code",
   "execution_count": null,
   "metadata": {},
   "outputs": [],
   "source": [
    "from rpy2.robjects import pandas2ri\n",
    "pandas2ri.activate()\n",
    "\n",
    "from rpy2.robjects.packages import importr\n",
    "\n",
    "base = importr('base')\n",
    "base.saveRDS(hdidem_plus,file=\"hdidem_plus.RDS\")\n",
    "\n",
    "#In R, you call it with: DF = readRDS(\"hdidem_plus.RDS\")\n",
    "#or, if read from cloud: DF = readRDS(url(\"https://...../hdidem_plus.RDS\")"
   ]
  },
  {
   "cell_type": "code",
   "execution_count": null,
   "metadata": {},
   "outputs": [],
   "source": []
  }
 ],
 "metadata": {
  "hide_input": false,
  "kernelspec": {
   "display_name": "Python 3 (ipykernel)",
   "language": "python",
   "name": "python3"
  },
  "language_info": {
   "codemirror_mode": {
    "name": "ipython",
    "version": 3
   },
   "file_extension": ".py",
   "mimetype": "text/x-python",
   "name": "python",
   "nbconvert_exporter": "python",
   "pygments_lexer": "ipython3",
   "version": "3.11.0"
  }
 },
 "nbformat": 4,
 "nbformat_minor": 2
}
