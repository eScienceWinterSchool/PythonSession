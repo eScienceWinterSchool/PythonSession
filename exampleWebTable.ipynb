{
 "cells": [
  {
   "cell_type": "markdown",
   "metadata": {},
   "source": [
    "<br> \n",
    "<center><img src=\"https://i.imgur.com/hkb7Bq7.png\" width=\"500\"></center>\n",
    "\n",
    "\n",
    "### **Prof. José Manuel Magallanes, PhD**\n",
    "\n",
    "* Professor, Departamento de Ciencias Sociales, Pontificia Universidad Católica del Perú, [jmagallanes@pucp.edu.pe](mailto:jmagallanes@pucp.edu.pe)\n",
    "\n",
    "* Visiting Professor, Evans School of Public Policy and Governance / Senior Data Science Fellow, eScience Institute, University of Washington, [magajm@uw.edu](mailto:magajm@uw.edu)\n",
    "_____\n",
    "\n",
    "_____"
   ]
  },
  {
   "cell_type": "markdown",
   "metadata": {},
   "source": [
    "\n",
    "# Introduction to Python\n",
    "\n",
    "### Using Python for Pre Processing\n",
    "\n",
    "In the session we will see the use of Python to:\n",
    "\n",
    "1. Collect data tables into Python \n",
    "\n",
    "2. Preprocess both tables:\n",
    "    * Subset data\n",
    "    * Fix column names\n",
    "    * Look for non-standar missing values\n",
    "    * Clean cell values\n",
    "    * Format data types\n",
    "\n",
    "3. Prepare a file for further analysis\n",
    "\n"
   ]
  },
  {
   "cell_type": "markdown",
   "metadata": {},
   "source": [
    "## 1. Collect data tables into Python"
   ]
  },
  {
   "cell_type": "markdown",
   "metadata": {},
   "source": [
    "* **From a table in the web**:"
   ]
  },
  {
   "cell_type": "code",
   "execution_count": 37,
   "metadata": {},
   "outputs": [],
   "source": [
    "linkWeb = \"https://en.wikipedia.org/wiki/Democracy_Index\""
   ]
  },
  {
   "cell_type": "markdown",
   "metadata": {},
   "source": [
    "Reading in a table from the web using pandas using pandas requires **lxml**:"
   ]
  },
  {
   "cell_type": "code",
   "execution_count": 38,
   "metadata": {},
   "outputs": [
    {
     "name": "stdout",
     "output_type": "stream",
     "text": [
      "Name: lxml\r\n",
      "Version: 4.9.2\r\n",
      "Summary: Powerful and Pythonic XML processing library combining libxml2/libxslt with the ElementTree API.\r\n",
      "Home-page: https://lxml.de/\r\n",
      "Author: lxml dev team\r\n",
      "Author-email: lxml-dev@lxml.de\r\n",
      "License: BSD-3-Clause\r\n",
      "Location: /Users/JoseManuel/opt/anaconda3/envs/WinterSchool-3_11/lib/python3.11/site-packages\r\n",
      "Requires: \r\n",
      "Required-by: \r\n"
     ]
    }
   ],
   "source": [
    "# available?\n",
    "!pip show lxml"
   ]
  },
  {
   "cell_type": "markdown",
   "metadata": {},
   "source": [
    "If not available, please go to Anaconda and install it. Once installed, or if available, continue:"
   ]
  },
  {
   "cell_type": "code",
   "execution_count": 78,
   "metadata": {},
   "outputs": [],
   "source": [
    "import pandas as pd\n",
    "\n",
    "demoWeb=pd.read_html(linkWeb,\n",
    "                  header=0,\n",
    "                  attrs={'class': 'wikitable sortable'})"
   ]
  },
  {
   "cell_type": "markdown",
   "metadata": {},
   "source": [
    "Notice that **demo** is not a data frame:"
   ]
  },
  {
   "cell_type": "code",
   "execution_count": 79,
   "metadata": {},
   "outputs": [
    {
     "data": {
      "text/plain": [
       "list"
      ]
     },
     "execution_count": 79,
     "metadata": {},
     "output_type": "execute_result"
    }
   ],
   "source": [
    "type(demoWeb)"
   ]
  },
  {
   "cell_type": "code",
   "execution_count": 80,
   "metadata": {},
   "outputs": [
    {
     "data": {
      "text/plain": [
       "3"
      ]
     },
     "execution_count": 80,
     "metadata": {},
     "output_type": "execute_result"
    }
   ],
   "source": [
    "#how many?\n",
    "len(demoWeb)"
   ]
  },
  {
   "cell_type": "code",
   "execution_count": 81,
   "metadata": {},
   "outputs": [
    {
     "data": {
      "text/html": [
       "<div>\n",
       "<style scoped>\n",
       "    .dataframe tbody tr th:only-of-type {\n",
       "        vertical-align: middle;\n",
       "    }\n",
       "\n",
       "    .dataframe tbody tr th {\n",
       "        vertical-align: top;\n",
       "    }\n",
       "\n",
       "    .dataframe thead th {\n",
       "        text-align: right;\n",
       "    }\n",
       "</style>\n",
       "<table border=\"1\" class=\"dataframe\">\n",
       "  <thead>\n",
       "    <tr style=\"text-align: right;\">\n",
       "      <th></th>\n",
       "      <th>Rank</th>\n",
       "      <th>.mw-parser-output .tooltip-dotted{border-bottom:1px dotted;cursor:help}Δ Rank</th>\n",
       "      <th>Country</th>\n",
       "      <th>Regime type</th>\n",
       "      <th>Overall score</th>\n",
       "      <th>Δ Score</th>\n",
       "      <th>Elec­toral pro­cess and plura­lism</th>\n",
       "      <th>Func­tioning of govern­ment</th>\n",
       "      <th>Poli­tical partici­pation</th>\n",
       "      <th>Poli­tical cul­ture</th>\n",
       "      <th>Civil liber­ties</th>\n",
       "    </tr>\n",
       "  </thead>\n",
       "  <tbody>\n",
       "    <tr>\n",
       "      <th>0</th>\n",
       "      <td>Full democracies</td>\n",
       "      <td>Full democracies</td>\n",
       "      <td>Full democracies</td>\n",
       "      <td>Full democracies</td>\n",
       "      <td>Full democracies</td>\n",
       "      <td>Full democracies</td>\n",
       "      <td>Full democracies</td>\n",
       "      <td>Full democracies</td>\n",
       "      <td>Full democracies</td>\n",
       "      <td>Full democracies</td>\n",
       "      <td>Full democracies</td>\n",
       "    </tr>\n",
       "    <tr>\n",
       "      <th>1</th>\n",
       "      <td>1</td>\n",
       "      <td>NaN</td>\n",
       "      <td>Norway</td>\n",
       "      <td>Full democracy</td>\n",
       "      <td>9.75</td>\n",
       "      <td>0.06</td>\n",
       "      <td>10.00</td>\n",
       "      <td>9.64</td>\n",
       "      <td>10.00</td>\n",
       "      <td>10.00</td>\n",
       "      <td>9.12</td>\n",
       "    </tr>\n",
       "    <tr>\n",
       "      <th>2</th>\n",
       "      <td>2</td>\n",
       "      <td>2</td>\n",
       "      <td>New Zealand</td>\n",
       "      <td>Full democracy</td>\n",
       "      <td>9.37</td>\n",
       "      <td>0.12</td>\n",
       "      <td>10.00</td>\n",
       "      <td>8.93</td>\n",
       "      <td>9.44</td>\n",
       "      <td>8.75</td>\n",
       "      <td>9.71</td>\n",
       "    </tr>\n",
       "    <tr>\n",
       "      <th>3</th>\n",
       "      <td>3</td>\n",
       "      <td>3</td>\n",
       "      <td>Finland</td>\n",
       "      <td>Full democracy</td>\n",
       "      <td>9.27</td>\n",
       "      <td>0.07</td>\n",
       "      <td>10.00</td>\n",
       "      <td>9.29</td>\n",
       "      <td>8.89</td>\n",
       "      <td>8.75</td>\n",
       "      <td>9.41</td>\n",
       "    </tr>\n",
       "    <tr>\n",
       "      <th>4</th>\n",
       "      <td>4</td>\n",
       "      <td>1</td>\n",
       "      <td>Sweden</td>\n",
       "      <td>Full democracy</td>\n",
       "      <td>9.26</td>\n",
       "      <td>NaN</td>\n",
       "      <td>9.58</td>\n",
       "      <td>9.29</td>\n",
       "      <td>8.33</td>\n",
       "      <td>10.00</td>\n",
       "      <td>9.12</td>\n",
       "    </tr>\n",
       "    <tr>\n",
       "      <th>...</th>\n",
       "      <td>...</td>\n",
       "      <td>...</td>\n",
       "      <td>...</td>\n",
       "      <td>...</td>\n",
       "      <td>...</td>\n",
       "      <td>...</td>\n",
       "      <td>...</td>\n",
       "      <td>...</td>\n",
       "      <td>...</td>\n",
       "      <td>...</td>\n",
       "      <td>...</td>\n",
       "    </tr>\n",
       "    <tr>\n",
       "      <th>166</th>\n",
       "      <td>162</td>\n",
       "      <td>2</td>\n",
       "      <td>Central African Republic</td>\n",
       "      <td>Authoritarian</td>\n",
       "      <td>1.43</td>\n",
       "      <td>0.11</td>\n",
       "      <td>1.25</td>\n",
       "      <td>0.00</td>\n",
       "      <td>1.67</td>\n",
       "      <td>1.88</td>\n",
       "      <td>2.35</td>\n",
       "    </tr>\n",
       "    <tr>\n",
       "      <th>167</th>\n",
       "      <td>164</td>\n",
       "      <td>2</td>\n",
       "      <td>Democratic Republic of the Congo</td>\n",
       "      <td>Authoritarian</td>\n",
       "      <td>1.40</td>\n",
       "      <td>0.27</td>\n",
       "      <td>0.75</td>\n",
       "      <td>0.00</td>\n",
       "      <td>2.22</td>\n",
       "      <td>3.13</td>\n",
       "      <td>0.88</td>\n",
       "    </tr>\n",
       "    <tr>\n",
       "      <th>168</th>\n",
       "      <td>165</td>\n",
       "      <td>2</td>\n",
       "      <td>North Korea</td>\n",
       "      <td>Authoritarian</td>\n",
       "      <td>1.08</td>\n",
       "      <td>NaN</td>\n",
       "      <td>0.00</td>\n",
       "      <td>2.50</td>\n",
       "      <td>1.67</td>\n",
       "      <td>1.25</td>\n",
       "      <td>0.00</td>\n",
       "    </tr>\n",
       "    <tr>\n",
       "      <th>169</th>\n",
       "      <td>166</td>\n",
       "      <td>31</td>\n",
       "      <td>Myanmar</td>\n",
       "      <td>Authoritarian</td>\n",
       "      <td>1.02</td>\n",
       "      <td>2.04</td>\n",
       "      <td>0.00</td>\n",
       "      <td>0.00</td>\n",
       "      <td>1.67</td>\n",
       "      <td>3.13</td>\n",
       "      <td>0.29</td>\n",
       "    </tr>\n",
       "    <tr>\n",
       "      <th>170</th>\n",
       "      <td>167</td>\n",
       "      <td>28</td>\n",
       "      <td>Afghanistan</td>\n",
       "      <td>Authoritarian</td>\n",
       "      <td>0.32</td>\n",
       "      <td>2.53</td>\n",
       "      <td>0.00</td>\n",
       "      <td>0.07</td>\n",
       "      <td>0.00</td>\n",
       "      <td>1.25</td>\n",
       "      <td>0.29</td>\n",
       "    </tr>\n",
       "  </tbody>\n",
       "</table>\n",
       "<p>171 rows × 11 columns</p>\n",
       "</div>"
      ],
      "text/plain": [
       "                 Rank  \\\n",
       "0    Full democracies   \n",
       "1                   1   \n",
       "2                   2   \n",
       "3                   3   \n",
       "4                   4   \n",
       "..                ...   \n",
       "166               162   \n",
       "167               164   \n",
       "168               165   \n",
       "169               166   \n",
       "170               167   \n",
       "\n",
       "    .mw-parser-output .tooltip-dotted{border-bottom:1px dotted;cursor:help}Δ Rank  \\\n",
       "0                                     Full democracies                              \n",
       "1                                                  NaN                              \n",
       "2                                                    2                              \n",
       "3                                                    3                              \n",
       "4                                                    1                              \n",
       "..                                                 ...                              \n",
       "166                                                  2                              \n",
       "167                                                  2                              \n",
       "168                                                  2                              \n",
       "169                                                 31                              \n",
       "170                                                 28                              \n",
       "\n",
       "                              Country       Regime type     Overall score  \\\n",
       "0                    Full democracies  Full democracies  Full democracies   \n",
       "1                              Norway    Full democracy              9.75   \n",
       "2                         New Zealand    Full democracy              9.37   \n",
       "3                             Finland    Full democracy              9.27   \n",
       "4                              Sweden    Full democracy              9.26   \n",
       "..                                ...               ...               ...   \n",
       "166          Central African Republic     Authoritarian              1.43   \n",
       "167  Democratic Republic of the Congo     Authoritarian              1.40   \n",
       "168                       North Korea     Authoritarian              1.08   \n",
       "169                           Myanmar     Authoritarian              1.02   \n",
       "170                       Afghanistan     Authoritarian              0.32   \n",
       "\n",
       "              Δ Score Elec­toral pro­cess and plura­lism  \\\n",
       "0    Full democracies                   Full democracies   \n",
       "1                0.06                              10.00   \n",
       "2                0.12                              10.00   \n",
       "3                0.07                              10.00   \n",
       "4                 NaN                               9.58   \n",
       "..                ...                                ...   \n",
       "166              0.11                               1.25   \n",
       "167              0.27                               0.75   \n",
       "168               NaN                               0.00   \n",
       "169              2.04                               0.00   \n",
       "170              2.53                               0.00   \n",
       "\n",
       "    Func­tioning of govern­ment Poli­tical partici­pation Poli­tical cul­ture  \\\n",
       "0              Full democracies          Full democracies    Full democracies   \n",
       "1                          9.64                     10.00               10.00   \n",
       "2                          8.93                      9.44                8.75   \n",
       "3                          9.29                      8.89                8.75   \n",
       "4                          9.29                      8.33               10.00   \n",
       "..                          ...                       ...                 ...   \n",
       "166                        0.00                      1.67                1.88   \n",
       "167                        0.00                      2.22                3.13   \n",
       "168                        2.50                      1.67                1.25   \n",
       "169                        0.00                      1.67                3.13   \n",
       "170                        0.07                      0.00                1.25   \n",
       "\n",
       "     Civil liber­ties  \n",
       "0    Full democracies  \n",
       "1                9.12  \n",
       "2                9.71  \n",
       "3                9.41  \n",
       "4                9.12  \n",
       "..                ...  \n",
       "166              2.35  \n",
       "167              0.88  \n",
       "168              0.00  \n",
       "169              0.29  \n",
       "170              0.29  \n",
       "\n",
       "[171 rows x 11 columns]"
      ]
     },
     "execution_count": 81,
     "metadata": {},
     "output_type": "execute_result"
    }
   ],
   "source": [
    "# is it the last one?\n",
    "demoWeb[2]"
   ]
  },
  {
   "cell_type": "markdown",
   "metadata": {},
   "source": [
    "As we found the data frame, we create a new object, _demoRaw_, to keep it:"
   ]
  },
  {
   "cell_type": "code",
   "execution_count": 83,
   "metadata": {},
   "outputs": [],
   "source": [
    "demoRaw=demoWeb[2].copy()"
   ]
  },
  {
   "cell_type": "markdown",
   "metadata": {},
   "source": [
    "## Pre Processing\n",
    "\n",
    "### Subset data\n",
    "\n",
    "Just keep what you need; let's check the data head and tail:"
   ]
  },
  {
   "cell_type": "code",
   "execution_count": 84,
   "metadata": {},
   "outputs": [
    {
     "data": {
      "text/html": [
       "<div>\n",
       "<style scoped>\n",
       "    .dataframe tbody tr th:only-of-type {\n",
       "        vertical-align: middle;\n",
       "    }\n",
       "\n",
       "    .dataframe tbody tr th {\n",
       "        vertical-align: top;\n",
       "    }\n",
       "\n",
       "    .dataframe thead th {\n",
       "        text-align: right;\n",
       "    }\n",
       "</style>\n",
       "<table border=\"1\" class=\"dataframe\">\n",
       "  <thead>\n",
       "    <tr style=\"text-align: right;\">\n",
       "      <th></th>\n",
       "      <th>Rank</th>\n",
       "      <th>.mw-parser-output .tooltip-dotted{border-bottom:1px dotted;cursor:help}Δ Rank</th>\n",
       "      <th>Country</th>\n",
       "      <th>Regime type</th>\n",
       "      <th>Overall score</th>\n",
       "      <th>Δ Score</th>\n",
       "      <th>Elec­toral pro­cess and plura­lism</th>\n",
       "      <th>Func­tioning of govern­ment</th>\n",
       "      <th>Poli­tical partici­pation</th>\n",
       "      <th>Poli­tical cul­ture</th>\n",
       "      <th>Civil liber­ties</th>\n",
       "    </tr>\n",
       "  </thead>\n",
       "  <tbody>\n",
       "    <tr>\n",
       "      <th>0</th>\n",
       "      <td>Full democracies</td>\n",
       "      <td>Full democracies</td>\n",
       "      <td>Full democracies</td>\n",
       "      <td>Full democracies</td>\n",
       "      <td>Full democracies</td>\n",
       "      <td>Full democracies</td>\n",
       "      <td>Full democracies</td>\n",
       "      <td>Full democracies</td>\n",
       "      <td>Full democracies</td>\n",
       "      <td>Full democracies</td>\n",
       "      <td>Full democracies</td>\n",
       "    </tr>\n",
       "    <tr>\n",
       "      <th>1</th>\n",
       "      <td>1</td>\n",
       "      <td>NaN</td>\n",
       "      <td>Norway</td>\n",
       "      <td>Full democracy</td>\n",
       "      <td>9.75</td>\n",
       "      <td>0.06</td>\n",
       "      <td>10.00</td>\n",
       "      <td>9.64</td>\n",
       "      <td>10.00</td>\n",
       "      <td>10.00</td>\n",
       "      <td>9.12</td>\n",
       "    </tr>\n",
       "    <tr>\n",
       "      <th>2</th>\n",
       "      <td>2</td>\n",
       "      <td>2</td>\n",
       "      <td>New Zealand</td>\n",
       "      <td>Full democracy</td>\n",
       "      <td>9.37</td>\n",
       "      <td>0.12</td>\n",
       "      <td>10.00</td>\n",
       "      <td>8.93</td>\n",
       "      <td>9.44</td>\n",
       "      <td>8.75</td>\n",
       "      <td>9.71</td>\n",
       "    </tr>\n",
       "    <tr>\n",
       "      <th>3</th>\n",
       "      <td>3</td>\n",
       "      <td>3</td>\n",
       "      <td>Finland</td>\n",
       "      <td>Full democracy</td>\n",
       "      <td>9.27</td>\n",
       "      <td>0.07</td>\n",
       "      <td>10.00</td>\n",
       "      <td>9.29</td>\n",
       "      <td>8.89</td>\n",
       "      <td>8.75</td>\n",
       "      <td>9.41</td>\n",
       "    </tr>\n",
       "    <tr>\n",
       "      <th>4</th>\n",
       "      <td>4</td>\n",
       "      <td>1</td>\n",
       "      <td>Sweden</td>\n",
       "      <td>Full democracy</td>\n",
       "      <td>9.26</td>\n",
       "      <td>NaN</td>\n",
       "      <td>9.58</td>\n",
       "      <td>9.29</td>\n",
       "      <td>8.33</td>\n",
       "      <td>10.00</td>\n",
       "      <td>9.12</td>\n",
       "    </tr>\n",
       "  </tbody>\n",
       "</table>\n",
       "</div>"
      ],
      "text/plain": [
       "               Rank  \\\n",
       "0  Full democracies   \n",
       "1                 1   \n",
       "2                 2   \n",
       "3                 3   \n",
       "4                 4   \n",
       "\n",
       "  .mw-parser-output .tooltip-dotted{border-bottom:1px dotted;cursor:help}Δ Rank  \\\n",
       "0                                   Full democracies                              \n",
       "1                                                NaN                              \n",
       "2                                                  2                              \n",
       "3                                                  3                              \n",
       "4                                                  1                              \n",
       "\n",
       "            Country       Regime type     Overall score           Δ Score  \\\n",
       "0  Full democracies  Full democracies  Full democracies  Full democracies   \n",
       "1            Norway    Full democracy              9.75              0.06   \n",
       "2       New Zealand    Full democracy              9.37              0.12   \n",
       "3           Finland    Full democracy              9.27              0.07   \n",
       "4            Sweden    Full democracy              9.26               NaN   \n",
       "\n",
       "  Elec­toral pro­cess and plura­lism Func­tioning of govern­ment  \\\n",
       "0                   Full democracies            Full democracies   \n",
       "1                              10.00                        9.64   \n",
       "2                              10.00                        8.93   \n",
       "3                              10.00                        9.29   \n",
       "4                               9.58                        9.29   \n",
       "\n",
       "  Poli­tical partici­pation Poli­tical cul­ture  Civil liber­ties  \n",
       "0          Full democracies    Full democracies  Full democracies  \n",
       "1                     10.00               10.00              9.12  \n",
       "2                      9.44                8.75              9.71  \n",
       "3                      8.89                8.75              9.41  \n",
       "4                      8.33               10.00              9.12  "
      ]
     },
     "execution_count": 84,
     "metadata": {},
     "output_type": "execute_result"
    }
   ],
   "source": [
    "demoRaw.head()"
   ]
  },
  {
   "cell_type": "code",
   "execution_count": 45,
   "metadata": {},
   "outputs": [
    {
     "data": {
      "text/html": [
       "<div>\n",
       "<style scoped>\n",
       "    .dataframe tbody tr th:only-of-type {\n",
       "        vertical-align: middle;\n",
       "    }\n",
       "\n",
       "    .dataframe tbody tr th {\n",
       "        vertical-align: top;\n",
       "    }\n",
       "\n",
       "    .dataframe thead th {\n",
       "        text-align: right;\n",
       "    }\n",
       "</style>\n",
       "<table border=\"1\" class=\"dataframe\">\n",
       "  <thead>\n",
       "    <tr style=\"text-align: right;\">\n",
       "      <th></th>\n",
       "      <th>Rank</th>\n",
       "      <th>.mw-parser-output .tooltip-dotted{border-bottom:1px dotted;cursor:help}Δ Rank</th>\n",
       "      <th>Country</th>\n",
       "      <th>Regime type</th>\n",
       "      <th>Overall score</th>\n",
       "      <th>Δ Score</th>\n",
       "      <th>Elec­toral pro­cess and plura­lism</th>\n",
       "      <th>Func­tioning of govern­ment</th>\n",
       "      <th>Poli­tical partici­pation</th>\n",
       "      <th>Poli­tical cul­ture</th>\n",
       "      <th>Civil liber­ties</th>\n",
       "    </tr>\n",
       "  </thead>\n",
       "  <tbody>\n",
       "    <tr>\n",
       "      <th>166</th>\n",
       "      <td>162</td>\n",
       "      <td>2</td>\n",
       "      <td>Central African Republic</td>\n",
       "      <td>Authoritarian</td>\n",
       "      <td>1.43</td>\n",
       "      <td>0.11</td>\n",
       "      <td>1.25</td>\n",
       "      <td>0.00</td>\n",
       "      <td>1.67</td>\n",
       "      <td>1.88</td>\n",
       "      <td>2.35</td>\n",
       "    </tr>\n",
       "    <tr>\n",
       "      <th>167</th>\n",
       "      <td>164</td>\n",
       "      <td>2</td>\n",
       "      <td>Democratic Republic of the Congo</td>\n",
       "      <td>Authoritarian</td>\n",
       "      <td>1.40</td>\n",
       "      <td>0.27</td>\n",
       "      <td>0.75</td>\n",
       "      <td>0.00</td>\n",
       "      <td>2.22</td>\n",
       "      <td>3.13</td>\n",
       "      <td>0.88</td>\n",
       "    </tr>\n",
       "    <tr>\n",
       "      <th>168</th>\n",
       "      <td>165</td>\n",
       "      <td>2</td>\n",
       "      <td>North Korea</td>\n",
       "      <td>Authoritarian</td>\n",
       "      <td>1.08</td>\n",
       "      <td>NaN</td>\n",
       "      <td>0.00</td>\n",
       "      <td>2.50</td>\n",
       "      <td>1.67</td>\n",
       "      <td>1.25</td>\n",
       "      <td>0.00</td>\n",
       "    </tr>\n",
       "    <tr>\n",
       "      <th>169</th>\n",
       "      <td>166</td>\n",
       "      <td>31</td>\n",
       "      <td>Myanmar</td>\n",
       "      <td>Authoritarian</td>\n",
       "      <td>1.02</td>\n",
       "      <td>2.04</td>\n",
       "      <td>0.00</td>\n",
       "      <td>0.00</td>\n",
       "      <td>1.67</td>\n",
       "      <td>3.13</td>\n",
       "      <td>0.29</td>\n",
       "    </tr>\n",
       "    <tr>\n",
       "      <th>170</th>\n",
       "      <td>167</td>\n",
       "      <td>28</td>\n",
       "      <td>Afghanistan</td>\n",
       "      <td>Authoritarian</td>\n",
       "      <td>0.32</td>\n",
       "      <td>2.53</td>\n",
       "      <td>0.00</td>\n",
       "      <td>0.07</td>\n",
       "      <td>0.00</td>\n",
       "      <td>1.25</td>\n",
       "      <td>0.29</td>\n",
       "    </tr>\n",
       "  </tbody>\n",
       "</table>\n",
       "</div>"
      ],
      "text/plain": [
       "    Rank  \\\n",
       "166  162   \n",
       "167  164   \n",
       "168  165   \n",
       "169  166   \n",
       "170  167   \n",
       "\n",
       "    .mw-parser-output .tooltip-dotted{border-bottom:1px dotted;cursor:help}Δ Rank  \\\n",
       "166                                                  2                              \n",
       "167                                                  2                              \n",
       "168                                                  2                              \n",
       "169                                                 31                              \n",
       "170                                                 28                              \n",
       "\n",
       "                              Country    Regime type Overall score Δ Score  \\\n",
       "166          Central African Republic  Authoritarian          1.43    0.11   \n",
       "167  Democratic Republic of the Congo  Authoritarian          1.40    0.27   \n",
       "168                       North Korea  Authoritarian          1.08     NaN   \n",
       "169                           Myanmar  Authoritarian          1.02    2.04   \n",
       "170                       Afghanistan  Authoritarian          0.32    2.53   \n",
       "\n",
       "    Elec­toral pro­cess and plura­lism Func­tioning of govern­ment  \\\n",
       "166                               1.25                        0.00   \n",
       "167                               0.75                        0.00   \n",
       "168                               0.00                        2.50   \n",
       "169                               0.00                        0.00   \n",
       "170                               0.00                        0.07   \n",
       "\n",
       "    Poli­tical partici­pation Poli­tical cul­ture Civil liber­ties  \n",
       "166                      1.67                1.88             2.35  \n",
       "167                      2.22                3.13             0.88  \n",
       "168                      1.67                1.25             0.00  \n",
       "169                      1.67                3.13             0.29  \n",
       "170                      0.00                1.25             0.29  "
      ]
     },
     "execution_count": 45,
     "metadata": {},
     "output_type": "execute_result"
    }
   ],
   "source": [
    "demoRaw.tail()"
   ]
  },
  {
   "cell_type": "markdown",
   "metadata": {},
   "source": [
    "The data seems ok so far."
   ]
  },
  {
   "cell_type": "markdown",
   "metadata": {},
   "source": [
    "### Fix column names\n",
    "\n"
   ]
  },
  {
   "cell_type": "code",
   "execution_count": 85,
   "metadata": {},
   "outputs": [
    {
     "data": {
      "text/plain": [
       "Index(['Rank',\n",
       "       '.mw-parser-output .tooltip-dotted{border-bottom:1px dotted;cursor:help}Δ Rank',\n",
       "       'Country', 'Regime type', 'Overall score', 'Δ Score',\n",
       "       'Elec­toral pro­cess and plura­lism', 'Func­tioning of govern­ment',\n",
       "       'Poli­tical partici­pation', 'Poli­tical cul­ture', 'Civil liber­ties'],\n",
       "      dtype='object')"
      ]
     },
     "execution_count": 85,
     "metadata": {},
     "output_type": "execute_result"
    }
   ],
   "source": [
    "demoRaw.columns"
   ]
  },
  {
   "cell_type": "markdown",
   "metadata": {},
   "source": [
    "Notice above that the columns:\n",
    "* Have weird names.\n",
    "* Have spaces between words.\n",
    "* Have many words.\n",
    "* A couple of the represent rankings.\n",
    "\n",
    "Let's see what can be done:"
   ]
  },
  {
   "cell_type": "code",
   "execution_count": 86,
   "metadata": {},
   "outputs": [
    {
     "data": {
      "text/plain": [
       "['Rank',\n",
       " '.mw-parser-output .tooltip-dotted{border-bottom:1px dotted;cursor:help}Δ Rank',\n",
       " 'Δ Score']"
      ]
     },
     "execution_count": 86,
     "metadata": {},
     "output_type": "execute_result"
    }
   ],
   "source": [
    "import re\n",
    "[header for header in demoRaw.columns if re.search('Rank|rank|Δ',header)]"
   ]
  },
  {
   "cell_type": "code",
   "execution_count": 87,
   "metadata": {},
   "outputs": [
    {
     "data": {
      "text/html": [
       "<div>\n",
       "<style scoped>\n",
       "    .dataframe tbody tr th:only-of-type {\n",
       "        vertical-align: middle;\n",
       "    }\n",
       "\n",
       "    .dataframe tbody tr th {\n",
       "        vertical-align: top;\n",
       "    }\n",
       "\n",
       "    .dataframe thead th {\n",
       "        text-align: right;\n",
       "    }\n",
       "</style>\n",
       "<table border=\"1\" class=\"dataframe\">\n",
       "  <thead>\n",
       "    <tr style=\"text-align: right;\">\n",
       "      <th></th>\n",
       "      <th>Country</th>\n",
       "      <th>Regime type</th>\n",
       "      <th>Overall score</th>\n",
       "      <th>Elec­toral pro­cess and plura­lism</th>\n",
       "      <th>Func­tioning of govern­ment</th>\n",
       "      <th>Poli­tical partici­pation</th>\n",
       "      <th>Poli­tical cul­ture</th>\n",
       "      <th>Civil liber­ties</th>\n",
       "    </tr>\n",
       "  </thead>\n",
       "  <tbody>\n",
       "    <tr>\n",
       "      <th>0</th>\n",
       "      <td>Full democracies</td>\n",
       "      <td>Full democracies</td>\n",
       "      <td>Full democracies</td>\n",
       "      <td>Full democracies</td>\n",
       "      <td>Full democracies</td>\n",
       "      <td>Full democracies</td>\n",
       "      <td>Full democracies</td>\n",
       "      <td>Full democracies</td>\n",
       "    </tr>\n",
       "    <tr>\n",
       "      <th>1</th>\n",
       "      <td>Norway</td>\n",
       "      <td>Full democracy</td>\n",
       "      <td>9.75</td>\n",
       "      <td>10.00</td>\n",
       "      <td>9.64</td>\n",
       "      <td>10.00</td>\n",
       "      <td>10.00</td>\n",
       "      <td>9.12</td>\n",
       "    </tr>\n",
       "    <tr>\n",
       "      <th>2</th>\n",
       "      <td>New Zealand</td>\n",
       "      <td>Full democracy</td>\n",
       "      <td>9.37</td>\n",
       "      <td>10.00</td>\n",
       "      <td>8.93</td>\n",
       "      <td>9.44</td>\n",
       "      <td>8.75</td>\n",
       "      <td>9.71</td>\n",
       "    </tr>\n",
       "    <tr>\n",
       "      <th>3</th>\n",
       "      <td>Finland</td>\n",
       "      <td>Full democracy</td>\n",
       "      <td>9.27</td>\n",
       "      <td>10.00</td>\n",
       "      <td>9.29</td>\n",
       "      <td>8.89</td>\n",
       "      <td>8.75</td>\n",
       "      <td>9.41</td>\n",
       "    </tr>\n",
       "    <tr>\n",
       "      <th>4</th>\n",
       "      <td>Sweden</td>\n",
       "      <td>Full democracy</td>\n",
       "      <td>9.26</td>\n",
       "      <td>9.58</td>\n",
       "      <td>9.29</td>\n",
       "      <td>8.33</td>\n",
       "      <td>10.00</td>\n",
       "      <td>9.12</td>\n",
       "    </tr>\n",
       "    <tr>\n",
       "      <th>...</th>\n",
       "      <td>...</td>\n",
       "      <td>...</td>\n",
       "      <td>...</td>\n",
       "      <td>...</td>\n",
       "      <td>...</td>\n",
       "      <td>...</td>\n",
       "      <td>...</td>\n",
       "      <td>...</td>\n",
       "    </tr>\n",
       "    <tr>\n",
       "      <th>166</th>\n",
       "      <td>Central African Republic</td>\n",
       "      <td>Authoritarian</td>\n",
       "      <td>1.43</td>\n",
       "      <td>1.25</td>\n",
       "      <td>0.00</td>\n",
       "      <td>1.67</td>\n",
       "      <td>1.88</td>\n",
       "      <td>2.35</td>\n",
       "    </tr>\n",
       "    <tr>\n",
       "      <th>167</th>\n",
       "      <td>Democratic Republic of the Congo</td>\n",
       "      <td>Authoritarian</td>\n",
       "      <td>1.40</td>\n",
       "      <td>0.75</td>\n",
       "      <td>0.00</td>\n",
       "      <td>2.22</td>\n",
       "      <td>3.13</td>\n",
       "      <td>0.88</td>\n",
       "    </tr>\n",
       "    <tr>\n",
       "      <th>168</th>\n",
       "      <td>North Korea</td>\n",
       "      <td>Authoritarian</td>\n",
       "      <td>1.08</td>\n",
       "      <td>0.00</td>\n",
       "      <td>2.50</td>\n",
       "      <td>1.67</td>\n",
       "      <td>1.25</td>\n",
       "      <td>0.00</td>\n",
       "    </tr>\n",
       "    <tr>\n",
       "      <th>169</th>\n",
       "      <td>Myanmar</td>\n",
       "      <td>Authoritarian</td>\n",
       "      <td>1.02</td>\n",
       "      <td>0.00</td>\n",
       "      <td>0.00</td>\n",
       "      <td>1.67</td>\n",
       "      <td>3.13</td>\n",
       "      <td>0.29</td>\n",
       "    </tr>\n",
       "    <tr>\n",
       "      <th>170</th>\n",
       "      <td>Afghanistan</td>\n",
       "      <td>Authoritarian</td>\n",
       "      <td>0.32</td>\n",
       "      <td>0.00</td>\n",
       "      <td>0.07</td>\n",
       "      <td>0.00</td>\n",
       "      <td>1.25</td>\n",
       "      <td>0.29</td>\n",
       "    </tr>\n",
       "  </tbody>\n",
       "</table>\n",
       "<p>171 rows × 8 columns</p>\n",
       "</div>"
      ],
      "text/plain": [
       "                              Country       Regime type     Overall score  \\\n",
       "0                    Full democracies  Full democracies  Full democracies   \n",
       "1                              Norway    Full democracy              9.75   \n",
       "2                         New Zealand    Full democracy              9.37   \n",
       "3                             Finland    Full democracy              9.27   \n",
       "4                              Sweden    Full democracy              9.26   \n",
       "..                                ...               ...               ...   \n",
       "166          Central African Republic     Authoritarian              1.43   \n",
       "167  Democratic Republic of the Congo     Authoritarian              1.40   \n",
       "168                       North Korea     Authoritarian              1.08   \n",
       "169                           Myanmar     Authoritarian              1.02   \n",
       "170                       Afghanistan     Authoritarian              0.32   \n",
       "\n",
       "    Elec­toral pro­cess and plura­lism Func­tioning of govern­ment  \\\n",
       "0                     Full democracies            Full democracies   \n",
       "1                                10.00                        9.64   \n",
       "2                                10.00                        8.93   \n",
       "3                                10.00                        9.29   \n",
       "4                                 9.58                        9.29   \n",
       "..                                 ...                         ...   \n",
       "166                               1.25                        0.00   \n",
       "167                               0.75                        0.00   \n",
       "168                               0.00                        2.50   \n",
       "169                               0.00                        0.00   \n",
       "170                               0.00                        0.07   \n",
       "\n",
       "    Poli­tical partici­pation Poli­tical cul­ture  Civil liber­ties  \n",
       "0            Full democracies    Full democracies  Full democracies  \n",
       "1                       10.00               10.00              9.12  \n",
       "2                        9.44                8.75              9.71  \n",
       "3                        8.89                8.75              9.41  \n",
       "4                        8.33               10.00              9.12  \n",
       "..                        ...                 ...               ...  \n",
       "166                      1.67                1.88              2.35  \n",
       "167                      2.22                3.13              0.88  \n",
       "168                      1.67                1.25              0.00  \n",
       "169                      1.67                3.13              0.29  \n",
       "170                      0.00                1.25              0.29  \n",
       "\n",
       "[171 rows x 8 columns]"
      ]
     },
     "execution_count": 87,
     "metadata": {},
     "output_type": "execute_result"
    }
   ],
   "source": [
    "byHeaders=[header for header in demoRaw.columns if re.search('Rank|rank|Δ',header)]\n",
    "# then\n",
    "demoRaw.drop(columns=byHeaders, inplace=True)\n",
    "# now\n",
    "demoRaw\n"
   ]
  },
  {
   "cell_type": "code",
   "execution_count": 88,
   "metadata": {},
   "outputs": [
    {
     "data": {
      "text/plain": [
       "['Country',\n",
       " 'Regime type',\n",
       " 'Overall score',\n",
       " 'Elec\\xadtoral pro\\xadcess and plura\\xadlism',\n",
       " 'Func\\xadtioning of govern\\xadment',\n",
       " 'Poli\\xadtical partici\\xadpation',\n",
       " 'Poli\\xadtical cul\\xadture',\n",
       " 'Civil liber\\xadties']"
      ]
     },
     "execution_count": 88,
     "metadata": {},
     "output_type": "execute_result"
    }
   ],
   "source": [
    "# we still have problems\n",
    "demoRaw.columns.to_list()"
   ]
  },
  {
   "cell_type": "code",
   "execution_count": 89,
   "metadata": {},
   "outputs": [
    {
     "data": {
      "text/plain": [
       "['Country',\n",
       " 'Regimetype',\n",
       " 'Overallscore',\n",
       " 'Electoralprocessandpluralism',\n",
       " 'Functioningofgovernment',\n",
       " 'Politicalparticipation',\n",
       " 'Politicalculture',\n",
       " 'Civilliberties']"
      ]
     },
     "execution_count": 89,
     "metadata": {},
     "output_type": "execute_result"
    }
   ],
   "source": [
    "demoRaw.columns.str.replace('\\W',\"\",regex=True).to_list()"
   ]
  },
  {
   "cell_type": "code",
   "execution_count": 90,
   "metadata": {},
   "outputs": [
    {
     "data": {
      "text/html": [
       "<div>\n",
       "<style scoped>\n",
       "    .dataframe tbody tr th:only-of-type {\n",
       "        vertical-align: middle;\n",
       "    }\n",
       "\n",
       "    .dataframe tbody tr th {\n",
       "        vertical-align: top;\n",
       "    }\n",
       "\n",
       "    .dataframe thead th {\n",
       "        text-align: right;\n",
       "    }\n",
       "</style>\n",
       "<table border=\"1\" class=\"dataframe\">\n",
       "  <thead>\n",
       "    <tr style=\"text-align: right;\">\n",
       "      <th></th>\n",
       "      <th>Country</th>\n",
       "      <th>Regimetype</th>\n",
       "      <th>Overallscore</th>\n",
       "      <th>Electoralprocessandpluralism</th>\n",
       "      <th>Functioningofgovernment</th>\n",
       "      <th>Politicalparticipation</th>\n",
       "      <th>Politicalculture</th>\n",
       "      <th>Civilliberties</th>\n",
       "    </tr>\n",
       "  </thead>\n",
       "  <tbody>\n",
       "    <tr>\n",
       "      <th>0</th>\n",
       "      <td>Full democracies</td>\n",
       "      <td>Full democracies</td>\n",
       "      <td>Full democracies</td>\n",
       "      <td>Full democracies</td>\n",
       "      <td>Full democracies</td>\n",
       "      <td>Full democracies</td>\n",
       "      <td>Full democracies</td>\n",
       "      <td>Full democracies</td>\n",
       "    </tr>\n",
       "    <tr>\n",
       "      <th>1</th>\n",
       "      <td>Norway</td>\n",
       "      <td>Full democracy</td>\n",
       "      <td>9.75</td>\n",
       "      <td>10.00</td>\n",
       "      <td>9.64</td>\n",
       "      <td>10.00</td>\n",
       "      <td>10.00</td>\n",
       "      <td>9.12</td>\n",
       "    </tr>\n",
       "    <tr>\n",
       "      <th>2</th>\n",
       "      <td>New Zealand</td>\n",
       "      <td>Full democracy</td>\n",
       "      <td>9.37</td>\n",
       "      <td>10.00</td>\n",
       "      <td>8.93</td>\n",
       "      <td>9.44</td>\n",
       "      <td>8.75</td>\n",
       "      <td>9.71</td>\n",
       "    </tr>\n",
       "    <tr>\n",
       "      <th>3</th>\n",
       "      <td>Finland</td>\n",
       "      <td>Full democracy</td>\n",
       "      <td>9.27</td>\n",
       "      <td>10.00</td>\n",
       "      <td>9.29</td>\n",
       "      <td>8.89</td>\n",
       "      <td>8.75</td>\n",
       "      <td>9.41</td>\n",
       "    </tr>\n",
       "    <tr>\n",
       "      <th>4</th>\n",
       "      <td>Sweden</td>\n",
       "      <td>Full democracy</td>\n",
       "      <td>9.26</td>\n",
       "      <td>9.58</td>\n",
       "      <td>9.29</td>\n",
       "      <td>8.33</td>\n",
       "      <td>10.00</td>\n",
       "      <td>9.12</td>\n",
       "    </tr>\n",
       "    <tr>\n",
       "      <th>...</th>\n",
       "      <td>...</td>\n",
       "      <td>...</td>\n",
       "      <td>...</td>\n",
       "      <td>...</td>\n",
       "      <td>...</td>\n",
       "      <td>...</td>\n",
       "      <td>...</td>\n",
       "      <td>...</td>\n",
       "    </tr>\n",
       "    <tr>\n",
       "      <th>166</th>\n",
       "      <td>Central African Republic</td>\n",
       "      <td>Authoritarian</td>\n",
       "      <td>1.43</td>\n",
       "      <td>1.25</td>\n",
       "      <td>0.00</td>\n",
       "      <td>1.67</td>\n",
       "      <td>1.88</td>\n",
       "      <td>2.35</td>\n",
       "    </tr>\n",
       "    <tr>\n",
       "      <th>167</th>\n",
       "      <td>Democratic Republic of the Congo</td>\n",
       "      <td>Authoritarian</td>\n",
       "      <td>1.40</td>\n",
       "      <td>0.75</td>\n",
       "      <td>0.00</td>\n",
       "      <td>2.22</td>\n",
       "      <td>3.13</td>\n",
       "      <td>0.88</td>\n",
       "    </tr>\n",
       "    <tr>\n",
       "      <th>168</th>\n",
       "      <td>North Korea</td>\n",
       "      <td>Authoritarian</td>\n",
       "      <td>1.08</td>\n",
       "      <td>0.00</td>\n",
       "      <td>2.50</td>\n",
       "      <td>1.67</td>\n",
       "      <td>1.25</td>\n",
       "      <td>0.00</td>\n",
       "    </tr>\n",
       "    <tr>\n",
       "      <th>169</th>\n",
       "      <td>Myanmar</td>\n",
       "      <td>Authoritarian</td>\n",
       "      <td>1.02</td>\n",
       "      <td>0.00</td>\n",
       "      <td>0.00</td>\n",
       "      <td>1.67</td>\n",
       "      <td>3.13</td>\n",
       "      <td>0.29</td>\n",
       "    </tr>\n",
       "    <tr>\n",
       "      <th>170</th>\n",
       "      <td>Afghanistan</td>\n",
       "      <td>Authoritarian</td>\n",
       "      <td>0.32</td>\n",
       "      <td>0.00</td>\n",
       "      <td>0.07</td>\n",
       "      <td>0.00</td>\n",
       "      <td>1.25</td>\n",
       "      <td>0.29</td>\n",
       "    </tr>\n",
       "  </tbody>\n",
       "</table>\n",
       "<p>171 rows × 8 columns</p>\n",
       "</div>"
      ],
      "text/plain": [
       "                              Country        Regimetype      Overallscore  \\\n",
       "0                    Full democracies  Full democracies  Full democracies   \n",
       "1                              Norway    Full democracy              9.75   \n",
       "2                         New Zealand    Full democracy              9.37   \n",
       "3                             Finland    Full democracy              9.27   \n",
       "4                              Sweden    Full democracy              9.26   \n",
       "..                                ...               ...               ...   \n",
       "166          Central African Republic     Authoritarian              1.43   \n",
       "167  Democratic Republic of the Congo     Authoritarian              1.40   \n",
       "168                       North Korea     Authoritarian              1.08   \n",
       "169                           Myanmar     Authoritarian              1.02   \n",
       "170                       Afghanistan     Authoritarian              0.32   \n",
       "\n",
       "    Electoralprocessandpluralism Functioningofgovernment  \\\n",
       "0               Full democracies        Full democracies   \n",
       "1                          10.00                    9.64   \n",
       "2                          10.00                    8.93   \n",
       "3                          10.00                    9.29   \n",
       "4                           9.58                    9.29   \n",
       "..                           ...                     ...   \n",
       "166                         1.25                    0.00   \n",
       "167                         0.75                    0.00   \n",
       "168                         0.00                    2.50   \n",
       "169                         0.00                    0.00   \n",
       "170                         0.00                    0.07   \n",
       "\n",
       "    Politicalparticipation  Politicalculture    Civilliberties  \n",
       "0         Full democracies  Full democracies  Full democracies  \n",
       "1                    10.00             10.00              9.12  \n",
       "2                     9.44              8.75              9.71  \n",
       "3                     8.89              8.75              9.41  \n",
       "4                     8.33             10.00              9.12  \n",
       "..                     ...               ...               ...  \n",
       "166                   1.67              1.88              2.35  \n",
       "167                   2.22              3.13              0.88  \n",
       "168                   1.67              1.25              0.00  \n",
       "169                   1.67              3.13              0.29  \n",
       "170                   0.00              1.25              0.29  \n",
       "\n",
       "[171 rows x 8 columns]"
      ]
     },
     "execution_count": 90,
     "metadata": {},
     "output_type": "execute_result"
    }
   ],
   "source": [
    "# then\n",
    "demoRaw.columns=demoRaw.columns.str.replace('\\W',\"\",regex=True)\n",
    "demoRaw"
   ]
  },
  {
   "cell_type": "markdown",
   "metadata": {},
   "source": [
    "### Look for non-standar missing values\n",
    "\n",
    "First check a cell that is full of non-digit characters in numeric columns:"
   ]
  },
  {
   "cell_type": "code",
   "execution_count": 91,
   "metadata": {},
   "outputs": [
    {
     "data": {
      "text/plain": [
       "Series([], Name: Country, dtype: object)"
      ]
     },
     "execution_count": 91,
     "metadata": {},
     "output_type": "execute_result"
    }
   ],
   "source": [
    "# text column\n",
    "demoRaw.iloc[:,0][demoRaw.iloc[:,0].str.fullmatch(\"\\W+\",na=False)]"
   ]
  },
  {
   "cell_type": "code",
   "execution_count": 92,
   "metadata": {},
   "outputs": [
    {
     "data": {
      "text/plain": [
       "Authoritarian            59\n",
       "Flawed democracy         53\n",
       "Hybrid regime            34\n",
       "Full democracy           21\n",
       "Full democracies          1\n",
       "Flawed democracies        1\n",
       "Hybrid regimes            1\n",
       "Authoritarian regimes     1\n",
       "Name: Regimetype, dtype: int64"
      ]
     },
     "execution_count": 92,
     "metadata": {},
     "output_type": "execute_result"
    }
   ],
   "source": [
    "# categorical column!\n",
    "demoRaw.iloc[:,1].value_counts()"
   ]
  },
  {
   "cell_type": "markdown",
   "metadata": {},
   "source": [
    "The categorical column has wrong levels. Let's see:"
   ]
  },
  {
   "cell_type": "code",
   "execution_count": 93,
   "metadata": {},
   "outputs": [
    {
     "data": {
      "text/plain": [
       "Full democracies         1\n",
       "Flawed democracies       1\n",
       "Hybrid regimes           1\n",
       "Authoritarian regimes    1\n",
       "Name: Regimetype, dtype: int64"
      ]
     },
     "execution_count": 93,
     "metadata": {},
     "output_type": "execute_result"
    }
   ],
   "source": [
    "FreqTable=demoRaw.iloc[:,1].value_counts()\n",
    "FreqTable[FreqTable==1]"
   ]
  },
  {
   "cell_type": "code",
   "execution_count": 94,
   "metadata": {},
   "outputs": [
    {
     "data": {
      "text/plain": [
       "Index(['Full democracies', 'Flawed democracies', 'Hybrid regimes',\n",
       "       'Authoritarian regimes'],\n",
       "      dtype='object')"
      ]
     },
     "execution_count": 94,
     "metadata": {},
     "output_type": "execute_result"
    }
   ],
   "source": [
    "FreqTable[FreqTable==1].index"
   ]
  },
  {
   "cell_type": "code",
   "execution_count": 95,
   "metadata": {},
   "outputs": [
    {
     "data": {
      "text/html": [
       "<div>\n",
       "<style scoped>\n",
       "    .dataframe tbody tr th:only-of-type {\n",
       "        vertical-align: middle;\n",
       "    }\n",
       "\n",
       "    .dataframe tbody tr th {\n",
       "        vertical-align: top;\n",
       "    }\n",
       "\n",
       "    .dataframe thead th {\n",
       "        text-align: right;\n",
       "    }\n",
       "</style>\n",
       "<table border=\"1\" class=\"dataframe\">\n",
       "  <thead>\n",
       "    <tr style=\"text-align: right;\">\n",
       "      <th></th>\n",
       "      <th>Country</th>\n",
       "      <th>Regimetype</th>\n",
       "      <th>Overallscore</th>\n",
       "      <th>Electoralprocessandpluralism</th>\n",
       "      <th>Functioningofgovernment</th>\n",
       "      <th>Politicalparticipation</th>\n",
       "      <th>Politicalculture</th>\n",
       "      <th>Civilliberties</th>\n",
       "    </tr>\n",
       "  </thead>\n",
       "  <tbody>\n",
       "    <tr>\n",
       "      <th>0</th>\n",
       "      <td>Full democracies</td>\n",
       "      <td>Full democracies</td>\n",
       "      <td>Full democracies</td>\n",
       "      <td>Full democracies</td>\n",
       "      <td>Full democracies</td>\n",
       "      <td>Full democracies</td>\n",
       "      <td>Full democracies</td>\n",
       "      <td>Full democracies</td>\n",
       "    </tr>\n",
       "    <tr>\n",
       "      <th>22</th>\n",
       "      <td>Flawed democracies</td>\n",
       "      <td>Flawed democracies</td>\n",
       "      <td>Flawed democracies</td>\n",
       "      <td>Flawed democracies</td>\n",
       "      <td>Flawed democracies</td>\n",
       "      <td>Flawed democracies</td>\n",
       "      <td>Flawed democracies</td>\n",
       "      <td>Flawed democracies</td>\n",
       "    </tr>\n",
       "    <tr>\n",
       "      <th>76</th>\n",
       "      <td>Hybrid regimes</td>\n",
       "      <td>Hybrid regimes</td>\n",
       "      <td>Hybrid regimes</td>\n",
       "      <td>Hybrid regimes</td>\n",
       "      <td>Hybrid regimes</td>\n",
       "      <td>Hybrid regimes</td>\n",
       "      <td>Hybrid regimes</td>\n",
       "      <td>Hybrid regimes</td>\n",
       "    </tr>\n",
       "    <tr>\n",
       "      <th>111</th>\n",
       "      <td>Authoritarian regimes</td>\n",
       "      <td>Authoritarian regimes</td>\n",
       "      <td>Authoritarian regimes</td>\n",
       "      <td>Authoritarian regimes</td>\n",
       "      <td>Authoritarian regimes</td>\n",
       "      <td>Authoritarian regimes</td>\n",
       "      <td>Authoritarian regimes</td>\n",
       "      <td>Authoritarian regimes</td>\n",
       "    </tr>\n",
       "  </tbody>\n",
       "</table>\n",
       "</div>"
      ],
      "text/plain": [
       "                   Country             Regimetype           Overallscore  \\\n",
       "0         Full democracies       Full democracies       Full democracies   \n",
       "22      Flawed democracies     Flawed democracies     Flawed democracies   \n",
       "76          Hybrid regimes         Hybrid regimes         Hybrid regimes   \n",
       "111  Authoritarian regimes  Authoritarian regimes  Authoritarian regimes   \n",
       "\n",
       "    Electoralprocessandpluralism Functioningofgovernment  \\\n",
       "0               Full democracies        Full democracies   \n",
       "22            Flawed democracies      Flawed democracies   \n",
       "76                Hybrid regimes          Hybrid regimes   \n",
       "111        Authoritarian regimes   Authoritarian regimes   \n",
       "\n",
       "    Politicalparticipation       Politicalculture         Civilliberties  \n",
       "0         Full democracies       Full democracies       Full democracies  \n",
       "22      Flawed democracies     Flawed democracies     Flawed democracies  \n",
       "76          Hybrid regimes         Hybrid regimes         Hybrid regimes  \n",
       "111  Authoritarian regimes  Authoritarian regimes  Authoritarian regimes  "
      ]
     },
     "execution_count": 95,
     "metadata": {},
     "output_type": "execute_result"
    }
   ],
   "source": [
    "demoRaw[demoRaw.iloc[:,1].isin(FreqTable[FreqTable==1].index)]"
   ]
  },
  {
   "cell_type": "code",
   "execution_count": 96,
   "metadata": {},
   "outputs": [],
   "source": [
    "demoRaw=demoRaw[~demoRaw.iloc[:,1].isin(FreqTable[FreqTable==1].index)]"
   ]
  },
  {
   "cell_type": "code",
   "execution_count": 97,
   "metadata": {},
   "outputs": [
    {
     "data": {
      "text/plain": [
       "[]"
      ]
     },
     "execution_count": 97,
     "metadata": {},
     "output_type": "execute_result"
    }
   ],
   "source": [
    "# numerical columns\n",
    "GetBadCells=lambda x:list(set(x[x.str.fullmatch(\"\\D+\",na=False)]))\n",
    "\n",
    "badValues=[] # an empty list\n",
    "for COL in range(2,demoRaw.shape[1]):\n",
    "    bads=GetBadCells(demoRaw.iloc[:,COL])\n",
    "    badValues.extend(bads)\n",
    "    badValues=list(set(badValues))\n",
    "\n",
    "badValues"
   ]
  },
  {
   "cell_type": "markdown",
   "metadata": {},
   "source": [
    "### Cleaning cell values"
   ]
  },
  {
   "cell_type": "markdown",
   "metadata": {},
   "source": [
    "Do the current cell values have issues?"
   ]
  },
  {
   "cell_type": "code",
   "execution_count": 98,
   "metadata": {},
   "outputs": [
    {
     "name": "stderr",
     "output_type": "stream",
     "text": [
      "/var/folders/2n/bkfhfqq16r78g3hf7pdj56y40000gn/T/ipykernel_36672/2565595294.py:2: SettingWithCopyWarning: \n",
      "A value is trying to be set on a copy of a slice from a DataFrame.\n",
      "Try using .loc[row_indexer,col_indexer] = value instead\n",
      "\n",
      "See the caveats in the documentation: https://pandas.pydata.org/pandas-docs/stable/user_guide/indexing.html#returning-a-view-versus-a-copy\n",
      "  demoRaw.Country=demoRaw.Country.str.strip()\n",
      "/var/folders/2n/bkfhfqq16r78g3hf7pdj56y40000gn/T/ipykernel_36672/2565595294.py:3: SettingWithCopyWarning: \n",
      "A value is trying to be set on a copy of a slice from a DataFrame.\n",
      "Try using .loc[row_indexer,col_indexer] = value instead\n",
      "\n",
      "See the caveats in the documentation: https://pandas.pydata.org/pandas-docs/stable/user_guide/indexing.html#returning-a-view-versus-a-copy\n",
      "  demoRaw.Regimetype=demoRaw.Regimetype.str.strip()\n"
     ]
    }
   ],
   "source": [
    "# get rid of leading and trailing spaces in text cells\n",
    "demoRaw.Country=demoRaw.Country.str.strip()\n",
    "demoRaw.Regimetype=demoRaw.Regimetype.str.strip()"
   ]
  },
  {
   "cell_type": "markdown",
   "metadata": {},
   "source": [
    "do the numbers are useful for computing?"
   ]
  },
  {
   "cell_type": "code",
   "execution_count": 99,
   "metadata": {},
   "outputs": [
    {
     "data": {
      "text/plain": [
       "Overallscore                    9.75\n",
       "Electoralprocessandpluralism    9.58\n",
       "Functioningofgovernment         9.64\n",
       "Politicalparticipation          9.44\n",
       "Politicalculture                9.38\n",
       "Civilliberties                  9.71\n",
       "dtype: object"
      ]
     },
     "execution_count": 99,
     "metadata": {},
     "output_type": "execute_result"
    }
   ],
   "source": [
    "demoRaw.iloc[:,2:].max()"
   ]
  },
  {
   "cell_type": "markdown",
   "metadata": {},
   "source": [
    "Notice the function **describe** should produce statistical results:"
   ]
  },
  {
   "cell_type": "code",
   "execution_count": 100,
   "metadata": {},
   "outputs": [
    {
     "data": {
      "text/html": [
       "<div>\n",
       "<style scoped>\n",
       "    .dataframe tbody tr th:only-of-type {\n",
       "        vertical-align: middle;\n",
       "    }\n",
       "\n",
       "    .dataframe tbody tr th {\n",
       "        vertical-align: top;\n",
       "    }\n",
       "\n",
       "    .dataframe thead th {\n",
       "        text-align: right;\n",
       "    }\n",
       "</style>\n",
       "<table border=\"1\" class=\"dataframe\">\n",
       "  <thead>\n",
       "    <tr style=\"text-align: right;\">\n",
       "      <th></th>\n",
       "      <th>Country</th>\n",
       "      <th>Regimetype</th>\n",
       "      <th>Overallscore</th>\n",
       "      <th>Electoralprocessandpluralism</th>\n",
       "      <th>Functioningofgovernment</th>\n",
       "      <th>Politicalparticipation</th>\n",
       "      <th>Politicalculture</th>\n",
       "      <th>Civilliberties</th>\n",
       "    </tr>\n",
       "  </thead>\n",
       "  <tbody>\n",
       "    <tr>\n",
       "      <th>count</th>\n",
       "      <td>167</td>\n",
       "      <td>167</td>\n",
       "      <td>167</td>\n",
       "      <td>167</td>\n",
       "      <td>167</td>\n",
       "      <td>167</td>\n",
       "      <td>167</td>\n",
       "      <td>167</td>\n",
       "    </tr>\n",
       "    <tr>\n",
       "      <th>unique</th>\n",
       "      <td>167</td>\n",
       "      <td>4</td>\n",
       "      <td>147</td>\n",
       "      <td>46</td>\n",
       "      <td>42</td>\n",
       "      <td>18</td>\n",
       "      <td>15</td>\n",
       "      <td>34</td>\n",
       "    </tr>\n",
       "    <tr>\n",
       "      <th>top</th>\n",
       "      <td>Norway</td>\n",
       "      <td>Authoritarian</td>\n",
       "      <td>1.95</td>\n",
       "      <td>9.58</td>\n",
       "      <td>0.00</td>\n",
       "      <td>6.67</td>\n",
       "      <td>5.63</td>\n",
       "      <td>8.53</td>\n",
       "    </tr>\n",
       "    <tr>\n",
       "      <th>freq</th>\n",
       "      <td>1</td>\n",
       "      <td>59</td>\n",
       "      <td>3</td>\n",
       "      <td>28</td>\n",
       "      <td>12</td>\n",
       "      <td>19</td>\n",
       "      <td>27</td>\n",
       "      <td>11</td>\n",
       "    </tr>\n",
       "  </tbody>\n",
       "</table>\n",
       "</div>"
      ],
      "text/plain": [
       "       Country     Regimetype Overallscore Electoralprocessandpluralism  \\\n",
       "count      167            167          167                          167   \n",
       "unique     167              4          147                           46   \n",
       "top     Norway  Authoritarian         1.95                         9.58   \n",
       "freq         1             59            3                           28   \n",
       "\n",
       "       Functioningofgovernment Politicalparticipation Politicalculture  \\\n",
       "count                      167                    167              167   \n",
       "unique                      42                     18               15   \n",
       "top                       0.00                   6.67             5.63   \n",
       "freq                        12                     19               27   \n",
       "\n",
       "       Civilliberties  \n",
       "count             167  \n",
       "unique             34  \n",
       "top              8.53  \n",
       "freq               11  "
      ]
     },
     "execution_count": 100,
     "metadata": {},
     "output_type": "execute_result"
    }
   ],
   "source": [
    "demoRaw.describe(include='all')"
   ]
  },
  {
   "cell_type": "markdown",
   "metadata": {},
   "source": [
    "But, you are not getting those because they lack format."
   ]
  },
  {
   "cell_type": "code",
   "execution_count": 101,
   "metadata": {},
   "outputs": [],
   "source": [
    "demoClean=demoRaw.copy()"
   ]
  },
  {
   "cell_type": "markdown",
   "metadata": {},
   "source": [
    "### Formatting"
   ]
  },
  {
   "cell_type": "markdown",
   "metadata": {},
   "source": [
    "Check the data types:"
   ]
  },
  {
   "cell_type": "code",
   "execution_count": 103,
   "metadata": {},
   "outputs": [
    {
     "name": "stdout",
     "output_type": "stream",
     "text": [
      "<class 'pandas.core.frame.DataFrame'>\n",
      "Int64Index: 167 entries, 1 to 170\n",
      "Data columns (total 8 columns):\n",
      " #   Column                        Non-Null Count  Dtype \n",
      "---  ------                        --------------  ----- \n",
      " 0   Country                       167 non-null    object\n",
      " 1   Regimetype                    167 non-null    object\n",
      " 2   Overallscore                  167 non-null    object\n",
      " 3   Electoralprocessandpluralism  167 non-null    object\n",
      " 4   Functioningofgovernment       167 non-null    object\n",
      " 5   Politicalparticipation        167 non-null    object\n",
      " 6   Politicalculture              167 non-null    object\n",
      " 7   Civilliberties                167 non-null    object\n",
      "dtypes: object(8)\n",
      "memory usage: 11.7+ KB\n"
     ]
    }
   ],
   "source": [
    "demoClean.info()"
   ]
  },
  {
   "cell_type": "markdown",
   "metadata": {},
   "source": [
    "Country can remain as an object (text), but not the rest."
   ]
  },
  {
   "cell_type": "markdown",
   "metadata": {},
   "source": [
    "* **Formatting into numeric type**:"
   ]
  },
  {
   "cell_type": "code",
   "execution_count": 104,
   "metadata": {},
   "outputs": [],
   "source": [
    "# as easy as:\n",
    "demoClean[demoClean.columns[2:]]=demoClean.iloc[:,2:].apply(pd.to_numeric)"
   ]
  },
  {
   "cell_type": "code",
   "execution_count": 106,
   "metadata": {},
   "outputs": [
    {
     "name": "stdout",
     "output_type": "stream",
     "text": [
      "<class 'pandas.core.frame.DataFrame'>\n",
      "Int64Index: 167 entries, 1 to 170\n",
      "Data columns (total 8 columns):\n",
      " #   Column                        Non-Null Count  Dtype  \n",
      "---  ------                        --------------  -----  \n",
      " 0   Country                       167 non-null    object \n",
      " 1   Regimetype                    167 non-null    object \n",
      " 2   Overallscore                  167 non-null    float64\n",
      " 3   Electoralprocessandpluralism  167 non-null    float64\n",
      " 4   Functioningofgovernment       167 non-null    float64\n",
      " 5   Politicalparticipation        167 non-null    float64\n",
      " 6   Politicalculture              167 non-null    float64\n",
      " 7   Civilliberties                167 non-null    float64\n",
      "dtypes: float64(6), object(2)\n",
      "memory usage: 11.7+ KB\n"
     ]
    }
   ],
   "source": [
    "#recheck\n",
    "demoClean.info()"
   ]
  },
  {
   "cell_type": "code",
   "execution_count": 71,
   "metadata": {},
   "outputs": [
    {
     "data": {
      "text/html": [
       "<div>\n",
       "<style scoped>\n",
       "    .dataframe tbody tr th:only-of-type {\n",
       "        vertical-align: middle;\n",
       "    }\n",
       "\n",
       "    .dataframe tbody tr th {\n",
       "        vertical-align: top;\n",
       "    }\n",
       "\n",
       "    .dataframe thead th {\n",
       "        text-align: right;\n",
       "    }\n",
       "</style>\n",
       "<table border=\"1\" class=\"dataframe\">\n",
       "  <thead>\n",
       "    <tr style=\"text-align: right;\">\n",
       "      <th></th>\n",
       "      <th>Country</th>\n",
       "      <th>Regimetype</th>\n",
       "      <th>Overallscore</th>\n",
       "      <th>Electoralprocessandpluralism</th>\n",
       "      <th>Functioningofgovernment</th>\n",
       "      <th>Politicalparticipation</th>\n",
       "      <th>Politicalculture</th>\n",
       "      <th>Civilliberties</th>\n",
       "    </tr>\n",
       "  </thead>\n",
       "  <tbody>\n",
       "    <tr>\n",
       "      <th>count</th>\n",
       "      <td>167</td>\n",
       "      <td>167</td>\n",
       "      <td>167.000000</td>\n",
       "      <td>167.000000</td>\n",
       "      <td>167.000000</td>\n",
       "      <td>167.000000</td>\n",
       "      <td>167.000000</td>\n",
       "      <td>167.000000</td>\n",
       "    </tr>\n",
       "    <tr>\n",
       "      <th>unique</th>\n",
       "      <td>167</td>\n",
       "      <td>4</td>\n",
       "      <td>NaN</td>\n",
       "      <td>NaN</td>\n",
       "      <td>NaN</td>\n",
       "      <td>NaN</td>\n",
       "      <td>NaN</td>\n",
       "      <td>NaN</td>\n",
       "    </tr>\n",
       "    <tr>\n",
       "      <th>top</th>\n",
       "      <td>Norway</td>\n",
       "      <td>Authoritarian</td>\n",
       "      <td>NaN</td>\n",
       "      <td>NaN</td>\n",
       "      <td>NaN</td>\n",
       "      <td>NaN</td>\n",
       "      <td>NaN</td>\n",
       "      <td>NaN</td>\n",
       "    </tr>\n",
       "    <tr>\n",
       "      <th>freq</th>\n",
       "      <td>1</td>\n",
       "      <td>59</td>\n",
       "      <td>NaN</td>\n",
       "      <td>NaN</td>\n",
       "      <td>NaN</td>\n",
       "      <td>NaN</td>\n",
       "      <td>NaN</td>\n",
       "      <td>NaN</td>\n",
       "    </tr>\n",
       "    <tr>\n",
       "      <th>mean</th>\n",
       "      <td>NaN</td>\n",
       "      <td>NaN</td>\n",
       "      <td>5.281377</td>\n",
       "      <td>5.628144</td>\n",
       "      <td>4.640000</td>\n",
       "      <td>5.392575</td>\n",
       "      <td>5.380419</td>\n",
       "      <td>5.369880</td>\n",
       "    </tr>\n",
       "    <tr>\n",
       "      <th>std</th>\n",
       "      <td>NaN</td>\n",
       "      <td>NaN</td>\n",
       "      <td>2.314036</td>\n",
       "      <td>3.823747</td>\n",
       "      <td>2.581993</td>\n",
       "      <td>1.963129</td>\n",
       "      <td>1.835692</td>\n",
       "      <td>2.710717</td>\n",
       "    </tr>\n",
       "    <tr>\n",
       "      <th>min</th>\n",
       "      <td>NaN</td>\n",
       "      <td>NaN</td>\n",
       "      <td>0.320000</td>\n",
       "      <td>0.000000</td>\n",
       "      <td>0.000000</td>\n",
       "      <td>0.000000</td>\n",
       "      <td>1.250000</td>\n",
       "      <td>0.000000</td>\n",
       "    </tr>\n",
       "    <tr>\n",
       "      <th>25%</th>\n",
       "      <td>NaN</td>\n",
       "      <td>NaN</td>\n",
       "      <td>3.210000</td>\n",
       "      <td>1.460000</td>\n",
       "      <td>2.605000</td>\n",
       "      <td>3.890000</td>\n",
       "      <td>3.750000</td>\n",
       "      <td>3.240000</td>\n",
       "    </tr>\n",
       "    <tr>\n",
       "      <th>50%</th>\n",
       "      <td>NaN</td>\n",
       "      <td>NaN</td>\n",
       "      <td>5.610000</td>\n",
       "      <td>7.000000</td>\n",
       "      <td>5.000000</td>\n",
       "      <td>5.560000</td>\n",
       "      <td>5.000000</td>\n",
       "      <td>5.590000</td>\n",
       "    </tr>\n",
       "    <tr>\n",
       "      <th>75%</th>\n",
       "      <td>NaN</td>\n",
       "      <td>NaN</td>\n",
       "      <td>7.095000</td>\n",
       "      <td>9.170000</td>\n",
       "      <td>6.430000</td>\n",
       "      <td>6.670000</td>\n",
       "      <td>6.250000</td>\n",
       "      <td>7.650000</td>\n",
       "    </tr>\n",
       "    <tr>\n",
       "      <th>max</th>\n",
       "      <td>NaN</td>\n",
       "      <td>NaN</td>\n",
       "      <td>9.750000</td>\n",
       "      <td>10.000000</td>\n",
       "      <td>9.640000</td>\n",
       "      <td>10.000000</td>\n",
       "      <td>10.000000</td>\n",
       "      <td>9.710000</td>\n",
       "    </tr>\n",
       "  </tbody>\n",
       "</table>\n",
       "</div>"
      ],
      "text/plain": [
       "       Country     Regimetype  Overallscore  Electoralprocessandpluralism  \\\n",
       "count      167            167    167.000000                    167.000000   \n",
       "unique     167              4           NaN                           NaN   \n",
       "top     Norway  Authoritarian           NaN                           NaN   \n",
       "freq         1             59           NaN                           NaN   \n",
       "mean       NaN            NaN      5.281377                      5.628144   \n",
       "std        NaN            NaN      2.314036                      3.823747   \n",
       "min        NaN            NaN      0.320000                      0.000000   \n",
       "25%        NaN            NaN      3.210000                      1.460000   \n",
       "50%        NaN            NaN      5.610000                      7.000000   \n",
       "75%        NaN            NaN      7.095000                      9.170000   \n",
       "max        NaN            NaN      9.750000                     10.000000   \n",
       "\n",
       "        Functioningofgovernment  Politicalparticipation  Politicalculture  \\\n",
       "count                167.000000              167.000000        167.000000   \n",
       "unique                      NaN                     NaN               NaN   \n",
       "top                         NaN                     NaN               NaN   \n",
       "freq                        NaN                     NaN               NaN   \n",
       "mean                   4.640000                5.392575          5.380419   \n",
       "std                    2.581993                1.963129          1.835692   \n",
       "min                    0.000000                0.000000          1.250000   \n",
       "25%                    2.605000                3.890000          3.750000   \n",
       "50%                    5.000000                5.560000          5.000000   \n",
       "75%                    6.430000                6.670000          6.250000   \n",
       "max                    9.640000               10.000000         10.000000   \n",
       "\n",
       "        Civilliberties  \n",
       "count       167.000000  \n",
       "unique             NaN  \n",
       "top                NaN  \n",
       "freq               NaN  \n",
       "mean          5.369880  \n",
       "std           2.710717  \n",
       "min           0.000000  \n",
       "25%           3.240000  \n",
       "50%           5.590000  \n",
       "75%           7.650000  \n",
       "max           9.710000  "
      ]
     },
     "execution_count": 71,
     "metadata": {},
     "output_type": "execute_result"
    }
   ],
   "source": [
    "# recheck\n",
    "demoGood.describe(include='all')"
   ]
  },
  {
   "cell_type": "markdown",
   "metadata": {},
   "source": [
    "* **Formatting into ordinal**"
   ]
  },
  {
   "cell_type": "code",
   "execution_count": 108,
   "metadata": {},
   "outputs": [
    {
     "data": {
      "text/plain": [
       "['Full democracy', 'Flawed democracy', 'Hybrid regime', 'Authoritarian']"
      ]
     },
     "execution_count": 108,
     "metadata": {},
     "output_type": "execute_result"
    }
   ],
   "source": [
    "# Check current levels:\n",
    "pd.unique(demoClean.Regimetype).tolist()"
   ]
  },
  {
   "cell_type": "code",
   "execution_count": 109,
   "metadata": {},
   "outputs": [],
   "source": [
    "#rewrite the levels in ascending order:\n",
    "correctLevels=['Authoritarian', 'Hybrid regime', 'Flawed democracy','Full democracy']"
   ]
  },
  {
   "cell_type": "code",
   "execution_count": 111,
   "metadata": {},
   "outputs": [],
   "source": [
    "#format as ordinal:\n",
    "demoClean.Regimetype=pd.Categorical(demoClean.Regimetype,categories=correctLevels,ordered=True)"
   ]
  },
  {
   "cell_type": "markdown",
   "metadata": {},
   "source": [
    "The data types have changed:"
   ]
  },
  {
   "cell_type": "code",
   "execution_count": 112,
   "metadata": {},
   "outputs": [
    {
     "name": "stdout",
     "output_type": "stream",
     "text": [
      "<class 'pandas.core.frame.DataFrame'>\n",
      "Int64Index: 167 entries, 1 to 170\n",
      "Data columns (total 8 columns):\n",
      " #   Column                        Non-Null Count  Dtype   \n",
      "---  ------                        --------------  -----   \n",
      " 0   Country                       167 non-null    object  \n",
      " 1   Regimetype                    167 non-null    category\n",
      " 2   Overallscore                  167 non-null    float64 \n",
      " 3   Electoralprocessandpluralism  167 non-null    float64 \n",
      " 4   Functioningofgovernment       167 non-null    float64 \n",
      " 5   Politicalparticipation        167 non-null    float64 \n",
      " 6   Politicalculture              167 non-null    float64 \n",
      " 7   Civilliberties                167 non-null    float64 \n",
      "dtypes: category(1), float64(6), object(1)\n",
      "memory usage: 10.8+ KB\n"
     ]
    }
   ],
   "source": [
    "#then\n",
    "demoClean.info()"
   ]
  },
  {
   "cell_type": "markdown",
   "metadata": {},
   "source": [
    "For more detail:"
   ]
  },
  {
   "cell_type": "code",
   "execution_count": 113,
   "metadata": {},
   "outputs": [
    {
     "data": {
      "text/plain": [
       "True"
      ]
     },
     "execution_count": 113,
     "metadata": {},
     "output_type": "execute_result"
    }
   ],
   "source": [
    "demoClean.Regimetype.cat.ordered"
   ]
  },
  {
   "cell_type": "code",
   "execution_count": 114,
   "metadata": {},
   "outputs": [
    {
     "data": {
      "text/plain": [
       "1    Full democracy\n",
       "2    Full democracy\n",
       "3    Full democracy\n",
       "4    Full democracy\n",
       "5    Full democracy\n",
       "Name: Regimetype, dtype: category\n",
       "Categories (4, object): ['Authoritarian' < 'Hybrid regime' < 'Flawed democracy' < 'Full democracy']"
      ]
     },
     "execution_count": 114,
     "metadata": {},
     "output_type": "execute_result"
    }
   ],
   "source": [
    "demoClean.Regimetype.head()"
   ]
  },
  {
   "cell_type": "code",
   "execution_count": 115,
   "metadata": {},
   "outputs": [],
   "source": [
    "demoFormat=demoClean.copy()"
   ]
  },
  {
   "cell_type": "markdown",
   "metadata": {},
   "source": [
    "##  Saving"
   ]
  },
  {
   "cell_type": "markdown",
   "metadata": {},
   "source": [
    "#### For future use in Python:"
   ]
  },
  {
   "cell_type": "code",
   "execution_count": 116,
   "metadata": {},
   "outputs": [],
   "source": [
    "demoFormat.to_pickle(\"demoFormat.pkl\")\n",
    "# you will need: DF=pd.read_pickle(\"demoFormat.pkl\")\n",
    "# or:\n",
    "# from urllib.request import urlopen\n",
    "# DF=pd.read_pickle(urlopen(\"https://...../demoFormat.pkl\"),compression=None)"
   ]
  },
  {
   "cell_type": "code",
   "execution_count": null,
   "metadata": {},
   "outputs": [],
   "source": []
  }
 ],
 "metadata": {
  "hide_input": false,
  "kernelspec": {
   "display_name": "Python 3 (ipykernel)",
   "language": "python",
   "name": "python3"
  },
  "language_info": {
   "codemirror_mode": {
    "name": "ipython",
    "version": 3
   },
   "file_extension": ".py",
   "mimetype": "text/x-python",
   "name": "python",
   "nbconvert_exporter": "python",
   "pygments_lexer": "ipython3",
   "version": "3.11.0"
  }
 },
 "nbformat": 4,
 "nbformat_minor": 2
}
