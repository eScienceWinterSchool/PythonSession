{
  "nbformat": 4,
  "nbformat_minor": 0,
  "metadata": {
    "anaconda-cloud": {
      "attach-environment": true,
      "summary": "test"
    },
    "hide_input": false,
    "kernelspec": {
      "display_name": "Python 3",
      "language": "python",
      "name": "python3"
    },
    "language_info": {
      "codemirror_mode": {
        "name": "ipython",
        "version": 3
      },
      "file_extension": ".py",
      "mimetype": "text/x-python",
      "name": "python",
      "nbconvert_exporter": "python",
      "pygments_lexer": "ipython3",
      "version": "3.7.5"
    },
    "colab": {
      "provenance": []
    }
  },
  "cells": [
    {
      "cell_type": "markdown",
      "metadata": {
        "id": "Bb5P9oBJtWgi"
      },
      "source": [
        "\n",
        "\n",
        "<br>\n",
        "<center><img src=\"https://i.imgur.com/hkb7Bq7.png\" width=\"500\"></center>\n",
        "\n",
        "\n",
        "### Prof. José Manuel Magallanes, PhD\n",
        "\n",
        "* Full Professor, Departamento de Ciencias Sociales, Pontificia Universidad Católica del Perú, [jmagallanes@pucp.edu.pe](mailto:jmagallanes@pucp.edu.pe)\n",
        "\n",
        "* Visiting Professor, Evans School of Public Policy and Governance / Senior Data Science Fellow, eScience Institute, University of Washington\n",
        "_____\n",
        "\n",
        "# Dictionaries in Python"
      ]
    },
    {
      "cell_type": "markdown",
      "source": [
        "## 1. Creating"
      ],
      "metadata": {
        "id": "ix7xtYzM7GsE"
      }
    },
    {
      "cell_type": "code",
      "source": [
        "aDictExample={\"name\":\"Peter\",\n",
        "             \"speaks\":['French', 'Spanish'],\n",
        "             'country':'Morocco'}\n",
        "\n",
        "# then\n",
        "aDictExample"
      ],
      "metadata": {
        "id": "2ffBcMUO4W6D",
        "colab": {
          "base_uri": "https://localhost:8080/"
        },
        "outputId": "a3ae3b08-ea4b-4fc5-811e-617e7120dbdd"
      },
      "execution_count": null,
      "outputs": [
        {
          "output_type": "execute_result",
          "data": {
            "text/plain": [
              "{'name': 'Peter', 'speaks': ['French', 'Spanish'], 'country': 'Morocco'}"
            ]
          },
          "metadata": {},
          "execution_count": 1
        }
      ]
    },
    {
      "cell_type": "markdown",
      "source": [
        "## 2. Accessing"
      ],
      "metadata": {
        "id": "XW-l5zTaAonr"
      }
    },
    {
      "cell_type": "markdown",
      "source": [
        "Each dictionary element in Python can be accessed via **keys** _NOT indexes_ (so no slices). Our _aDictExample_ has these keys:"
      ],
      "metadata": {
        "id": "9WfrgZlD4bMn"
      }
    },
    {
      "cell_type": "code",
      "source": [
        "aDictExample.keys()"
      ],
      "metadata": {
        "id": "KQrycQe_4hd2",
        "colab": {
          "base_uri": "https://localhost:8080/"
        },
        "outputId": "90ea580c-0468-4941-8508-e5a08f493d08"
      },
      "execution_count": null,
      "outputs": [
        {
          "output_type": "execute_result",
          "data": {
            "text/plain": [
              "dict_keys(['name', 'speaks', 'country'])"
            ]
          },
          "metadata": {},
          "execution_count": 2
        }
      ]
    },
    {
      "cell_type": "code",
      "source": [
        "#then\n",
        "aDictExample['speaks']"
      ],
      "metadata": {
        "id": "vY3DDSJs4mU2",
        "colab": {
          "base_uri": "https://localhost:8080/"
        },
        "outputId": "831742df-f466-45aa-9ab7-c3da9c1a9bb6"
      },
      "execution_count": null,
      "outputs": [
        {
          "output_type": "execute_result",
          "data": {
            "text/plain": [
              "['French', 'Spanish']"
            ]
          },
          "metadata": {},
          "execution_count": 3
        }
      ]
    },
    {
      "cell_type": "code",
      "source": [
        "# Here the index is for the list:\n",
        "aDictExample['speaks'][0]"
      ],
      "metadata": {
        "id": "7gMsv-JwA-q7",
        "colab": {
          "base_uri": "https://localhost:8080/",
          "height": 35
        },
        "outputId": "14d137a8-2c96-4e6b-cf0b-1c11e7dab0fa"
      },
      "execution_count": null,
      "outputs": [
        {
          "output_type": "execute_result",
          "data": {
            "text/plain": [
              "'French'"
            ],
            "application/vnd.google.colaboratory.intrinsic+json": {
              "type": "string"
            }
          },
          "metadata": {},
          "execution_count": 4
        }
      ]
    },
    {
      "cell_type": "markdown",
      "source": [
        "## 2. Replacing"
      ],
      "metadata": {
        "id": "lvVhUDHpBzhM"
      }
    },
    {
      "cell_type": "code",
      "source": [
        "aDictExample['country']='Tunisia'\n",
        "aDictExample"
      ],
      "metadata": {
        "id": "a8_TaUeaB-KL",
        "colab": {
          "base_uri": "https://localhost:8080/"
        },
        "outputId": "1400eb38-aae4-471b-8ddb-bde397b6f043"
      },
      "execution_count": null,
      "outputs": [
        {
          "output_type": "execute_result",
          "data": {
            "text/plain": [
              "{'name': 'Peter', 'speaks': ['French', 'Spanish'], 'country': 'Tunisia'}"
            ]
          },
          "metadata": {},
          "execution_count": 5
        }
      ]
    },
    {
      "cell_type": "markdown",
      "source": [
        "## 3. Deleting"
      ],
      "metadata": {
        "id": "7zjqtGb8Ck6G"
      }
    },
    {
      "cell_type": "code",
      "source": [
        "del aDictExample['country']\n",
        "\n",
        "aDictExample"
      ],
      "metadata": {
        "id": "pzM8G-04Cnks",
        "colab": {
          "base_uri": "https://localhost:8080/"
        },
        "outputId": "07ef7f8f-da7a-4ff5-fe9b-5583be296f51"
      },
      "execution_count": null,
      "outputs": [
        {
          "output_type": "execute_result",
          "data": {
            "text/plain": [
              "{'name': 'Peter', 'speaks': ['French', 'Spanish']}"
            ]
          },
          "metadata": {},
          "execution_count": 6
        }
      ]
    },
    {
      "cell_type": "markdown",
      "source": [
        "Becareful when using **pop()**:"
      ],
      "metadata": {
        "id": "mTu2P49QDMw5"
      }
    },
    {
      "cell_type": "code",
      "source": [
        "aDictExample.pop('name')"
      ],
      "metadata": {
        "id": "T_LNjBCzDDXo",
        "colab": {
          "base_uri": "https://localhost:8080/",
          "height": 35
        },
        "outputId": "7b556ca5-3b5a-4d18-c7c0-c2a1283d4a5c"
      },
      "execution_count": null,
      "outputs": [
        {
          "output_type": "execute_result",
          "data": {
            "text/plain": [
              "'Peter'"
            ],
            "application/vnd.google.colaboratory.intrinsic+json": {
              "type": "string"
            }
          },
          "metadata": {},
          "execution_count": 7
        }
      ]
    },
    {
      "cell_type": "code",
      "source": [
        "#now\n",
        "aDictExample"
      ],
      "metadata": {
        "id": "d4fzlLxNDJU8",
        "colab": {
          "base_uri": "https://localhost:8080/"
        },
        "outputId": "27b5e8f0-d01d-44ac-c652-59e703de6c68"
      },
      "execution_count": null,
      "outputs": [
        {
          "output_type": "execute_result",
          "data": {
            "text/plain": [
              "{'speaks': ['French', 'Spanish']}"
            ]
          },
          "metadata": {},
          "execution_count": 8
        }
      ]
    },
    {
      "cell_type": "markdown",
      "source": [
        "## 4. Inserting"
      ],
      "metadata": {
        "id": "qe2UiZIsDWuE"
      }
    },
    {
      "cell_type": "markdown",
      "source": [
        "Let's create a dict from some lists:"
      ],
      "metadata": {
        "id": "JmQlPCjGDuF9"
      }
    },
    {
      "cell_type": "code",
      "source": [
        "namesP=[\"Qing\", \"Françoise\", \"Raúl\", \"Bjork\",\"Marie\"]\n",
        "agesP=[32,33,28,30,29]\n",
        "countryP=[\"China\", \"Senegal\", \"España\", \"Norway\",\"Korea\"]\n",
        "educationP=[\"Bach\", \"Bach\", \"Master\", \"PhD\",\"PhD\"]"
      ],
      "metadata": {
        "id": "dUxYQK6F5lks"
      },
      "execution_count": null,
      "outputs": []
    },
    {
      "cell_type": "code",
      "metadata": {
        "id": "dYdelN2ItWhv",
        "colab": {
          "base_uri": "https://localhost:8080/"
        },
        "outputId": "b8d7051c-2407-43dc-c6bd-2bc9058ce9ea"
      },
      "source": [
        "#notice alternative way of creating\n",
        "classroom=dict(student=namesP,age=agesP,edu=educationP)\n",
        "# see it:\n",
        "\n",
        "classroom"
      ],
      "execution_count": null,
      "outputs": [
        {
          "output_type": "execute_result",
          "data": {
            "text/plain": [
              "{'student': ['Qing', 'Françoise', 'Raúl', 'Bjork', 'Marie'],\n",
              " 'age': [32, 33, 28, 30, 29],\n",
              " 'edu': ['Bach', 'Bach', 'Master', 'PhD', 'PhD']}"
            ]
          },
          "metadata": {},
          "execution_count": 10
        }
      ]
    },
    {
      "cell_type": "markdown",
      "metadata": {
        "id": "J2p1UJTatWh8"
      },
      "source": [
        "There is no _append_ to add an element, you need **update**:"
      ]
    },
    {
      "cell_type": "code",
      "metadata": {
        "id": "9P2SbDimtWh9",
        "colab": {
          "base_uri": "https://localhost:8080/"
        },
        "outputId": "df111e1c-e9a0-44dd-f855-406a069238da"
      },
      "source": [
        "classroom.update({'country':countryP})\n",
        "# now:\n",
        "classroom"
      ],
      "execution_count": null,
      "outputs": [
        {
          "output_type": "execute_result",
          "data": {
            "text/plain": [
              "{'student': ['Qing', 'Françoise', 'Raúl', 'Bjork', 'Marie'],\n",
              " 'age': [32, 33, 28, 30, 29],\n",
              " 'edu': ['Bach', 'Bach', 'Master', 'PhD', 'PhD'],\n",
              " 'country': ['China', 'Senegal', 'España', 'Norway', 'Korea']}"
            ]
          },
          "metadata": {},
          "execution_count": 11
        }
      ]
    }
  ]
}